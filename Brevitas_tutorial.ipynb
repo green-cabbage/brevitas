{
  "nbformat": 4,
  "nbformat_minor": 0,
  "metadata": {
    "colab": {
      "provenance": [],
      "collapsed_sections": []
    },
    "kernelspec": {
      "name": "python3",
      "display_name": "Python 3"
    },
    "language_info": {
      "name": "python"
    }
  },
  "cells": [
    {
      "cell_type": "markdown",
      "source": [
        "## Motivation for doing Quantization Aware Training (QAT)\n",
        "\n",
        "There's multiple purposes for quantizing your Neural Network to fewer bits than the conventional 32 bit:\n",
        "\n",
        "* Less memory usage to fit a bigger model in a chip\n",
        "* Quicker model inference\n",
        "\n",
        "But the big issue of this is that at much smaller bits (around < 16 bits), the accuracy decays so badly that we simply can't just quantize a pre trained model and call it a day. This is where QAT comes in.\n",
        "\n",
        "QAT is just a general term used for training pipelines that designed to train the model with the awareness .\n",
        "\n",
        "A popular implementation is Straight Through Estimator (STE) which handles the backpropagation on quantized values, and brevitas uses STE by default.\n",
        "\n",
        "But the beauty of brevitas is its modular, and it is allgedly designed so that you can plug in any estimator for backpropagation.\n",
        "\n",
        "This makes brevitas an ideal package for research, where high transparency, controllablilty and flexibility is essential.\n",
        "\n",
        "yt link of brevitass walkthrough: https://www.youtube.com/watch?v=wsXx3Hr5kZs"
      ],
      "metadata": {
        "id": "k0tjDlYpLeTe"
      }
    },
    {
      "cell_type": "code",
      "execution_count": null,
      "metadata": {
        "id": "s5ComvQHjN50",
        "colab": {
          "base_uri": "https://localhost:8080/"
        },
        "outputId": "5648075f-434a-4084-d686-db9174c5ad5f"
      },
      "outputs": [
        {
          "output_type": "stream",
          "name": "stdout",
          "text": [
            "Looking in indexes: https://pypi.org/simple, https://us-python.pkg.dev/colab-wheels/public/simple/\n",
            "Requirement already satisfied: brevitas in /usr/local/lib/python3.7/dist-packages (0.7.1)\n",
            "Requirement already satisfied: torch>=1.1.0 in /usr/local/lib/python3.7/dist-packages (from brevitas) (1.12.1+cu113)\n",
            "Requirement already satisfied: future-annotations in /usr/local/lib/python3.7/dist-packages (from brevitas) (1.0.0)\n",
            "Requirement already satisfied: dependencies==2.0.1 in /usr/local/lib/python3.7/dist-packages (from brevitas) (2.0.1)\n",
            "Requirement already satisfied: typing-extensions>=3.7.4 in /usr/local/lib/python3.7/dist-packages (from brevitas) (4.1.1)\n",
            "Requirement already satisfied: packaging in /usr/local/lib/python3.7/dist-packages (from brevitas) (21.3)\n",
            "Requirement already satisfied: setuptools in /usr/local/lib/python3.7/dist-packages (from brevitas) (57.4.0)\n",
            "Requirement already satisfied: tokenize-rt>=3 in /usr/local/lib/python3.7/dist-packages (from future-annotations->brevitas) (5.0.0)\n",
            "Requirement already satisfied: pyparsing!=3.0.5,>=2.0.2 in /usr/local/lib/python3.7/dist-packages (from packaging->brevitas) (3.0.9)\n",
            "Looking in indexes: https://pypi.org/simple, https://us-python.pkg.dev/colab-wheels/public/simple/\n",
            "Requirement already satisfied: hls4ml in /usr/local/lib/python3.7/dist-packages (0.6.0)\n",
            "Requirement already satisfied: six in /usr/local/lib/python3.7/dist-packages (from hls4ml) (1.15.0)\n",
            "Requirement already satisfied: h5py in /usr/local/lib/python3.7/dist-packages (from hls4ml) (3.1.0)\n",
            "Requirement already satisfied: numpy in /usr/local/lib/python3.7/dist-packages (from hls4ml) (1.21.6)\n",
            "Requirement already satisfied: onnx>=1.4.0 in /usr/local/lib/python3.7/dist-packages (from hls4ml) (1.12.0)\n",
            "Requirement already satisfied: pyyaml in /usr/local/lib/python3.7/dist-packages (from hls4ml) (6.0)\n",
            "Requirement already satisfied: protobuf<=3.20.1,>=3.12.2 in /usr/local/lib/python3.7/dist-packages (from onnx>=1.4.0->hls4ml) (3.19.6)\n",
            "Requirement already satisfied: typing-extensions>=3.6.2.1 in /usr/local/lib/python3.7/dist-packages (from onnx>=1.4.0->hls4ml) (4.1.1)\n",
            "Requirement already satisfied: cached-property in /usr/local/lib/python3.7/dist-packages (from h5py->hls4ml) (1.5.2)\n"
          ]
        }
      ],
      "source": [
        "\"\"\"\n",
        "Author: Hyeon-Seo Yun \n",
        "Date: somewhere around Oct 25 2022\n",
        "tutorial version of Brevitas_test\n",
        "\"\"\"\n",
        "# ! pip install -q kaggle\n",
        "# ! pip install opendatasets\n",
        "! pip install brevitas\n",
        "! pip install hls4ml"
      ]
    },
    {
      "cell_type": "markdown",
      "source": [
        "## Data Collection\n",
        "\n",
        "For the purpose of this tutorial, we will be using Higgs data from kaggle as our dataset."
      ],
      "metadata": {
        "id": "h9PwvBb1RIqB"
      }
    },
    {
      "cell_type": "code",
      "source": [
        "\"\"\"\n",
        "This cell is for uploading your kaggle.json so you can download kaggle datasets\n",
        "\"\"\"\n",
        "from google.colab import files \n",
        "files.upload()"
      ],
      "metadata": {
        "colab": {
          "base_uri": "https://localhost:8080/",
          "height": 91
        },
        "id": "J1looFng9CSz",
        "outputId": "d8510d48-d22f-44dc-aaf0-49a098f7ff2c"
      },
      "execution_count": null,
      "outputs": [
        {
          "output_type": "display_data",
          "data": {
            "text/plain": [
              "<IPython.core.display.HTML object>"
            ],
            "text/html": [
              "\n",
              "     <input type=\"file\" id=\"files-05640bd0-b9c1-4b31-bb66-485cab02941d\" name=\"files[]\" multiple disabled\n",
              "        style=\"border:none\" />\n",
              "     <output id=\"result-05640bd0-b9c1-4b31-bb66-485cab02941d\">\n",
              "      Upload widget is only available when the cell has been executed in the\n",
              "      current browser session. Please rerun this cell to enable.\n",
              "      </output>\n",
              "      <script>// Copyright 2017 Google LLC\n",
              "//\n",
              "// Licensed under the Apache License, Version 2.0 (the \"License\");\n",
              "// you may not use this file except in compliance with the License.\n",
              "// You may obtain a copy of the License at\n",
              "//\n",
              "//      http://www.apache.org/licenses/LICENSE-2.0\n",
              "//\n",
              "// Unless required by applicable law or agreed to in writing, software\n",
              "// distributed under the License is distributed on an \"AS IS\" BASIS,\n",
              "// WITHOUT WARRANTIES OR CONDITIONS OF ANY KIND, either express or implied.\n",
              "// See the License for the specific language governing permissions and\n",
              "// limitations under the License.\n",
              "\n",
              "/**\n",
              " * @fileoverview Helpers for google.colab Python module.\n",
              " */\n",
              "(function(scope) {\n",
              "function span(text, styleAttributes = {}) {\n",
              "  const element = document.createElement('span');\n",
              "  element.textContent = text;\n",
              "  for (const key of Object.keys(styleAttributes)) {\n",
              "    element.style[key] = styleAttributes[key];\n",
              "  }\n",
              "  return element;\n",
              "}\n",
              "\n",
              "// Max number of bytes which will be uploaded at a time.\n",
              "const MAX_PAYLOAD_SIZE = 100 * 1024;\n",
              "\n",
              "function _uploadFiles(inputId, outputId) {\n",
              "  const steps = uploadFilesStep(inputId, outputId);\n",
              "  const outputElement = document.getElementById(outputId);\n",
              "  // Cache steps on the outputElement to make it available for the next call\n",
              "  // to uploadFilesContinue from Python.\n",
              "  outputElement.steps = steps;\n",
              "\n",
              "  return _uploadFilesContinue(outputId);\n",
              "}\n",
              "\n",
              "// This is roughly an async generator (not supported in the browser yet),\n",
              "// where there are multiple asynchronous steps and the Python side is going\n",
              "// to poll for completion of each step.\n",
              "// This uses a Promise to block the python side on completion of each step,\n",
              "// then passes the result of the previous step as the input to the next step.\n",
              "function _uploadFilesContinue(outputId) {\n",
              "  const outputElement = document.getElementById(outputId);\n",
              "  const steps = outputElement.steps;\n",
              "\n",
              "  const next = steps.next(outputElement.lastPromiseValue);\n",
              "  return Promise.resolve(next.value.promise).then((value) => {\n",
              "    // Cache the last promise value to make it available to the next\n",
              "    // step of the generator.\n",
              "    outputElement.lastPromiseValue = value;\n",
              "    return next.value.response;\n",
              "  });\n",
              "}\n",
              "\n",
              "/**\n",
              " * Generator function which is called between each async step of the upload\n",
              " * process.\n",
              " * @param {string} inputId Element ID of the input file picker element.\n",
              " * @param {string} outputId Element ID of the output display.\n",
              " * @return {!Iterable<!Object>} Iterable of next steps.\n",
              " */\n",
              "function* uploadFilesStep(inputId, outputId) {\n",
              "  const inputElement = document.getElementById(inputId);\n",
              "  inputElement.disabled = false;\n",
              "\n",
              "  const outputElement = document.getElementById(outputId);\n",
              "  outputElement.innerHTML = '';\n",
              "\n",
              "  const pickedPromise = new Promise((resolve) => {\n",
              "    inputElement.addEventListener('change', (e) => {\n",
              "      resolve(e.target.files);\n",
              "    });\n",
              "  });\n",
              "\n",
              "  const cancel = document.createElement('button');\n",
              "  inputElement.parentElement.appendChild(cancel);\n",
              "  cancel.textContent = 'Cancel upload';\n",
              "  const cancelPromise = new Promise((resolve) => {\n",
              "    cancel.onclick = () => {\n",
              "      resolve(null);\n",
              "    };\n",
              "  });\n",
              "\n",
              "  // Wait for the user to pick the files.\n",
              "  const files = yield {\n",
              "    promise: Promise.race([pickedPromise, cancelPromise]),\n",
              "    response: {\n",
              "      action: 'starting',\n",
              "    }\n",
              "  };\n",
              "\n",
              "  cancel.remove();\n",
              "\n",
              "  // Disable the input element since further picks are not allowed.\n",
              "  inputElement.disabled = true;\n",
              "\n",
              "  if (!files) {\n",
              "    return {\n",
              "      response: {\n",
              "        action: 'complete',\n",
              "      }\n",
              "    };\n",
              "  }\n",
              "\n",
              "  for (const file of files) {\n",
              "    const li = document.createElement('li');\n",
              "    li.append(span(file.name, {fontWeight: 'bold'}));\n",
              "    li.append(span(\n",
              "        `(${file.type || 'n/a'}) - ${file.size} bytes, ` +\n",
              "        `last modified: ${\n",
              "            file.lastModifiedDate ? file.lastModifiedDate.toLocaleDateString() :\n",
              "                                    'n/a'} - `));\n",
              "    const percent = span('0% done');\n",
              "    li.appendChild(percent);\n",
              "\n",
              "    outputElement.appendChild(li);\n",
              "\n",
              "    const fileDataPromise = new Promise((resolve) => {\n",
              "      const reader = new FileReader();\n",
              "      reader.onload = (e) => {\n",
              "        resolve(e.target.result);\n",
              "      };\n",
              "      reader.readAsArrayBuffer(file);\n",
              "    });\n",
              "    // Wait for the data to be ready.\n",
              "    let fileData = yield {\n",
              "      promise: fileDataPromise,\n",
              "      response: {\n",
              "        action: 'continue',\n",
              "      }\n",
              "    };\n",
              "\n",
              "    // Use a chunked sending to avoid message size limits. See b/62115660.\n",
              "    let position = 0;\n",
              "    do {\n",
              "      const length = Math.min(fileData.byteLength - position, MAX_PAYLOAD_SIZE);\n",
              "      const chunk = new Uint8Array(fileData, position, length);\n",
              "      position += length;\n",
              "\n",
              "      const base64 = btoa(String.fromCharCode.apply(null, chunk));\n",
              "      yield {\n",
              "        response: {\n",
              "          action: 'append',\n",
              "          file: file.name,\n",
              "          data: base64,\n",
              "        },\n",
              "      };\n",
              "\n",
              "      let percentDone = fileData.byteLength === 0 ?\n",
              "          100 :\n",
              "          Math.round((position / fileData.byteLength) * 100);\n",
              "      percent.textContent = `${percentDone}% done`;\n",
              "\n",
              "    } while (position < fileData.byteLength);\n",
              "  }\n",
              "\n",
              "  // All done.\n",
              "  yield {\n",
              "    response: {\n",
              "      action: 'complete',\n",
              "    }\n",
              "  };\n",
              "}\n",
              "\n",
              "scope.google = scope.google || {};\n",
              "scope.google.colab = scope.google.colab || {};\n",
              "scope.google.colab._files = {\n",
              "  _uploadFiles,\n",
              "  _uploadFilesContinue,\n",
              "};\n",
              "})(self);\n",
              "</script> "
            ]
          },
          "metadata": {}
        },
        {
          "output_type": "stream",
          "name": "stdout",
          "text": [
            "Saving kaggle.json to kaggle (1).json\n"
          ]
        },
        {
          "output_type": "execute_result",
          "data": {
            "text/plain": [
              "{'kaggle.json': b'{\"username\":\"seemsgood\",\"key\":\"95cb6ca79715db0f12e0266f59a5b412\"}'}"
            ]
          },
          "metadata": {},
          "execution_count": 24
        }
      ]
    },
    {
      "cell_type": "code",
      "source": [
        "\"\"\"\n",
        "This cell is for moving your kaggle.json to the appropriate location\n",
        "and then change the permissions of the file.\n",
        "\"\"\"\n",
        "! mkdir ~/.kaggle\n",
        "! cp -f kaggle.json ~/.kaggle/\n",
        "! chmod 600 ~/.kaggle/kaggle.json"
      ],
      "metadata": {
        "id": "OiwgB9Mr9uTZ",
        "colab": {
          "base_uri": "https://localhost:8080/"
        },
        "outputId": "ac473380-bc19-4ffc-a003-4aa071bcba03"
      },
      "execution_count": null,
      "outputs": [
        {
          "output_type": "stream",
          "name": "stdout",
          "text": [
            "mkdir: cannot create directory ‘/root/.kaggle’: File exists\n"
          ]
        }
      ]
    },
    {
      "cell_type": "code",
      "source": [
        "\"\"\"\n",
        "Download the higgs boson data\n",
        "\"\"\"\n",
        "! kaggle competitions download -c higgs-boson \n",
        "\"\"\"\n",
        "unzip data to higgs-boson\n",
        "\"\"\"\n",
        "! unzip higgs-boson.zip -d higgs-boson"
      ],
      "metadata": {
        "colab": {
          "base_uri": "https://localhost:8080/"
        },
        "id": "7k24zwA3jTJj",
        "outputId": "5e4cdbe3-138d-4d98-9e33-bcf3244b59db"
      },
      "execution_count": null,
      "outputs": [
        {
          "output_type": "stream",
          "name": "stdout",
          "text": [
            "higgs-boson.zip: Skipping, found more recently modified local copy (use --force to force download)\n",
            "Archive:  higgs-boson.zip\n",
            "replace higgs-boson/HiggsBosonCompetition_AMSMetric_rev1.py? [y]es, [n]o, [A]ll, [N]one, [r]ename: A\n",
            "  inflating: higgs-boson/HiggsBosonCompetition_AMSMetric_rev1.py  \n",
            "  inflating: higgs-boson/random_submission.zip  \n",
            "  inflating: higgs-boson/test.zip    \n",
            "  inflating: higgs-boson/training.zip  \n"
          ]
        }
      ]
    },
    {
      "cell_type": "code",
      "source": [
        "\"\"\"\n",
        "unzip train datas (test here is not used)\n",
        "\"\"\"\n",
        "# ! unzip ./higgs-boson/test.zip -d ./higgs-boson/test/\n",
        "! unzip ./higgs-boson/training.zip -d ./higgs-boson/training/"
      ],
      "metadata": {
        "colab": {
          "base_uri": "https://localhost:8080/"
        },
        "id": "NGQ4vDDe_AmB",
        "outputId": "00a6a5aa-ab70-4045-90d5-e629537e3347"
      },
      "execution_count": null,
      "outputs": [
        {
          "output_type": "stream",
          "name": "stdout",
          "text": [
            "Archive:  ./higgs-boson/training.zip\n",
            "replace ./higgs-boson/training/training.csv? [y]es, [n]o, [A]ll, [N]one, [r]ename: A\n",
            "  inflating: ./higgs-boson/training/training.csv  \n"
          ]
        }
      ]
    },
    {
      "cell_type": "markdown",
      "source": [
        "## Data Preprocessing"
      ],
      "metadata": {
        "id": "SE26lCB1RYfP"
      }
    },
    {
      "cell_type": "code",
      "source": [
        "\"\"\"\n",
        "Let's read the training csvs\n",
        "\n",
        "\"\"\"\n",
        "import pandas as pd\n",
        "import numpy as np\n",
        "\n",
        "df = pd.read_csv(\"./higgs-boson/training/training.csv\")\n",
        "# print(df.head()) # just printing what it looks like\n",
        "df = df.drop(columns=['EventId', 'Weight']) # drop columns we don't use\n",
        "\"\"\"\n",
        "We filter out bad values\n",
        "\"\"\"\n",
        "df = df.replace(-999.000, np.nan)\n",
        "df = df.dropna()\n",
        "# print(df.head())\n",
        "\"\"\"\n",
        "We get rid of EventId column. Label column is our y (output). Rest is X (input)\n",
        "\"\"\"\n",
        "X = df.iloc[:, :-1].to_numpy()\n",
        "Y = df.iloc[:, -1].to_numpy() # just get Label\n",
        "# print(f\"X shape: {X.shape}\")\n",
        "# print(f\"Y shape: {Y.shape}\")\n",
        "# print(f\"Y values b4: {Y}\")\n",
        "# turn the signal and background to 1 and 0 respectively\n",
        "Y[Y == \"s\"] = 1\n",
        "Y[Y == \"b\"] = 0\n",
        "# print(np.any(Y == \"s\") or np.any(Y == \"b\")) # check if there's any non number left\n",
        "# print(f\"Y values after: {Y}\")\n",
        "Y = Y.astype('int32').reshape((-1,1))"
      ],
      "metadata": {
        "id": "g2ebo0gz_0Tl"
      },
      "execution_count": null,
      "outputs": []
    },
    {
      "cell_type": "code",
      "source": [
        "\"\"\"\n",
        "pytorch data preprocessing\n",
        "\"\"\"\n",
        "import torch\n",
        "X = torch.Tensor(X)\n",
        "Y = torch.Tensor(Y)\n",
        "\n",
        "\"\"\"\n",
        "We do the train test split. We don't shuffle the data just yet, we can do that \n",
        "pytorch data loader\n",
        "\"\"\"\n",
        "from sklearn.model_selection import train_test_split\n",
        "\n",
        "X_train, X_test, Y_train, Y_test = train_test_split(X, Y, test_size=0.20)\n",
        "\n",
        "\"\"\"\n",
        "Now we gotta transfer the numpy data into a \"dataset\" so pytorch can load it as\n",
        "as dataloader. This is not necessary, but a nice practice, since \n",
        "dataloaders shuffles data and you can change batch sizes easily\n",
        "\"\"\"\n",
        "from torch import Tensor\n",
        "from torch.utils.data import Dataset, DataLoader\n",
        "\n",
        "class CustomDataset(Dataset):\n",
        "  def __init__(self, X: Tensor, labels: Tensor):\n",
        "    self.X = X\n",
        "    self.Y = labels\n",
        "  def __len__(self):\n",
        "      return self.X.shape[0]\n",
        "  def __getitem__(self, idx: int):\n",
        "    x = self.X[idx]\n",
        "    label = self.Y[idx]\n",
        "    return x, label\n",
        "\n",
        "dataset_train = CustomDataset(X_train, Y_train)\n",
        "train_dataloader = DataLoader(dataset_train, batch_size=64, shuffle=True)"
      ],
      "metadata": {
        "id": "WVkXH7SlM3Io"
      },
      "execution_count": null,
      "outputs": []
    },
    {
      "cell_type": "markdown",
      "source": [
        "##Brevitas\n",
        "\n",
        "Brevitas uses Uniform Affine Quantization (UAQ) as its quantization method. This method takes:\n",
        "* bit width\n",
        "* scale factor\n",
        "* zero point\n",
        "\n",
        "Basic description of UAQ: You take float values into integer representation/ nearest integer representation. From then on, any operation as a quantized state, is done through these integer operations. The basic equation is shown below, where s = scale factor, z = zero point, and b = bit width\n"
      ],
      "metadata": {
        "id": "V8VsFTTALT2_"
      }
    },
    {
      "cell_type": "markdown",
      "source": [
        "![Screenshot from 2022-11-11 10-34-10.png](data:image/png;base64,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)"
      ],
      "metadata": {
        "id": "-zSEx1RcVJOI"
      }
    },
    {
      "cell_type": "markdown",
      "source": [
        "\n",
        "For more info on quantization, please read the white paper by QualComm: https://export.arxiv.org/pdf/2106.08295"
      ],
      "metadata": {
        "id": "4f8eeT2QVTtK"
      }
    },
    {
      "cell_type": "code",
      "source": [
        "from brevitas.nn import QuantLinear\n",
        "from brevitas.quant import Int8WeightPerTensorFixedPoint\n",
        "import math\n",
        "\n",
        "\n",
        "quant_linear = QuantLinear(2, 4, weight_quant=Int8WeightPerTensorFixedPoint, bias=False)\n",
        "\n",
        "print(f\"Quant Layer normal weight:\\n{quant_linear.weight}\")\n",
        "print(f\"Quant Layer quantized weight:\\n{quant_linear.quant_weight()}\")\n",
        "print(f\"Quant Layer quantized weight integer rep:\\n{quant_linear.quant_weight().int()}\")\n",
        "print(f\"Quant Weight fix point: {- math.log2(quant_linear.quant_weight().scale)}\")\n",
        "print(f\"Quant Weight scale: {quant_linear.quant_weight().scale}\")\n",
        "print(f\"Quant Weight bit width: {quant_linear.quant_weight().bit_width}\")\n",
        "print(f\"Quant Weight zero point: {quant_linear.quant_weight().zero_point}\")"
      ],
      "metadata": {
        "colab": {
          "base_uri": "https://localhost:8080/"
        },
        "id": "qcZ7BnRDVlXA",
        "outputId": "4d4a7752-d055-401c-fc86-24795d1ced89"
      },
      "execution_count": null,
      "outputs": [
        {
          "output_type": "stream",
          "name": "stdout",
          "text": [
            "Quant Layer normal weight:\n",
            "Parameter containing:\n",
            "tensor([[ 0.3491,  0.5913],\n",
            "        [ 0.2609, -0.4762],\n",
            "        [ 0.2683, -0.5461],\n",
            "        [-0.2257, -0.5414]], requires_grad=True)\n",
            "Quant Layer quantized weight:\n",
            "QuantTensor(value=tensor([[ 0.3516,  0.5938],\n",
            "        [ 0.2578, -0.4766],\n",
            "        [ 0.2656, -0.5469],\n",
            "        [-0.2266, -0.5391]], grad_fn=<MulBackward0>), scale=tensor(0.0078, grad_fn=<DivBackward0>), zero_point=tensor(0.), bit_width=tensor(8.), signed_t=tensor(True), training_t=tensor(True))\n",
            "Quant Layer quantized weight integer rep:\n",
            "tensor([[ 45,  76],\n",
            "        [ 33, -61],\n",
            "        [ 34, -70],\n",
            "        [-29, -69]], dtype=torch.int32)\n",
            "Quant Weight fix point: 7.0\n",
            "Quant Weight scale: 0.0078125\n",
            "Quant Weight bit width: 8.0\n",
            "Quant Weight zero point: 0.0\n"
          ]
        }
      ]
    },
    {
      "cell_type": "markdown",
      "source": [
        "Above we see an example of Quant Linear layer by brevitas. It has a normal set of weight and bias (optional) parameters. Next to it, it also has a set of quantized weights, scale and fixed point. We may also print directly these three parameters."
      ],
      "metadata": {
        "id": "fVPYpg57oxIe"
      }
    },
    {
      "cell_type": "code",
      "source": [
        "\"\"\"\n",
        "Below gives a good setup of the brevitas class and its default parameters\n",
        "taken from the brevitas github page\n",
        "https://github.com/Xilinx/brevitas\n",
        "\"\"\"\n",
        "\n",
        "import inspect\n",
        "from brevitas.nn import QuantLinear, QuantReLU\n",
        "from IPython.display import Markdown, display\n",
        "\n",
        "def pretty_print_source(source):\n",
        "    display(Markdown('```python\\n' + source + '\\n```'))\n",
        "    \n",
        "# source = inspect.getsource(QuantLinear.__init__)  \n",
        "# pretty_print_source(source)\n",
        "source = inspect.getsource(QuantReLU.__init__)  \n",
        "pretty_print_source(source)"
      ],
      "metadata": {
        "colab": {
          "base_uri": "https://localhost:8080/",
          "height": 260
        },
        "id": "gKF5ONZBXaNC",
        "outputId": "13333eb9-4ac9-417c-97bf-a12d3935f4ea"
      },
      "execution_count": null,
      "outputs": [
        {
          "output_type": "display_data",
          "data": {
            "text/plain": [
              "<IPython.core.display.Markdown object>"
            ],
            "text/markdown": "```python\n    def __init__(\n            self,\n            act_quant: Optional[ActQuantType] = Uint8ActPerTensorFloat,\n            input_quant: Optional[ActQuantType] = None,\n            return_quant_tensor: bool = False,\n            **kwargs):\n        QuantNLAL.__init__(\n            self,\n            act_impl=nn.ReLU,\n            passthrough_act=True,\n            input_quant=input_quant,\n            act_quant=act_quant,\n            return_quant_tensor=return_quant_tensor,\n            **kwargs)\n\n```"
          },
          "metadata": {}
        }
      ]
    },
    {
      "cell_type": "markdown",
      "source": [
        "## Making one's custom quantizers\n",
        "\n",
        "Brevitas gives us the freedom to define our own quantizers for our own needs. \n",
        "By default, this is not the case, as these parameters are \"automated\" to fully unlock the potential of QAT. \n",
        "\n",
        "However, we have to ultimately port our model to hls4ml with its rigid ap_fixed (arbituary precision fixed) quantization standard. This means that we have to specifically freeze the scale factor, bit width and zero point to match our target ap_fixed parameter.\n",
        "\n",
        "The code below allows us to do exactly that (code still in progress)"
      ],
      "metadata": {
        "id": "-UdhNM6HrGaf"
      }
    },
    {
      "cell_type": "code",
      "source": [
        "from brevitas.core.function_wrapper.ops_ste import CeilSte\n",
        "from brevitas.core.scaling import PowerOfTwoIntScaling\n",
        "from brevitas.core.restrict_val import PowerOfTwoRestrictValue\n",
        "from brevitas.quant.solver.weight import WeightQuantSolver\n",
        "from brevitas.quant.solver.bias import BiasQuantSolver\n",
        "from brevitas.quant.solver.act import ActQuantSolver\n",
        "from brevitas.quant.base import *\n",
        "from brevitas.inject import ExtendedInjector\n",
        "from brevitas.inject.enum import ScalingImplType, StatsOp, RestrictValueType\n",
        "from brevitas.core.scaling import ConstScaling\n",
        "\n",
        "\"\"\"\n",
        "NOTE: still not too sure if ScalingImplType.CONST is useful\n",
        "\"\"\"\n",
        "\n",
        "custom_bit_width = 8\n",
        "custom_scale = 0.005\n",
        "custom_scaling_impl = custom_scale*2**(custom_bit_width-1)\n",
        "print(f\"custom_scaling_impl: {custom_scaling_impl}\")\n",
        "\n",
        "class PerTensorActPoTScalingCustombit(ExtendedInjector):\n",
        "    \"\"\"\n",
        "    \"\"\"\n",
        "    scaling_per_output_channel = False\n",
        "    restrict_scaling_type = RestrictValueType.POWER_OF_TWO\n",
        "    bit_width = custom_bit_width\n",
        "    restrict_value_float_to_int_impl = CeilSte\n",
        "\n",
        "class PerTensorWeightPoTScalingCustombit(ExtendedInjector):\n",
        "    \"\"\"\n",
        "    \"\"\"\n",
        "    scaling_per_output_channel = False\n",
        "    restrict_scaling_type = RestrictValueType.POWER_OF_TWO\n",
        "    bit_width = custom_bit_width\n",
        "    restrict_value_float_to_int_impl = CeilSte\n",
        "    scaling_impl = ConstScaling(custom_scaling_impl)\n",
        "\n",
        "class CustomMaxScaling(ExtendedInjector):\n",
        "    \"\"\"\n",
        "    \"\"\"\n",
        "    scaling_impl_type = ScalingImplType.CONST\n",
        "    scaling_stats_op = StatsOp.MAX\n",
        "\n",
        "class ParamFromRuntimePercentileScaling(ExtendedInjector):\n",
        "    \"\"\"\n",
        "    \"\"\"\n",
        "    scaling_impl_type = ScalingImplType.CONST\n",
        "    scaling_stats_op = StatsOp.PERCENTILE\n",
        "    percentile_q = 99.999\n",
        "    collect_stats_steps = 300\n",
        "\n",
        "class IntCustomWeightPerTensorFixedPoint(\n",
        "    NarrowIntQuant, CustomMaxScaling, PerTensorWeightPoTScalingCustombit, WeightQuantSolver):\n",
        "    \"\"\"\n",
        "    8-bit narrow per-tensor signed fixed-point weight quantizer with the radix point\n",
        "    computed from backpropagated statistics of the weight tensor.\n",
        "\n",
        "    Examples:\n",
        "        >>> from brevitas.nn import QuantLinear\n",
        "        >>> fc = QuantLinear(10, 5, bias=False, weight_quant=Int8WeightPerTensorFixedPoint)\n",
        "        >>> fc.quant_weight()\n",
        "    \"\"\"\n",
        "    pass\n",
        "\n",
        "\n",
        "class IntCustomActPerTensorFixedPoint(\n",
        "    IntQuant, ParamFromRuntimePercentileScaling, PerTensorActPoTScalingCustombit, ActQuantSolver):\n",
        "    \"\"\"\n",
        "    8-bit per-tensor signed int activations fixed-point quantizer with learned radix point\n",
        "    initialized from runtime statistics.\n",
        "\n",
        "    Examples:\n",
        "        >>> from brevitas.nn import QuantIdentity\n",
        "        >>> act = QuantIdentity(act_quant=Int8ActPerTensorFixedPoint)\n",
        "    \"\"\"\n",
        "    min_val = -custom_scale*(2**(custom_bit_width-1))\n",
        "    max_val = custom_scale*(2**(custom_bit_width-1)-1)\n",
        "    print(f\"min_val: {min_val}\")\n",
        "    print(f\"max_val: {max_val}\")\n",
        "\n",
        "# class UintCustomActPerTensorFixedPoint(\n",
        "#     UintQuant, ParamFromRuntimePercentileScaling, PerTensorActPoTScalingCustombit, ActQuantSolver):\n",
        "#     \"\"\"\n",
        "#     8-bit per-tensor unsigned int activations fixed-point quantizer with learned radix point\n",
        "#     initialized from runtime statistics.\n",
        "\n",
        "#     Examples:\n",
        "#         >>> from brevitas.nn import QuantReLU\n",
        "#         >>> act = QuantReLU(act_quant=Uint8ActPerTensorFixedPoint)\n",
        "#     \"\"\"\n",
        "#     pass\n",
        "\n",
        "\n",
        "class IntCustomBiasPerTensorFixedPointInternalScaling(\n",
        "    IntQuant, MaxStatsScaling, PerTensorWeightPoTScalingCustombit, BiasQuantSolver):\n",
        "    \"\"\"\n",
        "    8-bit per-tensor signed fixed-point bias quantizer with the radix point computed\n",
        "    from backpropagated statistics of the bias tensor.\n",
        "\n",
        "    Examples:\n",
        "        >>> from brevitas.nn import QuantLinear\n",
        "        >>> fc = QuantLinear(10, 5, bias=True, bias_quant=Int8BiasPerTensorFixedPointInternalScaling)\n",
        "    \"\"\"\n",
        "    requires_input_scale = False\n",
        "    requires_input_bit_width = False\n"
      ],
      "metadata": {
        "colab": {
          "base_uri": "https://localhost:8080/"
        },
        "id": "qZ88lTVUmud4",
        "outputId": "a73c2567-c2ad-4d0c-bd60-12f0bec743ee"
      },
      "execution_count": null,
      "outputs": [
        {
          "output_type": "stream",
          "name": "stdout",
          "text": [
            "custom_scaling_impl: 0.64\n",
            "min_val: -0.64\n",
            "max_val: 0.635\n"
          ]
        }
      ]
    },
    {
      "cell_type": "code",
      "source": [
        "from brevitas.nn import QuantIdentity\n",
        "\"\"\"\n",
        "Seems like scale \n",
        "\"\"\"\n",
        "min_val = -custom_scale*(2**(custom_bit_width-1))\n",
        "max_val = custom_scale*(2**(custom_bit_width-1)-1)\n",
        "float_input = torch.randn(3, 2)\n",
        "float_input[0][0] = 0.75\n",
        "# float_input[0][1] = min_val - 1\n",
        "float_input[1][0] =  0.75 -0.001\n",
        "print(float_input[0])\n",
        "quant_identity = QuantIdentity(act_quant=IntCustomActPerTensorFixedPoint, return_quant_tensor=True)\n",
        "quant_input = quant_identity(float_input)\n",
        "\n",
        "print(f\"Float input:\\n {float_input} \\n\")\n",
        "print(f\"Quant input:\\n {quant_input} \\n\")\n",
        "\n",
        "float_bias = torch.zeros(3)\n",
        "# float_bias[0] = 0.75\n",
        "# float_bias[1] = 0.75 -0.001\n",
        "# float_bias[2] = 5\n",
        "quant_bias = quant_identity(float_bias)\n",
        "\n",
        "print(f\"Float bias:\\n {float_bias} \\n\")\n",
        "print(f\"Quant bias:\\n {quant_bias} \\n\")"
      ],
      "metadata": {
        "colab": {
          "base_uri": "https://localhost:8080/"
        },
        "id": "bIVDZ1VzNLMZ",
        "outputId": "5b8ab428-b6f6-4e4e-ce24-d202a7ac383a"
      },
      "execution_count": null,
      "outputs": [
        {
          "output_type": "stream",
          "name": "stdout",
          "text": [
            "tensor([ 0.7500, -0.0039])\n",
            "Float input:\n",
            " tensor([[ 0.7500, -0.0039],\n",
            "        [ 0.7490,  0.5939],\n",
            "        [-2.9351,  0.7184]]) \n",
            "\n",
            "Quant input:\n",
            " QuantTensor(value=tensor([[ 0.7500, -0.0000],\n",
            "        [ 0.7500,  0.5938],\n",
            "        [-1.0000,  0.7188]]), scale=tensor(0.0078), zero_point=tensor(0.), bit_width=tensor(8.), signed_t=tensor(True), training_t=tensor(True)) \n",
            "\n",
            "Float bias:\n",
            " tensor([0., 0., 0.]) \n",
            "\n",
            "Quant bias:\n",
            " QuantTensor(value=tensor([0., 0., 0.]), scale=tensor(0.0078), zero_point=tensor(0.), bit_width=tensor(8.), signed_t=tensor(True), training_t=tensor(True)) \n",
            "\n"
          ]
        }
      ]
    },
    {
      "cell_type": "code",
      "source": [
        "import torch.nn as nn\n",
        "normal_linear = nn.Linear(2, 3, bias = True)\n",
        "normal_linear.weight = nn.Parameter(float_input)\n",
        "normal_linear.bias = nn.Parameter(float_bias)\n"
      ],
      "metadata": {
        "id": "Ty1sWJ9Uy-dp"
      },
      "execution_count": null,
      "outputs": []
    },
    {
      "cell_type": "code",
      "source": [
        "BREVITAS_IGNORE_MISSING_KEYS = True\n",
        "quant_linear = QuantLinear(\n",
        "    2, 3,\n",
        "    weight_quant=IntCustomWeightPerTensorFixedPoint, \n",
        "    bias=True, bias_quant=IntCustomBiasPerTensorFixedPointInternalScaling\n",
        "    )\n",
        "quant_linear.load_state_dict(normal_linear.state_dict())\n",
        "\n",
        "\n",
        "print(f\"Weight QuantTensor:\\n {quant_linear.quant_weight()}\")\n",
        "# print(f\"Weight fix point: {- math.log2(quant_linear.quant_weight().scale)}\")\n",
        "print(f\"Weight scale: {quant_linear.quant_weight().scale}\")\n",
        "# print(f\"Weight fix point: {quant_linear.quant_weight().scale.int()}\")\n",
        "\n",
        "print(f\"Bias QuantTensor:\\n {quant_linear.quant_bias()}\")\n",
        "print(f\"Bias scale: {quant_linear.quant_bias().scale}\")"
      ],
      "metadata": {
        "colab": {
          "base_uri": "https://localhost:8080/"
        },
        "id": "s9Nh8RXUjK63",
        "outputId": "ffa691c1-174a-4383-f5e2-3c2b21a8d5b0"
      },
      "execution_count": null,
      "outputs": [
        {
          "output_type": "stream",
          "name": "stdout",
          "text": [
            "Weight QuantTensor:\n",
            " QuantTensor(value=tensor([[ 0.6350, -0.0050],\n",
            "        [ 0.6350,  0.5950],\n",
            "        [-0.6350,  0.6350]], grad_fn=<MulBackward0>), scale=tensor(0.0050), zero_point=tensor(0.), bit_width=tensor(8.), signed_t=tensor(True), training_t=tensor(True))\n",
            "Weight scale: 0.004999999888241291\n",
            "Bias QuantTensor:\n",
            " QuantTensor(value=tensor([0., 0., 0.], grad_fn=<MulBackward0>), scale=tensor(0.0050), zero_point=tensor(0.), bit_width=tensor(8.), signed_t=tensor(True), training_t=tensor(True))\n",
            "Bias scale: 0.004999999888241291\n"
          ]
        }
      ]
    },
    {
      "cell_type": "markdown",
      "source": [
        "Here, we now test ap_fixed precision, so that we could come up with an accurate conversion function from ap_fixed to UAQ."
      ],
      "metadata": {
        "id": "Fpt7u7bvsbpa"
      }
    },
    {
      "cell_type": "code",
      "source": [
        "\"\"\"\n",
        "ap_fixed hls4ml testing\n",
        "\"\"\"\n",
        "import hls4ml \n",
        "from sklearn.metrics import mean_squared_error\n",
        "\n",
        "\n",
        "int_bit = 2\n",
        "fract_bit = 2\n",
        "total_bit = int_bit + fract_bit\n",
        "ap_fixed_config = f\"ap_fixed<{total_bit},{int_bit}>\"\n",
        "normal_linear = nn.Sequential(normal_linear)\n",
        "config = hls4ml.utils.config_from_pytorch_model(normal_linear,\n",
        "                                    default_precision=ap_fixed_config,\n",
        "                                    granularity='model'\n",
        ")\n",
        "print(f\"config: {config}\")\n",
        "hls_linear = hls4ml.converters.convert_from_pytorch_model(normal_linear,\n",
        "                                                    hls_config=config,\n",
        "                                                    output_dir='model_1/hls4ml_prj',\n",
        "                                                    part='xcu250-figd2104-2L-e',\n",
        "                                                    input_shape = (100,2) # 100 here is irrelevant\n",
        ")\n",
        "hls_linear.compile()\n"
      ],
      "metadata": {
        "colab": {
          "base_uri": "https://localhost:8080/"
        },
        "id": "enZcbz7CRQWx",
        "outputId": "f7a1eb7a-ec31-45d2-f8f8-747c05af49b7"
      },
      "execution_count": null,
      "outputs": [
        {
          "output_type": "stream",
          "name": "stdout",
          "text": [
            "config: {'Model': {'Precision': 'ap_fixed<4,2>', 'ReuseFactor': 1, 'Strategy': 'Latency'}}\n",
            "Interpreting Model ...\n",
            "Topology:\n",
            "Input Shape:  [[100, 2]]\n",
            "Layer name: 0, layer type: Dense, input shape: [[100, 2]]\n",
            "Creating HLS model\n",
            "Writing HLS project\n",
            "Done\n"
          ]
        }
      ]
    },
    {
      "cell_type": "code",
      "source": [
        "hls_input = np.ascontiguousarray(np.array([[1.0,0.0]]))\n",
        "torch_input = torch.from_numpy(hls_input).float()\n",
        "print(hls_linear.predict(hls_input))\n",
        "print(normal_linear(torch_input))"
      ],
      "metadata": {
        "colab": {
          "base_uri": "https://localhost:8080/"
        },
        "id": "dP4VmCthSChv",
        "outputId": "24628412-dad9-4bd9-c1b7-d4bfb341dea4"
      },
      "execution_count": null,
      "outputs": [
        {
          "output_type": "stream",
          "name": "stdout",
          "text": [
            "[0.75 0.75 1.  ]\n",
            "tensor([[ 0.7500,  0.7490, -2.9351]], grad_fn=<AddmmBackward0>)\n"
          ]
        }
      ]
    },
    {
      "cell_type": "code",
      "source": [
        "\"\"\"\n",
        "conversion function from target ap_fixed to parameters for UAQ\n",
        "\"\"\"\n",
        "from typing import Tuple\n",
        "\n",
        "def ConvAp_FixedToUAQ(int_bitwidth, fract_bitwidth) -> Tuple[int,float,float]:\n",
        "  \"\"\"\n",
        "  parameters:\n",
        "  int_bitwidth: int \n",
        "  fract_bitwidth: int\n",
        "\n",
        "  return:\n",
        "  bitwidth: int\n",
        "  scale_factor: float\n",
        "  zero_point: float\n",
        "  \"\"\"\n",
        "  bitwidth = int_bitwidth + fract_bitwidth\n",
        "  scale_factor = 2**(-fract_bitwidth)\n",
        "  zero_point = 0 # we assume int representation is signed\n",
        "  \n",
        "  return (bitwidth, scale_factor, zero_point)"
      ],
      "metadata": {
        "id": "PVaKPwVcsvHE"
      },
      "execution_count": null,
      "outputs": []
    },
    {
      "cell_type": "code",
      "source": [
        "target_int_bitwidth = 4\n",
        "target_fract_bitwidth = 6\n",
        "\n",
        "target_bitwidth, target_scale_factor, target_zero_point = ConvAp_FixedToUAQ(target_int_bitwidth, target_fract_bitwidth)"
      ],
      "metadata": {
        "id": "hqo9rgR0BuDA"
      },
      "execution_count": null,
      "outputs": []
    },
    {
      "cell_type": "code",
      "source": [
        "print(target_bitwidth, target_scale_factor, target_zero_point)"
      ],
      "metadata": {
        "colab": {
          "base_uri": "https://localhost:8080/"
        },
        "id": "2KwVRWmWCJSo",
        "outputId": "0da8236c-9762-4271-d673-0d16570245cc"
      },
      "execution_count": null,
      "outputs": [
        {
          "output_type": "stream",
          "name": "stdout",
          "text": [
            "10 0.015625 0\n"
          ]
        }
      ]
    },
    {
      "cell_type": "code",
      "source": [
        "\"\"\"\n",
        "Reinitialize the custom quantizers for a realistic stuff\n",
        "testing\n",
        "\"\"\"\n",
        "\n",
        "custom_bit_width = target_bitwidth\n",
        "custom_scale = target_scale_factor\n",
        "custom_scaling_impl = custom_scale*2**(custom_bit_width-1)\n",
        "\n",
        "class PerTensorActPoTScalingCustombit(ExtendedInjector):\n",
        "    \"\"\"\n",
        "    \"\"\"\n",
        "    scaling_per_output_channel = False\n",
        "    restrict_scaling_type = RestrictValueType.POWER_OF_TWO\n",
        "    bit_width = custom_bit_width\n",
        "    restrict_value_float_to_int_impl = CeilSte\n",
        "\n",
        "class PerTensorWeightPoTScalingCustombit(ExtendedInjector):\n",
        "    \"\"\"\n",
        "    \"\"\"\n",
        "    scaling_per_output_channel = False\n",
        "    restrict_scaling_type = RestrictValueType.POWER_OF_TWO\n",
        "    bit_width = custom_bit_width\n",
        "    restrict_value_float_to_int_impl = CeilSte\n",
        "    scaling_impl = ConstScaling(custom_scaling_impl)\n",
        "\n",
        "class CustomMaxScaling(ExtendedInjector):\n",
        "    \"\"\"\n",
        "    \"\"\"\n",
        "    scaling_impl_type = ScalingImplType.CONST\n",
        "    scaling_stats_op = StatsOp.MAX\n",
        "\n",
        "class ParamFromRuntimePercentileScaling(ExtendedInjector):\n",
        "    \"\"\"\n",
        "    \"\"\"\n",
        "    scaling_impl_type = ScalingImplType.CONST\n",
        "    scaling_stats_op = StatsOp.PERCENTILE\n",
        "    percentile_q = 99.999\n",
        "    collect_stats_steps = 300\n",
        "\n",
        "class IntCustomWeightPerTensorFixedPoint(\n",
        "    NarrowIntQuant, CustomMaxScaling, PerTensorWeightPoTScalingCustombit, WeightQuantSolver):\n",
        "    \"\"\"\n",
        "    8-bit narrow per-tensor signed fixed-point weight quantizer with the radix point\n",
        "    computed from backpropagated statistics of the weight tensor.\n",
        "\n",
        "    Examples:\n",
        "        >>> from brevitas.nn import QuantLinear\n",
        "        >>> fc = QuantLinear(10, 5, bias=False, weight_quant=Int8WeightPerTensorFixedPoint)\n",
        "        >>> fc.quant_weight()\n",
        "    \"\"\"\n",
        "    pass\n",
        "\n",
        "\n",
        "class IntCustomActPerTensorFixedPoint(\n",
        "    IntQuant, ParamFromRuntimePercentileScaling, PerTensorActPoTScalingCustombit, ActQuantSolver):\n",
        "    \"\"\"\n",
        "    8-bit per-tensor signed int activations fixed-point quantizer with learned radix point\n",
        "    initialized from runtime statistics.\n",
        "\n",
        "    Examples:\n",
        "        >>> from brevitas.nn import QuantIdentity\n",
        "        >>> act = QuantIdentity(act_quant=Int8ActPerTensorFixedPoint)\n",
        "    \"\"\"\n",
        "    min_val = -custom_scale*2**(custom_bit_width-1)\n",
        "    max_val = custom_scale*(2**(custom_bit_width-1)-1)\n",
        "    print(f\"min_val: {min_val}\")\n",
        "    print(f\"max_val: {max_val}\")\n",
        "\n",
        "# class UintCustomActPerTensorFixedPoint(\n",
        "#     UintQuant, ParamFromRuntimePercentileScaling, PerTensorActPoTScalingCustombit, ActQuantSolver):\n",
        "#     \"\"\"\n",
        "#     8-bit per-tensor unsigned int activations fixed-point quantizer with learned radix point\n",
        "#     initialized from runtime statistics.\n",
        "\n",
        "#     Examples:\n",
        "#         >>> from brevitas.nn import QuantReLU\n",
        "#         >>> act = QuantReLU(act_quant=Uint8ActPerTensorFixedPoint)\n",
        "#     \"\"\"\n",
        "#     pass\n",
        "\n",
        "\n",
        "class IntCustomBiasPerTensorFixedPointInternalScaling(\n",
        "    IntQuant, MaxStatsScaling, PerTensorWeightPoTScalingCustombit, BiasQuantSolver):\n",
        "    \"\"\"\n",
        "    8-bit per-tensor signed fixed-point bias quantizer with the radix point computed\n",
        "    from backpropagated statistics of the bias tensor.\n",
        "\n",
        "    Examples:\n",
        "        >>> from brevitas.nn import QuantLinear\n",
        "        >>> fc = QuantLinear(10, 5, bias=True, bias_quant=Int8BiasPerTensorFixedPointInternalScaling)\n",
        "    \"\"\"\n",
        "    requires_input_scale = False\n",
        "    requires_input_bit_width = False"
      ],
      "metadata": {
        "colab": {
          "base_uri": "https://localhost:8080/"
        },
        "id": "JnSNtzaqm1jm",
        "outputId": "8170d6ac-a783-4175-cda1-be082d04a444"
      },
      "execution_count": null,
      "outputs": [
        {
          "output_type": "stream",
          "name": "stdout",
          "text": [
            "min_val: -8.0\n",
            "max_val: 7.984375\n"
          ]
        }
      ]
    },
    {
      "cell_type": "code",
      "source": [
        "from brevitas.nn import QuantIdentity\n",
        "\"\"\"\n",
        "testing\n",
        "\"\"\"\n",
        "min_val = -custom_scale*(2**(custom_bit_width-1))\n",
        "max_val = custom_scale*(2**(custom_bit_width-1)-1)\n",
        "float_input = torch.randn(3, 2)\n",
        "float_input[0][0] = 0.75\n",
        "# float_input[0][1] = min_val - 1\n",
        "float_input[1][0] =  0.75 -0.001\n",
        "print(float_input[0])\n",
        "quant_identity = QuantIdentity(act_quant=IntCustomActPerTensorFixedPoint, return_quant_tensor=True)\n",
        "quant_input = quant_identity(float_input)\n",
        "\n",
        "print(f\"Float input:\\n {float_input} \\n\")\n",
        "print(f\"Quant input:\\n {quant_input} \\n\")\n",
        "\n",
        "float_bias = torch.zeros(3)\n",
        "# float_bias[0] = 0.75\n",
        "# float_bias[1] = 0.75 -0.001\n",
        "# float_bias[2] = 5\n",
        "quant_bias = quant_identity(float_bias)\n",
        "\n",
        "print(f\"Float bias:\\n {float_bias} \\n\")\n",
        "print(f\"Quant bias:\\n {quant_bias} \\n\")"
      ],
      "metadata": {
        "colab": {
          "base_uri": "https://localhost:8080/"
        },
        "id": "2YJQXUlWCe7S",
        "outputId": "58cb0ead-a95e-41d8-bc47-3f66e3ede89a"
      },
      "execution_count": null,
      "outputs": [
        {
          "output_type": "stream",
          "name": "stdout",
          "text": [
            "tensor([ 0.7500, -0.3383])\n",
            "Float input:\n",
            " tensor([[ 0.7500, -0.3383],\n",
            "        [ 0.7490, -1.2844],\n",
            "        [ 0.3680,  0.4551]]) \n",
            "\n",
            "Quant input:\n",
            " QuantTensor(value=tensor([[ 0.7500, -0.3438],\n",
            "        [ 0.7500, -1.2812],\n",
            "        [ 0.3750,  0.4531]]), scale=tensor(0.0156), zero_point=tensor(0.), bit_width=tensor(10.), signed_t=tensor(True), training_t=tensor(True)) \n",
            "\n",
            "Float bias:\n",
            " tensor([0., 0., 0.]) \n",
            "\n",
            "Quant bias:\n",
            " QuantTensor(value=tensor([0., 0., 0.]), scale=tensor(0.0156), zero_point=tensor(0.), bit_width=tensor(10.), signed_t=tensor(True), training_t=tensor(True)) \n",
            "\n"
          ]
        }
      ]
    },
    {
      "cell_type": "markdown",
      "source": [
        "Now let's validate that our conversion is spot on with some quick tests:"
      ],
      "metadata": {
        "id": "KZiGpzE3tqpe"
      }
    },
    {
      "cell_type": "code",
      "source": [
        "\"\"\"\n",
        "Cell for validation test for ap_fixed vs UAQ\n",
        "\"\"\""
      ],
      "metadata": {
        "id": "VSiwJr_OtqL6"
      },
      "execution_count": null,
      "outputs": []
    },
    {
      "cell_type": "code",
      "source": [
        "import brevitas.nn as qnn\n",
        "from brevitas.core.quant import QuantType\n",
        "from brevitas.quant.scaled_int import Int8ActPerTensorFloat, Int8WeightPerTensorFloat\n",
        "from brevitas.quant.shifted_scaled_int import ShiftedUint8ActPerTensorFloat\n",
        "import brevitas.quant.fixed_point as fp\n",
        "\"\"\"\n",
        "NOTE: try quantizing the input data and \n",
        "see if there's big changes\n",
        "\"\"\"\n",
        "\n",
        "input_dim = 30\n",
        "# mlp_dims = [30 , 64, 32, 32]\n",
        "mlp_dims = [30 , 16, 8, 8]\n",
        "# mlp_dims = [30 , 128, 64, 64]\n",
        "mlp_blocks = [nn.BatchNorm1d(input_dim)]\n",
        "for idx in range(len(mlp_dims)-1):\n",
        "  # print(mlp_dims[idx + 1])\n",
        "  mlp_blocks.append(qnn.QuantLinear(\n",
        "                  int(mlp_dims[idx]), \n",
        "                  int(mlp_dims[idx + 1]),\n",
        "                  bias=True,\n",
        "                  weight_quant=IntCustomWeightPerTensorFixedPoint,\n",
        "                  bias_quant=IntCustomBiasPerTensorFixedPointInternalScaling,\n",
        "                  input_quant= IntCustomActPerTensorFixedPoint,\n",
        "                  output_quant= IntCustomActPerTensorFixedPoint,\n",
        "                  return_quant_tensor=True\n",
        "                  )  \n",
        "  )\n",
        "  \n",
        "  mlp_blocks.append(\n",
        "      qnn.QuantReLU(\n",
        "          act_quant=IntCustomActPerTensorFixedPoint,\n",
        "          return_quant_tensor=True\n",
        "      )\n",
        "  )\n",
        "# add last layer\n",
        "mlp_blocks.append(qnn.QuantLinear(\n",
        "                  mlp_dims[len(mlp_dims)-1], \n",
        "                  1,\n",
        "                  bias=True,\n",
        "                  weight_quant=IntCustomWeightPerTensorFixedPoint,\n",
        "                  bias_quant=IntCustomBiasPerTensorFixedPointInternalScaling,\n",
        "                  input_quant= IntCustomActPerTensorFixedPoint,\n",
        "                  output_quant= IntCustomActPerTensorFixedPoint,\n",
        "                  return_quant_tensor=True\n",
        "                  )\n",
        ")\n",
        "mlp_blocks.append(\n",
        "      qnn.QuantSigmoid(\n",
        "          act_quant=IntCustomActPerTensorFixedPoint,\n",
        "          return_quant_tensor=True\n",
        "      )\n",
        ")\n",
        "model_bv_seq = nn.Sequential(*mlp_blocks)\n"
      ],
      "metadata": {
        "id": "JqPmrUyhX9lG"
      },
      "execution_count": null,
      "outputs": []
    },
    {
      "cell_type": "code",
      "source": [
        "\"\"\"\n",
        "Training phase\n",
        "\"\"\"\n",
        "import torch.nn.functional as F\n",
        "\n",
        "model_bv_seq.train() # put model in train mode (for batchnormalization)\n",
        "optimizer = torch.optim.AdamW(model_bv_seq.parameters(), lr=1e-3)\n",
        "i = 0\n",
        "for x, y in train_dataloader:\n",
        "  # print(y.shape)\n",
        "  # print(model_bv_seq(x).shape)\n",
        "  loss = F.binary_cross_entropy(model_bv_seq(x), y)\n",
        "  i +=1\n",
        "  # if i > 100:\n",
        "  #   break\n",
        "\n",
        "  optimizer.zero_grad() # this deletes all previous grad calculations. very important\n",
        "  loss.backward() # calculates the gradients\n",
        "  optimizer.step() # applies backpropagation"
      ],
      "metadata": {
        "id": "zInhwBDP3mzj"
      },
      "execution_count": null,
      "outputs": []
    },
    {
      "cell_type": "code",
      "source": [
        "\"\"\"\n",
        "Testing phase\n",
        "\"\"\"\n",
        "from sklearn import metrics\n",
        "import matplotlib.pyplot as plt\n",
        "\n",
        "model_bv_seq.eval() # put model in eval mode \n",
        "with torch.no_grad():\n",
        "  Y_hat = model_bv_seq(X_test)[0]\n",
        "  fpr, tpr, _ = metrics.roc_curve(Y_test,  Y_hat)\n",
        "  auc = metrics.roc_auc_score(Y_test, Y_hat)\n",
        "  \n",
        "\n",
        "#create ROC curve\n",
        "plt.plot(fpr,tpr,label=\"AUC=\"+str(auc))\n",
        "plt.ylabel('True Positive Rate')\n",
        "plt.xlabel('False Positive Rate')\n",
        "plt.title(\"bv model after training\")\n",
        "plt.legend(loc=4)\n",
        "plt.show()"
      ],
      "metadata": {
        "colab": {
          "base_uri": "https://localhost:8080/",
          "height": 295
        },
        "id": "vhdVZqgqUlIe",
        "outputId": "bfdd5d0a-f08c-4de1-8117-65c7495a1c3e"
      },
      "execution_count": null,
      "outputs": [
        {
          "output_type": "display_data",
          "data": {
            "text/plain": [
              "<Figure size 432x288 with 1 Axes>"
            ],
            "image/png": "[encoded data removed]"
          },
          "metadata": {
            "needs_background": "light"
          }
        }
      ]
    },
    {
      "cell_type": "code",
      "source": [
        "# print(len(model_bv_seq.mlp))\n",
        "# print((model_bv_seq.mlp))\n",
        "N_test = X_test.shape[0]\n",
        "sample_size = 10\n",
        "bins = 500\n",
        "sample_idxs = np.random.choice(N_test, sample_size)\n",
        "# print(X_test.shape)"
      ],
      "metadata": {
        "id": "kUDaQ9IvWJh_"
      },
      "execution_count": null,
      "outputs": []
    },
    {
      "cell_type": "code",
      "source": [
        "\"\"\"\n",
        "plot histograms\n",
        "\"\"\"\n",
        "from sklearn import metrics\n",
        "import matplotlib.pyplot as plt\n",
        "\n",
        "\n",
        "model_bv_seq.eval() # put model in eval mode (for batchnormalization)\n",
        "with torch.no_grad():\n",
        "  # y_hat = model_bv_seq[0](X_test[sample_idxs])\n",
        "  y_hat = model_bv_seq[0](X_test) # batchnorm\n",
        "\n",
        "  for idx in range(1,len(model_bv_seq)-2):\n",
        "    # print(f\"idx: {idx}\")\n",
        "    y_hat = model_bv_seq[idx](y_hat)\n",
        "    if idx%2 ==1: # quantlinear\n",
        "      print(f\"quantlinear layer tensor bit_width: {y_hat.bit_width}\")\n",
        "    else:# activation\n",
        "      print(f\"hidden activation layer tensor bit_width: {y_hat.bit_width}\")\n",
        "    \n",
        "    plt.hist(y_hat[0][:,0], bins= bins)\n",
        "    plt.show()\n",
        "\n",
        "  idx = len(model_bv_seq)-2\n",
        "  y_hat = model_bv_seq[idx](y_hat)\n",
        "  print(f\"output quantlinear layer tensor bit_width: {y_hat.bit_width}\")\n",
        "  plt.hist(y_hat[0][:,0], bins= bins)\n",
        "  plt.show()\n",
        "  idx = len(model_bv_seq)-1\n",
        "  y_hat = model_bv_seq[idx](y_hat)\n",
        "  # print(f\"output activation layer tensor : {y_hat}\")\n",
        "  # print(\"Sigmoid activation\")\n",
        "  # plt.hist(y_hat.flatten(), bins= bins)\n",
        "\n",
        "  print(\"QuantSigmoid activation\")\n",
        "  print(f\"QuantSigmoid output: {y_hat[0].shape}\")\n",
        "  plt.hist(y_hat[0].flatten(), bins= bins)\n",
        "\n",
        "  plt.show()\n",
        "\n",
        "    \n",
        "  \n",
        "\n"
      ],
      "metadata": {
        "colab": {
          "base_uri": "https://localhost:8080/",
          "height": 1000
        },
        "id": "CxRL869DV_yL",
        "outputId": "f461dff9-cb5e-485f-8209-21e9b8e0fb9c"
      },
      "execution_count": null,
      "outputs": [
        {
          "output_type": "stream",
          "name": "stdout",
          "text": [
            "quantlinear layer tensor bit_width: 10.0\n"
          ]
        },
        {
          "output_type": "display_data",
          "data": {
            "text/plain": [
              "<Figure size 432x288 with 1 Axes>"
            ],
            "image/png": "[encoded data removed]"
          },
          "metadata": {
            "needs_background": "light"
          }
        },
        {
          "output_type": "stream",
          "name": "stdout",
          "text": [
            "hidden activation layer tensor bit_width: 10.0\n"
          ]
        },
        {
          "output_type": "display_data",
          "data": {
            "text/plain": [
              "<Figure size 432x288 with 1 Axes>"
            ],
            "image/png": "[encoded data removed]"
          },
          "metadata": {
            "needs_background": "light"
          }
        },
        {
          "output_type": "stream",
          "name": "stdout",
          "text": [
            "quantlinear layer tensor bit_width: 10.0\n"
          ]
        },
        {
          "output_type": "display_data",
          "data": {
            "text/plain": [
              "<Figure size 432x288 with 1 Axes>"
            ],
            "image/png": "[encoded data removed]"
          },
          "metadata": {
            "needs_background": "light"
          }
        },
        {
          "output_type": "stream",
          "name": "stdout",
          "text": [
            "hidden activation layer tensor bit_width: 10.0\n"
          ]
        },
        {
          "output_type": "display_data",
          "data": {
            "text/plain": [
              "<Figure size 432x288 with 1 Axes>"
            ],
            "image/png": "[encoded data removed]"
          },
          "metadata": {
            "needs_background": "light"
          }
        },
        {
          "output_type": "stream",
          "name": "stdout",
          "text": [
            "quantlinear layer tensor bit_width: 10.0\n"
          ]
        },
        {
          "output_type": "display_data",
          "data": {
            "text/plain": [
              "<Figure size 432x288 with 1 Axes>"
            ],
            "image/png": "[encoded data removed]"
          },
          "metadata": {
            "needs_background": "light"
          }
        },
        {
          "output_type": "stream",
          "name": "stdout",
          "text": [
            "hidden activation layer tensor bit_width: 10.0\n"
          ]
        },
        {
          "output_type": "display_data",
          "data": {
            "text/plain": [
              "<Figure size 432x288 with 1 Axes>"
            ],
            "image/png": "[encoded data removed]"
          },
          "metadata": {
            "needs_background": "light"
          }
        },
        {
          "output_type": "stream",
          "name": "stdout",
          "text": [
            "output quantlinear layer tensor bit_width: 10.0\n"
          ]
        },
        {
          "output_type": "display_data",
          "data": {
            "text/plain": [
              "<Figure size 432x288 with 1 Axes>"
            ],
            "image/png": "[encoded data removed]"
          },
          "metadata": {
            "needs_background": "light"
          }
        },
        {
          "output_type": "stream",
          "name": "stdout",
          "text": [
            "QuantSigmoid activation\n",
            "QuantSigmoid output: torch.Size([13623, 1])\n"
          ]
        },
        {
          "output_type": "display_data",
          "data": {
            "text/plain": [
              "<Figure size 432x288 with 1 Axes>"
            ],
            "image/png": "[encoded data removed]"
          },
          "metadata": {
            "needs_background": "light"
          }
        }
      ]
    },
    {
      "cell_type": "code",
      "source": [
        "\"\"\"\n",
        "IMPORTANT\n",
        "save the model to layer load it in a normal sequential for hls4ml\n",
        "\"\"\"\n",
        "save_path = \"./model.pt\"\n",
        "torch.save(model_bv_seq.state_dict(), save_path)\n"
      ],
      "metadata": {
        "colab": {
          "base_uri": "https://localhost:8080/"
        },
        "id": "_l3wdYIIlcMs",
        "outputId": "6545c0b2-e0e3-43c3-c11d-f4a7bfae3ad6"
      },
      "execution_count": null,
      "outputs": [
        {
          "output_type": "stream",
          "name": "stderr",
          "text": [
            "/usr/local/lib/python3.7/dist-packages/torch/nn/modules/module.py:1366: UserWarning: Positional args are being deprecated, use kwargs instead. Refer to https://pytorch.org/docs/master/generated/torch.nn.Module.html#torch.nn.Module.state_dict for details.\n",
            "  \"Positional args are being deprecated, use kwargs instead. Refer to \"\n"
          ]
        }
      ]
    },
    {
      "cell_type": "code",
      "source": [
        "# print(model_bv_seq)"
      ],
      "metadata": {
        "id": "-opcfJDFG1zw"
      },
      "execution_count": null,
      "outputs": []
    },
    {
      "cell_type": "code",
      "source": [
        "\"\"\"\n",
        "define and initialize the torch model for hls4ml conversion.\n",
        "Pls note that nn.Sigmoid() is commented out as that is not supported by hls4ml\n",
        "\"\"\"\n",
        "import copy\n",
        "from collections import OrderedDict\n",
        "\n",
        "input_dim = 30\n",
        "weight_precision = 8 # 8\n",
        "# mlp_dims = [30 , 64, 32, 32]\n",
        "mlp_dims = [30 , 16, 8, 8]\n",
        "mlp_blocks = [nn.BatchNorm1d(input_dim)]\n",
        "# mlp_blocks = []\n",
        "for idx in range(len(mlp_dims)-1):\n",
        "  # print(mlp_dims[idx + 1])\n",
        "  mlp_blocks.append(nn.Linear(\n",
        "                  int(mlp_dims[idx]), \n",
        "                  int(mlp_dims[idx + 1]),\n",
        "                  bias=True\n",
        "                  )\n",
        "                  \n",
        "  )\n",
        "  mlp_blocks.append(\n",
        "      nn.ReLU()\n",
        "  )\n",
        "# add last layer\n",
        "mlp_blocks.append(nn.Linear(\n",
        "                  mlp_dims[len(mlp_dims)-1], \n",
        "                  1,\n",
        "                  bias=True,\n",
        "                  )\n",
        "  )\n",
        "# mlp_blocks.append(nn.Sigmoid())\n",
        "torch_model = nn.Sequential(*mlp_blocks)\n",
        "print(f\"torch model: {torch_model}\")\n",
        "\n",
        "state_dict = torch.load(save_path)\n",
        "state_dict_copy = copy.deepcopy(state_dict)\n",
        "for key, value in state_dict.items():\n",
        "  # print(f\"key: {key}\")\n",
        "\n",
        "  if \"quant\" in key:\n",
        "    # print(f\"key: {key}\")\n",
        "    del state_dict_copy[key]\n",
        "# print(f\"new state dict without quantization keys: {state_dict_copy}\")\n",
        "torch_model.load_state_dict(state_dict_copy)\n",
        "\n",
        "# state_dict_copy_copy = OrderedDict()\n",
        "\n",
        "# for key, value in state_dict_copy.items():\n",
        "#   idx = int(key[0])-1\n",
        "#   new_key =  str(idx) + key[1:]\n",
        "#   print(f\"new_key: {new_key}\")\n",
        "#   state_dict_copy_copy[new_key] = value\n",
        "\n",
        "# torch_model.load_state_dict(state_dict_copy_copy)\n",
        "print(f\"torch model: {torch_model}\")"
      ],
      "metadata": {
        "colab": {
          "base_uri": "https://localhost:8080/"
        },
        "id": "Tf80x0-YplnR",
        "outputId": "f62b69d4-6869-4bf2-c726-73925136931e"
      },
      "execution_count": null,
      "outputs": [
        {
          "output_type": "stream",
          "name": "stdout",
          "text": [
            "torch model: Sequential(\n",
            "  (0): BatchNorm1d(30, eps=1e-05, momentum=0.1, affine=True, track_running_stats=True)\n",
            "  (1): Linear(in_features=30, out_features=16, bias=True)\n",
            "  (2): ReLU()\n",
            "  (3): Linear(in_features=16, out_features=8, bias=True)\n",
            "  (4): ReLU()\n",
            "  (5): Linear(in_features=8, out_features=8, bias=True)\n",
            "  (6): ReLU()\n",
            "  (7): Linear(in_features=8, out_features=1, bias=True)\n",
            ")\n",
            "torch model: Sequential(\n",
            "  (0): BatchNorm1d(30, eps=1e-05, momentum=0.1, affine=True, track_running_stats=True)\n",
            "  (1): Linear(in_features=30, out_features=16, bias=True)\n",
            "  (2): ReLU()\n",
            "  (3): Linear(in_features=16, out_features=8, bias=True)\n",
            "  (4): ReLU()\n",
            "  (5): Linear(in_features=8, out_features=8, bias=True)\n",
            "  (6): ReLU()\n",
            "  (7): Linear(in_features=8, out_features=1, bias=True)\n",
            ")\n"
          ]
        }
      ]
    },
    {
      "cell_type": "code",
      "source": [
        "\"\"\"\n",
        "check if torch hls conversion is good\n",
        "\"\"\"\n",
        "import hls4ml \n",
        "from sklearn.metrics import mean_squared_error\n",
        "\n",
        "int_bit = target_int_bitwidth \n",
        "fract_bit = target_fract_bitwidth\n",
        "total_bit = int_bit + fract_bit\n",
        "ap_fixed_config = f\"ap_fixed<{total_bit},{int_bit}>\"\n",
        "print(f\"cut_down_model: {torch_model[1:]}\")\n",
        "config = hls4ml.utils.config_from_pytorch_model(torch_model[1:],\n",
        "                                    default_precision=ap_fixed_config,\n",
        "                                    granularity='model'\n",
        ")\n",
        "print(f\"config: {config}\")\n",
        "hls_model = hls4ml.converters.convert_from_pytorch_model(torch_model[1:],\n",
        "                                                    hls_config=config,\n",
        "                                                    output_dir='model_1/hls4ml_prj',\n",
        "                                                    part='xcu250-figd2104-2L-e',\n",
        "                                                    input_shape = (100,30) # 100 here is irrelevant\n",
        ")\n",
        "hls_model.compile()\n",
        "torch_model.eval()\n",
        "with torch.no_grad():\n",
        "  print(f\"X_test b4: {X_test.shape}\")\n",
        "  batchnorm = torch_model[0]\n",
        "  norm_out = batchnorm(X_test)\n",
        "  print(f\"norm_out after: {norm_out.shape}\")\n",
        "  X_hls_test = np.ascontiguousarray(norm_out)\n",
        "  Y_hat_hls = torch.sigmoid(torch.from_numpy(hls_model.predict(X_hls_test)))\n",
        "\n",
        "torch_model.eval()\n",
        "with torch.no_grad():\n",
        "  Y_hat_torch = torch.sigmoid(torch_model(X_test))\n",
        "MSE = mean_squared_error(Y_hat_torch.cpu().numpy(), Y_hat_hls.cpu().numpy())\n",
        "print(f\"MSE torch vs hls test output: {MSE}\")\n",
        "\n",
        "fpr, tpr, _ = metrics.roc_curve(Y_test,  Y_hat_hls.cpu().numpy())\n",
        "auc = metrics.roc_auc_score(Y_test, Y_hat_hls.cpu().numpy())\n",
        "  \n",
        "\n",
        "#create ROC curve\n",
        "plt.plot(fpr,tpr,label=\"AUC=\"+str(auc))\n",
        "plt.ylabel('True Positive Rate')\n",
        "plt.xlabel('False Positive Rate')\n",
        "plt.title(\"torch model from trained bv model parameters\")\n",
        "plt.legend(loc=4)\n",
        "plt.show()"
      ],
      "metadata": {
        "colab": {
          "base_uri": "https://localhost:8080/",
          "height": 747
        },
        "id": "2hqrusGN9hZw",
        "outputId": "19ef2037-247b-4199-f662-541c0df400d6"
      },
      "execution_count": null,
      "outputs": [
        {
          "output_type": "stream",
          "name": "stdout",
          "text": [
            "cut_down_model: Sequential(\n",
            "  (1): Linear(in_features=30, out_features=16, bias=True)\n",
            "  (2): ReLU()\n",
            "  (3): Linear(in_features=16, out_features=8, bias=True)\n",
            "  (4): ReLU()\n",
            "  (5): Linear(in_features=8, out_features=8, bias=True)\n",
            "  (6): ReLU()\n",
            "  (7): Linear(in_features=8, out_features=1, bias=True)\n",
            ")\n",
            "config: {'Model': {'Precision': 'ap_fixed<10,4>', 'ReuseFactor': 1, 'Strategy': 'Latency'}}\n",
            "Interpreting Model ...\n",
            "Topology:\n",
            "Input Shape:  [[100, 30]]\n",
            "Layer name: 1, layer type: Dense, input shape: [[100, 30]]\n",
            "Layer name: 2, layer type: Activation, input shape: [[100, 16]]\n",
            "Layer name: 3, layer type: Dense, input shape: [[100, 16]]\n",
            "Layer name: 4, layer type: Activation, input shape: [[100, 8]]\n",
            "Layer name: 5, layer type: Dense, input shape: [[100, 8]]\n",
            "Layer name: 6, layer type: Activation, input shape: [[100, 8]]\n",
            "Layer name: 7, layer type: Dense, input shape: [[100, 8]]\n",
            "Creating HLS model\n",
            "Writing HLS project\n",
            "Done\n",
            "X_test b4: torch.Size([13623, 30])\n",
            "norm_out after: torch.Size([13623, 30])\n",
            "MSE torch vs hls test output: 0.004467072430998087\n"
          ]
        },
        {
          "output_type": "display_data",
          "data": {
            "text/plain": [
              "<Figure size 432x288 with 1 Axes>"
            ],
            "image/png": "[encoded data removed]"
          },
          "metadata": {
            "needs_background": "light"
          }
        }
      ]
    },
    {
      "cell_type": "code",
      "source": [
        "# print(torch_model[1:])"
      ],
      "metadata": {
        "colab": {
          "base_uri": "https://localhost:8080/"
        },
        "id": "_VpWbygZI4JS",
        "outputId": "3c9c9bbe-1989-41c2-cf44-28bbb3e0f357"
      },
      "execution_count": null,
      "outputs": [
        {
          "output_type": "stream",
          "name": "stdout",
          "text": [
            "Sequential(\n",
            "  (1): ReLU()\n",
            "  (2): Linear(in_features=16, out_features=8, bias=True)\n",
            "  (3): ReLU()\n",
            "  (4): Linear(in_features=8, out_features=8, bias=True)\n",
            "  (5): ReLU()\n",
            "  (6): Linear(in_features=8, out_features=1, bias=True)\n",
            ")\n"
          ]
        }
      ]
    },
    {
      "cell_type": "markdown",
      "source": [
        "#Now try qnn batchnorm1d"
      ],
      "metadata": {
        "id": "24AjEPVONLMG"
      }
    },
    {
      "cell_type": "code",
      "source": [
        "target_int_bitwidth = 8\n",
        "target_fract_bitwidth = 10\n",
        "\n",
        "target_bitwidth, target_scale_factor, target_zero_point = ConvAp_FixedToUAQ(target_int_bitwidth, target_fract_bitwidth)"
      ],
      "metadata": {
        "id": "sa5u0s1jUaEC"
      },
      "execution_count": null,
      "outputs": []
    },
    {
      "cell_type": "code",
      "source": [
        "import brevitas.nn as qnn\n",
        "from brevitas.core.quant import QuantType\n",
        "from brevitas.quant.scaled_int import Int8ActPerTensorFloat, Int8WeightPerTensorFloat\n",
        "from brevitas.quant.shifted_scaled_int import ShiftedUint8ActPerTensorFloat\n",
        "import brevitas.quant.fixed_point as fp\n",
        "\"\"\"\n",
        "NOTE: try quantizing the input data and \n",
        "see if there's big changes\n",
        "\"\"\"\n",
        "\n",
        "input_dim = 30\n",
        "# mlp_dims = [30 , 64, 32, 32]\n",
        "mlp_dims = [30 , 16, 8, 8]\n",
        "# mlp_dims = [30 , 128, 64, 64]\n",
        "mlp_blocks = []\n",
        "quant_batchnorm = qnn.BatchNorm1dToQuantScaleBias(\n",
        "                  num_features=input_dim,\n",
        "                  weight_quant=IntCustomWeightPerTensorFixedPoint,\n",
        "                  bias_quant=IntCustomBiasPerTensorFixedPointInternalScaling,\n",
        "                  input_quant= IntCustomActPerTensorFixedPoint,\n",
        "                  output_quant= IntCustomActPerTensorFixedPoint,\n",
        "                  return_quant_tensor=True\n",
        ")  \n",
        "# quant_batchnorm.runtime_shape = (1,30)\n",
        "\n",
        "mlp_blocks.append(quant_batchnorm\n",
        ")\n",
        "for idx in range(len(mlp_dims)-1):\n",
        "  # print(mlp_dims[idx + 1])\n",
        "  mlp_blocks.append(qnn.QuantLinear(\n",
        "                  int(mlp_dims[idx]), \n",
        "                  int(mlp_dims[idx + 1]),\n",
        "                  bias=True,\n",
        "                  weight_quant=IntCustomWeightPerTensorFixedPoint,\n",
        "                  bias_quant=IntCustomBiasPerTensorFixedPointInternalScaling,\n",
        "                  input_quant= IntCustomActPerTensorFixedPoint,\n",
        "                  output_quant= IntCustomActPerTensorFixedPoint,\n",
        "                  return_quant_tensor=True\n",
        "                  )  \n",
        "  )\n",
        "  \n",
        "  mlp_blocks.append(\n",
        "      qnn.QuantReLU(\n",
        "          act_quant=IntCustomActPerTensorFixedPoint,\n",
        "          return_quant_tensor=True\n",
        "      )\n",
        "  )\n",
        "# add last layer\n",
        "mlp_blocks.append(qnn.QuantLinear(\n",
        "                  mlp_dims[len(mlp_dims)-1], \n",
        "                  1,\n",
        "                  bias=True,\n",
        "                  weight_quant=IntCustomWeightPerTensorFixedPoint,\n",
        "                  bias_quant=IntCustomBiasPerTensorFixedPointInternalScaling,\n",
        "                  input_quant= IntCustomActPerTensorFixedPoint,\n",
        "                  output_quant= IntCustomActPerTensorFixedPoint,\n",
        "                  return_quant_tensor=True\n",
        "                  )\n",
        ")\n",
        "mlp_blocks.append(\n",
        "      qnn.QuantSigmoid(\n",
        "          act_quant=IntCustomActPerTensorFixedPoint,\n",
        "          return_quant_tensor=True\n",
        "      )\n",
        ")\n",
        "model_bv_seq = nn.Sequential(*mlp_blocks)\n",
        "\n"
      ],
      "metadata": {
        "id": "Ke15hoOUNE63"
      },
      "execution_count": null,
      "outputs": []
    },
    {
      "cell_type": "code",
      "source": [
        "\"\"\"\n",
        "Training phase\n",
        "\"\"\"\n",
        "import torch.nn.functional as F\n",
        "\n",
        "model_bv_seq.train() # put model in train mode (for batchnormalization)\n",
        "optimizer = torch.optim.AdamW(model_bv_seq.parameters(), lr=1e-3)\n",
        "i = 0\n",
        "for x, y in train_dataloader:\n",
        "  # print(x.shape)\n",
        "  # print(model_bv_seq[0](x).shape)\n",
        "  # print(model_bv_seq[0].runtime_shape)\n",
        "  loss = F.binary_cross_entropy(model_bv_seq(x), y)\n",
        "  i +=1\n",
        "  # if i > 100:\n",
        "  #   break\n",
        "\n",
        "  optimizer.zero_grad() # this deletes all previous grad calculations. very important\n",
        "  loss.backward() # calculates the gradients\n",
        "  optimizer.step() # applies backpropagation\n",
        "  "
      ],
      "metadata": {
        "colab": {
          "base_uri": "https://localhost:8080/",
          "height": 399
        },
        "id": "ocsp9v9DOg6M",
        "outputId": "b8dadd5f-d953-43bb-d85b-158b7bbae503"
      },
      "execution_count": null,
      "outputs": [
        {
          "output_type": "error",
          "ename": "ValueError",
          "evalue": "ignored",
          "traceback": [
            "\u001b[0;31m---------------------------------------------------------------------------\u001b[0m",
            "\u001b[0;31mValueError\u001b[0m                                Traceback (most recent call last)",
            "\u001b[0;32m<ipython-input-165-cdb65666ecd6>\u001b[0m in \u001b[0;36m<module>\u001b[0;34m\u001b[0m\n\u001b[1;32m     11\u001b[0m   \u001b[0;31m# print(model_bv_seq[0](x).shape)\u001b[0m\u001b[0;34m\u001b[0m\u001b[0;34m\u001b[0m\u001b[0;34m\u001b[0m\u001b[0m\n\u001b[1;32m     12\u001b[0m   \u001b[0;31m# print(model_bv_seq[0].runtime_shape)\u001b[0m\u001b[0;34m\u001b[0m\u001b[0;34m\u001b[0m\u001b[0;34m\u001b[0m\u001b[0m\n\u001b[0;32m---> 13\u001b[0;31m   \u001b[0mloss\u001b[0m \u001b[0;34m=\u001b[0m \u001b[0mF\u001b[0m\u001b[0;34m.\u001b[0m\u001b[0mbinary_cross_entropy\u001b[0m\u001b[0;34m(\u001b[0m\u001b[0mmodel_bv_seq\u001b[0m\u001b[0;34m(\u001b[0m\u001b[0mx\u001b[0m\u001b[0;34m)\u001b[0m\u001b[0;34m,\u001b[0m \u001b[0my\u001b[0m\u001b[0;34m)\u001b[0m\u001b[0;34m\u001b[0m\u001b[0;34m\u001b[0m\u001b[0m\n\u001b[0m\u001b[1;32m     14\u001b[0m   \u001b[0mi\u001b[0m \u001b[0;34m+=\u001b[0m\u001b[0;36m1\u001b[0m\u001b[0;34m\u001b[0m\u001b[0;34m\u001b[0m\u001b[0m\n\u001b[1;32m     15\u001b[0m   \u001b[0;31m# if i > 100:\u001b[0m\u001b[0;34m\u001b[0m\u001b[0;34m\u001b[0m\u001b[0;34m\u001b[0m\u001b[0m\n",
            "\u001b[0;32m/usr/local/lib/python3.7/dist-packages/torch/nn/functional.py\u001b[0m in \u001b[0;36mbinary_cross_entropy\u001b[0;34m(input, target, weight, size_average, reduce, reduction)\u001b[0m\n\u001b[1;32m   3065\u001b[0m             \u001b[0msize_average\u001b[0m\u001b[0;34m=\u001b[0m\u001b[0msize_average\u001b[0m\u001b[0;34m,\u001b[0m\u001b[0;34m\u001b[0m\u001b[0;34m\u001b[0m\u001b[0m\n\u001b[1;32m   3066\u001b[0m             \u001b[0mreduce\u001b[0m\u001b[0;34m=\u001b[0m\u001b[0mreduce\u001b[0m\u001b[0;34m,\u001b[0m\u001b[0;34m\u001b[0m\u001b[0;34m\u001b[0m\u001b[0m\n\u001b[0;32m-> 3067\u001b[0;31m             \u001b[0mreduction\u001b[0m\u001b[0;34m=\u001b[0m\u001b[0mreduction\u001b[0m\u001b[0;34m,\u001b[0m\u001b[0;34m\u001b[0m\u001b[0;34m\u001b[0m\u001b[0m\n\u001b[0m\u001b[1;32m   3068\u001b[0m         )\n\u001b[1;32m   3069\u001b[0m     \u001b[0;32mif\u001b[0m \u001b[0msize_average\u001b[0m \u001b[0;32mis\u001b[0m \u001b[0;32mnot\u001b[0m \u001b[0;32mNone\u001b[0m \u001b[0;32mor\u001b[0m \u001b[0mreduce\u001b[0m \u001b[0;32mis\u001b[0m \u001b[0;32mnot\u001b[0m \u001b[0;32mNone\u001b[0m\u001b[0;34m:\u001b[0m\u001b[0;34m\u001b[0m\u001b[0;34m\u001b[0m\u001b[0m\n",
            "\u001b[0;32m/usr/local/lib/python3.7/dist-packages/torch/overrides.py\u001b[0m in \u001b[0;36mhandle_torch_function\u001b[0;34m(public_api, relevant_args, *args, **kwargs)\u001b[0m\n\u001b[1;32m   1496\u001b[0m         \u001b[0;31m# Use `public_api` instead of `implementation` so __torch_function__\u001b[0m\u001b[0;34m\u001b[0m\u001b[0;34m\u001b[0m\u001b[0;34m\u001b[0m\u001b[0m\n\u001b[1;32m   1497\u001b[0m         \u001b[0;31m# implementations can do equality/identity comparisons.\u001b[0m\u001b[0;34m\u001b[0m\u001b[0;34m\u001b[0m\u001b[0;34m\u001b[0m\u001b[0m\n\u001b[0;32m-> 1498\u001b[0;31m         \u001b[0mresult\u001b[0m \u001b[0;34m=\u001b[0m \u001b[0mtorch_func_method\u001b[0m\u001b[0;34m(\u001b[0m\u001b[0mpublic_api\u001b[0m\u001b[0;34m,\u001b[0m \u001b[0mtypes\u001b[0m\u001b[0;34m,\u001b[0m \u001b[0margs\u001b[0m\u001b[0;34m,\u001b[0m \u001b[0mkwargs\u001b[0m\u001b[0;34m)\u001b[0m\u001b[0;34m\u001b[0m\u001b[0;34m\u001b[0m\u001b[0m\n\u001b[0m\u001b[1;32m   1499\u001b[0m \u001b[0;34m\u001b[0m\u001b[0m\n\u001b[1;32m   1500\u001b[0m         \u001b[0;32mif\u001b[0m \u001b[0mresult\u001b[0m \u001b[0;32mis\u001b[0m \u001b[0;32mnot\u001b[0m \u001b[0mNotImplemented\u001b[0m\u001b[0;34m:\u001b[0m\u001b[0;34m\u001b[0m\u001b[0;34m\u001b[0m\u001b[0m\n",
            "\u001b[0;32m/usr/local/lib/python3.7/dist-packages/brevitas/quant_tensor/__init__.py\u001b[0m in \u001b[0;36m__torch_function__\u001b[0;34m(self, func, types, args, kwargs)\u001b[0m\n\u001b[1;32m    121\u001b[0m             \u001b[0margs\u001b[0m \u001b[0;34m=\u001b[0m \u001b[0m_unpack_quant_tensor\u001b[0m\u001b[0;34m(\u001b[0m\u001b[0margs\u001b[0m\u001b[0;34m)\u001b[0m\u001b[0;34m\u001b[0m\u001b[0;34m\u001b[0m\u001b[0m\n\u001b[1;32m    122\u001b[0m             \u001b[0mkwargs\u001b[0m \u001b[0;34m=\u001b[0m \u001b[0m_unpack_quant_tensor\u001b[0m\u001b[0;34m(\u001b[0m\u001b[0mkwargs\u001b[0m\u001b[0;34m)\u001b[0m\u001b[0;34m\u001b[0m\u001b[0;34m\u001b[0m\u001b[0m\n\u001b[0;32m--> 123\u001b[0;31m             \u001b[0;32mreturn\u001b[0m \u001b[0mfunc\u001b[0m\u001b[0;34m(\u001b[0m\u001b[0;34m*\u001b[0m\u001b[0margs\u001b[0m\u001b[0;34m,\u001b[0m \u001b[0;34m**\u001b[0m\u001b[0mkwargs\u001b[0m\u001b[0;34m)\u001b[0m\u001b[0;34m\u001b[0m\u001b[0;34m\u001b[0m\u001b[0m\n\u001b[0m\u001b[1;32m    124\u001b[0m         \u001b[0;32mreturn\u001b[0m \u001b[0mQUANT_TENSOR_FN_HANDLER\u001b[0m\u001b[0;34m[\u001b[0m\u001b[0mfunc\u001b[0m\u001b[0;34m]\u001b[0m\u001b[0;34m(\u001b[0m\u001b[0;34m*\u001b[0m\u001b[0margs\u001b[0m\u001b[0;34m,\u001b[0m \u001b[0;34m**\u001b[0m\u001b[0mkwargs\u001b[0m\u001b[0;34m)\u001b[0m\u001b[0;34m\u001b[0m\u001b[0;34m\u001b[0m\u001b[0m\n\u001b[1;32m    125\u001b[0m \u001b[0;34m\u001b[0m\u001b[0m\n",
            "\u001b[0;32m/usr/local/lib/python3.7/dist-packages/torch/nn/functional.py\u001b[0m in \u001b[0;36mbinary_cross_entropy\u001b[0;34m(input, target, weight, size_average, reduce, reduction)\u001b[0m\n\u001b[1;32m   3074\u001b[0m         raise ValueError(\n\u001b[1;32m   3075\u001b[0m             \u001b[0;34m\"Using a target size ({}) that is different to the input size ({}) is deprecated. \"\u001b[0m\u001b[0;34m\u001b[0m\u001b[0;34m\u001b[0m\u001b[0m\n\u001b[0;32m-> 3076\u001b[0;31m             \u001b[0;34m\"Please ensure they have the same size.\"\u001b[0m\u001b[0;34m.\u001b[0m\u001b[0mformat\u001b[0m\u001b[0;34m(\u001b[0m\u001b[0mtarget\u001b[0m\u001b[0;34m.\u001b[0m\u001b[0msize\u001b[0m\u001b[0;34m(\u001b[0m\u001b[0;34m)\u001b[0m\u001b[0;34m,\u001b[0m \u001b[0minput\u001b[0m\u001b[0;34m.\u001b[0m\u001b[0msize\u001b[0m\u001b[0;34m(\u001b[0m\u001b[0;34m)\u001b[0m\u001b[0;34m)\u001b[0m\u001b[0;34m\u001b[0m\u001b[0;34m\u001b[0m\u001b[0m\n\u001b[0m\u001b[1;32m   3077\u001b[0m         )\n\u001b[1;32m   3078\u001b[0m \u001b[0;34m\u001b[0m\u001b[0m\n",
            "\u001b[0;31mValueError\u001b[0m: Using a target size (torch.Size([64, 1])) that is different to the input size (torch.Size([1, 30, 64, 1])) is deprecated. Please ensure they have the same size."
          ]
        }
      ]
    },
    {
      "cell_type": "code",
      "source": [
        "\"\"\"\n",
        "Testing phase\n",
        "\"\"\"\n",
        "from sklearn import metrics\n",
        "import matplotlib.pyplot as plt\n",
        "\n",
        "model_bv_seq.eval() # put model in eval mode \n",
        "with torch.no_grad():\n",
        "  Y_hat = model_bv_seq(X_test)[0]\n",
        "  fpr, tpr, _ = metrics.roc_curve(Y_test,  Y_hat)\n",
        "  auc = metrics.roc_auc_score(Y_test, Y_hat)\n",
        "  \n",
        "\n",
        "#create ROC curve\n",
        "plt.plot(fpr,tpr,label=\"AUC=\"+str(auc))\n",
        "plt.ylabel('True Positive Rate')\n",
        "plt.xlabel('False Positive Rate')\n",
        "plt.title(\"bv model after training\")\n",
        "plt.legend(loc=4)\n",
        "plt.show()\n"
      ],
      "metadata": {
        "colab": {
          "base_uri": "https://localhost:8080/",
          "height": 295
        },
        "id": "AmqZ36UgO3tK",
        "outputId": "e7f38568-8036-437e-e4a2-0379fe7f29d5"
      },
      "execution_count": null,
      "outputs": [
        {
          "output_type": "display_data",
          "data": {
            "text/plain": [
              "<Figure size 432x288 with 1 Axes>"
            ],
            "image/png": "[encoded data removed]"
          },
          "metadata": {
            "needs_background": "light"
          }
        }
      ]
    },
    {
      "cell_type": "code",
      "source": [
        "input_dim = 30\n",
        "batch_dim = 64\n",
        "x = torch.rand(64,30)\n",
        "quant_batchnorm = qnn.BatchNorm1dToQuantScaleBias(\n",
        "                  num_features=input_dim,\n",
        "                  return_quant_tensor=True\n",
        ")  \n",
        "print(quant_batchnorm(x).shape)"
      ],
      "metadata": {
        "colab": {
          "base_uri": "https://localhost:8080/"
        },
        "id": "_aPQ4P0xY9Zm",
        "outputId": "3bc98e4e-9fd8-4271-c95a-8cbdd884e8eb"
      },
      "execution_count": null,
      "outputs": [
        {
          "output_type": "stream",
          "name": "stdout",
          "text": [
            "torch.Size([1, 30, 64, 30])\n"
          ]
        }
      ]
    },
    {
      "cell_type": "markdown",
      "source": [
        "##Extra: Post Training Quatization (PTQ) \n",
        "(currently under works)"
      ],
      "metadata": {
        "id": "dLvcqrg0uC8I"
      }
    },
    {
      "cell_type": "code",
      "source": [
        "\"\"\"\n",
        "Now doing Post Training Quantization with hls4ml to compare performance\n",
        "Parameter search over integer bits. Fractional bits frozen at 20    \n",
        "\"\"\"\n",
        "\n",
        "\n",
        "print(hls4ml.__version__)\n",
        "\n",
        "fract_bit = 14\n",
        "aurocs_int_q = []\n",
        "ap_fixed_configs_int = []\n",
        "\n",
        "for int_bit in range(2,13,1): \n",
        "    total_bit = int_bit + fract_bit\n",
        "    ap_fixed_config = f\"ap_fixed<{total_bit},{int_bit}>\"\n",
        "    config = hls4ml.utils.config_from_pytorch_model(torch_model,\n",
        "                                        default_precision=ap_fixed_config,\n",
        "                                        granularity='model'\n",
        "    )\n",
        "    print(f\"config: {config}\")\n",
        "    hls_model = hls4ml.converters.convert_from_pytorch_model(torch_model,\n",
        "                                                        hls_config=config,\n",
        "                                                        output_dir='model_1/hls4ml_prj',\n",
        "                                                        part='xcu250-figd2104-2L-e',\n",
        "                                                        input_shape = (100,30) # 100 here is irrelevant\n",
        "    )\n",
        "    hls_model.compile()\n",
        "    X_hls_test = np.ascontiguousarray(X_test)\n",
        "    Y_hat = torch.sigmoid(torch.from_numpy(hls_model.predict(X_hls_test)))\n",
        "    auc = metrics.roc_auc_score(Y_test, Y_hat.cpu().numpy())\n",
        "    aurocs_int_q.append(auc)\n",
        "    # ap_fixed_configs_int.append(f\"<{total_bit},{int_bit}>\")\n",
        "    ap_fixed_configs_int.append(int_bit)\n",
        "    "
      ],
      "metadata": {
        "colab": {
          "base_uri": "https://localhost:8080/"
        },
        "id": "-b-_zMKNsUSf",
        "outputId": "15a3a4c0-03dc-4c4f-ac89-e6de7d6de4c0"
      },
      "execution_count": null,
      "outputs": [
        {
          "output_type": "stream",
          "name": "stdout",
          "text": [
            "0.6.0\n",
            "config: {'Model': {'Precision': 'ap_fixed<16,2>', 'ReuseFactor': 1, 'Strategy': 'Latency'}}\n",
            "Interpreting Model ...\n",
            "Topology:\n",
            "Input Shape:  [[100, 30]]\n",
            "Layer name: 0, layer type: BatchNormalization, input shape: [[100, 30]]\n",
            "Layer name: 1, layer type: Dense, input shape: [[100, 30]]\n",
            "Layer name: 2, layer type: Activation, input shape: [[100, 16]]\n",
            "Layer name: 3, layer type: Dense, input shape: [[100, 16]]\n",
            "Layer name: 4, layer type: Activation, input shape: [[100, 8]]\n",
            "Layer name: 5, layer type: Dense, input shape: [[100, 8]]\n",
            "Layer name: 6, layer type: Activation, input shape: [[100, 8]]\n",
            "Layer name: 7, layer type: Dense, input shape: [[100, 8]]\n",
            "Creating HLS model\n",
            "Writing HLS project\n",
            "Done\n",
            "config: {'Model': {'Precision': 'ap_fixed<17,3>', 'ReuseFactor': 1, 'Strategy': 'Latency'}}\n",
            "Interpreting Model ...\n",
            "Topology:\n",
            "Input Shape:  [[100, 30]]\n",
            "Layer name: 0, layer type: BatchNormalization, input shape: [[100, 30]]\n",
            "Layer name: 1, layer type: Dense, input shape: [[100, 30]]\n",
            "Layer name: 2, layer type: Activation, input shape: [[100, 16]]\n",
            "Layer name: 3, layer type: Dense, input shape: [[100, 16]]\n",
            "Layer name: 4, layer type: Activation, input shape: [[100, 8]]\n",
            "Layer name: 5, layer type: Dense, input shape: [[100, 8]]\n",
            "Layer name: 6, layer type: Activation, input shape: [[100, 8]]\n",
            "Layer name: 7, layer type: Dense, input shape: [[100, 8]]\n",
            "Creating HLS model\n",
            "Writing HLS project\n",
            "Done\n",
            "config: {'Model': {'Precision': 'ap_fixed<18,4>', 'ReuseFactor': 1, 'Strategy': 'Latency'}}\n",
            "Interpreting Model ...\n",
            "Topology:\n",
            "Input Shape:  [[100, 30]]\n",
            "Layer name: 0, layer type: BatchNormalization, input shape: [[100, 30]]\n",
            "Layer name: 1, layer type: Dense, input shape: [[100, 30]]\n",
            "Layer name: 2, layer type: Activation, input shape: [[100, 16]]\n",
            "Layer name: 3, layer type: Dense, input shape: [[100, 16]]\n",
            "Layer name: 4, layer type: Activation, input shape: [[100, 8]]\n",
            "Layer name: 5, layer type: Dense, input shape: [[100, 8]]\n",
            "Layer name: 6, layer type: Activation, input shape: [[100, 8]]\n",
            "Layer name: 7, layer type: Dense, input shape: [[100, 8]]\n",
            "Creating HLS model\n",
            "Writing HLS project\n",
            "Done\n",
            "config: {'Model': {'Precision': 'ap_fixed<19,5>', 'ReuseFactor': 1, 'Strategy': 'Latency'}}\n",
            "Interpreting Model ...\n",
            "Topology:\n",
            "Input Shape:  [[100, 30]]\n",
            "Layer name: 0, layer type: BatchNormalization, input shape: [[100, 30]]\n",
            "Layer name: 1, layer type: Dense, input shape: [[100, 30]]\n",
            "Layer name: 2, layer type: Activation, input shape: [[100, 16]]\n",
            "Layer name: 3, layer type: Dense, input shape: [[100, 16]]\n",
            "Layer name: 4, layer type: Activation, input shape: [[100, 8]]\n",
            "Layer name: 5, layer type: Dense, input shape: [[100, 8]]\n",
            "Layer name: 6, layer type: Activation, input shape: [[100, 8]]\n",
            "Layer name: 7, layer type: Dense, input shape: [[100, 8]]\n",
            "Creating HLS model\n",
            "Writing HLS project\n",
            "Done\n",
            "config: {'Model': {'Precision': 'ap_fixed<20,6>', 'ReuseFactor': 1, 'Strategy': 'Latency'}}\n",
            "Interpreting Model ...\n",
            "Topology:\n",
            "Input Shape:  [[100, 30]]\n",
            "Layer name: 0, layer type: BatchNormalization, input shape: [[100, 30]]\n",
            "Layer name: 1, layer type: Dense, input shape: [[100, 30]]\n",
            "Layer name: 2, layer type: Activation, input shape: [[100, 16]]\n",
            "Layer name: 3, layer type: Dense, input shape: [[100, 16]]\n",
            "Layer name: 4, layer type: Activation, input shape: [[100, 8]]\n",
            "Layer name: 5, layer type: Dense, input shape: [[100, 8]]\n",
            "Layer name: 6, layer type: Activation, input shape: [[100, 8]]\n",
            "Layer name: 7, layer type: Dense, input shape: [[100, 8]]\n",
            "Creating HLS model\n",
            "Writing HLS project\n",
            "Done\n",
            "config: {'Model': {'Precision': 'ap_fixed<21,7>', 'ReuseFactor': 1, 'Strategy': 'Latency'}}\n",
            "Interpreting Model ...\n",
            "Topology:\n",
            "Input Shape:  [[100, 30]]\n",
            "Layer name: 0, layer type: BatchNormalization, input shape: [[100, 30]]\n",
            "Layer name: 1, layer type: Dense, input shape: [[100, 30]]\n",
            "Layer name: 2, layer type: Activation, input shape: [[100, 16]]\n",
            "Layer name: 3, layer type: Dense, input shape: [[100, 16]]\n",
            "Layer name: 4, layer type: Activation, input shape: [[100, 8]]\n",
            "Layer name: 5, layer type: Dense, input shape: [[100, 8]]\n",
            "Layer name: 6, layer type: Activation, input shape: [[100, 8]]\n",
            "Layer name: 7, layer type: Dense, input shape: [[100, 8]]\n",
            "Creating HLS model\n",
            "Writing HLS project\n",
            "Done\n",
            "config: {'Model': {'Precision': 'ap_fixed<22,8>', 'ReuseFactor': 1, 'Strategy': 'Latency'}}\n",
            "Interpreting Model ...\n",
            "Topology:\n",
            "Input Shape:  [[100, 30]]\n",
            "Layer name: 0, layer type: BatchNormalization, input shape: [[100, 30]]\n",
            "Layer name: 1, layer type: Dense, input shape: [[100, 30]]\n",
            "Layer name: 2, layer type: Activation, input shape: [[100, 16]]\n",
            "Layer name: 3, layer type: Dense, input shape: [[100, 16]]\n",
            "Layer name: 4, layer type: Activation, input shape: [[100, 8]]\n",
            "Layer name: 5, layer type: Dense, input shape: [[100, 8]]\n",
            "Layer name: 6, layer type: Activation, input shape: [[100, 8]]\n",
            "Layer name: 7, layer type: Dense, input shape: [[100, 8]]\n",
            "Creating HLS model\n",
            "Writing HLS project\n",
            "Done\n",
            "config: {'Model': {'Precision': 'ap_fixed<23,9>', 'ReuseFactor': 1, 'Strategy': 'Latency'}}\n",
            "Interpreting Model ...\n",
            "Topology:\n",
            "Input Shape:  [[100, 30]]\n",
            "Layer name: 0, layer type: BatchNormalization, input shape: [[100, 30]]\n",
            "Layer name: 1, layer type: Dense, input shape: [[100, 30]]\n",
            "Layer name: 2, layer type: Activation, input shape: [[100, 16]]\n",
            "Layer name: 3, layer type: Dense, input shape: [[100, 16]]\n",
            "Layer name: 4, layer type: Activation, input shape: [[100, 8]]\n",
            "Layer name: 5, layer type: Dense, input shape: [[100, 8]]\n",
            "Layer name: 6, layer type: Activation, input shape: [[100, 8]]\n",
            "Layer name: 7, layer type: Dense, input shape: [[100, 8]]\n",
            "Creating HLS model\n",
            "Writing HLS project\n",
            "Done\n",
            "config: {'Model': {'Precision': 'ap_fixed<24,10>', 'ReuseFactor': 1, 'Strategy': 'Latency'}}\n",
            "Interpreting Model ...\n",
            "Topology:\n",
            "Input Shape:  [[100, 30]]\n",
            "Layer name: 0, layer type: BatchNormalization, input shape: [[100, 30]]\n",
            "Layer name: 1, layer type: Dense, input shape: [[100, 30]]\n",
            "Layer name: 2, layer type: Activation, input shape: [[100, 16]]\n",
            "Layer name: 3, layer type: Dense, input shape: [[100, 16]]\n",
            "Layer name: 4, layer type: Activation, input shape: [[100, 8]]\n",
            "Layer name: 5, layer type: Dense, input shape: [[100, 8]]\n",
            "Layer name: 6, layer type: Activation, input shape: [[100, 8]]\n",
            "Layer name: 7, layer type: Dense, input shape: [[100, 8]]\n",
            "Creating HLS model\n",
            "Writing HLS project\n",
            "Done\n",
            "config: {'Model': {'Precision': 'ap_fixed<25,11>', 'ReuseFactor': 1, 'Strategy': 'Latency'}}\n",
            "Interpreting Model ...\n",
            "Topology:\n",
            "Input Shape:  [[100, 30]]\n",
            "Layer name: 0, layer type: BatchNormalization, input shape: [[100, 30]]\n",
            "Layer name: 1, layer type: Dense, input shape: [[100, 30]]\n",
            "Layer name: 2, layer type: Activation, input shape: [[100, 16]]\n",
            "Layer name: 3, layer type: Dense, input shape: [[100, 16]]\n",
            "Layer name: 4, layer type: Activation, input shape: [[100, 8]]\n",
            "Layer name: 5, layer type: Dense, input shape: [[100, 8]]\n",
            "Layer name: 6, layer type: Activation, input shape: [[100, 8]]\n",
            "Layer name: 7, layer type: Dense, input shape: [[100, 8]]\n",
            "Creating HLS model\n",
            "Writing HLS project\n",
            "Done\n",
            "config: {'Model': {'Precision': 'ap_fixed<26,12>', 'ReuseFactor': 1, 'Strategy': 'Latency'}}\n",
            "Interpreting Model ...\n",
            "Topology:\n",
            "Input Shape:  [[100, 30]]\n",
            "Layer name: 0, layer type: BatchNormalization, input shape: [[100, 30]]\n",
            "Layer name: 1, layer type: Dense, input shape: [[100, 30]]\n",
            "Layer name: 2, layer type: Activation, input shape: [[100, 16]]\n",
            "Layer name: 3, layer type: Dense, input shape: [[100, 16]]\n",
            "Layer name: 4, layer type: Activation, input shape: [[100, 8]]\n",
            "Layer name: 5, layer type: Dense, input shape: [[100, 8]]\n",
            "Layer name: 6, layer type: Activation, input shape: [[100, 8]]\n",
            "Layer name: 7, layer type: Dense, input shape: [[100, 8]]\n",
            "Creating HLS model\n",
            "Writing HLS project\n",
            "Done\n"
          ]
        }
      ]
    },
    {
      "cell_type": "code",
      "source": [
        "plt.scatter(ap_fixed_configs_int, aurocs_int_q)\n",
        "plt.title(f\"int bitwidth search with fract_bit frozen at:{fract_bit}\")\n",
        "plt.show()"
      ],
      "metadata": {
        "colab": {
          "base_uri": "https://localhost:8080/",
          "height": 281
        },
        "id": "wrtCo93y3J7j",
        "outputId": "c342e561-0235-4ee4-a472-79ec1f11080a"
      },
      "execution_count": null,
      "outputs": [
        {
          "output_type": "display_data",
          "data": {
            "text/plain": [
              "<Figure size 432x288 with 1 Axes>"
            ],
            "image/png": "[encoded data removed]"
          },
          "metadata": {
            "needs_background": "light"
          }
        }
      ]
    },
    {
      "cell_type": "code",
      "source": [
        "\"\"\"\n",
        "Parameter search over fractional bits. Integer bits frozen at 11   \n",
        "\"\"\"\n",
        "int_bit = 11\n",
        "aurocs_fract_q = []\n",
        "ap_fixed_configs_fract = []\n",
        "\n",
        "for fract_bit in range(2,32,2):\n",
        "    total_bit = int_bit + fract_bit\n",
        "    ap_fixed_config = f\"ap_fixed<{total_bit},{int_bit}>\"\n",
        "    config = hls4ml.utils.config_from_pytorch_model(torch_model,\n",
        "                                        default_precision=ap_fixed_config,\n",
        "                                        granularity='model'\n",
        "    )\n",
        "    print(f\"config: {config}\")\n",
        "    hls_model = hls4ml.converters.convert_from_pytorch_model(torch_model,\n",
        "                                                        hls_config=config,\n",
        "                                                        output_dir='model_1/hls4ml_prj',\n",
        "                                                        part='xcu250-figd2104-2L-e',\n",
        "                                                        input_shape = (100,30) # 100 here is irrelevant\n",
        "    )\n",
        "    hls_model.compile()\n",
        "    X_hls_test = np.ascontiguousarray(X_test)\n",
        "    auc = metrics.roc_auc_score(Y_test, hls_model.predict(X_hls_test))\n",
        "    aurocs_fract_q.append(auc)\n",
        "    # ap_fixed_configs_fract.append(f\"<{total_bit},{int_bit}>\")\n",
        "    ap_fixed_configs_fract.append(fract_bit)\n",
        "    \n"
      ],
      "metadata": {
        "colab": {
          "base_uri": "https://localhost:8080/"
        },
        "id": "JsPiHg7h3wsw",
        "outputId": "9224a8d5-a56b-4f62-ec42-432cd30e7ae4"
      },
      "execution_count": null,
      "outputs": [
        {
          "output_type": "stream",
          "name": "stdout",
          "text": [
            "config: {'Model': {'Precision': 'ap_fixed<13,11>', 'ReuseFactor': 1, 'Strategy': 'Latency'}}\n",
            "Interpreting Model ...\n",
            "Topology:\n",
            "Input Shape:  [[100, 30]]\n",
            "Layer name: 0, layer type: BatchNormalization, input shape: [[100, 30]]\n",
            "Layer name: 1, layer type: Dense, input shape: [[100, 30]]\n",
            "Layer name: 2, layer type: Activation, input shape: [[100, 16]]\n",
            "Layer name: 3, layer type: Dense, input shape: [[100, 16]]\n",
            "Layer name: 4, layer type: Activation, input shape: [[100, 8]]\n",
            "Layer name: 5, layer type: Dense, input shape: [[100, 8]]\n",
            "Layer name: 6, layer type: Activation, input shape: [[100, 8]]\n",
            "Layer name: 7, layer type: Dense, input shape: [[100, 8]]\n",
            "Creating HLS model\n",
            "Writing HLS project\n",
            "Done\n",
            "config: {'Model': {'Precision': 'ap_fixed<15,11>', 'ReuseFactor': 1, 'Strategy': 'Latency'}}\n",
            "Interpreting Model ...\n",
            "Topology:\n",
            "Input Shape:  [[100, 30]]\n",
            "Layer name: 0, layer type: BatchNormalization, input shape: [[100, 30]]\n",
            "Layer name: 1, layer type: Dense, input shape: [[100, 30]]\n",
            "Layer name: 2, layer type: Activation, input shape: [[100, 16]]\n",
            "Layer name: 3, layer type: Dense, input shape: [[100, 16]]\n",
            "Layer name: 4, layer type: Activation, input shape: [[100, 8]]\n",
            "Layer name: 5, layer type: Dense, input shape: [[100, 8]]\n",
            "Layer name: 6, layer type: Activation, input shape: [[100, 8]]\n",
            "Layer name: 7, layer type: Dense, input shape: [[100, 8]]\n",
            "Creating HLS model\n",
            "Writing HLS project\n",
            "Done\n",
            "config: {'Model': {'Precision': 'ap_fixed<17,11>', 'ReuseFactor': 1, 'Strategy': 'Latency'}}\n",
            "Interpreting Model ...\n",
            "Topology:\n",
            "Input Shape:  [[100, 30]]\n",
            "Layer name: 0, layer type: BatchNormalization, input shape: [[100, 30]]\n",
            "Layer name: 1, layer type: Dense, input shape: [[100, 30]]\n",
            "Layer name: 2, layer type: Activation, input shape: [[100, 16]]\n",
            "Layer name: 3, layer type: Dense, input shape: [[100, 16]]\n",
            "Layer name: 4, layer type: Activation, input shape: [[100, 8]]\n",
            "Layer name: 5, layer type: Dense, input shape: [[100, 8]]\n",
            "Layer name: 6, layer type: Activation, input shape: [[100, 8]]\n",
            "Layer name: 7, layer type: Dense, input shape: [[100, 8]]\n",
            "Creating HLS model\n",
            "Writing HLS project\n",
            "Done\n",
            "config: {'Model': {'Precision': 'ap_fixed<19,11>', 'ReuseFactor': 1, 'Strategy': 'Latency'}}\n",
            "Interpreting Model ...\n",
            "Topology:\n",
            "Input Shape:  [[100, 30]]\n",
            "Layer name: 0, layer type: BatchNormalization, input shape: [[100, 30]]\n",
            "Layer name: 1, layer type: Dense, input shape: [[100, 30]]\n",
            "Layer name: 2, layer type: Activation, input shape: [[100, 16]]\n",
            "Layer name: 3, layer type: Dense, input shape: [[100, 16]]\n",
            "Layer name: 4, layer type: Activation, input shape: [[100, 8]]\n",
            "Layer name: 5, layer type: Dense, input shape: [[100, 8]]\n",
            "Layer name: 6, layer type: Activation, input shape: [[100, 8]]\n",
            "Layer name: 7, layer type: Dense, input shape: [[100, 8]]\n",
            "Creating HLS model\n",
            "Writing HLS project\n",
            "Done\n",
            "config: {'Model': {'Precision': 'ap_fixed<21,11>', 'ReuseFactor': 1, 'Strategy': 'Latency'}}\n",
            "Interpreting Model ...\n",
            "Topology:\n",
            "Input Shape:  [[100, 30]]\n",
            "Layer name: 0, layer type: BatchNormalization, input shape: [[100, 30]]\n",
            "Layer name: 1, layer type: Dense, input shape: [[100, 30]]\n",
            "Layer name: 2, layer type: Activation, input shape: [[100, 16]]\n",
            "Layer name: 3, layer type: Dense, input shape: [[100, 16]]\n",
            "Layer name: 4, layer type: Activation, input shape: [[100, 8]]\n",
            "Layer name: 5, layer type: Dense, input shape: [[100, 8]]\n",
            "Layer name: 6, layer type: Activation, input shape: [[100, 8]]\n",
            "Layer name: 7, layer type: Dense, input shape: [[100, 8]]\n",
            "Creating HLS model\n",
            "Writing HLS project\n",
            "Done\n",
            "config: {'Model': {'Precision': 'ap_fixed<23,11>', 'ReuseFactor': 1, 'Strategy': 'Latency'}}\n",
            "Interpreting Model ...\n",
            "Topology:\n",
            "Input Shape:  [[100, 30]]\n",
            "Layer name: 0, layer type: BatchNormalization, input shape: [[100, 30]]\n",
            "Layer name: 1, layer type: Dense, input shape: [[100, 30]]\n",
            "Layer name: 2, layer type: Activation, input shape: [[100, 16]]\n",
            "Layer name: 3, layer type: Dense, input shape: [[100, 16]]\n",
            "Layer name: 4, layer type: Activation, input shape: [[100, 8]]\n",
            "Layer name: 5, layer type: Dense, input shape: [[100, 8]]\n",
            "Layer name: 6, layer type: Activation, input shape: [[100, 8]]\n",
            "Layer name: 7, layer type: Dense, input shape: [[100, 8]]\n",
            "Creating HLS model\n",
            "Writing HLS project\n",
            "Done\n",
            "config: {'Model': {'Precision': 'ap_fixed<25,11>', 'ReuseFactor': 1, 'Strategy': 'Latency'}}\n",
            "Interpreting Model ...\n",
            "Topology:\n",
            "Input Shape:  [[100, 30]]\n",
            "Layer name: 0, layer type: BatchNormalization, input shape: [[100, 30]]\n",
            "Layer name: 1, layer type: Dense, input shape: [[100, 30]]\n",
            "Layer name: 2, layer type: Activation, input shape: [[100, 16]]\n",
            "Layer name: 3, layer type: Dense, input shape: [[100, 16]]\n",
            "Layer name: 4, layer type: Activation, input shape: [[100, 8]]\n",
            "Layer name: 5, layer type: Dense, input shape: [[100, 8]]\n",
            "Layer name: 6, layer type: Activation, input shape: [[100, 8]]\n",
            "Layer name: 7, layer type: Dense, input shape: [[100, 8]]\n",
            "Creating HLS model\n",
            "Writing HLS project\n",
            "Done\n",
            "config: {'Model': {'Precision': 'ap_fixed<27,11>', 'ReuseFactor': 1, 'Strategy': 'Latency'}}\n",
            "Interpreting Model ...\n",
            "Topology:\n",
            "Input Shape:  [[100, 30]]\n",
            "Layer name: 0, layer type: BatchNormalization, input shape: [[100, 30]]\n",
            "Layer name: 1, layer type: Dense, input shape: [[100, 30]]\n",
            "Layer name: 2, layer type: Activation, input shape: [[100, 16]]\n",
            "Layer name: 3, layer type: Dense, input shape: [[100, 16]]\n",
            "Layer name: 4, layer type: Activation, input shape: [[100, 8]]\n",
            "Layer name: 5, layer type: Dense, input shape: [[100, 8]]\n",
            "Layer name: 6, layer type: Activation, input shape: [[100, 8]]\n",
            "Layer name: 7, layer type: Dense, input shape: [[100, 8]]\n",
            "Creating HLS model\n",
            "Writing HLS project\n",
            "Done\n",
            "config: {'Model': {'Precision': 'ap_fixed<29,11>', 'ReuseFactor': 1, 'Strategy': 'Latency'}}\n",
            "Interpreting Model ...\n",
            "Topology:\n",
            "Input Shape:  [[100, 30]]\n",
            "Layer name: 0, layer type: BatchNormalization, input shape: [[100, 30]]\n",
            "Layer name: 1, layer type: Dense, input shape: [[100, 30]]\n",
            "Layer name: 2, layer type: Activation, input shape: [[100, 16]]\n",
            "Layer name: 3, layer type: Dense, input shape: [[100, 16]]\n",
            "Layer name: 4, layer type: Activation, input shape: [[100, 8]]\n",
            "Layer name: 5, layer type: Dense, input shape: [[100, 8]]\n",
            "Layer name: 6, layer type: Activation, input shape: [[100, 8]]\n",
            "Layer name: 7, layer type: Dense, input shape: [[100, 8]]\n",
            "Creating HLS model\n",
            "Writing HLS project\n",
            "Done\n",
            "config: {'Model': {'Precision': 'ap_fixed<31,11>', 'ReuseFactor': 1, 'Strategy': 'Latency'}}\n",
            "Interpreting Model ...\n",
            "Topology:\n",
            "Input Shape:  [[100, 30]]\n",
            "Layer name: 0, layer type: BatchNormalization, input shape: [[100, 30]]\n",
            "Layer name: 1, layer type: Dense, input shape: [[100, 30]]\n",
            "Layer name: 2, layer type: Activation, input shape: [[100, 16]]\n",
            "Layer name: 3, layer type: Dense, input shape: [[100, 16]]\n",
            "Layer name: 4, layer type: Activation, input shape: [[100, 8]]\n",
            "Layer name: 5, layer type: Dense, input shape: [[100, 8]]\n",
            "Layer name: 6, layer type: Activation, input shape: [[100, 8]]\n",
            "Layer name: 7, layer type: Dense, input shape: [[100, 8]]\n",
            "Creating HLS model\n",
            "Writing HLS project\n",
            "Done\n",
            "config: {'Model': {'Precision': 'ap_fixed<33,11>', 'ReuseFactor': 1, 'Strategy': 'Latency'}}\n",
            "Interpreting Model ...\n",
            "Topology:\n",
            "Input Shape:  [[100, 30]]\n",
            "Layer name: 0, layer type: BatchNormalization, input shape: [[100, 30]]\n",
            "Layer name: 1, layer type: Dense, input shape: [[100, 30]]\n",
            "Layer name: 2, layer type: Activation, input shape: [[100, 16]]\n",
            "Layer name: 3, layer type: Dense, input shape: [[100, 16]]\n",
            "Layer name: 4, layer type: Activation, input shape: [[100, 8]]\n",
            "Layer name: 5, layer type: Dense, input shape: [[100, 8]]\n",
            "Layer name: 6, layer type: Activation, input shape: [[100, 8]]\n",
            "Layer name: 7, layer type: Dense, input shape: [[100, 8]]\n",
            "Creating HLS model\n",
            "Writing HLS project\n",
            "Done\n",
            "config: {'Model': {'Precision': 'ap_fixed<35,11>', 'ReuseFactor': 1, 'Strategy': 'Latency'}}\n",
            "Interpreting Model ...\n",
            "Topology:\n",
            "Input Shape:  [[100, 30]]\n",
            "Layer name: 0, layer type: BatchNormalization, input shape: [[100, 30]]\n",
            "Layer name: 1, layer type: Dense, input shape: [[100, 30]]\n",
            "Layer name: 2, layer type: Activation, input shape: [[100, 16]]\n",
            "Layer name: 3, layer type: Dense, input shape: [[100, 16]]\n",
            "Layer name: 4, layer type: Activation, input shape: [[100, 8]]\n",
            "Layer name: 5, layer type: Dense, input shape: [[100, 8]]\n",
            "Layer name: 6, layer type: Activation, input shape: [[100, 8]]\n",
            "Layer name: 7, layer type: Dense, input shape: [[100, 8]]\n",
            "Creating HLS model\n",
            "Writing HLS project\n",
            "Done\n",
            "config: {'Model': {'Precision': 'ap_fixed<37,11>', 'ReuseFactor': 1, 'Strategy': 'Latency'}}\n",
            "Interpreting Model ...\n",
            "Topology:\n",
            "Input Shape:  [[100, 30]]\n",
            "Layer name: 0, layer type: BatchNormalization, input shape: [[100, 30]]\n",
            "Layer name: 1, layer type: Dense, input shape: [[100, 30]]\n",
            "Layer name: 2, layer type: Activation, input shape: [[100, 16]]\n",
            "Layer name: 3, layer type: Dense, input shape: [[100, 16]]\n",
            "Layer name: 4, layer type: Activation, input shape: [[100, 8]]\n",
            "Layer name: 5, layer type: Dense, input shape: [[100, 8]]\n",
            "Layer name: 6, layer type: Activation, input shape: [[100, 8]]\n",
            "Layer name: 7, layer type: Dense, input shape: [[100, 8]]\n",
            "Creating HLS model\n",
            "Writing HLS project\n",
            "Done\n",
            "config: {'Model': {'Precision': 'ap_fixed<39,11>', 'ReuseFactor': 1, 'Strategy': 'Latency'}}\n",
            "Interpreting Model ...\n",
            "Topology:\n",
            "Input Shape:  [[100, 30]]\n",
            "Layer name: 0, layer type: BatchNormalization, input shape: [[100, 30]]\n",
            "Layer name: 1, layer type: Dense, input shape: [[100, 30]]\n",
            "Layer name: 2, layer type: Activation, input shape: [[100, 16]]\n",
            "Layer name: 3, layer type: Dense, input shape: [[100, 16]]\n",
            "Layer name: 4, layer type: Activation, input shape: [[100, 8]]\n",
            "Layer name: 5, layer type: Dense, input shape: [[100, 8]]\n",
            "Layer name: 6, layer type: Activation, input shape: [[100, 8]]\n",
            "Layer name: 7, layer type: Dense, input shape: [[100, 8]]\n",
            "Creating HLS model\n",
            "Writing HLS project\n",
            "Done\n",
            "config: {'Model': {'Precision': 'ap_fixed<41,11>', 'ReuseFactor': 1, 'Strategy': 'Latency'}}\n",
            "Interpreting Model ...\n",
            "Topology:\n",
            "Input Shape:  [[100, 30]]\n",
            "Layer name: 0, layer type: BatchNormalization, input shape: [[100, 30]]\n",
            "Layer name: 1, layer type: Dense, input shape: [[100, 30]]\n",
            "Layer name: 2, layer type: Activation, input shape: [[100, 16]]\n",
            "Layer name: 3, layer type: Dense, input shape: [[100, 16]]\n",
            "Layer name: 4, layer type: Activation, input shape: [[100, 8]]\n",
            "Layer name: 5, layer type: Dense, input shape: [[100, 8]]\n",
            "Layer name: 6, layer type: Activation, input shape: [[100, 8]]\n",
            "Layer name: 7, layer type: Dense, input shape: [[100, 8]]\n",
            "Creating HLS model\n",
            "Writing HLS project\n",
            "Done\n"
          ]
        }
      ]
    },
    {
      "cell_type": "code",
      "source": [
        "plt.scatter(ap_fixed_configs_fract, aurocs_fract_q)\n",
        "plt.title(f\"fract bitwidth search with int_bit frozen at:{int_bit}\")\n",
        "plt.show()"
      ],
      "metadata": {
        "colab": {
          "base_uri": "https://localhost:8080/",
          "height": 281
        },
        "id": "ENJmcymE4B7k",
        "outputId": "e2984d2c-95e0-4fe2-c709-003be5a7814f"
      },
      "execution_count": null,
      "outputs": [
        {
          "output_type": "display_data",
          "data": {
            "text/plain": [
              "<Figure size 432x288 with 1 Axes>"
            ],
            "image/png": "[encoded data removed]"
          },
          "metadata": {
            "needs_background": "light"
          }
        }
      ]
    },
    {
      "cell_type": "code",
      "source": [
        "\"\"\"\n",
        "Start normal model and train it normally for comparison of PTQ\n",
        "\"\"\"\n",
        "input_dim = 30\n",
        "weight_precision = 8 # 8\n",
        "# mlp_dims = [30 , 64, 32, 32]\n",
        "mlp_dims = [30 , 16, 8, 8]\n",
        "mlp_blocks = [nn.BatchNorm1d(input_dim)]\n",
        "for idx in range(len(mlp_dims)-1):\n",
        "  # print(mlp_dims[idx + 1])\n",
        "  mlp_blocks.append(nn.Linear(\n",
        "                  int(mlp_dims[idx]), \n",
        "                  int(mlp_dims[idx + 1]),\n",
        "                  bias=True\n",
        "                  )\n",
        "                  \n",
        "  )\n",
        "  mlp_blocks.append(\n",
        "      nn.ReLU()\n",
        "  )\n",
        "# add last layer\n",
        "mlp_blocks.append(nn.Linear(\n",
        "                  mlp_dims[len(mlp_dims)-1], \n",
        "                  1,\n",
        "                  bias=True,\n",
        "                  )\n",
        "  )\n",
        "\n",
        "normal_model = nn.Sequential(*mlp_blocks)\n"
      ],
      "metadata": {
        "id": "vZdbua-64FuT"
      },
      "execution_count": null,
      "outputs": []
    },
    {
      "cell_type": "code",
      "source": [
        "\"\"\"\n",
        "Training phase\n",
        "NOTE: no sigmoid in the model itself\n",
        "\"\"\"\n",
        "import torch.nn.functional as F\n",
        "\n",
        "normal_model.train() # put model in train mode (for batchnormalization)\n",
        "optimizer = torch.optim.AdamW(normal_model.parameters(), lr=1e-3)\n",
        "i = 0\n",
        "for x, y in train_dataloader:\n",
        "  # print(y.shape)\n",
        "  # print(normal_model(x).shape)\n",
        "  logit = normal_model(x)\n",
        "  loss = F.binary_cross_entropy(torch.sigmoid(logit), y)\n",
        "  i +=1\n",
        "  # if i > 100:\n",
        "  #   break\n",
        "\n",
        "  optimizer.zero_grad() # this deletes all previous grad calculations. very important\n",
        "  loss.backward() # calculates the gradients\n",
        "  optimizer.step() # applies backpropagation\n",
        "  "
      ],
      "metadata": {
        "id": "TVa20esC5EoZ"
      },
      "execution_count": null,
      "outputs": []
    },
    {
      "cell_type": "code",
      "source": [
        "\"\"\"\n",
        "Testing phase\n",
        "\"\"\"\n",
        "\n",
        "\n",
        "normal_model.eval() # put model in eval mode \n",
        "with torch.no_grad():\n",
        "  logit = normal_model(X_test)\n",
        "  fpr, tpr, _ = metrics.roc_curve(Y_test,  torch.sigmoid(logit))\n",
        "  auc = metrics.roc_auc_score(Y_test, torch.sigmoid(logit))\n",
        "  \n",
        "\n",
        "#create ROC curve\n",
        "plt.plot(fpr,tpr,label=\"AUC=\"+str(auc))\n",
        "plt.ylabel('True Positive Rate')\n",
        "plt.xlabel('False Positive Rate')\n",
        "plt.legend(loc=4)\n",
        "plt.show()"
      ],
      "metadata": {
        "colab": {
          "base_uri": "https://localhost:8080/",
          "height": 279
        },
        "id": "qAQnFj2c5YCh",
        "outputId": "7efebeb6-8e97-4439-9491-013a79b58039"
      },
      "execution_count": null,
      "outputs": [
        {
          "output_type": "display_data",
          "data": {
            "text/plain": [
              "<Figure size 432x288 with 1 Axes>"
            ],
            "image/png": "[encoded data removed]"
          },
          "metadata": {
            "needs_background": "light"
          }
        }
      ]
    },
    {
      "cell_type": "code",
      "source": [
        "\"\"\"\n",
        "check if torch hls conversion is good for normal model\n",
        "\"\"\"\n",
        "import hls4ml \n",
        "from sklearn.metrics import mean_squared_error\n",
        "\n",
        "int_bit = 14 #14\n",
        "fract_bit = 20 #20\n",
        "total_bit = int_bit + fract_bit\n",
        "ap_fixed_config = f\"ap_fixed<{total_bit},{int_bit}>\"\n",
        "config = hls4ml.utils.config_from_pytorch_model(normal_model,\n",
        "                                    default_precision=ap_fixed_config,\n",
        "                                    granularity='model'\n",
        ")\n",
        "print(f\"config: {config}\")\n",
        "hls_model = hls4ml.converters.convert_from_pytorch_model(normal_model,\n",
        "                                                    hls_config=config,\n",
        "                                                    output_dir='model_1/hls4ml_prj',\n",
        "                                                    part='xcu250-figd2104-2L-e',\n",
        "                                                    input_shape = (100,30) # 100 here is irrelevant\n",
        ")\n",
        "hls_model.compile()\n",
        "X_hls_test = np.ascontiguousarray(X_test)\n",
        "Y_hat_hls = torch.sigmoid(torch.from_numpy(hls_model.predict(X_hls_test)))\n",
        "\n",
        "normal_model.eval()\n",
        "with torch.no_grad():\n",
        "  Y_hat_torch = torch.sigmoid(normal_model(X_test))\n",
        "MSE = mean_squared_error(Y_hat_torch.cpu().numpy(), Y_hat_hls.cpu().numpy())\n",
        "print(f\"MSE torch vs hls test output: {MSE}\")\n",
        "\n",
        "\n",
        "fpr, tpr, _ = metrics.roc_curve(Y_test,  Y_hat_hls.cpu().numpy())\n",
        "auc = metrics.roc_auc_score(Y_test, Y_hat_hls.cpu().numpy())\n",
        "  \n",
        "\n",
        "#create ROC curve\n",
        "plt.plot(fpr,tpr,label=\"AUC=\"+str(auc))\n",
        "plt.ylabel('True Positive Rate')\n",
        "plt.xlabel('False Positive Rate')\n",
        "plt.title(\"torch model from normalled trained model parameters\")\n",
        "plt.legend(loc=4)\n",
        "plt.show()"
      ],
      "metadata": {
        "colab": {
          "base_uri": "https://localhost:8080/",
          "height": 573
        },
        "id": "0KnkG_pS-huO",
        "outputId": "58fc76bc-34d8-4996-9ac7-dae613802cac"
      },
      "execution_count": null,
      "outputs": [
        {
          "output_type": "stream",
          "name": "stdout",
          "text": [
            "config: {'Model': {'Precision': 'ap_fixed<34,14>', 'ReuseFactor': 1, 'Strategy': 'Latency'}}\n",
            "Interpreting Model ...\n",
            "Topology:\n",
            "Input Shape:  [[100, 30]]\n",
            "Layer name: 0, layer type: BatchNormalization, input shape: [[100, 30]]\n",
            "Layer name: 1, layer type: Dense, input shape: [[100, 30]]\n",
            "Layer name: 2, layer type: Activation, input shape: [[100, 16]]\n",
            "Layer name: 3, layer type: Dense, input shape: [[100, 16]]\n",
            "Layer name: 4, layer type: Activation, input shape: [[100, 8]]\n",
            "Layer name: 5, layer type: Dense, input shape: [[100, 8]]\n",
            "Layer name: 6, layer type: Activation, input shape: [[100, 8]]\n",
            "Layer name: 7, layer type: Dense, input shape: [[100, 8]]\n",
            "Creating HLS model\n",
            "Writing HLS project\n",
            "Done\n",
            "MSE torch vs hls test output: 1.5880913251109519e-10\n"
          ]
        },
        {
          "output_type": "display_data",
          "data": {
            "text/plain": [
              "<Figure size 432x288 with 1 Axes>"
            ],
            "image/png": "[encoded data removed]"
          },
          "metadata": {
            "needs_background": "light"
          }
        }
      ]
    },
    {
      "cell_type": "code",
      "source": [
        "\"\"\"\n",
        "PTQ with normal model\n",
        "Parameter search over integer bits. Fractional bits frozen at 20    \n",
        "\"\"\"\n",
        "import hls4ml \n",
        "\n",
        "print(hls4ml.__version__)\n",
        "\n",
        "fract_bit = 20\n",
        "aurocs_int = []\n",
        "ap_fixed_configs_int = []\n",
        "\n",
        "for int_bit in range(8,15,1): # search from 2 to 32, with with 4 bit intervals\n",
        "    total_bit = int_bit + fract_bit\n",
        "    ap_fixed_config = f\"ap_fixed<{total_bit},{int_bit}>\"\n",
        "    config = hls4ml.utils.config_from_pytorch_model(normal_model,\n",
        "                                        default_precision=ap_fixed_config,\n",
        "                                        granularity='model'\n",
        "    )\n",
        "    print(f\"config: {config}\")\n",
        "    hls_model = hls4ml.converters.convert_from_pytorch_model(normal_model,\n",
        "                                                        hls_config=config,\n",
        "                                                        output_dir='model_1/hls4ml_prj',\n",
        "                                                        part='xcu250-figd2104-2L-e',\n",
        "                                                        input_shape = (100,30) # 100 here is irrelevant\n",
        "    )\n",
        "    hls_model.compile()\n",
        "    X_hls_test = np.ascontiguousarray(X_test)\n",
        "    Y_hat = torch.sigmoid(torch.from_numpy(hls_model.predict(X_hls_test)))\n",
        "    auc = metrics.roc_auc_score(Y_test, Y_hat.cpu().numpy())\n",
        "    aurocs_int.append(auc)\n",
        "    ap_fixed_configs_int.append(f\"<{total_bit},{int_bit}>\")\n",
        "    "
      ],
      "metadata": {
        "colab": {
          "base_uri": "https://localhost:8080/"
        },
        "id": "3Trv_Dce6F1U",
        "outputId": "16f8b802-c2c9-4e4d-92c3-16119384091a"
      },
      "execution_count": null,
      "outputs": [
        {
          "output_type": "stream",
          "name": "stdout",
          "text": [
            "0.6.0\n",
            "config: {'Model': {'Precision': 'ap_fixed<28,8>', 'ReuseFactor': 1, 'Strategy': 'Latency'}}\n",
            "Interpreting Model ...\n",
            "Topology:\n",
            "Input Shape:  [[100, 30]]\n",
            "Layer name: 0, layer type: BatchNormalization, input shape: [[100, 30]]\n",
            "Layer name: 1, layer type: Dense, input shape: [[100, 30]]\n",
            "Layer name: 2, layer type: Activation, input shape: [[100, 16]]\n",
            "Layer name: 3, layer type: Dense, input shape: [[100, 16]]\n",
            "Layer name: 4, layer type: Activation, input shape: [[100, 8]]\n",
            "Layer name: 5, layer type: Dense, input shape: [[100, 8]]\n",
            "Layer name: 6, layer type: Activation, input shape: [[100, 8]]\n",
            "Layer name: 7, layer type: Dense, input shape: [[100, 8]]\n",
            "Creating HLS model\n",
            "Writing HLS project\n",
            "Done\n",
            "config: {'Model': {'Precision': 'ap_fixed<29,9>', 'ReuseFactor': 1, 'Strategy': 'Latency'}}\n",
            "Interpreting Model ...\n",
            "Topology:\n",
            "Input Shape:  [[100, 30]]\n",
            "Layer name: 0, layer type: BatchNormalization, input shape: [[100, 30]]\n",
            "Layer name: 1, layer type: Dense, input shape: [[100, 30]]\n",
            "Layer name: 2, layer type: Activation, input shape: [[100, 16]]\n",
            "Layer name: 3, layer type: Dense, input shape: [[100, 16]]\n",
            "Layer name: 4, layer type: Activation, input shape: [[100, 8]]\n",
            "Layer name: 5, layer type: Dense, input shape: [[100, 8]]\n",
            "Layer name: 6, layer type: Activation, input shape: [[100, 8]]\n",
            "Layer name: 7, layer type: Dense, input shape: [[100, 8]]\n",
            "Creating HLS model\n",
            "Writing HLS project\n",
            "Done\n",
            "config: {'Model': {'Precision': 'ap_fixed<30,10>', 'ReuseFactor': 1, 'Strategy': 'Latency'}}\n",
            "Interpreting Model ...\n",
            "Topology:\n",
            "Input Shape:  [[100, 30]]\n",
            "Layer name: 0, layer type: BatchNormalization, input shape: [[100, 30]]\n",
            "Layer name: 1, layer type: Dense, input shape: [[100, 30]]\n",
            "Layer name: 2, layer type: Activation, input shape: [[100, 16]]\n",
            "Layer name: 3, layer type: Dense, input shape: [[100, 16]]\n",
            "Layer name: 4, layer type: Activation, input shape: [[100, 8]]\n",
            "Layer name: 5, layer type: Dense, input shape: [[100, 8]]\n",
            "Layer name: 6, layer type: Activation, input shape: [[100, 8]]\n",
            "Layer name: 7, layer type: Dense, input shape: [[100, 8]]\n",
            "Creating HLS model\n",
            "Writing HLS project\n",
            "Done\n",
            "config: {'Model': {'Precision': 'ap_fixed<31,11>', 'ReuseFactor': 1, 'Strategy': 'Latency'}}\n",
            "Interpreting Model ...\n",
            "Topology:\n",
            "Input Shape:  [[100, 30]]\n",
            "Layer name: 0, layer type: BatchNormalization, input shape: [[100, 30]]\n",
            "Layer name: 1, layer type: Dense, input shape: [[100, 30]]\n",
            "Layer name: 2, layer type: Activation, input shape: [[100, 16]]\n",
            "Layer name: 3, layer type: Dense, input shape: [[100, 16]]\n",
            "Layer name: 4, layer type: Activation, input shape: [[100, 8]]\n",
            "Layer name: 5, layer type: Dense, input shape: [[100, 8]]\n",
            "Layer name: 6, layer type: Activation, input shape: [[100, 8]]\n",
            "Layer name: 7, layer type: Dense, input shape: [[100, 8]]\n",
            "Creating HLS model\n",
            "Writing HLS project\n",
            "Done\n",
            "config: {'Model': {'Precision': 'ap_fixed<32,12>', 'ReuseFactor': 1, 'Strategy': 'Latency'}}\n",
            "Interpreting Model ...\n",
            "Topology:\n",
            "Input Shape:  [[100, 30]]\n",
            "Layer name: 0, layer type: BatchNormalization, input shape: [[100, 30]]\n",
            "Layer name: 1, layer type: Dense, input shape: [[100, 30]]\n",
            "Layer name: 2, layer type: Activation, input shape: [[100, 16]]\n",
            "Layer name: 3, layer type: Dense, input shape: [[100, 16]]\n",
            "Layer name: 4, layer type: Activation, input shape: [[100, 8]]\n",
            "Layer name: 5, layer type: Dense, input shape: [[100, 8]]\n",
            "Layer name: 6, layer type: Activation, input shape: [[100, 8]]\n",
            "Layer name: 7, layer type: Dense, input shape: [[100, 8]]\n",
            "Creating HLS model\n",
            "Writing HLS project\n",
            "Done\n",
            "config: {'Model': {'Precision': 'ap_fixed<33,13>', 'ReuseFactor': 1, 'Strategy': 'Latency'}}\n",
            "Interpreting Model ...\n",
            "Topology:\n",
            "Input Shape:  [[100, 30]]\n",
            "Layer name: 0, layer type: BatchNormalization, input shape: [[100, 30]]\n",
            "Layer name: 1, layer type: Dense, input shape: [[100, 30]]\n",
            "Layer name: 2, layer type: Activation, input shape: [[100, 16]]\n",
            "Layer name: 3, layer type: Dense, input shape: [[100, 16]]\n",
            "Layer name: 4, layer type: Activation, input shape: [[100, 8]]\n",
            "Layer name: 5, layer type: Dense, input shape: [[100, 8]]\n",
            "Layer name: 6, layer type: Activation, input shape: [[100, 8]]\n",
            "Layer name: 7, layer type: Dense, input shape: [[100, 8]]\n",
            "Creating HLS model\n",
            "Writing HLS project\n",
            "Done\n",
            "config: {'Model': {'Precision': 'ap_fixed<34,14>', 'ReuseFactor': 1, 'Strategy': 'Latency'}}\n",
            "Interpreting Model ...\n",
            "Topology:\n",
            "Input Shape:  [[100, 30]]\n",
            "Layer name: 0, layer type: BatchNormalization, input shape: [[100, 30]]\n",
            "Layer name: 1, layer type: Dense, input shape: [[100, 30]]\n",
            "Layer name: 2, layer type: Activation, input shape: [[100, 16]]\n",
            "Layer name: 3, layer type: Dense, input shape: [[100, 16]]\n",
            "Layer name: 4, layer type: Activation, input shape: [[100, 8]]\n",
            "Layer name: 5, layer type: Dense, input shape: [[100, 8]]\n",
            "Layer name: 6, layer type: Activation, input shape: [[100, 8]]\n",
            "Layer name: 7, layer type: Dense, input shape: [[100, 8]]\n",
            "Creating HLS model\n",
            "Writing HLS project\n",
            "Done\n"
          ]
        }
      ]
    },
    {
      "cell_type": "code",
      "source": [
        "plt.scatter(ap_fixed_configs_int, aurocs_int)"
      ],
      "metadata": {
        "colab": {
          "base_uri": "https://localhost:8080/",
          "height": 282
        },
        "id": "oRMeyLTN6e7U",
        "outputId": "a9a53641-44d8-46ac-d116-851c4bc59bac"
      },
      "execution_count": null,
      "outputs": [
        {
          "output_type": "execute_result",
          "data": {
            "text/plain": [
              "<matplotlib.collections.PathCollection at 0x7f2b6e6dc590>"
            ]
          },
          "metadata": {},
          "execution_count": 57
        },
        {
          "output_type": "display_data",
          "data": {
            "text/plain": [
              "<Figure size 432x288 with 1 Axes>"
            ],
            "image/png": "[encoded data removed]"
          },
          "metadata": {
            "needs_background": "light"
          }
        }
      ]
    },
    {
      "cell_type": "code",
      "source": [
        "\"\"\"\n",
        "Parameter search over fractional bits. Integer bits frozen at 13    \n",
        "\"\"\"\n",
        "int_bit = 13\n",
        "aurocs_fract = []\n",
        "ap_fixed_configs_fract = []\n",
        "\n",
        "for fract_bit in range(6,13,1):\n",
        "    total_bit = int_bit + fract_bit\n",
        "    ap_fixed_config = f\"ap_fixed<{total_bit},{int_bit}>\"\n",
        "    config = hls4ml.utils.config_from_pytorch_model(normal_model,\n",
        "                                        default_precision=ap_fixed_config,\n",
        "                                        granularity='model'\n",
        "    )\n",
        "    print(f\"config: {config}\")\n",
        "    hls_model = hls4ml.converters.convert_from_pytorch_model(normal_model,\n",
        "                                                        hls_config=config,\n",
        "                                                        output_dir='model_1/hls4ml_prj',\n",
        "                                                        part='xcu250-figd2104-2L-e',\n",
        "                                                        input_shape = (100,30) # 100 here is irrelevant\n",
        "    )\n",
        "    hls_model.compile()\n",
        "    X_hls_test = np.ascontiguousarray(X_test)\n",
        "    auc = metrics.roc_auc_score(Y_test, hls_model.predict(X_hls_test))\n",
        "    aurocs_fract.append(auc)\n",
        "    ap_fixed_configs_fract.append(f\"<{total_bit},{int_bit}>\")\n"
      ],
      "metadata": {
        "colab": {
          "base_uri": "https://localhost:8080/"
        },
        "id": "N4VgsFQj6i4u",
        "outputId": "23fe5864-c366-4d6e-a370-2998d64c488a"
      },
      "execution_count": null,
      "outputs": [
        {
          "output_type": "stream",
          "name": "stdout",
          "text": [
            "config: {'Model': {'Precision': 'ap_fixed<19,13>', 'ReuseFactor': 1, 'Strategy': 'Latency'}}\n",
            "Interpreting Model ...\n",
            "Topology:\n",
            "Input Shape:  [[100, 30]]\n",
            "Layer name: 0, layer type: BatchNormalization, input shape: [[100, 30]]\n",
            "Layer name: 1, layer type: Dense, input shape: [[100, 30]]\n",
            "Layer name: 2, layer type: Activation, input shape: [[100, 16]]\n",
            "Layer name: 3, layer type: Dense, input shape: [[100, 16]]\n",
            "Layer name: 4, layer type: Activation, input shape: [[100, 8]]\n",
            "Layer name: 5, layer type: Dense, input shape: [[100, 8]]\n",
            "Layer name: 6, layer type: Activation, input shape: [[100, 8]]\n",
            "Layer name: 7, layer type: Dense, input shape: [[100, 8]]\n",
            "Creating HLS model\n",
            "Writing HLS project\n",
            "Done\n",
            "config: {'Model': {'Precision': 'ap_fixed<20,13>', 'ReuseFactor': 1, 'Strategy': 'Latency'}}\n",
            "Interpreting Model ...\n",
            "Topology:\n",
            "Input Shape:  [[100, 30]]\n",
            "Layer name: 0, layer type: BatchNormalization, input shape: [[100, 30]]\n",
            "Layer name: 1, layer type: Dense, input shape: [[100, 30]]\n",
            "Layer name: 2, layer type: Activation, input shape: [[100, 16]]\n",
            "Layer name: 3, layer type: Dense, input shape: [[100, 16]]\n",
            "Layer name: 4, layer type: Activation, input shape: [[100, 8]]\n",
            "Layer name: 5, layer type: Dense, input shape: [[100, 8]]\n",
            "Layer name: 6, layer type: Activation, input shape: [[100, 8]]\n",
            "Layer name: 7, layer type: Dense, input shape: [[100, 8]]\n",
            "Creating HLS model\n",
            "Writing HLS project\n",
            "Done\n",
            "config: {'Model': {'Precision': 'ap_fixed<21,13>', 'ReuseFactor': 1, 'Strategy': 'Latency'}}\n",
            "Interpreting Model ...\n",
            "Topology:\n",
            "Input Shape:  [[100, 30]]\n",
            "Layer name: 0, layer type: BatchNormalization, input shape: [[100, 30]]\n",
            "Layer name: 1, layer type: Dense, input shape: [[100, 30]]\n",
            "Layer name: 2, layer type: Activation, input shape: [[100, 16]]\n",
            "Layer name: 3, layer type: Dense, input shape: [[100, 16]]\n",
            "Layer name: 4, layer type: Activation, input shape: [[100, 8]]\n",
            "Layer name: 5, layer type: Dense, input shape: [[100, 8]]\n",
            "Layer name: 6, layer type: Activation, input shape: [[100, 8]]\n",
            "Layer name: 7, layer type: Dense, input shape: [[100, 8]]\n",
            "Creating HLS model\n",
            "Writing HLS project\n",
            "Done\n",
            "config: {'Model': {'Precision': 'ap_fixed<22,13>', 'ReuseFactor': 1, 'Strategy': 'Latency'}}\n",
            "Interpreting Model ...\n",
            "Topology:\n",
            "Input Shape:  [[100, 30]]\n",
            "Layer name: 0, layer type: BatchNormalization, input shape: [[100, 30]]\n",
            "Layer name: 1, layer type: Dense, input shape: [[100, 30]]\n",
            "Layer name: 2, layer type: Activation, input shape: [[100, 16]]\n",
            "Layer name: 3, layer type: Dense, input shape: [[100, 16]]\n",
            "Layer name: 4, layer type: Activation, input shape: [[100, 8]]\n",
            "Layer name: 5, layer type: Dense, input shape: [[100, 8]]\n",
            "Layer name: 6, layer type: Activation, input shape: [[100, 8]]\n",
            "Layer name: 7, layer type: Dense, input shape: [[100, 8]]\n",
            "Creating HLS model\n",
            "Writing HLS project\n",
            "Done\n",
            "config: {'Model': {'Precision': 'ap_fixed<23,13>', 'ReuseFactor': 1, 'Strategy': 'Latency'}}\n",
            "Interpreting Model ...\n",
            "Topology:\n",
            "Input Shape:  [[100, 30]]\n",
            "Layer name: 0, layer type: BatchNormalization, input shape: [[100, 30]]\n",
            "Layer name: 1, layer type: Dense, input shape: [[100, 30]]\n",
            "Layer name: 2, layer type: Activation, input shape: [[100, 16]]\n",
            "Layer name: 3, layer type: Dense, input shape: [[100, 16]]\n",
            "Layer name: 4, layer type: Activation, input shape: [[100, 8]]\n",
            "Layer name: 5, layer type: Dense, input shape: [[100, 8]]\n",
            "Layer name: 6, layer type: Activation, input shape: [[100, 8]]\n",
            "Layer name: 7, layer type: Dense, input shape: [[100, 8]]\n",
            "Creating HLS model\n",
            "Writing HLS project\n",
            "Done\n",
            "config: {'Model': {'Precision': 'ap_fixed<24,13>', 'ReuseFactor': 1, 'Strategy': 'Latency'}}\n",
            "Interpreting Model ...\n",
            "Topology:\n",
            "Input Shape:  [[100, 30]]\n",
            "Layer name: 0, layer type: BatchNormalization, input shape: [[100, 30]]\n",
            "Layer name: 1, layer type: Dense, input shape: [[100, 30]]\n",
            "Layer name: 2, layer type: Activation, input shape: [[100, 16]]\n",
            "Layer name: 3, layer type: Dense, input shape: [[100, 16]]\n",
            "Layer name: 4, layer type: Activation, input shape: [[100, 8]]\n",
            "Layer name: 5, layer type: Dense, input shape: [[100, 8]]\n",
            "Layer name: 6, layer type: Activation, input shape: [[100, 8]]\n",
            "Layer name: 7, layer type: Dense, input shape: [[100, 8]]\n",
            "Creating HLS model\n",
            "Writing HLS project\n",
            "Done\n",
            "config: {'Model': {'Precision': 'ap_fixed<25,13>', 'ReuseFactor': 1, 'Strategy': 'Latency'}}\n",
            "Interpreting Model ...\n",
            "Topology:\n",
            "Input Shape:  [[100, 30]]\n",
            "Layer name: 0, layer type: BatchNormalization, input shape: [[100, 30]]\n",
            "Layer name: 1, layer type: Dense, input shape: [[100, 30]]\n",
            "Layer name: 2, layer type: Activation, input shape: [[100, 16]]\n",
            "Layer name: 3, layer type: Dense, input shape: [[100, 16]]\n",
            "Layer name: 4, layer type: Activation, input shape: [[100, 8]]\n",
            "Layer name: 5, layer type: Dense, input shape: [[100, 8]]\n",
            "Layer name: 6, layer type: Activation, input shape: [[100, 8]]\n",
            "Layer name: 7, layer type: Dense, input shape: [[100, 8]]\n",
            "Creating HLS model\n",
            "Writing HLS project\n",
            "Done\n"
          ]
        }
      ]
    },
    {
      "cell_type": "code",
      "source": [
        "plt.scatter(ap_fixed_configs_fract, aurocs_fract)"
      ],
      "metadata": {
        "colab": {
          "base_uri": "https://localhost:8080/",
          "height": 282
        },
        "id": "r405JpkN6i7R",
        "outputId": "266060ed-394e-4830-d502-6d20a8942533"
      },
      "execution_count": null,
      "outputs": [
        {
          "output_type": "execute_result",
          "data": {
            "text/plain": [
              "<matplotlib.collections.PathCollection at 0x7f2b6e6dc4d0>"
            ]
          },
          "metadata": {},
          "execution_count": 59
        },
        {
          "output_type": "display_data",
          "data": {
            "text/plain": [
              "<Figure size 432x288 with 1 Axes>"
            ],
            "image/png": "[encoded data removed]"
          },
          "metadata": {
            "needs_background": "light"
          }
        }
      ]
    },
    {
      "cell_type": "code",
      "source": [
        "plt.scatter(ap_fixed_configs_int, aurocs_int, label=\"model\")\n",
        "plt.scatter(ap_fixed_configs_int, aurocs_int_q, label=\"qmodel\")\n",
        "plt.legend()\n",
        "plt.title(\"Integer Bitwidth Search model vs qmodel\")\n",
        "plt.show()"
      ],
      "metadata": {
        "colab": {
          "base_uri": "https://localhost:8080/",
          "height": 281
        },
        "id": "slV6LLJi6i93",
        "outputId": "a568514e-b0a9-4699-e863-640d25cec7a3"
      },
      "execution_count": null,
      "outputs": [
        {
          "output_type": "display_data",
          "data": {
            "text/plain": [
              "<Figure size 432x288 with 1 Axes>"
            ],
            "image/png": "[encoded data removed]"
          },
          "metadata": {
            "needs_background": "light"
          }
        }
      ]
    },
    {
      "cell_type": "code",
      "source": [
        "plt.scatter(ap_fixed_configs_fract, aurocs_fract, label=\"model\")\n",
        "plt.scatter(ap_fixed_configs_fract, aurocs_fract_q, label=\"qmodel\")\n",
        "plt.legend()\n",
        "plt.title(\"Fractional Bitwidth Search model vs qmodel\")\n",
        "plt.show()"
      ],
      "metadata": {
        "colab": {
          "base_uri": "https://localhost:8080/",
          "height": 281
        },
        "id": "HgExghV861f3",
        "outputId": "62e61b2f-5475-409e-d71c-857eebd44df7"
      },
      "execution_count": null,
      "outputs": [
        {
          "output_type": "display_data",
          "data": {
            "text/plain": [
              "<Figure size 432x288 with 1 Axes>"
            ],
            "image/png": "[encoded data removed]"
          },
          "metadata": {
            "needs_background": "light"
          }
        }
      ]
    }
  ]
}