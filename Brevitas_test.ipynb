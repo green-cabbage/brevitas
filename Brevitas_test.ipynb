{
  "nbformat": 4,
  "nbformat_minor": 0,
  "metadata": {
    "colab": {
      "provenance": [],
      "collapsed_sections": []
    },
    "kernelspec": {
      "name": "python3",
      "display_name": "Python 3"
    },
    "language_info": {
      "name": "python"
    }
  },
  "cells": [
    {
      "cell_type": "code",
      "execution_count": 167,
      "metadata": {
        "id": "s5ComvQHjN50",
        "colab": {
          "base_uri": "https://localhost:8080/"
        },
        "outputId": "aa00e888-9413-4113-f533-b5d9827d05e9"
      },
      "outputs": [
        {
          "output_type": "stream",
          "name": "stdout",
          "text": [
            "Looking in indexes: https://pypi.org/simple, https://us-python.pkg.dev/colab-wheels/public/simple/\n",
            "Requirement already satisfied: brevitas in /usr/local/lib/python3.7/dist-packages (0.7.1)\n",
            "Requirement already satisfied: torch>=1.1.0 in /usr/local/lib/python3.7/dist-packages (from brevitas) (1.12.1+cu113)\n",
            "Requirement already satisfied: packaging in /usr/local/lib/python3.7/dist-packages (from brevitas) (21.3)\n",
            "Requirement already satisfied: typing-extensions>=3.7.4 in /usr/local/lib/python3.7/dist-packages (from brevitas) (4.1.1)\n",
            "Requirement already satisfied: dependencies==2.0.1 in /usr/local/lib/python3.7/dist-packages (from brevitas) (2.0.1)\n",
            "Requirement already satisfied: setuptools in /usr/local/lib/python3.7/dist-packages (from brevitas) (57.4.0)\n",
            "Requirement already satisfied: future-annotations in /usr/local/lib/python3.7/dist-packages (from brevitas) (1.0.0)\n",
            "Requirement already satisfied: tokenize-rt>=3 in /usr/local/lib/python3.7/dist-packages (from future-annotations->brevitas) (5.0.0)\n",
            "Requirement already satisfied: pyparsing!=3.0.5,>=2.0.2 in /usr/local/lib/python3.7/dist-packages (from packaging->brevitas) (3.0.9)\n",
            "Looking in indexes: https://pypi.org/simple, https://us-python.pkg.dev/colab-wheels/public/simple/\n",
            "Requirement already satisfied: hls4ml in /usr/local/lib/python3.7/dist-packages (0.6.0)\n",
            "Requirement already satisfied: pyyaml in /usr/local/lib/python3.7/dist-packages (from hls4ml) (6.0)\n",
            "Requirement already satisfied: six in /usr/local/lib/python3.7/dist-packages (from hls4ml) (1.15.0)\n",
            "Requirement already satisfied: h5py in /usr/local/lib/python3.7/dist-packages (from hls4ml) (3.1.0)\n",
            "Requirement already satisfied: onnx>=1.4.0 in /usr/local/lib/python3.7/dist-packages (from hls4ml) (1.12.0)\n",
            "Requirement already satisfied: numpy in /usr/local/lib/python3.7/dist-packages (from hls4ml) (1.21.6)\n",
            "Requirement already satisfied: protobuf<=3.20.1,>=3.12.2 in /usr/local/lib/python3.7/dist-packages (from onnx>=1.4.0->hls4ml) (3.19.6)\n",
            "Requirement already satisfied: typing-extensions>=3.6.2.1 in /usr/local/lib/python3.7/dist-packages (from onnx>=1.4.0->hls4ml) (4.1.1)\n",
            "Requirement already satisfied: cached-property in /usr/local/lib/python3.7/dist-packages (from h5py->hls4ml) (1.5.2)\n"
          ]
        }
      ],
      "source": [
        "\"\"\"\n",
        "Author: Hyeon-Seo Yun \n",
        "Date: somewhere around Oct 25 2022\n",
        "This notebook is a quick demonstration of training DNNs\n",
        "with Higgs data from kaggle for Phys 570 AI course\n",
        "in Purdue University for fall 2022 semester\n",
        "\"\"\"\n",
        "# ! pip install -q kaggle\n",
        "# ! pip install opendatasets\n",
        "! pip install brevitas\n",
        "! pip install hls4ml"
      ]
    },
    {
      "cell_type": "code",
      "source": [
        "\"\"\"\n",
        "This cell is for uploading your kaggle.json so you can download kaggle datasets\n",
        "\"\"\"\n",
        "from google.colab import files \n",
        "files.upload()"
      ],
      "metadata": {
        "colab": {
          "base_uri": "https://localhost:8080/",
          "height": 91
        },
        "id": "J1looFng9CSz",
        "outputId": "2c2799f4-90ef-4822-b31b-66278e1b8d16"
      },
      "execution_count": 168,
      "outputs": [
        {
          "output_type": "display_data",
          "data": {
            "text/plain": [
              "<IPython.core.display.HTML object>"
            ],
            "text/html": [
              "\n",
              "     <input type=\"file\" id=\"files-6228c1ba-3ca3-481d-98fb-9afed4d8db37\" name=\"files[]\" multiple disabled\n",
              "        style=\"border:none\" />\n",
              "     <output id=\"result-6228c1ba-3ca3-481d-98fb-9afed4d8db37\">\n",
              "      Upload widget is only available when the cell has been executed in the\n",
              "      current browser session. Please rerun this cell to enable.\n",
              "      </output>\n",
              "      <script>// Copyright 2017 Google LLC\n",
              "//\n",
              "// Licensed under the Apache License, Version 2.0 (the \"License\");\n",
              "// you may not use this file except in compliance with the License.\n",
              "// You may obtain a copy of the License at\n",
              "//\n",
              "//      http://www.apache.org/licenses/LICENSE-2.0\n",
              "//\n",
              "// Unless required by applicable law or agreed to in writing, software\n",
              "// distributed under the License is distributed on an \"AS IS\" BASIS,\n",
              "// WITHOUT WARRANTIES OR CONDITIONS OF ANY KIND, either express or implied.\n",
              "// See the License for the specific language governing permissions and\n",
              "// limitations under the License.\n",
              "\n",
              "/**\n",
              " * @fileoverview Helpers for google.colab Python module.\n",
              " */\n",
              "(function(scope) {\n",
              "function span(text, styleAttributes = {}) {\n",
              "  const element = document.createElement('span');\n",
              "  element.textContent = text;\n",
              "  for (const key of Object.keys(styleAttributes)) {\n",
              "    element.style[key] = styleAttributes[key];\n",
              "  }\n",
              "  return element;\n",
              "}\n",
              "\n",
              "// Max number of bytes which will be uploaded at a time.\n",
              "const MAX_PAYLOAD_SIZE = 100 * 1024;\n",
              "\n",
              "function _uploadFiles(inputId, outputId) {\n",
              "  const steps = uploadFilesStep(inputId, outputId);\n",
              "  const outputElement = document.getElementById(outputId);\n",
              "  // Cache steps on the outputElement to make it available for the next call\n",
              "  // to uploadFilesContinue from Python.\n",
              "  outputElement.steps = steps;\n",
              "\n",
              "  return _uploadFilesContinue(outputId);\n",
              "}\n",
              "\n",
              "// This is roughly an async generator (not supported in the browser yet),\n",
              "// where there are multiple asynchronous steps and the Python side is going\n",
              "// to poll for completion of each step.\n",
              "// This uses a Promise to block the python side on completion of each step,\n",
              "// then passes the result of the previous step as the input to the next step.\n",
              "function _uploadFilesContinue(outputId) {\n",
              "  const outputElement = document.getElementById(outputId);\n",
              "  const steps = outputElement.steps;\n",
              "\n",
              "  const next = steps.next(outputElement.lastPromiseValue);\n",
              "  return Promise.resolve(next.value.promise).then((value) => {\n",
              "    // Cache the last promise value to make it available to the next\n",
              "    // step of the generator.\n",
              "    outputElement.lastPromiseValue = value;\n",
              "    return next.value.response;\n",
              "  });\n",
              "}\n",
              "\n",
              "/**\n",
              " * Generator function which is called between each async step of the upload\n",
              " * process.\n",
              " * @param {string} inputId Element ID of the input file picker element.\n",
              " * @param {string} outputId Element ID of the output display.\n",
              " * @return {!Iterable<!Object>} Iterable of next steps.\n",
              " */\n",
              "function* uploadFilesStep(inputId, outputId) {\n",
              "  const inputElement = document.getElementById(inputId);\n",
              "  inputElement.disabled = false;\n",
              "\n",
              "  const outputElement = document.getElementById(outputId);\n",
              "  outputElement.innerHTML = '';\n",
              "\n",
              "  const pickedPromise = new Promise((resolve) => {\n",
              "    inputElement.addEventListener('change', (e) => {\n",
              "      resolve(e.target.files);\n",
              "    });\n",
              "  });\n",
              "\n",
              "  const cancel = document.createElement('button');\n",
              "  inputElement.parentElement.appendChild(cancel);\n",
              "  cancel.textContent = 'Cancel upload';\n",
              "  const cancelPromise = new Promise((resolve) => {\n",
              "    cancel.onclick = () => {\n",
              "      resolve(null);\n",
              "    };\n",
              "  });\n",
              "\n",
              "  // Wait for the user to pick the files.\n",
              "  const files = yield {\n",
              "    promise: Promise.race([pickedPromise, cancelPromise]),\n",
              "    response: {\n",
              "      action: 'starting',\n",
              "    }\n",
              "  };\n",
              "\n",
              "  cancel.remove();\n",
              "\n",
              "  // Disable the input element since further picks are not allowed.\n",
              "  inputElement.disabled = true;\n",
              "\n",
              "  if (!files) {\n",
              "    return {\n",
              "      response: {\n",
              "        action: 'complete',\n",
              "      }\n",
              "    };\n",
              "  }\n",
              "\n",
              "  for (const file of files) {\n",
              "    const li = document.createElement('li');\n",
              "    li.append(span(file.name, {fontWeight: 'bold'}));\n",
              "    li.append(span(\n",
              "        `(${file.type || 'n/a'}) - ${file.size} bytes, ` +\n",
              "        `last modified: ${\n",
              "            file.lastModifiedDate ? file.lastModifiedDate.toLocaleDateString() :\n",
              "                                    'n/a'} - `));\n",
              "    const percent = span('0% done');\n",
              "    li.appendChild(percent);\n",
              "\n",
              "    outputElement.appendChild(li);\n",
              "\n",
              "    const fileDataPromise = new Promise((resolve) => {\n",
              "      const reader = new FileReader();\n",
              "      reader.onload = (e) => {\n",
              "        resolve(e.target.result);\n",
              "      };\n",
              "      reader.readAsArrayBuffer(file);\n",
              "    });\n",
              "    // Wait for the data to be ready.\n",
              "    let fileData = yield {\n",
              "      promise: fileDataPromise,\n",
              "      response: {\n",
              "        action: 'continue',\n",
              "      }\n",
              "    };\n",
              "\n",
              "    // Use a chunked sending to avoid message size limits. See b/62115660.\n",
              "    let position = 0;\n",
              "    do {\n",
              "      const length = Math.min(fileData.byteLength - position, MAX_PAYLOAD_SIZE);\n",
              "      const chunk = new Uint8Array(fileData, position, length);\n",
              "      position += length;\n",
              "\n",
              "      const base64 = btoa(String.fromCharCode.apply(null, chunk));\n",
              "      yield {\n",
              "        response: {\n",
              "          action: 'append',\n",
              "          file: file.name,\n",
              "          data: base64,\n",
              "        },\n",
              "      };\n",
              "\n",
              "      let percentDone = fileData.byteLength === 0 ?\n",
              "          100 :\n",
              "          Math.round((position / fileData.byteLength) * 100);\n",
              "      percent.textContent = `${percentDone}% done`;\n",
              "\n",
              "    } while (position < fileData.byteLength);\n",
              "  }\n",
              "\n",
              "  // All done.\n",
              "  yield {\n",
              "    response: {\n",
              "      action: 'complete',\n",
              "    }\n",
              "  };\n",
              "}\n",
              "\n",
              "scope.google = scope.google || {};\n",
              "scope.google.colab = scope.google.colab || {};\n",
              "scope.google.colab._files = {\n",
              "  _uploadFiles,\n",
              "  _uploadFilesContinue,\n",
              "};\n",
              "})(self);\n",
              "</script> "
            ]
          },
          "metadata": {}
        },
        {
          "output_type": "stream",
          "name": "stdout",
          "text": [
            "Saving kaggle.json to kaggle (1).json\n"
          ]
        },
        {
          "output_type": "execute_result",
          "data": {
            "text/plain": [
              "{'kaggle.json': b'{\"username\":\"seemsgood\",\"key\":\"f3a664950e6ff6f23b20490722d64998\"}'}"
            ]
          },
          "metadata": {},
          "execution_count": 168
        }
      ]
    },
    {
      "cell_type": "code",
      "source": [
        "\"\"\"\n",
        "This cell is for moving your kaggle.json to the appropriate location\n",
        "and then change the permissions of the file.\n",
        "\"\"\"\n",
        "! mkdir ~/.kaggle\n",
        "! cp -f kaggle.json ~/.kaggle/\n",
        "! chmod 600 ~/.kaggle/kaggle.json"
      ],
      "metadata": {
        "id": "OiwgB9Mr9uTZ",
        "colab": {
          "base_uri": "https://localhost:8080/"
        },
        "outputId": "3c287051-a395-40d3-c5aa-b250683689d7"
      },
      "execution_count": 169,
      "outputs": [
        {
          "output_type": "stream",
          "name": "stdout",
          "text": [
            "mkdir: cannot create directory ‘/root/.kaggle’: File exists\n"
          ]
        }
      ]
    },
    {
      "cell_type": "code",
      "source": [
        "# ! ls ~/.kaggle/\n",
        "# ! ls .\n",
        "# ! rm ~/.kaggle/kaggle.json"
      ],
      "metadata": {
        "id": "hZCk1qu19lUJ"
      },
      "execution_count": 170,
      "outputs": []
    },
    {
      "cell_type": "code",
      "source": [
        "\"\"\"\n",
        "Download the higgs boson data\n",
        "\"\"\"\n",
        "! kaggle competitions download -c higgs-boson "
      ],
      "metadata": {
        "colab": {
          "base_uri": "https://localhost:8080/"
        },
        "id": "7k24zwA3jTJj",
        "outputId": "ec2c6dcc-2aae-476c-f161-ef97a222fc80"
      },
      "execution_count": 171,
      "outputs": [
        {
          "output_type": "stream",
          "name": "stdout",
          "text": [
            "higgs-boson.zip: Skipping, found more recently modified local copy (use --force to force download)\n"
          ]
        }
      ]
    },
    {
      "cell_type": "code",
      "source": [
        "\"\"\"\n",
        "unzip data to higgs-boson\n",
        "\"\"\"\n",
        "! unzip higgs-boson.zip -d higgs-boson"
      ],
      "metadata": {
        "colab": {
          "base_uri": "https://localhost:8080/"
        },
        "id": "YYCw6z7yjb6v",
        "outputId": "2d7d1240-1ef1-4f05-9501-10eac21182dd"
      },
      "execution_count": 172,
      "outputs": [
        {
          "output_type": "stream",
          "name": "stdout",
          "text": [
            "Archive:  higgs-boson.zip\n",
            "replace higgs-boson/HiggsBosonCompetition_AMSMetric_rev1.py? [y]es, [n]o, [A]ll, [N]one, [r]ename: A\n",
            "  inflating: higgs-boson/HiggsBosonCompetition_AMSMetric_rev1.py  \n",
            "  inflating: higgs-boson/random_submission.zip  \n",
            "  inflating: higgs-boson/test.zip    \n",
            "  inflating: higgs-boson/training.zip  \n"
          ]
        }
      ]
    },
    {
      "cell_type": "code",
      "source": [
        "\"\"\"\n",
        "unzip train datas (test here is not used)\n",
        "\"\"\"\n",
        "# ! unzip ./higgs-boson/test.zip -d ./higgs-boson/test/\n",
        "! unzip ./higgs-boson/training.zip -d ./higgs-boson/training/"
      ],
      "metadata": {
        "colab": {
          "base_uri": "https://localhost:8080/"
        },
        "id": "NGQ4vDDe_AmB",
        "outputId": "9c5b42cb-295a-45fb-bacc-0bf852029b27"
      },
      "execution_count": 173,
      "outputs": [
        {
          "output_type": "stream",
          "name": "stdout",
          "text": [
            "Archive:  ./higgs-boson/training.zip\n",
            "replace ./higgs-boson/training/training.csv? [y]es, [n]o, [A]ll, [N]one, [r]ename: A\n",
            "  inflating: ./higgs-boson/training/training.csv  \n"
          ]
        }
      ]
    },
    {
      "cell_type": "code",
      "source": [
        "\"\"\"\n",
        "Checking if everything went well\n",
        "\"\"\"\n",
        "# ! ls ./higgs-boson/\n",
        "! ls ./higgs-boson/training"
      ],
      "metadata": {
        "colab": {
          "base_uri": "https://localhost:8080/"
        },
        "id": "2uCunXtm_uWy",
        "outputId": "d3783079-ea6e-44c3-c1f0-d751e7c84688"
      },
      "execution_count": 174,
      "outputs": [
        {
          "output_type": "stream",
          "name": "stdout",
          "text": [
            "training.csv\n"
          ]
        }
      ]
    },
    {
      "cell_type": "code",
      "source": [
        "\"\"\"\n",
        "Let's read the training csvs\n",
        "\n",
        "\"\"\"\n",
        "import pandas as pd\n",
        "import numpy as np\n",
        "\n",
        "df = pd.read_csv(\"./higgs-boson/training/training.csv\")\n",
        "print(df.head()) # just printing what it looks like\n",
        "df = df.drop(columns=['EventId', 'Weight']) # drop columns we don't use"
      ],
      "metadata": {
        "colab": {
          "base_uri": "https://localhost:8080/"
        },
        "id": "g2ebo0gz_0Tl",
        "outputId": "82b05803-c901-4011-960f-5ec2e694e8ae"
      },
      "execution_count": 175,
      "outputs": [
        {
          "output_type": "stream",
          "name": "stdout",
          "text": [
            "   EventId  DER_mass_MMC  DER_mass_transverse_met_lep  DER_mass_vis  DER_pt_h  \\\n",
            "0   100000       138.470                       51.655        97.827    27.980   \n",
            "1   100001       160.937                       68.768       103.235    48.146   \n",
            "2   100002      -999.000                      162.172       125.953    35.635   \n",
            "3   100003       143.905                       81.417        80.943     0.414   \n",
            "4   100004       175.864                       16.915       134.805    16.405   \n",
            "\n",
            "   DER_deltaeta_jet_jet  DER_mass_jet_jet  DER_prodeta_jet_jet  \\\n",
            "0                  0.91           124.711                2.666   \n",
            "1               -999.00          -999.000             -999.000   \n",
            "2               -999.00          -999.000             -999.000   \n",
            "3               -999.00          -999.000             -999.000   \n",
            "4               -999.00          -999.000             -999.000   \n",
            "\n",
            "   DER_deltar_tau_lep  DER_pt_tot  ...  PRI_jet_num  PRI_jet_leading_pt  \\\n",
            "0               3.064      41.928  ...            2              67.435   \n",
            "1               3.473       2.078  ...            1              46.226   \n",
            "2               3.148       9.336  ...            1              44.251   \n",
            "3               3.310       0.414  ...            0            -999.000   \n",
            "4               3.891      16.405  ...            0            -999.000   \n",
            "\n",
            "   PRI_jet_leading_eta  PRI_jet_leading_phi  PRI_jet_subleading_pt  \\\n",
            "0                2.150                0.444                 46.062   \n",
            "1                0.725                1.158               -999.000   \n",
            "2                2.053               -2.028               -999.000   \n",
            "3             -999.000             -999.000               -999.000   \n",
            "4             -999.000             -999.000               -999.000   \n",
            "\n",
            "   PRI_jet_subleading_eta  PRI_jet_subleading_phi  PRI_jet_all_pt    Weight  \\\n",
            "0                    1.24                  -2.475         113.497  0.002653   \n",
            "1                 -999.00                -999.000          46.226  2.233584   \n",
            "2                 -999.00                -999.000          44.251  2.347389   \n",
            "3                 -999.00                -999.000          -0.000  5.446378   \n",
            "4                 -999.00                -999.000           0.000  6.245333   \n",
            "\n",
            "   Label  \n",
            "0      s  \n",
            "1      b  \n",
            "2      b  \n",
            "3      b  \n",
            "4      b  \n",
            "\n",
            "[5 rows x 33 columns]\n"
          ]
        }
      ]
    },
    {
      "cell_type": "code",
      "source": [
        "\"\"\"\n",
        "We filter out bad values\n",
        "\"\"\"\n",
        "df = df.replace(-999.000, np.nan)\n",
        "df = df.dropna()\n",
        "# print(df.head())"
      ],
      "metadata": {
        "id": "75BSHwKp3qUN"
      },
      "execution_count": 176,
      "outputs": []
    },
    {
      "cell_type": "code",
      "source": [
        "\"\"\"\n",
        "We get rid of EventId column. Label column is our y (output). Rest is X (input)\n",
        "\"\"\"\n",
        "X = df.iloc[:, :-1].to_numpy()\n",
        "Y = df.iloc[:, -1].to_numpy() # just get Label\n",
        "# print(f\"X shape: {X.shape}\")\n",
        "# print(f\"Y shape: {Y.shape}\")\n",
        "# print(f\"Y values b4: {Y}\")\n",
        "# turn the signal and background to 1 and 0 respectively\n",
        "Y[Y == \"s\"] = 1\n",
        "Y[Y == \"b\"] = 0\n",
        "# print(np.any(Y == \"s\") or np.any(Y == \"b\")) # check if there's any non number left\n",
        "# print(f\"Y values after: {Y}\")\n",
        "Y = Y.astype('int32').reshape((-1,1))"
      ],
      "metadata": {
        "id": "RDWbvbC6DgWw"
      },
      "execution_count": 177,
      "outputs": []
    },
    {
      "cell_type": "code",
      "source": [
        "# convert them into torch tensors bc we are gonna use pytorch\n",
        "import torch\n",
        "X = torch.Tensor(X)\n",
        "Y = torch.Tensor(Y)"
      ],
      "metadata": {
        "id": "WVkXH7SlM3Io"
      },
      "execution_count": 178,
      "outputs": []
    },
    {
      "cell_type": "code",
      "source": [
        "\"\"\"\n",
        "We do the train test split. We don't shuffle the data just yet, we can do that \n",
        "pytorch data loader\n",
        "\"\"\"\n",
        "from sklearn.model_selection import train_test_split\n",
        "\n",
        "X_train, X_test, Y_train, Y_test = train_test_split(X, Y, test_size=0.20)\n",
        "\n",
        "# print(f\"X_train shape: {X_train.shape}\")\n",
        "# print(f\"X_test shape: {X_test.shape}\")\n",
        "# print(f\"Y_train shape: {Y_train.shape}\")\n",
        "# print(f\"Y_test shape: {Y_test.shape}\")"
      ],
      "metadata": {
        "id": "wpCzX1ryA_pR"
      },
      "execution_count": 179,
      "outputs": []
    },
    {
      "cell_type": "code",
      "source": [
        "\"\"\"\n",
        "Now we gotta transfer the numpy data into a \"dataset\" so pytorch can load it as\n",
        "as dataloader. This is not necessary, but a nice practice, since \n",
        "dataloaders shuffles data and you can change batch sizes easily\n",
        "\"\"\"\n",
        "from torch import Tensor\n",
        "from torch.utils.data import Dataset, DataLoader\n",
        "\n",
        "class CustomDataset(Dataset):\n",
        "  def __init__(self, X: Tensor, labels: Tensor):\n",
        "    self.X = X\n",
        "    self.Y = labels\n",
        "  def __len__(self):\n",
        "      return self.X.shape[0]\n",
        "  def __getitem__(self, idx: int):\n",
        "    x = self.X[idx]\n",
        "    label = self.Y[idx]\n",
        "    return x, label\n",
        "\n",
        "dataset_train = CustomDataset(X_train, Y_train)\n",
        "train_dataloader = DataLoader(dataset_train, batch_size=64, shuffle=True)\n",
        "\n",
        "# dataset_test = CustomDataset(X_test, Y_test)\n",
        "# test_dataloader = DataLoader(dataset_test, batch_size=64, shuffle=True)"
      ],
      "metadata": {
        "id": "M_yQd0hTFbmB"
      },
      "execution_count": 180,
      "outputs": []
    },
    {
      "cell_type": "code",
      "source": [
        "import torch.nn as nn \n",
        "\n",
        "class three_layer_model(nn.Module):\n",
        "    def __init__(self):\n",
        "        # Model with <16,64,32,32,5> Behavior\n",
        "        super(three_layer_model, self).__init__()\n",
        "        self.quantized_model = False\n",
        "        self.input_shape = 30  # (,30)\n",
        "        self.fc1 = nn.Linear(self.input_shape, 64)\n",
        "        self.fc2 = nn.Linear(64, 32)\n",
        "        self.fc3 = nn.Linear(32, 32)\n",
        "        self.fc4 = nn.Linear(32, 1)\n",
        "        self.act1 = nn.ReLU()\n",
        "        self.act2 = nn.ReLU()\n",
        "        self.act3 = nn.ReLU()\n",
        "        self.sigmoid = nn.Sigmoid()\n",
        "\n",
        "    def forward(self, x):\n",
        "        x = self.act1(self.fc1(x))\n",
        "        x = self.act2(self.fc2(x))\n",
        "        x = self.act3(self.fc3(x))\n",
        "        sigmoid_out = self.sigmoid(self.fc4(x))\n",
        "        return sigmoid_out\n",
        "model = three_layer_model()"
      ],
      "metadata": {
        "id": "PvLqPijPrJ49"
      },
      "execution_count": 181,
      "outputs": []
    },
    {
      "cell_type": "code",
      "source": [
        "\"\"\"\n",
        "Training phase\n",
        "\"\"\"\n",
        "import torch.nn.functional as F\n",
        "\n",
        "model.train() # put model in train mode (for batchnormalization)\n",
        "optimizer = torch.optim.AdamW(model.parameters(), lr=1e-3)\n",
        "i = 0\n",
        "for x, y in train_dataloader:\n",
        "  loss = F.binary_cross_entropy(model(x), y)\n",
        "  i +=1\n",
        "  # if i > 100:\n",
        "  #   break\n",
        "\n",
        "  optimizer.zero_grad() # this deletes all previous grad calculations. very important\n",
        "  loss.backward() # calculates the gradients\n",
        "  optimizer.step() # applies backpropagation"
      ],
      "metadata": {
        "id": "Kwj6-bu7rSHi"
      },
      "execution_count": 182,
      "outputs": []
    },
    {
      "cell_type": "code",
      "source": [
        "\"\"\"\n",
        "Testing phase\n",
        "\"\"\"\n",
        "from sklearn import metrics\n",
        "import matplotlib.pyplot as plt\n",
        "\n",
        "model.eval() # put model in eval mode (for batchnormalization)\n",
        "with torch.no_grad():\n",
        "  fpr, tpr, _ = metrics.roc_curve(Y_test,  model(X_test))\n",
        "  auc = metrics.roc_auc_score(Y_test, model(X_test))\n",
        "  \n",
        "\n",
        "#create ROC curve\n",
        "plt.plot(fpr,tpr,label=\"AUC=\"+str(auc))\n",
        "plt.ylabel('True Positive Rate')\n",
        "plt.xlabel('False Positive Rate')\n",
        "plt.legend(loc=4)\n",
        "plt.show()"
      ],
      "metadata": {
        "colab": {
          "base_uri": "https://localhost:8080/",
          "height": 279
        },
        "id": "D-gB2eW5Op2Y",
        "outputId": "fd2f9ac8-b1a6-4a8b-9ad9-94aeeb04d494"
      },
      "execution_count": 183,
      "outputs": [
        {
          "output_type": "display_data",
          "data": {
            "text/plain": [
              "<Figure size 432x288 with 1 Axes>"
            ],
            "image/png": "[encoded data removed]"
          },
          "metadata": {
            "needs_background": "light"
          }
        }
      ]
    },
    {
      "cell_type": "code",
      "source": [
        "from brevitas.nn import QuantLinear\n",
        "from brevitas.quant import Int8WeightPerTensorFixedPoint\n",
        "import math\n",
        "\n",
        "# fc = QuantLinear(10, 5, bias=False, weight_quant=Int8WeightPerTensorFixedPoint)\n",
        "\n",
        "quant_linear = QuantLinear(2, 4, weight_quant=Int8WeightPerTensorFixedPoint, bias=False)\n",
        "\n",
        "print(quant_linear.quant_weight())\n",
        "print(quant_linear.quant_weight().int())\n",
        "# print(f\"Weight QuantTensor:\\n {quant_linear.quant_weight()}\")\n",
        "# print(f\"Weight fix point: {- math.log2(quant_linear.quant_weight().scale)}\")"
      ],
      "metadata": {
        "colab": {
          "base_uri": "https://localhost:8080/"
        },
        "id": "qcZ7BnRDVlXA",
        "outputId": "80a2273e-d5e9-4998-a0c5-08b6b7723ec0"
      },
      "execution_count": 184,
      "outputs": [
        {
          "output_type": "stream",
          "name": "stdout",
          "text": [
            "QuantTensor(value=tensor([[ 0.3594,  0.5781],\n",
            "        [ 0.0078, -0.3750],\n",
            "        [ 0.5312,  0.1328],\n",
            "        [-0.2500,  0.5156]], grad_fn=<MulBackward0>), scale=tensor(0.0078, grad_fn=<DivBackward0>), zero_point=tensor(0.), bit_width=tensor(8.), signed_t=tensor(True), training_t=tensor(True))\n",
            "tensor([[ 46,  74],\n",
            "        [  1, -48],\n",
            "        [ 68,  17],\n",
            "        [-32,  66]], dtype=torch.int32)\n"
          ]
        }
      ]
    },
    {
      "cell_type": "code",
      "source": [
        "import inspect\n",
        "from brevitas.nn import QuantLinear, QuantReLU\n",
        "from IPython.display import Markdown, display\n",
        "\n",
        "def pretty_print_source(source):\n",
        "    display(Markdown('```python\\n' + source + '\\n```'))\n",
        "    \n",
        "# source = inspect.getsource(QuantLinear.__init__)  \n",
        "# pretty_print_source(source)\n",
        "source = inspect.getsource(QuantReLU.__init__)  \n",
        "pretty_print_source(source)"
      ],
      "metadata": {
        "colab": {
          "base_uri": "https://localhost:8080/",
          "height": 260
        },
        "id": "gKF5ONZBXaNC",
        "outputId": "e51cf327-37b3-4c04-fd2b-9571ad40a80e"
      },
      "execution_count": 185,
      "outputs": [
        {
          "output_type": "display_data",
          "data": {
            "text/plain": [
              "<IPython.core.display.Markdown object>"
            ],
            "text/markdown": "```python\n    def __init__(\n            self,\n            act_quant: Optional[ActQuantType] = Uint8ActPerTensorFloat,\n            input_quant: Optional[ActQuantType] = None,\n            return_quant_tensor: bool = False,\n            **kwargs):\n        QuantNLAL.__init__(\n            self,\n            act_impl=nn.ReLU,\n            passthrough_act=True,\n            input_quant=input_quant,\n            act_quant=act_quant,\n            return_quant_tensor=return_quant_tensor,\n            **kwargs)\n\n```"
          },
          "metadata": {}
        }
      ]
    },
    {
      "cell_type": "code",
      "source": [
        "# \"\"\"\n",
        "# brevitas version\n",
        "# \"\"\"\n",
        "# import torch.nn as nn \n",
        "# import brevitas.nn as qnn\n",
        "# from brevitas.core.quant import QuantType\n",
        "\n",
        "# class three_layer_model_bv(nn.Module):\n",
        "#     def __init__(self):\n",
        "#         # Model with <16,64,32,32,5> Behavior\n",
        "#         super(three_layer_model_bv, self).__init__()\n",
        "#         self.input_shape = int(30)  # (,16)\n",
        "#         self.quantized_model = True #variable to inform some of our plotting functions this is quantized\n",
        "#         self.weight_precision = 8\n",
        "#         self.fc1 = qnn.QuantLinear(self.input_shape, int(64),\n",
        "#                                    bias=True,\n",
        "#                                    weight_quant_type=QuantType.INT,\n",
        "#                                    weight_bit_width=self.weight_precision,\n",
        "#                                    return_quant_tensor=True\n",
        "#                                    )\n",
        "#         self.fc2 = qnn.QuantLinear(64, 32,\n",
        "#                                    bias=True,\n",
        "#                                    weight_quant_type=QuantType.INT,\n",
        "#                                    weight_bit_width=self.weight_precision,\n",
        "#                                    return_quant_tensor=True\n",
        "#                                    )\n",
        "#         self.fc3 = qnn.QuantLinear(32, 32,\n",
        "#                                    bias=True,\n",
        "#                                    weight_quant_type=QuantType.INT,\n",
        "#                                    weight_bit_width=self.weight_precision,\n",
        "#                                    return_quant_tensor=True\n",
        "#                                    )\n",
        "#         self.fc4 = qnn.QuantLinear(32, 1,\n",
        "#                                    bias=True,\n",
        "#                                    weight_quant_type=QuantType.INT,\n",
        "#                                    weight_bit_width=self.weight_precision,\n",
        "#                                    return_quant_tensor=True\n",
        "#                                    )\n",
        "#         self.act1 = qnn.QuantReLU(\n",
        "#             quant_type=QuantType.INT, \n",
        "#             bit_width=self.weight_precision, \n",
        "#             max_val=6,\n",
        "#             return_quant_tensor=True\n",
        "#         ) \n",
        "#         self.act2 = qnn.QuantReLU(\n",
        "#             quant_type=QuantType.INT, \n",
        "#             bit_width=self.weight_precision, \n",
        "#             max_val=6,\n",
        "#             return_quant_tensor=True\n",
        "#         )\n",
        "#         self.act3 = qnn.QuantReLU(\n",
        "#             quant_type=QuantType.INT, \n",
        "#             bit_width=self.weight_precision, \n",
        "#             max_val=6,\n",
        "#             return_quant_tensor=True\n",
        "#         )\n",
        "#         self.sigmoid = nn.Sigmoid()\n",
        "\n",
        "\n",
        "#     def forward(self, x):\n",
        "#         test = self.fc1(x)\n",
        "#         x = self.act1(test)\n",
        "#         x = self.act2(self.fc2(x))\n",
        "#         x = self.act3(self.fc3(x))\n",
        "#         # print(f\"x: {x}\")\n",
        "#         x = self.fc4(x)\n",
        "#         # print(f\"fc output: {x}\")\n",
        "#         sigmoid_out = self.sigmoid(x)\n",
        "\n",
        "#         return sigmoid_out\n",
        "\n",
        "\n",
        "# model_bv = three_layer_model_bv()"
      ],
      "metadata": {
        "id": "bloFTK-ybDGI"
      },
      "execution_count": 186,
      "outputs": []
    },
    {
      "cell_type": "code",
      "source": [
        "# \"\"\"\n",
        "# Training phase\n",
        "# \"\"\"\n",
        "# import torch.nn.functional as F\n",
        "\n",
        "# model_bv.train() # put model in train mode (for batchnormalization)\n",
        "# optimizer = torch.optim.AdamW(model_bv.parameters(), lr=1e-3)\n",
        "# i = 0\n",
        "# for x, y in train_dataloader:\n",
        "#   # print(y.shape)\n",
        "#   # print(model_bv(x).shape)\n",
        "#   loss = F.binary_cross_entropy(model_bv(x), y)\n",
        "#   i +=1\n",
        "#   # if i > 100:\n",
        "#   #   break\n",
        "\n",
        "#   optimizer.zero_grad() # this deletes all previous grad calculations. very important\n",
        "#   loss.backward() # calculates the gradients\n",
        "#   optimizer.step() # applies backpropagation"
      ],
      "metadata": {
        "id": "0MPKPmHlgajJ"
      },
      "execution_count": 187,
      "outputs": []
    },
    {
      "cell_type": "code",
      "source": [
        "# \"\"\"\n",
        "# Testing phase\n",
        "# \"\"\"\n",
        "# from sklearn import metrics\n",
        "# import matplotlib.pyplot as plt\n",
        "\n",
        "# model_bv.eval() # put model in eval mode (for batchnormalization)\n",
        "# with torch.no_grad():\n",
        "#   fpr, tpr, _ = metrics.roc_curve(Y_test,  model_bv(X_test))\n",
        "#   auc = metrics.roc_auc_score(Y_test, model_bv(X_test))\n",
        "  \n",
        "\n",
        "# #create ROC curve\n",
        "# plt.plot(fpr,tpr,label=\"AUC=\"+str(auc))\n",
        "# plt.ylabel('True Positive Rate')\n",
        "# plt.xlabel('False Positive Rate')\n",
        "# plt.legend(loc=4)\n",
        "# plt.show()"
      ],
      "metadata": {
        "id": "9mpBdRHGgbE1"
      },
      "execution_count": 188,
      "outputs": []
    },
    {
      "cell_type": "code",
      "source": [
        "from brevitas.quant.scaled_int import Int8ActPerTensorFloat\n",
        "\n",
        "\"\"\"class three_layer_model_bv_seq(nn.Module):\n",
        "  def __init__(self):\n",
        "      super(three_layer_model_bv_seq, self).__init__()\n",
        "      input_dim = 30\n",
        "      self.quantized_model = True #variable to inform some of our plotting functions this is quantized\n",
        "      self.weight_precision = 8 # 8\n",
        "      mlp_dims = [30 , 64, 32, 32]\n",
        "      mlp_blocks = [nn.BatchNorm1d(input_dim)]\n",
        "      for idx in range(len(mlp_dims)-1):\n",
        "        # print(mlp_dims[idx + 1])\n",
        "        mlp_blocks.append(qnn.QuantLinear(\n",
        "                        int(mlp_dims[idx]), \n",
        "                        int(mlp_dims[idx + 1]),\n",
        "                        bias=True,\n",
        "                        weight_quant_type=QuantType.INT,\n",
        "                        weight_bit_width=self.weight_precision,\n",
        "                        return_quant_tensor=True,\n",
        "                        input_quant=Int8ActPerTensorFloat\n",
        "                        )\n",
        "                        \n",
        "        )\n",
        "        mlp_blocks.append(\n",
        "            qnn.QuantReLU(\n",
        "                quant_type=QuantType.INT, \n",
        "                bit_width=self.weight_precision, \n",
        "                max_val=6, \n",
        "                return_quant_tensor=True\n",
        "            )\n",
        "        )\n",
        "      # add last layer\n",
        "      mlp_blocks.append(qnn.QuantLinear(\n",
        "                        mlp_dims[len(mlp_dims)-1], \n",
        "                        1,\n",
        "                        bias=True,\n",
        "                        weight_quant_type=QuantType.INT,\n",
        "                        weight_bit_width=self.weight_precision,\n",
        "                        return_quant_tensor=True\n",
        "                        )\n",
        "        )\n",
        "      mlp_blocks.append(nn.Sigmoid())\n",
        "      self.mlp = nn.Sequential(*mlp_blocks)\n",
        "\n",
        "  def forward(self, X: Tensor):\n",
        "      return self.mlp(X)\n",
        "\n",
        "model_bv_seq = three_layer_model_bv_seq()\"\"\""
      ],
      "metadata": {
        "colab": {
          "base_uri": "https://localhost:8080/",
          "height": 104
        },
        "id": "hOLYaw_gRV_Y",
        "outputId": "c3bd1532-3401-45f3-f729-e4bbea130148"
      },
      "execution_count": 189,
      "outputs": [
        {
          "output_type": "execute_result",
          "data": {
            "text/plain": [
              "'class three_layer_model_bv_seq(nn.Module):\\n  def __init__(self):\\n      super(three_layer_model_bv_seq, self).__init__()\\n      input_dim = 30\\n      self.quantized_model = True #variable to inform some of our plotting functions this is quantized\\n      self.weight_precision = 8 # 8\\n      mlp_dims = [30 , 64, 32, 32]\\n      mlp_blocks = [nn.BatchNorm1d(input_dim)]\\n      for idx in range(len(mlp_dims)-1):\\n        # print(mlp_dims[idx + 1])\\n        mlp_blocks.append(qnn.QuantLinear(\\n                        int(mlp_dims[idx]), \\n                        int(mlp_dims[idx + 1]),\\n                        bias=True,\\n                        weight_quant_type=QuantType.INT,\\n                        weight_bit_width=self.weight_precision,\\n                        return_quant_tensor=True,\\n                        input_quant=Int8ActPerTensorFloat\\n                        )\\n                        \\n        )\\n        mlp_blocks.append(\\n            qnn.QuantReLU(\\n                quant_type=QuantType.INT, \\n                bit_width=self.weight_precision, \\n                max_val=6, \\n                return_quant_tensor=True\\n            )\\n        )\\n      # add last layer\\n      mlp_blocks.append(qnn.QuantLinear(\\n                        mlp_dims[len(mlp_dims)-1], \\n                        1,\\n                        bias=True,\\n                        weight_quant_type=QuantType.INT,\\n                        weight_bit_width=self.weight_precision,\\n                        return_quant_tensor=True\\n                        )\\n        )\\n      mlp_blocks.append(nn.Sigmoid())\\n      self.mlp = nn.Sequential(*mlp_blocks)\\n\\n  def forward(self, X: Tensor):\\n      return self.mlp(X)\\n\\nmodel_bv_seq = three_layer_model_bv_seq()'"
            ],
            "application/vnd.google.colaboratory.intrinsic+json": {
              "type": "string"
            }
          },
          "metadata": {},
          "execution_count": 189
        }
      ]
    },
    {
      "cell_type": "code",
      "source": [
        "# import brevitas.nn as qnn\n",
        "# from brevitas.core.quant import QuantType\n",
        "# from brevitas.quant.scaled_int import Int8ActPerTensorFloat, Int8WeightPerTensorFloat\n",
        "# from brevitas.quant.shifted_scaled_int import ShiftedUint8ActPerTensorFloat\n",
        "\n",
        "# \"\"\"\n",
        "# NOTE: try quantizing the input data and \n",
        "# see if there's big changes\n",
        "# \"\"\"\n",
        "\n",
        "# input_dim = 30\n",
        "# weight_precision = 8 # 8\n",
        "# # mlp_dims = [30 , 64, 32, 32]\n",
        "# mlp_dims = [30 , 16, 8, 8]\n",
        "# mlp_blocks = [nn.BatchNorm1d(input_dim)]\n",
        "# for idx in range(len(mlp_dims)-1):\n",
        "#   # print(mlp_dims[idx + 1])\n",
        "#   # mlp_blocks.append(qnn.QuantLinear(\n",
        "#   #                 int(mlp_dims[idx]), \n",
        "#   #                 int(mlp_dims[idx + 1]),\n",
        "#   #                 bias=True,\n",
        "#   #                 weight_quant_type=QuantType.INT,\n",
        "#   #                 weight_bit_width=weight_precision,\n",
        "#   #                 return_quant_tensor=True,\n",
        "#   #                 output_quant=Int8ActPerTensorFloat,\n",
        "#   #                 input_quant=Int8ActPerTensorFloat\n",
        "#   #                 )\n",
        "                  \n",
        "#   # )\n",
        "#   mlp_blocks.append(qnn.QuantLinear(\n",
        "#                   int(mlp_dims[idx]), \n",
        "#                   int(mlp_dims[idx + 1]),\n",
        "#                   bias=True,\n",
        "#                   input_bit_width=weight_precision,\n",
        "#                   output_bit_width=weight_precision,\n",
        "#                   weight_quant=Int8WeightPerTensorFloat,\n",
        "#                   input_quant=ShiftedUint8ActPerTensorFloat,\n",
        "#                   output_quant=ShiftedUint8ActPerTensorFloat,\n",
        "#                   return_quant_tensor=True\n",
        "#                   )\n",
        "                  \n",
        "#   )\n",
        "#   mlp_blocks.append(\n",
        "#       qnn.QuantReLU(\n",
        "#           quant_type=QuantType.INT, \n",
        "#           bit_width=weight_precision, \n",
        "#           max_val=6, \n",
        "#           return_quant_tensor=True\n",
        "#       )\n",
        "#   )\n",
        "# # add last layer\n",
        "# mlp_blocks.append(qnn.QuantLinear(\n",
        "#                   mlp_dims[len(mlp_dims)-1], \n",
        "#                   1,\n",
        "#                   bias=True,\n",
        "#                   input_bit_width=weight_precision,\n",
        "#                   output_bit_width=weight_precision,\n",
        "#                   weight_quant=Int8WeightPerTensorFloat,\n",
        "#                   input_quant=ShiftedUint8ActPerTensorFloat,\n",
        "#                   output_quant=ShiftedUint8ActPerTensorFloat,\n",
        "#                   return_quant_tensor=True\n",
        "#                   )\n",
        "#   )\n",
        "# # mlp_blocks.append(nn.Sigmoid())\n",
        "# mlp_blocks.append(\n",
        "#       qnn.QuantSigmoid(\n",
        "#           quant_type=QuantType.INT, \n",
        "#           bit_width=weight_precision, \n",
        "#           max_val=6, \n",
        "#           return_quant_tensor=True\n",
        "#       )\n",
        "#   )\n",
        "# model_bv_seq = nn.Sequential(*mlp_blocks)\n"
      ],
      "metadata": {
        "id": "A2F-YR_TlvWx"
      },
      "execution_count": 190,
      "outputs": []
    },
    {
      "cell_type": "code",
      "source": [
        "import brevitas.quant.fixed_point as fp\n",
        "\n",
        "# quant =fp.Int8WeightPerTensorFixedPoint\n",
        "# print(quant.bit_width)\n",
        "# quant.bit_width = 16\n",
        "# print(quant.bit_width)\n",
        "# print(fp.Int8WeightPerTensorFixedPoint.bit_width)"
      ],
      "metadata": {
        "id": "W00nE9nOf1uW"
      },
      "execution_count": 191,
      "outputs": []
    },
    {
      "cell_type": "code",
      "source": [
        "from brevitas.core.function_wrapper.ops_ste import CeilSte\n",
        "from brevitas.core.scaling import PowerOfTwoIntScaling\n",
        "from brevitas.core.restrict_val import PowerOfTwoRestrictValue\n",
        "from brevitas.quant.solver.weight import WeightQuantSolver\n",
        "from brevitas.quant.solver.bias import BiasQuantSolver\n",
        "from brevitas.quant.solver.act import ActQuantSolver\n",
        "from brevitas.quant.base import *\n",
        "from brevitas.inject import ExtendedInjector\n",
        "from brevitas.inject.enum import ScalingImplType, StatsOp, RestrictValueType\n",
        "from brevitas.core.scaling import ConstScaling\n",
        "\n",
        "\"\"\"\n",
        "NOTE: still not too sure if ScalingImplType.CONST is useful\n",
        "\"\"\"\n",
        "\n",
        "custom_bit_width = 12\n",
        "custom_scale = 0.001\n",
        "custom_scaling_impl = custom_scale*2**(custom_bit_width-1)\n",
        "print(f\"custom_scaling_impl: {custom_scaling_impl}\")\n",
        "\n",
        "class PerTensorActPoTScalingCustombit(ExtendedInjector):\n",
        "    \"\"\"\n",
        "    \"\"\"\n",
        "    scaling_per_output_channel = False\n",
        "    restrict_scaling_type = RestrictValueType.POWER_OF_TWO\n",
        "    bit_width = custom_bit_width\n",
        "    restrict_value_float_to_int_impl = CeilSte\n",
        "\n",
        "class PerTensorWeightPoTScalingCustombit(ExtendedInjector):\n",
        "    \"\"\"\n",
        "    \"\"\"\n",
        "    scaling_per_output_channel = False\n",
        "    restrict_scaling_type = RestrictValueType.POWER_OF_TWO\n",
        "    bit_width = custom_bit_width\n",
        "    restrict_value_float_to_int_impl = CeilSte\n",
        "    scaling_impl = ConstScaling(custom_scaling_impl)\n",
        "\n",
        "class CustomMaxScaling(ExtendedInjector):\n",
        "    \"\"\"\n",
        "    \"\"\"\n",
        "    scaling_impl_type = ScalingImplType.CONST\n",
        "    scaling_stats_op = StatsOp.MAX\n",
        "\n",
        "class ParamFromRuntimePercentileScaling(ExtendedInjector):\n",
        "    \"\"\"\n",
        "    \"\"\"\n",
        "    scaling_impl_type = ScalingImplType.CONST\n",
        "    scaling_stats_op = StatsOp.PERCENTILE\n",
        "    percentile_q = 99.999\n",
        "    collect_stats_steps = 300\n",
        "\n",
        "class IntCustomWeightPerTensorFixedPoint(\n",
        "    NarrowIntQuant, CustomMaxScaling, PerTensorWeightPoTScalingCustombit, WeightQuantSolver):\n",
        "    \"\"\"\n",
        "    8-bit narrow per-tensor signed fixed-point weight quantizer with the radix point\n",
        "    computed from backpropagated statistics of the weight tensor.\n",
        "\n",
        "    Examples:\n",
        "        >>> from brevitas.nn import QuantLinear\n",
        "        >>> fc = QuantLinear(10, 5, bias=False, weight_quant=Int8WeightPerTensorFixedPoint)\n",
        "        >>> fc.quant_weight()\n",
        "    \"\"\"\n",
        "    pass\n",
        "\n",
        "\n",
        "class IntCustomActPerTensorFixedPoint(\n",
        "    IntQuant, ParamFromRuntimePercentileScaling, PerTensorActPoTScalingCustombit, ActQuantSolver):\n",
        "    \"\"\"\n",
        "    8-bit per-tensor signed int activations fixed-point quantizer with learned radix point\n",
        "    initialized from runtime statistics.\n",
        "\n",
        "    Examples:\n",
        "        >>> from brevitas.nn import QuantIdentity\n",
        "        >>> act = QuantIdentity(act_quant=Int8ActPerTensorFixedPoint)\n",
        "    \"\"\"\n",
        "    min_val = -custom_scale*(2**(custom_bit_width-1))\n",
        "    max_val = custom_scale*(2**(custom_bit_width-1)-1)\n",
        "    print(f\"min_val: {min_val}\")\n",
        "    print(f\"max_val: {max_val}\")\n",
        "\n",
        "# class UintCustomActPerTensorFixedPoint(\n",
        "#     UintQuant, ParamFromRuntimePercentileScaling, PerTensorActPoTScalingCustombit, ActQuantSolver):\n",
        "#     \"\"\"\n",
        "#     8-bit per-tensor unsigned int activations fixed-point quantizer with learned radix point\n",
        "#     initialized from runtime statistics.\n",
        "\n",
        "#     Examples:\n",
        "#         >>> from brevitas.nn import QuantReLU\n",
        "#         >>> act = QuantReLU(act_quant=Uint8ActPerTensorFixedPoint)\n",
        "#     \"\"\"\n",
        "#     pass\n",
        "\n",
        "\n",
        "class IntCustomBiasPerTensorFixedPointInternalScaling(\n",
        "    IntQuant, MaxStatsScaling, PerTensorWeightPoTScalingCustombit, BiasQuantSolver):\n",
        "    \"\"\"\n",
        "    8-bit per-tensor signed fixed-point bias quantizer with the radix point computed\n",
        "    from backpropagated statistics of the bias tensor.\n",
        "\n",
        "    Examples:\n",
        "        >>> from brevitas.nn import QuantLinear\n",
        "        >>> fc = QuantLinear(10, 5, bias=True, bias_quant=Int8BiasPerTensorFixedPointInternalScaling)\n",
        "    \"\"\"\n",
        "    requires_input_scale = False\n",
        "    requires_input_bit_width = False\n"
      ],
      "metadata": {
        "colab": {
          "base_uri": "https://localhost:8080/"
        },
        "id": "qZ88lTVUmud4",
        "outputId": "e7795039-5f22-4fb5-ef85-660faf525b54"
      },
      "execution_count": 237,
      "outputs": [
        {
          "output_type": "stream",
          "name": "stdout",
          "text": [
            "custom_scaling_impl: 2.048\n",
            "min_val: -2.048\n",
            "max_val: 2.047\n"
          ]
        }
      ]
    },
    {
      "cell_type": "code",
      "source": [
        "from brevitas.nn import QuantIdentity\n",
        "\"\"\"\n",
        "Seems like scale \n",
        "\"\"\"\n",
        "min_val = -custom_scale*(2**(custom_bit_width-1))\n",
        "max_val = custom_scale*(2**(custom_bit_width-1)-1)\n",
        "float_input = torch.randn(3, 2)\n",
        "float_input[0][0] =  max_val + 4\n",
        "float_input[0][1] = min_val - 1\n",
        "# float_input[1][0] = 5 \n",
        "print(float_input[0])\n",
        "quant_identity = QuantIdentity(act_quant=IntCustomActPerTensorFixedPoint, return_quant_tensor=True)\n",
        "quant_input = quant_identity(float_input)\n",
        "\n",
        "print(f\"Float input:\\n {float_input} \\n\")\n",
        "print(f\"Quant input:\\n {quant_input} \\n\")\n",
        "\n",
        "float_bias = torch.randn(3)\n",
        "# float_bias[0] = 2**8 + 4\n",
        "# float_bias[1] = -(2**8)\n",
        "# float_bias[2] = 5\n",
        "quant_bias = quant_identity(float_bias)\n",
        "\n",
        "print(f\"Float bias:\\n {float_bias} \\n\")\n",
        "print(f\"Quant bias:\\n {quant_bias} \\n\")"
      ],
      "metadata": {
        "colab": {
          "base_uri": "https://localhost:8080/"
        },
        "id": "bIVDZ1VzNLMZ",
        "outputId": "7396ad97-bd65-4c9d-d276-06bd6215cb56"
      },
      "execution_count": 238,
      "outputs": [
        {
          "output_type": "stream",
          "name": "stdout",
          "text": [
            "tensor([ 6.0470, -3.0480])\n",
            "Float input:\n",
            " tensor([[ 6.0470, -3.0480],\n",
            "        [ 2.6339,  1.9166],\n",
            "        [-0.2575,  2.8516]]) \n",
            "\n",
            "Quant input:\n",
            " QuantTensor(value=tensor([[ 3.9980, -3.0488],\n",
            "        [ 2.6348,  1.9160],\n",
            "        [-0.2578,  2.8516]]), scale=tensor(0.0020), zero_point=tensor(0.), bit_width=tensor(12.), signed_t=tensor(True), training_t=tensor(True)) \n",
            "\n",
            "Float bias:\n",
            " tensor([-0.1687, -1.1031,  0.2408]) \n",
            "\n",
            "Quant bias:\n",
            " QuantTensor(value=tensor([-0.1680, -1.1035,  0.2402]), scale=tensor(0.0020), zero_point=tensor(0.), bit_width=tensor(12.), signed_t=tensor(True), training_t=tensor(True)) \n",
            "\n"
          ]
        }
      ]
    },
    {
      "cell_type": "code",
      "source": [
        "normal_linear = nn.Linear(2, 3, bias = True)\n",
        "normal_linear.weight = nn.Parameter(float_input)\n",
        "normal_linear.bias = nn.Parameter(float_bias)\n",
        "print(normal_linear.state_dict())"
      ],
      "metadata": {
        "colab": {
          "base_uri": "https://localhost:8080/"
        },
        "id": "Ty1sWJ9Uy-dp",
        "outputId": "3b49b93e-ea0a-4316-b7f0-d71ff5471a24"
      },
      "execution_count": 212,
      "outputs": [
        {
          "output_type": "stream",
          "name": "stdout",
          "text": [
            "OrderedDict([('weight', tensor([[-0.7353, -0.8951],\n",
            "        [-1.6098,  0.2296],\n",
            "        [-0.2755,  0.9692]])), ('bias', tensor([1.3777, 0.5095, 0.9858]))])\n"
          ]
        }
      ]
    },
    {
      "cell_type": "code",
      "source": [
        "BREVITAS_IGNORE_MISSING_KEYS = True\n",
        "quant_linear = QuantLinear(\n",
        "    2, 3,\n",
        "    weight_quant=IntCustomWeightPerTensorFixedPoint, \n",
        "    bias=True, bias_quant=IntCustomBiasPerTensorFixedPointInternalScaling\n",
        "    )\n",
        "quant_linear.load_state_dict(normal_linear.state_dict())\n",
        "\n",
        "\n",
        "print(f\"Weight QuantTensor:\\n {quant_linear.quant_weight()}\")\n",
        "# print(f\"Weight fix point: {- math.log2(quant_linear.quant_weight().scale)}\")\n",
        "print(f\"Weight scale: {quant_linear.quant_weight().scale}\")\n",
        "# print(f\"Weight fix point: {quant_linear.quant_weight().scale.int()}\")\n",
        "\n",
        "print(f\"Bias QuantTensor:\\n {quant_linear.quant_bias()}\")\n",
        "print(f\"Bias scale: {quant_linear.quant_bias().scale}\")"
      ],
      "metadata": {
        "colab": {
          "base_uri": "https://localhost:8080/"
        },
        "id": "s9Nh8RXUjK63",
        "outputId": "8d18832f-d03a-449a-8721-a2257228fecc"
      },
      "execution_count": 196,
      "outputs": [
        {
          "output_type": "stream",
          "name": "stdout",
          "text": [
            "Weight QuantTensor:\n",
            " QuantTensor(value=tensor([[ 254., -254.],\n",
            "        [   4.,    0.],\n",
            "        [  -2.,   -0.]], grad_fn=<MulBackward0>), scale=tensor(2.), zero_point=tensor(0.), bit_width=tensor(8.), signed_t=tensor(True), training_t=tensor(True))\n",
            "Weight scale: 2.0\n",
            "Bias QuantTensor:\n",
            " QuantTensor(value=tensor([ 254., -256.,    4.], grad_fn=<MulBackward0>), scale=tensor(2.), zero_point=tensor(0.), bit_width=tensor(8.), signed_t=tensor(True), training_t=tensor(True))\n",
            "Bias scale: 2.0\n"
          ]
        }
      ]
    },
    {
      "cell_type": "code",
      "source": [
        "\"\"\"\n",
        "ap_fixed hls4ml testing\n",
        "\"\"\"\n",
        "import hls4ml \n",
        "from sklearn.metrics import mean_squared_error\n",
        "\n",
        "int_bit = 2\n",
        "fract_bit = 5\n",
        "total_bit = int_bit + fract_bit\n",
        "ap_fixed_config = f\"ap_fixed<{total_bit},{int_bit}>\"\n",
        "normal_linear = nn.Sequential(normal_linear)\n",
        "config = hls4ml.utils.config_from_pytorch_model(normal_linear,\n",
        "                                    default_precision=ap_fixed_config,\n",
        "                                    granularity='model'\n",
        ")\n",
        "print(f\"config: {config}\")\n",
        "hls_linear = hls4ml.converters.convert_from_pytorch_model(normal_linear,\n",
        "                                                    hls_config=config,\n",
        "                                                    output_dir='model_1/hls4ml_prj',\n",
        "                                                    part='xcu250-figd2104-2L-e',\n",
        "                                                    input_shape = (100,2) # 100 here is irrelevant\n",
        ")\n",
        "hls_linear.compile()\n"
      ],
      "metadata": {
        "colab": {
          "base_uri": "https://localhost:8080/"
        },
        "id": "enZcbz7CRQWx",
        "outputId": "0c7f0e38-fa25-44f1-aa46-47ebd090d08d"
      },
      "execution_count": 205,
      "outputs": [
        {
          "output_type": "stream",
          "name": "stdout",
          "text": [
            "config: {'Model': {'Precision': 'ap_fixed<7,2>', 'ReuseFactor': 1, 'Strategy': 'Latency'}}\n",
            "Interpreting Model ...\n",
            "Topology:\n",
            "Input Shape:  [[100, 2]]\n",
            "Layer name: 0.0, layer type: Dense, input shape: [[100, 2]]\n",
            "Creating HLS model\n",
            "Writing HLS project\n",
            "Done\n"
          ]
        }
      ]
    },
    {
      "cell_type": "code",
      "source": [
        "hls_input = np.ascontiguousarray(np.array([[0.0,0.0]]))\n",
        "torch_input = torch.from_numpy(hls_input).float()\n",
        "print(hls_linear.predict(hls_input))\n",
        "print(normal_linear(torch_input))"
      ],
      "metadata": {
        "colab": {
          "base_uri": "https://localhost:8080/"
        },
        "id": "dP4VmCthSChv",
        "outputId": "d56c651c-690d-41b9-9c5f-36a127ae69f9"
      },
      "execution_count": 209,
      "outputs": [
        {
          "output_type": "stream",
          "name": "stdout",
          "text": [
            "[0. 0. 1.]\n",
            "tensor([[ 260., -256.,    5.]], grad_fn=<AddmmBackward0>)\n"
          ]
        }
      ]
    },
    {
      "cell_type": "code",
      "source": [
        "\"\"\"\n",
        "Reinitialize the custom quantizers for a realistic stuff\n",
        "testing\n",
        "\"\"\"\n",
        "\n",
        "custom_bit_width = 12\n",
        "custom_scale = 0.001\n",
        "custom_scaling_impl = custom_scale*2**(custom_bit_width-1)\n",
        "\n",
        "class PerTensorActPoTScalingCustombit(ExtendedInjector):\n",
        "    \"\"\"\n",
        "    \"\"\"\n",
        "    scaling_per_output_channel = False\n",
        "    restrict_scaling_type = RestrictValueType.POWER_OF_TWO\n",
        "    bit_width = custom_bit_width\n",
        "    restrict_value_float_to_int_impl = CeilSte\n",
        "\n",
        "class PerTensorWeightPoTScalingCustombit(ExtendedInjector):\n",
        "    \"\"\"\n",
        "    \"\"\"\n",
        "    scaling_per_output_channel = False\n",
        "    restrict_scaling_type = RestrictValueType.POWER_OF_TWO\n",
        "    bit_width = custom_bit_width\n",
        "    restrict_value_float_to_int_impl = CeilSte\n",
        "    scaling_impl = ConstScaling(custom_scaling_impl)\n",
        "\n",
        "class CustomMaxScaling(ExtendedInjector):\n",
        "    \"\"\"\n",
        "    \"\"\"\n",
        "    scaling_impl_type = ScalingImplType.CONST\n",
        "    scaling_stats_op = StatsOp.MAX\n",
        "\n",
        "class ParamFromRuntimePercentileScaling(ExtendedInjector):\n",
        "    \"\"\"\n",
        "    \"\"\"\n",
        "    scaling_impl_type = ScalingImplType.CONST\n",
        "    scaling_stats_op = StatsOp.PERCENTILE\n",
        "    percentile_q = 99.999\n",
        "    collect_stats_steps = 300\n",
        "\n",
        "class IntCustomWeightPerTensorFixedPoint(\n",
        "    NarrowIntQuant, CustomMaxScaling, PerTensorWeightPoTScalingCustombit, WeightQuantSolver):\n",
        "    \"\"\"\n",
        "    8-bit narrow per-tensor signed fixed-point weight quantizer with the radix point\n",
        "    computed from backpropagated statistics of the weight tensor.\n",
        "\n",
        "    Examples:\n",
        "        >>> from brevitas.nn import QuantLinear\n",
        "        >>> fc = QuantLinear(10, 5, bias=False, weight_quant=Int8WeightPerTensorFixedPoint)\n",
        "        >>> fc.quant_weight()\n",
        "    \"\"\"\n",
        "    pass\n",
        "\n",
        "\n",
        "class IntCustomActPerTensorFixedPoint(\n",
        "    IntQuant, ParamFromRuntimePercentileScaling, PerTensorActPoTScalingCustombit, ActQuantSolver):\n",
        "    \"\"\"\n",
        "    8-bit per-tensor signed int activations fixed-point quantizer with learned radix point\n",
        "    initialized from runtime statistics.\n",
        "\n",
        "    Examples:\n",
        "        >>> from brevitas.nn import QuantIdentity\n",
        "        >>> act = QuantIdentity(act_quant=Int8ActPerTensorFixedPoint)\n",
        "    \"\"\"\n",
        "    min_val = -custom_scale*2**(custom_bit_width-1)\n",
        "    max_val = custom_scale*(2**(custom_bit_width-1)-1)\n",
        "    print(f\"min_val: {min_val}\")\n",
        "    print(f\"max_val: {max_val}\")\n",
        "\n",
        "# class UintCustomActPerTensorFixedPoint(\n",
        "#     UintQuant, ParamFromRuntimePercentileScaling, PerTensorActPoTScalingCustombit, ActQuantSolver):\n",
        "#     \"\"\"\n",
        "#     8-bit per-tensor unsigned int activations fixed-point quantizer with learned radix point\n",
        "#     initialized from runtime statistics.\n",
        "\n",
        "#     Examples:\n",
        "#         >>> from brevitas.nn import QuantReLU\n",
        "#         >>> act = QuantReLU(act_quant=Uint8ActPerTensorFixedPoint)\n",
        "#     \"\"\"\n",
        "#     pass\n",
        "\n",
        "\n",
        "class IntCustomBiasPerTensorFixedPointInternalScaling(\n",
        "    IntQuant, MaxStatsScaling, PerTensorWeightPoTScalingCustombit, BiasQuantSolver):\n",
        "    \"\"\"\n",
        "    8-bit per-tensor signed fixed-point bias quantizer with the radix point computed\n",
        "    from backpropagated statistics of the bias tensor.\n",
        "\n",
        "    Examples:\n",
        "        >>> from brevitas.nn import QuantLinear\n",
        "        >>> fc = QuantLinear(10, 5, bias=True, bias_quant=Int8BiasPerTensorFixedPointInternalScaling)\n",
        "    \"\"\"\n",
        "    requires_input_scale = False\n",
        "    requires_input_bit_width = False"
      ],
      "metadata": {
        "colab": {
          "base_uri": "https://localhost:8080/"
        },
        "id": "JnSNtzaqm1jm",
        "outputId": "dcb32be6-c77e-407e-97ac-a02369e5ef1e"
      },
      "execution_count": 163,
      "outputs": [
        {
          "output_type": "stream",
          "name": "stdout",
          "text": [
            "min_val: -2.048\n",
            "max_val: 2.047\n"
          ]
        }
      ]
    },
    {
      "cell_type": "code",
      "source": [
        "import brevitas.nn as qnn\n",
        "from brevitas.core.quant import QuantType\n",
        "from brevitas.quant.scaled_int import Int8ActPerTensorFloat, Int8WeightPerTensorFloat\n",
        "from brevitas.quant.shifted_scaled_int import ShiftedUint8ActPerTensorFloat\n",
        "import brevitas.quant.fixed_point as fp\n",
        "\"\"\"\n",
        "NOTE: try quantizing the input data and \n",
        "see if there's big changes\n",
        "\"\"\"\n",
        "\n",
        "input_dim = 30\n",
        "# mlp_dims = [30 , 64, 32, 32]\n",
        "mlp_dims = [30 , 16, 8, 8]\n",
        "# mlp_dims = [30 , 128, 64, 64]\n",
        "mlp_blocks = [nn.BatchNorm1d(input_dim)]\n",
        "for idx in range(len(mlp_dims)-1):\n",
        "  # print(mlp_dims[idx + 1])\n",
        "  mlp_blocks.append(qnn.QuantLinear(\n",
        "                  int(mlp_dims[idx]), \n",
        "                  int(mlp_dims[idx + 1]),\n",
        "                  bias=True,\n",
        "                  weight_quant=IntCustomWeightPerTensorFixedPoint,\n",
        "                  bias_quant=IntCustomBiasPerTensorFixedPointInternalScaling,\n",
        "                  input_quant= IntCustomActPerTensorFixedPoint,\n",
        "                  output_quant= IntCustomActPerTensorFixedPoint,\n",
        "                  return_quant_tensor=True\n",
        "                  )  \n",
        "  )\n",
        "  \n",
        "  mlp_blocks.append(\n",
        "      qnn.QuantReLU(\n",
        "          act_quant=IntCustomActPerTensorFixedPoint,\n",
        "          return_quant_tensor=True\n",
        "      )\n",
        "  )\n",
        "# add last layer\n",
        "mlp_blocks.append(qnn.QuantLinear(\n",
        "                  mlp_dims[len(mlp_dims)-1], \n",
        "                  1,\n",
        "                  bias=True,\n",
        "                  weight_quant=IntCustomWeightPerTensorFixedPoint,\n",
        "                  bias_quant=IntCustomBiasPerTensorFixedPointInternalScaling,\n",
        "                  input_quant= IntCustomActPerTensorFixedPoint,\n",
        "                  output_quant= IntCustomActPerTensorFixedPoint,\n",
        "                  return_quant_tensor=True\n",
        "                  )\n",
        ")\n",
        "mlp_blocks.append(\n",
        "      qnn.QuantSigmoid(\n",
        "          act_quant=IntCustomActPerTensorFixedPoint,\n",
        "          return_quant_tensor=True\n",
        "      )\n",
        ")\n",
        "model_bv_seq = nn.Sequential(*mlp_blocks)\n"
      ],
      "metadata": {
        "id": "JqPmrUyhX9lG"
      },
      "execution_count": 164,
      "outputs": []
    },
    {
      "cell_type": "code",
      "source": [
        "# import brevitas.nn as qnn\n",
        "# from brevitas.core.quant import QuantType\n",
        "# from brevitas.quant.scaled_int import Int8ActPerTensorFloat, Int8WeightPerTensorFloat\n",
        "# from brevitas.quant.shifted_scaled_int import ShiftedUint8ActPerTensorFloat\n",
        "\n",
        "# \"\"\"\n",
        "# NOTE: try quantizing the input data and \n",
        "# see if there's big changes\n",
        "\n",
        "# Ben Hawk's way to writing bv code\n",
        "# \"\"\"\n",
        "\n",
        "# input_dim = 30\n",
        "# weight_precision = 8 # 8\n",
        "# # mlp_dims = [30 , 64, 32, 32]\n",
        "# mlp_dims = [30 , 16, 8, 8]\n",
        "# mlp_blocks = [nn.BatchNorm1d(input_dim)]\n",
        "# for idx in range(len(mlp_dims)-1):\n",
        "#   # print(mlp_dims[idx + 1])\n",
        "#   mlp_blocks.append(qnn.QuantLinear(\n",
        "#                   int(mlp_dims[idx]), \n",
        "#                   int(mlp_dims[idx + 1]),\n",
        "#                   bias=True,\n",
        "#                   weight_quant_type=QuantType.INT,\n",
        "#                   weight_bit_width=weight_precision,\n",
        "#                   return_quant_tensor=True\n",
        "#                   )  \n",
        "#   )\n",
        "  \n",
        "#   mlp_blocks.append(\n",
        "#       qnn.QuantReLU(\n",
        "#           quant_type=QuantType.INT, \n",
        "#           bit_width=weight_precision, \n",
        "#           max_val=6, \n",
        "#           return_quant_tensor=True\n",
        "#       )\n",
        "#   )\n",
        "# # add last layer\n",
        "# mlp_blocks.append(qnn.QuantLinear(\n",
        "#                   mlp_dims[len(mlp_dims)-1], \n",
        "#                   1,\n",
        "#                   bias=True,\n",
        "#                   weight_quant_type=QuantType.INT,\n",
        "#                   weight_bit_width=weight_precision,\n",
        "#                   return_quant_tensor=True\n",
        "#                   )\n",
        "# )\n",
        "# mlp_blocks.append(\n",
        "#       qnn.QuantSigmoid(\n",
        "#           quant_type=QuantType.INT, \n",
        "#           bit_width=weight_precision, \n",
        "#           max_val=6, \n",
        "#           return_quant_tensor=True\n",
        "#       )\n",
        "# )\n",
        "# model_bv_seq = nn.Sequential(*mlp_blocks)\n"
      ],
      "metadata": {
        "id": "IiLDe7P2Pwfs"
      },
      "execution_count": 70,
      "outputs": []
    },
    {
      "cell_type": "code",
      "source": [
        "\"\"\"\n",
        "Training phase\n",
        "\"\"\"\n",
        "import torch.nn.functional as F\n",
        "\n",
        "model_bv_seq.train() # put model in train mode (for batchnormalization)\n",
        "optimizer = torch.optim.AdamW(model_bv_seq.parameters(), lr=1e-3)\n",
        "i = 0\n",
        "for x, y in train_dataloader:\n",
        "  # print(y.shape)\n",
        "  # print(model_bv_seq(x).shape)\n",
        "  loss = F.binary_cross_entropy(model_bv_seq(x), y)\n",
        "  i +=1\n",
        "  # if i > 100:\n",
        "  #   break\n",
        "\n",
        "  optimizer.zero_grad() # this deletes all previous grad calculations. very important\n",
        "  loss.backward() # calculates the gradients\n",
        "  optimizer.step() # applies backpropagation"
      ],
      "metadata": {
        "id": "zInhwBDP3mzj"
      },
      "execution_count": 165,
      "outputs": []
    },
    {
      "cell_type": "code",
      "source": [
        "\"\"\"\n",
        "Testing phase\n",
        "\"\"\"\n",
        "from sklearn import metrics\n",
        "import matplotlib.pyplot as plt\n",
        "\n",
        "model_bv_seq.eval() # put model in eval mode \n",
        "with torch.no_grad():\n",
        "  Y_hat = model_bv_seq(X_test)[0]\n",
        "  fpr, tpr, _ = metrics.roc_curve(Y_test,  Y_hat)\n",
        "  auc = metrics.roc_auc_score(Y_test, Y_hat)\n",
        "  \n",
        "\n",
        "#create ROC curve\n",
        "plt.plot(fpr,tpr,label=\"AUC=\"+str(auc))\n",
        "plt.ylabel('True Positive Rate')\n",
        "plt.xlabel('False Positive Rate')\n",
        "plt.title(\"bv model after training\")\n",
        "plt.legend(loc=4)\n",
        "plt.show()"
      ],
      "metadata": {
        "colab": {
          "base_uri": "https://localhost:8080/",
          "height": 295
        },
        "id": "vhdVZqgqUlIe",
        "outputId": "21df84c3-4660-4c48-8d80-6ede2b4ee9f9"
      },
      "execution_count": 166,
      "outputs": [
        {
          "output_type": "display_data",
          "data": {
            "text/plain": [
              "<Figure size 432x288 with 1 Axes>"
            ],
            "image/png": "[encoded data removed]"
          },
          "metadata": {
            "needs_background": "light"
          }
        }
      ]
    },
    {
      "cell_type": "code",
      "source": [
        "# print(len(model_bv_seq.mlp))\n",
        "# print((model_bv_seq.mlp))\n",
        "N_test = X_test.shape[0]\n",
        "sample_size = 10\n",
        "bins = 500\n",
        "sample_idxs = np.random.choice(N_test, sample_size)\n",
        "# print(X_test.shape)"
      ],
      "metadata": {
        "id": "kUDaQ9IvWJh_"
      },
      "execution_count": 91,
      "outputs": []
    },
    {
      "cell_type": "code",
      "source": [
        "\"\"\"\n",
        "plot histograms\n",
        "\"\"\"\n",
        "from sklearn import metrics\n",
        "import matplotlib.pyplot as plt\n",
        "\n",
        "\n",
        "model_bv_seq.eval() # put model in eval mode (for batchnormalization)\n",
        "with torch.no_grad():\n",
        "  # y_hat = model_bv_seq[0](X_test[sample_idxs])\n",
        "  y_hat = model_bv_seq[0](X_test) # batchnorm\n",
        "\n",
        "  for idx in range(1,len(model_bv_seq)-2):\n",
        "    # print(f\"idx: {idx}\")\n",
        "    y_hat = model_bv_seq[idx](y_hat)\n",
        "    if idx%2 ==1: # quantlinear\n",
        "      print(f\"quantlinear layer tensor bit_width: {y_hat.bit_width}\")\n",
        "    else:# activation\n",
        "      print(f\"hidden activation layer tensor bit_width: {y_hat.bit_width}\")\n",
        "    \n",
        "    plt.hist(y_hat[0][:,0], bins= bins)\n",
        "    plt.show()\n",
        "\n",
        "  idx = len(model_bv_seq)-2\n",
        "  y_hat = model_bv_seq[idx](y_hat)\n",
        "  print(f\"output quantlinear layer tensor bit_width: {y_hat.bit_width}\")\n",
        "  plt.hist(y_hat[0][:,0], bins= bins)\n",
        "  plt.show()\n",
        "  idx = len(model_bv_seq)-1\n",
        "  y_hat = model_bv_seq[idx](y_hat)\n",
        "  # print(f\"output activation layer tensor : {y_hat}\")\n",
        "  # print(\"Sigmoid activation\")\n",
        "  # plt.hist(y_hat.flatten(), bins= bins)\n",
        "\n",
        "  print(\"QuantSigmoid activation\")\n",
        "  print(f\"QuantSigmoid output: {y_hat[0].shape}\")\n",
        "  plt.hist(y_hat[0].flatten(), bins= bins)\n",
        "\n",
        "  plt.show()\n",
        "\n",
        "    \n",
        "  \n",
        "\n"
      ],
      "metadata": {
        "colab": {
          "base_uri": "https://localhost:8080/",
          "height": 1000
        },
        "id": "CxRL869DV_yL",
        "outputId": "80f2400a-7b1a-47d0-eb54-55bbe6d302c0"
      },
      "execution_count": 131,
      "outputs": [
        {
          "output_type": "stream",
          "name": "stdout",
          "text": [
            "quantlinear layer tensor bit_width: 16.0\n"
          ]
        },
        {
          "output_type": "display_data",
          "data": {
            "text/plain": [
              "<Figure size 432x288 with 1 Axes>"
            ],
            "image/png": "[encoded data removed]"
          },
          "metadata": {
            "needs_background": "light"
          }
        },
        {
          "output_type": "stream",
          "name": "stdout",
          "text": [
            "hidden activation layer tensor bit_width: 16.0\n"
          ]
        },
        {
          "output_type": "display_data",
          "data": {
            "text/plain": [
              "<Figure size 432x288 with 1 Axes>"
            ],
            "image/png": "[encoded data removed]"
          },
          "metadata": {
            "needs_background": "light"
          }
        },
        {
          "output_type": "stream",
          "name": "stdout",
          "text": [
            "quantlinear layer tensor bit_width: 16.0\n"
          ]
        },
        {
          "output_type": "display_data",
          "data": {
            "text/plain": [
              "<Figure size 432x288 with 1 Axes>"
            ],
            "image/png": "[encoded data removed]"
          },
          "metadata": {
            "needs_background": "light"
          }
        },
        {
          "output_type": "stream",
          "name": "stdout",
          "text": [
            "hidden activation layer tensor bit_width: 16.0\n"
          ]
        },
        {
          "output_type": "display_data",
          "data": {
            "text/plain": [
              "<Figure size 432x288 with 1 Axes>"
            ],
            "image/png": "[encoded data removed]"
          },
          "metadata": {
            "needs_background": "light"
          }
        },
        {
          "output_type": "stream",
          "name": "stdout",
          "text": [
            "quantlinear layer tensor bit_width: 16.0\n"
          ]
        },
        {
          "output_type": "display_data",
          "data": {
            "text/plain": [
              "<Figure size 432x288 with 1 Axes>"
            ],
            "image/png": "[encoded data removed]"
          },
          "metadata": {
            "needs_background": "light"
          }
        },
        {
          "output_type": "stream",
          "name": "stdout",
          "text": [
            "hidden activation layer tensor bit_width: 16.0\n"
          ]
        },
        {
          "output_type": "display_data",
          "data": {
            "text/plain": [
              "<Figure size 432x288 with 1 Axes>"
            ],
            "image/png": "[encoded data removed]"
          },
          "metadata": {
            "needs_background": "light"
          }
        },
        {
          "output_type": "stream",
          "name": "stdout",
          "text": [
            "output quantlinear layer tensor bit_width: 16.0\n"
          ]
        },
        {
          "output_type": "display_data",
          "data": {
            "text/plain": [
              "<Figure size 432x288 with 1 Axes>"
            ],
            "image/png": "[encoded data removed]"
          },
          "metadata": {
            "needs_background": "light"
          }
        },
        {
          "output_type": "stream",
          "name": "stdout",
          "text": [
            "QuantSigmoid activation\n",
            "QuantSigmoid output: torch.Size([13623, 1])\n"
          ]
        },
        {
          "output_type": "display_data",
          "data": {
            "text/plain": [
              "<Figure size 432x288 with 1 Axes>"
            ],
            "image/png": "[encoded data removed]"
          },
          "metadata": {
            "needs_background": "light"
          }
        }
      ]
    },
    {
      "cell_type": "code",
      "source": [
        "# print(model_bv_seq.mlp[0])\n",
        "# print(model_bv_seq.mlp[0].__str__)\n",
        "# print(len(model_bv_seq.mlp))\n",
        "# for idx in range(1,len(model_bv_seq.mlp)-2):\n",
        "#     print(f\"idx: {idx}\")"
      ],
      "metadata": {
        "colab": {
          "base_uri": "https://localhost:8080/"
        },
        "id": "LvTR2iltng2s",
        "outputId": "9ed006f6-1ed4-4fd7-db7c-8cc77431f19d"
      },
      "execution_count": 114,
      "outputs": [
        {
          "output_type": "stream",
          "name": "stdout",
          "text": [
            "idx: 1\n",
            "idx: 2\n",
            "idx: 3\n",
            "idx: 4\n",
            "idx: 5\n"
          ]
        }
      ]
    },
    {
      "cell_type": "code",
      "source": [
        "\"\"\"\n",
        "IMPORTANT\n",
        "save the model to layer load it in a normal sequential for hls4ml\n",
        "\"\"\"\n",
        "save_path = \"./model.pt\"\n",
        "torch.save(model_bv_seq.state_dict(), save_path)\n"
      ],
      "metadata": {
        "colab": {
          "base_uri": "https://localhost:8080/"
        },
        "id": "_l3wdYIIlcMs",
        "outputId": "0ed07807-88dc-4a99-9e5b-761de245970c"
      },
      "execution_count": 132,
      "outputs": [
        {
          "output_type": "stream",
          "name": "stderr",
          "text": [
            "/usr/local/lib/python3.7/dist-packages/torch/nn/modules/module.py:1366: UserWarning: Positional args are being deprecated, use kwargs instead. Refer to https://pytorch.org/docs/master/generated/torch.nn.Module.html#torch.nn.Module.state_dict for details.\n",
            "  \"Positional args are being deprecated, use kwargs instead. Refer to \"\n"
          ]
        }
      ]
    },
    {
      "cell_type": "code",
      "source": [
        "\"\"\"\n",
        "define and initialize the torch model for hls4ml conversion.\n",
        "Pls note that nn.Sigmoid() is commented out as that is not supported by hls4ml\n",
        "\"\"\"\n",
        "import copy\n",
        "\n",
        "input_dim = 30\n",
        "weight_precision = 8 # 8\n",
        "# mlp_dims = [30 , 64, 32, 32]\n",
        "mlp_dims = [30 , 16, 8, 8]\n",
        "mlp_blocks = [nn.BatchNorm1d(input_dim)]\n",
        "for idx in range(len(mlp_dims)-1):\n",
        "  # print(mlp_dims[idx + 1])\n",
        "  mlp_blocks.append(nn.Linear(\n",
        "                  int(mlp_dims[idx]), \n",
        "                  int(mlp_dims[idx + 1]),\n",
        "                  bias=True\n",
        "                  )\n",
        "                  \n",
        "  )\n",
        "  mlp_blocks.append(\n",
        "      nn.ReLU()\n",
        "  )\n",
        "# add last layer\n",
        "mlp_blocks.append(nn.Linear(\n",
        "                  mlp_dims[len(mlp_dims)-1], \n",
        "                  1,\n",
        "                  bias=True,\n",
        "                  )\n",
        "  )\n",
        "# mlp_blocks.append(nn.Sigmoid())\n",
        "torch_model = nn.Sequential(*mlp_blocks)\n",
        "state_dict = torch.load(save_path)\n",
        "state_dict_copy = copy.deepcopy(state_dict)\n",
        "for key, value in state_dict.items():\n",
        "  if \"quant\" in key:\n",
        "    del state_dict_copy[key]\n",
        "# print(f\"new state dict without quantization keys: {state_dict_copy}\")\n",
        "torch_model.load_state_dict(state_dict_copy)"
      ],
      "metadata": {
        "colab": {
          "base_uri": "https://localhost:8080/"
        },
        "id": "Tf80x0-YplnR",
        "outputId": "05048985-8f44-40b3-d862-f5a56aef67fb"
      },
      "execution_count": 133,
      "outputs": [
        {
          "output_type": "execute_result",
          "data": {
            "text/plain": [
              "<All keys matched successfully>"
            ]
          },
          "metadata": {},
          "execution_count": 133
        }
      ]
    },
    {
      "cell_type": "code",
      "source": [
        "\"\"\"\n",
        "check if torch hls conversion is good\n",
        "\"\"\"\n",
        "import hls4ml \n",
        "from sklearn.metrics import mean_squared_error\n",
        "\n",
        "int_bit = 9 #14\n",
        "fract_bit = 6 #20\n",
        "total_bit = int_bit + fract_bit\n",
        "ap_fixed_config = f\"ap_fixed<{total_bit},{int_bit}>\"\n",
        "config = hls4ml.utils.config_from_pytorch_model(torch_model,\n",
        "                                    default_precision=ap_fixed_config,\n",
        "                                    granularity='model'\n",
        ")\n",
        "print(f\"config: {config}\")\n",
        "hls_model = hls4ml.converters.convert_from_pytorch_model(torch_model,\n",
        "                                                    hls_config=config,\n",
        "                                                    output_dir='model_1/hls4ml_prj',\n",
        "                                                    part='xcu250-figd2104-2L-e',\n",
        "                                                    input_shape = (100,30) # 100 here is irrelevant\n",
        ")\n",
        "hls_model.compile()\n",
        "X_hls_test = np.ascontiguousarray(X_test)\n",
        "Y_hat_hls = torch.sigmoid(torch.from_numpy(hls_model.predict(X_hls_test)))\n",
        "\n",
        "torch_model.eval()\n",
        "with torch.no_grad():\n",
        "  Y_hat_torch = torch.sigmoid(torch_model(X_test))\n",
        "MSE = mean_squared_error(Y_hat_torch.cpu().numpy(), Y_hat_hls.cpu().numpy())\n",
        "print(f\"MSE torch vs hls test output: {MSE}\")\n",
        "\n",
        "fpr, tpr, _ = metrics.roc_curve(Y_test,  Y_hat_hls.cpu().numpy())\n",
        "auc = metrics.roc_auc_score(Y_test, Y_hat_hls.cpu().numpy())\n",
        "  \n",
        "\n",
        "#create ROC curve\n",
        "plt.plot(fpr,tpr,label=\"AUC=\"+str(auc))\n",
        "plt.ylabel('True Positive Rate')\n",
        "plt.xlabel('False Positive Rate')\n",
        "plt.title(\"torch model from trained bv model parameters\")\n",
        "plt.legend(loc=4)\n",
        "plt.show()"
      ],
      "metadata": {
        "colab": {
          "base_uri": "https://localhost:8080/",
          "height": 573
        },
        "id": "2hqrusGN9hZw",
        "outputId": "7a47603b-7c6c-42c8-cc57-06c9e6e8ba36"
      },
      "execution_count": 134,
      "outputs": [
        {
          "output_type": "stream",
          "name": "stdout",
          "text": [
            "config: {'Model': {'Precision': 'ap_fixed<15,9>', 'ReuseFactor': 1, 'Strategy': 'Latency'}}\n",
            "Interpreting Model ...\n",
            "Topology:\n",
            "Input Shape:  [[100, 30]]\n",
            "Layer name: 0, layer type: BatchNormalization, input shape: [[100, 30]]\n",
            "Layer name: 1, layer type: Dense, input shape: [[100, 30]]\n",
            "Layer name: 2, layer type: Activation, input shape: [[100, 16]]\n",
            "Layer name: 3, layer type: Dense, input shape: [[100, 16]]\n",
            "Layer name: 4, layer type: Activation, input shape: [[100, 8]]\n",
            "Layer name: 5, layer type: Dense, input shape: [[100, 8]]\n",
            "Layer name: 6, layer type: Activation, input shape: [[100, 8]]\n",
            "Layer name: 7, layer type: Dense, input shape: [[100, 8]]\n",
            "Creating HLS model\n",
            "Writing HLS project\n",
            "Done\n",
            "MSE torch vs hls test output: 0.12652777135372162\n"
          ]
        },
        {
          "output_type": "display_data",
          "data": {
            "text/plain": [
              "<Figure size 432x288 with 1 Axes>"
            ],
            "image/png": "[encoded data removed]"
          },
          "metadata": {
            "needs_background": "light"
          }
        }
      ]
    },
    {
      "cell_type": "code",
      "source": [
        "\"\"\"\n",
        "Now doing Post Training Quantization with hls4ml to compare performance\n",
        "Parameter search over integer bits. Fractional bits frozen at 20    \n",
        "\"\"\"\n",
        "\n",
        "\n",
        "print(hls4ml.__version__)\n",
        "\n",
        "fract_bit = 14\n",
        "aurocs_int_q = []\n",
        "ap_fixed_configs_int = []\n",
        "\n",
        "for int_bit in range(2,13,1): \n",
        "    total_bit = int_bit + fract_bit\n",
        "    ap_fixed_config = f\"ap_fixed<{total_bit},{int_bit}>\"\n",
        "    config = hls4ml.utils.config_from_pytorch_model(torch_model,\n",
        "                                        default_precision=ap_fixed_config,\n",
        "                                        granularity='model'\n",
        "    )\n",
        "    print(f\"config: {config}\")\n",
        "    hls_model = hls4ml.converters.convert_from_pytorch_model(torch_model,\n",
        "                                                        hls_config=config,\n",
        "                                                        output_dir='model_1/hls4ml_prj',\n",
        "                                                        part='xcu250-figd2104-2L-e',\n",
        "                                                        input_shape = (100,30) # 100 here is irrelevant\n",
        "    )\n",
        "    hls_model.compile()\n",
        "    X_hls_test = np.ascontiguousarray(X_test)\n",
        "    Y_hat = torch.sigmoid(torch.from_numpy(hls_model.predict(X_hls_test)))\n",
        "    auc = metrics.roc_auc_score(Y_test, Y_hat.cpu().numpy())\n",
        "    aurocs_int_q.append(auc)\n",
        "    # ap_fixed_configs_int.append(f\"<{total_bit},{int_bit}>\")\n",
        "    ap_fixed_configs_int.append(int_bit)\n",
        "    "
      ],
      "metadata": {
        "colab": {
          "base_uri": "https://localhost:8080/"
        },
        "id": "-b-_zMKNsUSf",
        "outputId": "15a3a4c0-03dc-4c4f-ac89-e6de7d6de4c0"
      },
      "execution_count": 135,
      "outputs": [
        {
          "output_type": "stream",
          "name": "stdout",
          "text": [
            "0.6.0\n",
            "config: {'Model': {'Precision': 'ap_fixed<16,2>', 'ReuseFactor': 1, 'Strategy': 'Latency'}}\n",
            "Interpreting Model ...\n",
            "Topology:\n",
            "Input Shape:  [[100, 30]]\n",
            "Layer name: 0, layer type: BatchNormalization, input shape: [[100, 30]]\n",
            "Layer name: 1, layer type: Dense, input shape: [[100, 30]]\n",
            "Layer name: 2, layer type: Activation, input shape: [[100, 16]]\n",
            "Layer name: 3, layer type: Dense, input shape: [[100, 16]]\n",
            "Layer name: 4, layer type: Activation, input shape: [[100, 8]]\n",
            "Layer name: 5, layer type: Dense, input shape: [[100, 8]]\n",
            "Layer name: 6, layer type: Activation, input shape: [[100, 8]]\n",
            "Layer name: 7, layer type: Dense, input shape: [[100, 8]]\n",
            "Creating HLS model\n",
            "Writing HLS project\n",
            "Done\n",
            "config: {'Model': {'Precision': 'ap_fixed<17,3>', 'ReuseFactor': 1, 'Strategy': 'Latency'}}\n",
            "Interpreting Model ...\n",
            "Topology:\n",
            "Input Shape:  [[100, 30]]\n",
            "Layer name: 0, layer type: BatchNormalization, input shape: [[100, 30]]\n",
            "Layer name: 1, layer type: Dense, input shape: [[100, 30]]\n",
            "Layer name: 2, layer type: Activation, input shape: [[100, 16]]\n",
            "Layer name: 3, layer type: Dense, input shape: [[100, 16]]\n",
            "Layer name: 4, layer type: Activation, input shape: [[100, 8]]\n",
            "Layer name: 5, layer type: Dense, input shape: [[100, 8]]\n",
            "Layer name: 6, layer type: Activation, input shape: [[100, 8]]\n",
            "Layer name: 7, layer type: Dense, input shape: [[100, 8]]\n",
            "Creating HLS model\n",
            "Writing HLS project\n",
            "Done\n",
            "config: {'Model': {'Precision': 'ap_fixed<18,4>', 'ReuseFactor': 1, 'Strategy': 'Latency'}}\n",
            "Interpreting Model ...\n",
            "Topology:\n",
            "Input Shape:  [[100, 30]]\n",
            "Layer name: 0, layer type: BatchNormalization, input shape: [[100, 30]]\n",
            "Layer name: 1, layer type: Dense, input shape: [[100, 30]]\n",
            "Layer name: 2, layer type: Activation, input shape: [[100, 16]]\n",
            "Layer name: 3, layer type: Dense, input shape: [[100, 16]]\n",
            "Layer name: 4, layer type: Activation, input shape: [[100, 8]]\n",
            "Layer name: 5, layer type: Dense, input shape: [[100, 8]]\n",
            "Layer name: 6, layer type: Activation, input shape: [[100, 8]]\n",
            "Layer name: 7, layer type: Dense, input shape: [[100, 8]]\n",
            "Creating HLS model\n",
            "Writing HLS project\n",
            "Done\n",
            "config: {'Model': {'Precision': 'ap_fixed<19,5>', 'ReuseFactor': 1, 'Strategy': 'Latency'}}\n",
            "Interpreting Model ...\n",
            "Topology:\n",
            "Input Shape:  [[100, 30]]\n",
            "Layer name: 0, layer type: BatchNormalization, input shape: [[100, 30]]\n",
            "Layer name: 1, layer type: Dense, input shape: [[100, 30]]\n",
            "Layer name: 2, layer type: Activation, input shape: [[100, 16]]\n",
            "Layer name: 3, layer type: Dense, input shape: [[100, 16]]\n",
            "Layer name: 4, layer type: Activation, input shape: [[100, 8]]\n",
            "Layer name: 5, layer type: Dense, input shape: [[100, 8]]\n",
            "Layer name: 6, layer type: Activation, input shape: [[100, 8]]\n",
            "Layer name: 7, layer type: Dense, input shape: [[100, 8]]\n",
            "Creating HLS model\n",
            "Writing HLS project\n",
            "Done\n",
            "config: {'Model': {'Precision': 'ap_fixed<20,6>', 'ReuseFactor': 1, 'Strategy': 'Latency'}}\n",
            "Interpreting Model ...\n",
            "Topology:\n",
            "Input Shape:  [[100, 30]]\n",
            "Layer name: 0, layer type: BatchNormalization, input shape: [[100, 30]]\n",
            "Layer name: 1, layer type: Dense, input shape: [[100, 30]]\n",
            "Layer name: 2, layer type: Activation, input shape: [[100, 16]]\n",
            "Layer name: 3, layer type: Dense, input shape: [[100, 16]]\n",
            "Layer name: 4, layer type: Activation, input shape: [[100, 8]]\n",
            "Layer name: 5, layer type: Dense, input shape: [[100, 8]]\n",
            "Layer name: 6, layer type: Activation, input shape: [[100, 8]]\n",
            "Layer name: 7, layer type: Dense, input shape: [[100, 8]]\n",
            "Creating HLS model\n",
            "Writing HLS project\n",
            "Done\n",
            "config: {'Model': {'Precision': 'ap_fixed<21,7>', 'ReuseFactor': 1, 'Strategy': 'Latency'}}\n",
            "Interpreting Model ...\n",
            "Topology:\n",
            "Input Shape:  [[100, 30]]\n",
            "Layer name: 0, layer type: BatchNormalization, input shape: [[100, 30]]\n",
            "Layer name: 1, layer type: Dense, input shape: [[100, 30]]\n",
            "Layer name: 2, layer type: Activation, input shape: [[100, 16]]\n",
            "Layer name: 3, layer type: Dense, input shape: [[100, 16]]\n",
            "Layer name: 4, layer type: Activation, input shape: [[100, 8]]\n",
            "Layer name: 5, layer type: Dense, input shape: [[100, 8]]\n",
            "Layer name: 6, layer type: Activation, input shape: [[100, 8]]\n",
            "Layer name: 7, layer type: Dense, input shape: [[100, 8]]\n",
            "Creating HLS model\n",
            "Writing HLS project\n",
            "Done\n",
            "config: {'Model': {'Precision': 'ap_fixed<22,8>', 'ReuseFactor': 1, 'Strategy': 'Latency'}}\n",
            "Interpreting Model ...\n",
            "Topology:\n",
            "Input Shape:  [[100, 30]]\n",
            "Layer name: 0, layer type: BatchNormalization, input shape: [[100, 30]]\n",
            "Layer name: 1, layer type: Dense, input shape: [[100, 30]]\n",
            "Layer name: 2, layer type: Activation, input shape: [[100, 16]]\n",
            "Layer name: 3, layer type: Dense, input shape: [[100, 16]]\n",
            "Layer name: 4, layer type: Activation, input shape: [[100, 8]]\n",
            "Layer name: 5, layer type: Dense, input shape: [[100, 8]]\n",
            "Layer name: 6, layer type: Activation, input shape: [[100, 8]]\n",
            "Layer name: 7, layer type: Dense, input shape: [[100, 8]]\n",
            "Creating HLS model\n",
            "Writing HLS project\n",
            "Done\n",
            "config: {'Model': {'Precision': 'ap_fixed<23,9>', 'ReuseFactor': 1, 'Strategy': 'Latency'}}\n",
            "Interpreting Model ...\n",
            "Topology:\n",
            "Input Shape:  [[100, 30]]\n",
            "Layer name: 0, layer type: BatchNormalization, input shape: [[100, 30]]\n",
            "Layer name: 1, layer type: Dense, input shape: [[100, 30]]\n",
            "Layer name: 2, layer type: Activation, input shape: [[100, 16]]\n",
            "Layer name: 3, layer type: Dense, input shape: [[100, 16]]\n",
            "Layer name: 4, layer type: Activation, input shape: [[100, 8]]\n",
            "Layer name: 5, layer type: Dense, input shape: [[100, 8]]\n",
            "Layer name: 6, layer type: Activation, input shape: [[100, 8]]\n",
            "Layer name: 7, layer type: Dense, input shape: [[100, 8]]\n",
            "Creating HLS model\n",
            "Writing HLS project\n",
            "Done\n",
            "config: {'Model': {'Precision': 'ap_fixed<24,10>', 'ReuseFactor': 1, 'Strategy': 'Latency'}}\n",
            "Interpreting Model ...\n",
            "Topology:\n",
            "Input Shape:  [[100, 30]]\n",
            "Layer name: 0, layer type: BatchNormalization, input shape: [[100, 30]]\n",
            "Layer name: 1, layer type: Dense, input shape: [[100, 30]]\n",
            "Layer name: 2, layer type: Activation, input shape: [[100, 16]]\n",
            "Layer name: 3, layer type: Dense, input shape: [[100, 16]]\n",
            "Layer name: 4, layer type: Activation, input shape: [[100, 8]]\n",
            "Layer name: 5, layer type: Dense, input shape: [[100, 8]]\n",
            "Layer name: 6, layer type: Activation, input shape: [[100, 8]]\n",
            "Layer name: 7, layer type: Dense, input shape: [[100, 8]]\n",
            "Creating HLS model\n",
            "Writing HLS project\n",
            "Done\n",
            "config: {'Model': {'Precision': 'ap_fixed<25,11>', 'ReuseFactor': 1, 'Strategy': 'Latency'}}\n",
            "Interpreting Model ...\n",
            "Topology:\n",
            "Input Shape:  [[100, 30]]\n",
            "Layer name: 0, layer type: BatchNormalization, input shape: [[100, 30]]\n",
            "Layer name: 1, layer type: Dense, input shape: [[100, 30]]\n",
            "Layer name: 2, layer type: Activation, input shape: [[100, 16]]\n",
            "Layer name: 3, layer type: Dense, input shape: [[100, 16]]\n",
            "Layer name: 4, layer type: Activation, input shape: [[100, 8]]\n",
            "Layer name: 5, layer type: Dense, input shape: [[100, 8]]\n",
            "Layer name: 6, layer type: Activation, input shape: [[100, 8]]\n",
            "Layer name: 7, layer type: Dense, input shape: [[100, 8]]\n",
            "Creating HLS model\n",
            "Writing HLS project\n",
            "Done\n",
            "config: {'Model': {'Precision': 'ap_fixed<26,12>', 'ReuseFactor': 1, 'Strategy': 'Latency'}}\n",
            "Interpreting Model ...\n",
            "Topology:\n",
            "Input Shape:  [[100, 30]]\n",
            "Layer name: 0, layer type: BatchNormalization, input shape: [[100, 30]]\n",
            "Layer name: 1, layer type: Dense, input shape: [[100, 30]]\n",
            "Layer name: 2, layer type: Activation, input shape: [[100, 16]]\n",
            "Layer name: 3, layer type: Dense, input shape: [[100, 16]]\n",
            "Layer name: 4, layer type: Activation, input shape: [[100, 8]]\n",
            "Layer name: 5, layer type: Dense, input shape: [[100, 8]]\n",
            "Layer name: 6, layer type: Activation, input shape: [[100, 8]]\n",
            "Layer name: 7, layer type: Dense, input shape: [[100, 8]]\n",
            "Creating HLS model\n",
            "Writing HLS project\n",
            "Done\n"
          ]
        }
      ]
    },
    {
      "cell_type": "code",
      "source": [
        "plt.scatter(ap_fixed_configs_int, aurocs_int_q)\n",
        "plt.title(f\"int bitwidth search with fract_bit frozen at:{fract_bit}\")\n",
        "plt.show()"
      ],
      "metadata": {
        "colab": {
          "base_uri": "https://localhost:8080/",
          "height": 281
        },
        "id": "wrtCo93y3J7j",
        "outputId": "c342e561-0235-4ee4-a472-79ec1f11080a"
      },
      "execution_count": 136,
      "outputs": [
        {
          "output_type": "display_data",
          "data": {
            "text/plain": [
              "<Figure size 432x288 with 1 Axes>"
            ],
            "image/png": "[encoded data removed]"
          },
          "metadata": {
            "needs_background": "light"
          }
        }
      ]
    },
    {
      "cell_type": "code",
      "source": [
        "\"\"\"\n",
        "Parameter search over fractional bits. Integer bits frozen at 11   \n",
        "\"\"\"\n",
        "int_bit = 11\n",
        "aurocs_fract_q = []\n",
        "ap_fixed_configs_fract = []\n",
        "\n",
        "for fract_bit in range(2,32,2):\n",
        "    total_bit = int_bit + fract_bit\n",
        "    ap_fixed_config = f\"ap_fixed<{total_bit},{int_bit}>\"\n",
        "    config = hls4ml.utils.config_from_pytorch_model(torch_model,\n",
        "                                        default_precision=ap_fixed_config,\n",
        "                                        granularity='model'\n",
        "    )\n",
        "    print(f\"config: {config}\")\n",
        "    hls_model = hls4ml.converters.convert_from_pytorch_model(torch_model,\n",
        "                                                        hls_config=config,\n",
        "                                                        output_dir='model_1/hls4ml_prj',\n",
        "                                                        part='xcu250-figd2104-2L-e',\n",
        "                                                        input_shape = (100,30) # 100 here is irrelevant\n",
        "    )\n",
        "    hls_model.compile()\n",
        "    X_hls_test = np.ascontiguousarray(X_test)\n",
        "    auc = metrics.roc_auc_score(Y_test, hls_model.predict(X_hls_test))\n",
        "    aurocs_fract_q.append(auc)\n",
        "    # ap_fixed_configs_fract.append(f\"<{total_bit},{int_bit}>\")\n",
        "    ap_fixed_configs_fract.append(fract_bit)\n",
        "    \n"
      ],
      "metadata": {
        "colab": {
          "base_uri": "https://localhost:8080/"
        },
        "id": "JsPiHg7h3wsw",
        "outputId": "9224a8d5-a56b-4f62-ec42-432cd30e7ae4"
      },
      "execution_count": 137,
      "outputs": [
        {
          "output_type": "stream",
          "name": "stdout",
          "text": [
            "config: {'Model': {'Precision': 'ap_fixed<13,11>', 'ReuseFactor': 1, 'Strategy': 'Latency'}}\n",
            "Interpreting Model ...\n",
            "Topology:\n",
            "Input Shape:  [[100, 30]]\n",
            "Layer name: 0, layer type: BatchNormalization, input shape: [[100, 30]]\n",
            "Layer name: 1, layer type: Dense, input shape: [[100, 30]]\n",
            "Layer name: 2, layer type: Activation, input shape: [[100, 16]]\n",
            "Layer name: 3, layer type: Dense, input shape: [[100, 16]]\n",
            "Layer name: 4, layer type: Activation, input shape: [[100, 8]]\n",
            "Layer name: 5, layer type: Dense, input shape: [[100, 8]]\n",
            "Layer name: 6, layer type: Activation, input shape: [[100, 8]]\n",
            "Layer name: 7, layer type: Dense, input shape: [[100, 8]]\n",
            "Creating HLS model\n",
            "Writing HLS project\n",
            "Done\n",
            "config: {'Model': {'Precision': 'ap_fixed<15,11>', 'ReuseFactor': 1, 'Strategy': 'Latency'}}\n",
            "Interpreting Model ...\n",
            "Topology:\n",
            "Input Shape:  [[100, 30]]\n",
            "Layer name: 0, layer type: BatchNormalization, input shape: [[100, 30]]\n",
            "Layer name: 1, layer type: Dense, input shape: [[100, 30]]\n",
            "Layer name: 2, layer type: Activation, input shape: [[100, 16]]\n",
            "Layer name: 3, layer type: Dense, input shape: [[100, 16]]\n",
            "Layer name: 4, layer type: Activation, input shape: [[100, 8]]\n",
            "Layer name: 5, layer type: Dense, input shape: [[100, 8]]\n",
            "Layer name: 6, layer type: Activation, input shape: [[100, 8]]\n",
            "Layer name: 7, layer type: Dense, input shape: [[100, 8]]\n",
            "Creating HLS model\n",
            "Writing HLS project\n",
            "Done\n",
            "config: {'Model': {'Precision': 'ap_fixed<17,11>', 'ReuseFactor': 1, 'Strategy': 'Latency'}}\n",
            "Interpreting Model ...\n",
            "Topology:\n",
            "Input Shape:  [[100, 30]]\n",
            "Layer name: 0, layer type: BatchNormalization, input shape: [[100, 30]]\n",
            "Layer name: 1, layer type: Dense, input shape: [[100, 30]]\n",
            "Layer name: 2, layer type: Activation, input shape: [[100, 16]]\n",
            "Layer name: 3, layer type: Dense, input shape: [[100, 16]]\n",
            "Layer name: 4, layer type: Activation, input shape: [[100, 8]]\n",
            "Layer name: 5, layer type: Dense, input shape: [[100, 8]]\n",
            "Layer name: 6, layer type: Activation, input shape: [[100, 8]]\n",
            "Layer name: 7, layer type: Dense, input shape: [[100, 8]]\n",
            "Creating HLS model\n",
            "Writing HLS project\n",
            "Done\n",
            "config: {'Model': {'Precision': 'ap_fixed<19,11>', 'ReuseFactor': 1, 'Strategy': 'Latency'}}\n",
            "Interpreting Model ...\n",
            "Topology:\n",
            "Input Shape:  [[100, 30]]\n",
            "Layer name: 0, layer type: BatchNormalization, input shape: [[100, 30]]\n",
            "Layer name: 1, layer type: Dense, input shape: [[100, 30]]\n",
            "Layer name: 2, layer type: Activation, input shape: [[100, 16]]\n",
            "Layer name: 3, layer type: Dense, input shape: [[100, 16]]\n",
            "Layer name: 4, layer type: Activation, input shape: [[100, 8]]\n",
            "Layer name: 5, layer type: Dense, input shape: [[100, 8]]\n",
            "Layer name: 6, layer type: Activation, input shape: [[100, 8]]\n",
            "Layer name: 7, layer type: Dense, input shape: [[100, 8]]\n",
            "Creating HLS model\n",
            "Writing HLS project\n",
            "Done\n",
            "config: {'Model': {'Precision': 'ap_fixed<21,11>', 'ReuseFactor': 1, 'Strategy': 'Latency'}}\n",
            "Interpreting Model ...\n",
            "Topology:\n",
            "Input Shape:  [[100, 30]]\n",
            "Layer name: 0, layer type: BatchNormalization, input shape: [[100, 30]]\n",
            "Layer name: 1, layer type: Dense, input shape: [[100, 30]]\n",
            "Layer name: 2, layer type: Activation, input shape: [[100, 16]]\n",
            "Layer name: 3, layer type: Dense, input shape: [[100, 16]]\n",
            "Layer name: 4, layer type: Activation, input shape: [[100, 8]]\n",
            "Layer name: 5, layer type: Dense, input shape: [[100, 8]]\n",
            "Layer name: 6, layer type: Activation, input shape: [[100, 8]]\n",
            "Layer name: 7, layer type: Dense, input shape: [[100, 8]]\n",
            "Creating HLS model\n",
            "Writing HLS project\n",
            "Done\n",
            "config: {'Model': {'Precision': 'ap_fixed<23,11>', 'ReuseFactor': 1, 'Strategy': 'Latency'}}\n",
            "Interpreting Model ...\n",
            "Topology:\n",
            "Input Shape:  [[100, 30]]\n",
            "Layer name: 0, layer type: BatchNormalization, input shape: [[100, 30]]\n",
            "Layer name: 1, layer type: Dense, input shape: [[100, 30]]\n",
            "Layer name: 2, layer type: Activation, input shape: [[100, 16]]\n",
            "Layer name: 3, layer type: Dense, input shape: [[100, 16]]\n",
            "Layer name: 4, layer type: Activation, input shape: [[100, 8]]\n",
            "Layer name: 5, layer type: Dense, input shape: [[100, 8]]\n",
            "Layer name: 6, layer type: Activation, input shape: [[100, 8]]\n",
            "Layer name: 7, layer type: Dense, input shape: [[100, 8]]\n",
            "Creating HLS model\n",
            "Writing HLS project\n",
            "Done\n",
            "config: {'Model': {'Precision': 'ap_fixed<25,11>', 'ReuseFactor': 1, 'Strategy': 'Latency'}}\n",
            "Interpreting Model ...\n",
            "Topology:\n",
            "Input Shape:  [[100, 30]]\n",
            "Layer name: 0, layer type: BatchNormalization, input shape: [[100, 30]]\n",
            "Layer name: 1, layer type: Dense, input shape: [[100, 30]]\n",
            "Layer name: 2, layer type: Activation, input shape: [[100, 16]]\n",
            "Layer name: 3, layer type: Dense, input shape: [[100, 16]]\n",
            "Layer name: 4, layer type: Activation, input shape: [[100, 8]]\n",
            "Layer name: 5, layer type: Dense, input shape: [[100, 8]]\n",
            "Layer name: 6, layer type: Activation, input shape: [[100, 8]]\n",
            "Layer name: 7, layer type: Dense, input shape: [[100, 8]]\n",
            "Creating HLS model\n",
            "Writing HLS project\n",
            "Done\n",
            "config: {'Model': {'Precision': 'ap_fixed<27,11>', 'ReuseFactor': 1, 'Strategy': 'Latency'}}\n",
            "Interpreting Model ...\n",
            "Topology:\n",
            "Input Shape:  [[100, 30]]\n",
            "Layer name: 0, layer type: BatchNormalization, input shape: [[100, 30]]\n",
            "Layer name: 1, layer type: Dense, input shape: [[100, 30]]\n",
            "Layer name: 2, layer type: Activation, input shape: [[100, 16]]\n",
            "Layer name: 3, layer type: Dense, input shape: [[100, 16]]\n",
            "Layer name: 4, layer type: Activation, input shape: [[100, 8]]\n",
            "Layer name: 5, layer type: Dense, input shape: [[100, 8]]\n",
            "Layer name: 6, layer type: Activation, input shape: [[100, 8]]\n",
            "Layer name: 7, layer type: Dense, input shape: [[100, 8]]\n",
            "Creating HLS model\n",
            "Writing HLS project\n",
            "Done\n",
            "config: {'Model': {'Precision': 'ap_fixed<29,11>', 'ReuseFactor': 1, 'Strategy': 'Latency'}}\n",
            "Interpreting Model ...\n",
            "Topology:\n",
            "Input Shape:  [[100, 30]]\n",
            "Layer name: 0, layer type: BatchNormalization, input shape: [[100, 30]]\n",
            "Layer name: 1, layer type: Dense, input shape: [[100, 30]]\n",
            "Layer name: 2, layer type: Activation, input shape: [[100, 16]]\n",
            "Layer name: 3, layer type: Dense, input shape: [[100, 16]]\n",
            "Layer name: 4, layer type: Activation, input shape: [[100, 8]]\n",
            "Layer name: 5, layer type: Dense, input shape: [[100, 8]]\n",
            "Layer name: 6, layer type: Activation, input shape: [[100, 8]]\n",
            "Layer name: 7, layer type: Dense, input shape: [[100, 8]]\n",
            "Creating HLS model\n",
            "Writing HLS project\n",
            "Done\n",
            "config: {'Model': {'Precision': 'ap_fixed<31,11>', 'ReuseFactor': 1, 'Strategy': 'Latency'}}\n",
            "Interpreting Model ...\n",
            "Topology:\n",
            "Input Shape:  [[100, 30]]\n",
            "Layer name: 0, layer type: BatchNormalization, input shape: [[100, 30]]\n",
            "Layer name: 1, layer type: Dense, input shape: [[100, 30]]\n",
            "Layer name: 2, layer type: Activation, input shape: [[100, 16]]\n",
            "Layer name: 3, layer type: Dense, input shape: [[100, 16]]\n",
            "Layer name: 4, layer type: Activation, input shape: [[100, 8]]\n",
            "Layer name: 5, layer type: Dense, input shape: [[100, 8]]\n",
            "Layer name: 6, layer type: Activation, input shape: [[100, 8]]\n",
            "Layer name: 7, layer type: Dense, input shape: [[100, 8]]\n",
            "Creating HLS model\n",
            "Writing HLS project\n",
            "Done\n",
            "config: {'Model': {'Precision': 'ap_fixed<33,11>', 'ReuseFactor': 1, 'Strategy': 'Latency'}}\n",
            "Interpreting Model ...\n",
            "Topology:\n",
            "Input Shape:  [[100, 30]]\n",
            "Layer name: 0, layer type: BatchNormalization, input shape: [[100, 30]]\n",
            "Layer name: 1, layer type: Dense, input shape: [[100, 30]]\n",
            "Layer name: 2, layer type: Activation, input shape: [[100, 16]]\n",
            "Layer name: 3, layer type: Dense, input shape: [[100, 16]]\n",
            "Layer name: 4, layer type: Activation, input shape: [[100, 8]]\n",
            "Layer name: 5, layer type: Dense, input shape: [[100, 8]]\n",
            "Layer name: 6, layer type: Activation, input shape: [[100, 8]]\n",
            "Layer name: 7, layer type: Dense, input shape: [[100, 8]]\n",
            "Creating HLS model\n",
            "Writing HLS project\n",
            "Done\n",
            "config: {'Model': {'Precision': 'ap_fixed<35,11>', 'ReuseFactor': 1, 'Strategy': 'Latency'}}\n",
            "Interpreting Model ...\n",
            "Topology:\n",
            "Input Shape:  [[100, 30]]\n",
            "Layer name: 0, layer type: BatchNormalization, input shape: [[100, 30]]\n",
            "Layer name: 1, layer type: Dense, input shape: [[100, 30]]\n",
            "Layer name: 2, layer type: Activation, input shape: [[100, 16]]\n",
            "Layer name: 3, layer type: Dense, input shape: [[100, 16]]\n",
            "Layer name: 4, layer type: Activation, input shape: [[100, 8]]\n",
            "Layer name: 5, layer type: Dense, input shape: [[100, 8]]\n",
            "Layer name: 6, layer type: Activation, input shape: [[100, 8]]\n",
            "Layer name: 7, layer type: Dense, input shape: [[100, 8]]\n",
            "Creating HLS model\n",
            "Writing HLS project\n",
            "Done\n",
            "config: {'Model': {'Precision': 'ap_fixed<37,11>', 'ReuseFactor': 1, 'Strategy': 'Latency'}}\n",
            "Interpreting Model ...\n",
            "Topology:\n",
            "Input Shape:  [[100, 30]]\n",
            "Layer name: 0, layer type: BatchNormalization, input shape: [[100, 30]]\n",
            "Layer name: 1, layer type: Dense, input shape: [[100, 30]]\n",
            "Layer name: 2, layer type: Activation, input shape: [[100, 16]]\n",
            "Layer name: 3, layer type: Dense, input shape: [[100, 16]]\n",
            "Layer name: 4, layer type: Activation, input shape: [[100, 8]]\n",
            "Layer name: 5, layer type: Dense, input shape: [[100, 8]]\n",
            "Layer name: 6, layer type: Activation, input shape: [[100, 8]]\n",
            "Layer name: 7, layer type: Dense, input shape: [[100, 8]]\n",
            "Creating HLS model\n",
            "Writing HLS project\n",
            "Done\n",
            "config: {'Model': {'Precision': 'ap_fixed<39,11>', 'ReuseFactor': 1, 'Strategy': 'Latency'}}\n",
            "Interpreting Model ...\n",
            "Topology:\n",
            "Input Shape:  [[100, 30]]\n",
            "Layer name: 0, layer type: BatchNormalization, input shape: [[100, 30]]\n",
            "Layer name: 1, layer type: Dense, input shape: [[100, 30]]\n",
            "Layer name: 2, layer type: Activation, input shape: [[100, 16]]\n",
            "Layer name: 3, layer type: Dense, input shape: [[100, 16]]\n",
            "Layer name: 4, layer type: Activation, input shape: [[100, 8]]\n",
            "Layer name: 5, layer type: Dense, input shape: [[100, 8]]\n",
            "Layer name: 6, layer type: Activation, input shape: [[100, 8]]\n",
            "Layer name: 7, layer type: Dense, input shape: [[100, 8]]\n",
            "Creating HLS model\n",
            "Writing HLS project\n",
            "Done\n",
            "config: {'Model': {'Precision': 'ap_fixed<41,11>', 'ReuseFactor': 1, 'Strategy': 'Latency'}}\n",
            "Interpreting Model ...\n",
            "Topology:\n",
            "Input Shape:  [[100, 30]]\n",
            "Layer name: 0, layer type: BatchNormalization, input shape: [[100, 30]]\n",
            "Layer name: 1, layer type: Dense, input shape: [[100, 30]]\n",
            "Layer name: 2, layer type: Activation, input shape: [[100, 16]]\n",
            "Layer name: 3, layer type: Dense, input shape: [[100, 16]]\n",
            "Layer name: 4, layer type: Activation, input shape: [[100, 8]]\n",
            "Layer name: 5, layer type: Dense, input shape: [[100, 8]]\n",
            "Layer name: 6, layer type: Activation, input shape: [[100, 8]]\n",
            "Layer name: 7, layer type: Dense, input shape: [[100, 8]]\n",
            "Creating HLS model\n",
            "Writing HLS project\n",
            "Done\n"
          ]
        }
      ]
    },
    {
      "cell_type": "code",
      "source": [
        "plt.scatter(ap_fixed_configs_fract, aurocs_fract_q)\n",
        "plt.title(f\"fract bitwidth search with int_bit frozen at:{int_bit}\")\n",
        "plt.show()"
      ],
      "metadata": {
        "colab": {
          "base_uri": "https://localhost:8080/",
          "height": 281
        },
        "id": "ENJmcymE4B7k",
        "outputId": "e2984d2c-95e0-4fe2-c709-003be5a7814f"
      },
      "execution_count": 138,
      "outputs": [
        {
          "output_type": "display_data",
          "data": {
            "text/plain": [
              "<Figure size 432x288 with 1 Axes>"
            ],
            "image/png": "[encoded data removed]"
          },
          "metadata": {
            "needs_background": "light"
          }
        }
      ]
    },
    {
      "cell_type": "code",
      "source": [
        "\"\"\"\n",
        "Start normal model and train it normally for comparison of PTQ\n",
        "\"\"\"\n",
        "input_dim = 30\n",
        "weight_precision = 8 # 8\n",
        "# mlp_dims = [30 , 64, 32, 32]\n",
        "mlp_dims = [30 , 16, 8, 8]\n",
        "mlp_blocks = [nn.BatchNorm1d(input_dim)]\n",
        "for idx in range(len(mlp_dims)-1):\n",
        "  # print(mlp_dims[idx + 1])\n",
        "  mlp_blocks.append(nn.Linear(\n",
        "                  int(mlp_dims[idx]), \n",
        "                  int(mlp_dims[idx + 1]),\n",
        "                  bias=True\n",
        "                  )\n",
        "                  \n",
        "  )\n",
        "  mlp_blocks.append(\n",
        "      nn.ReLU()\n",
        "  )\n",
        "# add last layer\n",
        "mlp_blocks.append(nn.Linear(\n",
        "                  mlp_dims[len(mlp_dims)-1], \n",
        "                  1,\n",
        "                  bias=True,\n",
        "                  )\n",
        "  )\n",
        "\n",
        "normal_model = nn.Sequential(*mlp_blocks)\n"
      ],
      "metadata": {
        "id": "vZdbua-64FuT"
      },
      "execution_count": 51,
      "outputs": []
    },
    {
      "cell_type": "code",
      "source": [
        "\"\"\"\n",
        "Training phase\n",
        "NOTE: no sigmoid in the model itself\n",
        "\"\"\"\n",
        "import torch.nn.functional as F\n",
        "\n",
        "normal_model.train() # put model in train mode (for batchnormalization)\n",
        "optimizer = torch.optim.AdamW(normal_model.parameters(), lr=1e-3)\n",
        "i = 0\n",
        "for x, y in train_dataloader:\n",
        "  # print(y.shape)\n",
        "  # print(normal_model(x).shape)\n",
        "  logit = normal_model(x)\n",
        "  loss = F.binary_cross_entropy(torch.sigmoid(logit), y)\n",
        "  i +=1\n",
        "  # if i > 100:\n",
        "  #   break\n",
        "\n",
        "  optimizer.zero_grad() # this deletes all previous grad calculations. very important\n",
        "  loss.backward() # calculates the gradients\n",
        "  optimizer.step() # applies backpropagation\n",
        "  "
      ],
      "metadata": {
        "id": "TVa20esC5EoZ"
      },
      "execution_count": 52,
      "outputs": []
    },
    {
      "cell_type": "code",
      "source": [
        "\"\"\"\n",
        "Testing phase\n",
        "\"\"\"\n",
        "\n",
        "\n",
        "normal_model.eval() # put model in eval mode \n",
        "with torch.no_grad():\n",
        "  logit = normal_model(X_test)\n",
        "  fpr, tpr, _ = metrics.roc_curve(Y_test,  torch.sigmoid(logit))\n",
        "  auc = metrics.roc_auc_score(Y_test, torch.sigmoid(logit))\n",
        "  \n",
        "\n",
        "#create ROC curve\n",
        "plt.plot(fpr,tpr,label=\"AUC=\"+str(auc))\n",
        "plt.ylabel('True Positive Rate')\n",
        "plt.xlabel('False Positive Rate')\n",
        "plt.legend(loc=4)\n",
        "plt.show()"
      ],
      "metadata": {
        "colab": {
          "base_uri": "https://localhost:8080/",
          "height": 279
        },
        "id": "qAQnFj2c5YCh",
        "outputId": "7efebeb6-8e97-4439-9491-013a79b58039"
      },
      "execution_count": 53,
      "outputs": [
        {
          "output_type": "display_data",
          "data": {
            "text/plain": [
              "<Figure size 432x288 with 1 Axes>"
            ],
            "image/png": "[encoded data removed]"
          },
          "metadata": {
            "needs_background": "light"
          }
        }
      ]
    },
    {
      "cell_type": "code",
      "source": [
        "\"\"\"\n",
        "check if torch hls conversion is good for normal model\n",
        "\"\"\"\n",
        "import hls4ml \n",
        "from sklearn.metrics import mean_squared_error\n",
        "\n",
        "int_bit = 14 #14\n",
        "fract_bit = 20 #20\n",
        "total_bit = int_bit + fract_bit\n",
        "ap_fixed_config = f\"ap_fixed<{total_bit},{int_bit}>\"\n",
        "config = hls4ml.utils.config_from_pytorch_model(normal_model,\n",
        "                                    default_precision=ap_fixed_config,\n",
        "                                    granularity='model'\n",
        ")\n",
        "print(f\"config: {config}\")\n",
        "hls_model = hls4ml.converters.convert_from_pytorch_model(normal_model,\n",
        "                                                    hls_config=config,\n",
        "                                                    output_dir='model_1/hls4ml_prj',\n",
        "                                                    part='xcu250-figd2104-2L-e',\n",
        "                                                    input_shape = (100,30) # 100 here is irrelevant\n",
        ")\n",
        "hls_model.compile()\n",
        "X_hls_test = np.ascontiguousarray(X_test)\n",
        "Y_hat_hls = torch.sigmoid(torch.from_numpy(hls_model.predict(X_hls_test)))\n",
        "\n",
        "normal_model.eval()\n",
        "with torch.no_grad():\n",
        "  Y_hat_torch = torch.sigmoid(normal_model(X_test))\n",
        "MSE = mean_squared_error(Y_hat_torch.cpu().numpy(), Y_hat_hls.cpu().numpy())\n",
        "print(f\"MSE torch vs hls test output: {MSE}\")\n",
        "\n",
        "\n",
        "fpr, tpr, _ = metrics.roc_curve(Y_test,  Y_hat_hls.cpu().numpy())\n",
        "auc = metrics.roc_auc_score(Y_test, Y_hat_hls.cpu().numpy())\n",
        "  \n",
        "\n",
        "#create ROC curve\n",
        "plt.plot(fpr,tpr,label=\"AUC=\"+str(auc))\n",
        "plt.ylabel('True Positive Rate')\n",
        "plt.xlabel('False Positive Rate')\n",
        "plt.title(\"torch model from normalled trained model parameters\")\n",
        "plt.legend(loc=4)\n",
        "plt.show()"
      ],
      "metadata": {
        "colab": {
          "base_uri": "https://localhost:8080/",
          "height": 573
        },
        "id": "0KnkG_pS-huO",
        "outputId": "58fc76bc-34d8-4996-9ac7-dae613802cac"
      },
      "execution_count": 55,
      "outputs": [
        {
          "output_type": "stream",
          "name": "stdout",
          "text": [
            "config: {'Model': {'Precision': 'ap_fixed<34,14>', 'ReuseFactor': 1, 'Strategy': 'Latency'}}\n",
            "Interpreting Model ...\n",
            "Topology:\n",
            "Input Shape:  [[100, 30]]\n",
            "Layer name: 0, layer type: BatchNormalization, input shape: [[100, 30]]\n",
            "Layer name: 1, layer type: Dense, input shape: [[100, 30]]\n",
            "Layer name: 2, layer type: Activation, input shape: [[100, 16]]\n",
            "Layer name: 3, layer type: Dense, input shape: [[100, 16]]\n",
            "Layer name: 4, layer type: Activation, input shape: [[100, 8]]\n",
            "Layer name: 5, layer type: Dense, input shape: [[100, 8]]\n",
            "Layer name: 6, layer type: Activation, input shape: [[100, 8]]\n",
            "Layer name: 7, layer type: Dense, input shape: [[100, 8]]\n",
            "Creating HLS model\n",
            "Writing HLS project\n",
            "Done\n",
            "MSE torch vs hls test output: 1.5880913251109519e-10\n"
          ]
        },
        {
          "output_type": "display_data",
          "data": {
            "text/plain": [
              "<Figure size 432x288 with 1 Axes>"
            ],
            "image/png": "[encoded data removed]"
          },
          "metadata": {
            "needs_background": "light"
          }
        }
      ]
    },
    {
      "cell_type": "code",
      "source": [
        "\"\"\"\n",
        "PTQ with normal model\n",
        "Parameter search over integer bits. Fractional bits frozen at 20    \n",
        "\"\"\"\n",
        "import hls4ml \n",
        "\n",
        "print(hls4ml.__version__)\n",
        "\n",
        "fract_bit = 20\n",
        "aurocs_int = []\n",
        "ap_fixed_configs_int = []\n",
        "\n",
        "for int_bit in range(8,15,1): # search from 2 to 32, with with 4 bit intervals\n",
        "    total_bit = int_bit + fract_bit\n",
        "    ap_fixed_config = f\"ap_fixed<{total_bit},{int_bit}>\"\n",
        "    config = hls4ml.utils.config_from_pytorch_model(normal_model,\n",
        "                                        default_precision=ap_fixed_config,\n",
        "                                        granularity='model'\n",
        "    )\n",
        "    print(f\"config: {config}\")\n",
        "    hls_model = hls4ml.converters.convert_from_pytorch_model(normal_model,\n",
        "                                                        hls_config=config,\n",
        "                                                        output_dir='model_1/hls4ml_prj',\n",
        "                                                        part='xcu250-figd2104-2L-e',\n",
        "                                                        input_shape = (100,30) # 100 here is irrelevant\n",
        "    )\n",
        "    hls_model.compile()\n",
        "    X_hls_test = np.ascontiguousarray(X_test)\n",
        "    Y_hat = torch.sigmoid(torch.from_numpy(hls_model.predict(X_hls_test)))\n",
        "    auc = metrics.roc_auc_score(Y_test, Y_hat.cpu().numpy())\n",
        "    aurocs_int.append(auc)\n",
        "    ap_fixed_configs_int.append(f\"<{total_bit},{int_bit}>\")\n",
        "    "
      ],
      "metadata": {
        "colab": {
          "base_uri": "https://localhost:8080/"
        },
        "id": "3Trv_Dce6F1U",
        "outputId": "16f8b802-c2c9-4e4d-92c3-16119384091a"
      },
      "execution_count": 56,
      "outputs": [
        {
          "output_type": "stream",
          "name": "stdout",
          "text": [
            "0.6.0\n",
            "config: {'Model': {'Precision': 'ap_fixed<28,8>', 'ReuseFactor': 1, 'Strategy': 'Latency'}}\n",
            "Interpreting Model ...\n",
            "Topology:\n",
            "Input Shape:  [[100, 30]]\n",
            "Layer name: 0, layer type: BatchNormalization, input shape: [[100, 30]]\n",
            "Layer name: 1, layer type: Dense, input shape: [[100, 30]]\n",
            "Layer name: 2, layer type: Activation, input shape: [[100, 16]]\n",
            "Layer name: 3, layer type: Dense, input shape: [[100, 16]]\n",
            "Layer name: 4, layer type: Activation, input shape: [[100, 8]]\n",
            "Layer name: 5, layer type: Dense, input shape: [[100, 8]]\n",
            "Layer name: 6, layer type: Activation, input shape: [[100, 8]]\n",
            "Layer name: 7, layer type: Dense, input shape: [[100, 8]]\n",
            "Creating HLS model\n",
            "Writing HLS project\n",
            "Done\n",
            "config: {'Model': {'Precision': 'ap_fixed<29,9>', 'ReuseFactor': 1, 'Strategy': 'Latency'}}\n",
            "Interpreting Model ...\n",
            "Topology:\n",
            "Input Shape:  [[100, 30]]\n",
            "Layer name: 0, layer type: BatchNormalization, input shape: [[100, 30]]\n",
            "Layer name: 1, layer type: Dense, input shape: [[100, 30]]\n",
            "Layer name: 2, layer type: Activation, input shape: [[100, 16]]\n",
            "Layer name: 3, layer type: Dense, input shape: [[100, 16]]\n",
            "Layer name: 4, layer type: Activation, input shape: [[100, 8]]\n",
            "Layer name: 5, layer type: Dense, input shape: [[100, 8]]\n",
            "Layer name: 6, layer type: Activation, input shape: [[100, 8]]\n",
            "Layer name: 7, layer type: Dense, input shape: [[100, 8]]\n",
            "Creating HLS model\n",
            "Writing HLS project\n",
            "Done\n",
            "config: {'Model': {'Precision': 'ap_fixed<30,10>', 'ReuseFactor': 1, 'Strategy': 'Latency'}}\n",
            "Interpreting Model ...\n",
            "Topology:\n",
            "Input Shape:  [[100, 30]]\n",
            "Layer name: 0, layer type: BatchNormalization, input shape: [[100, 30]]\n",
            "Layer name: 1, layer type: Dense, input shape: [[100, 30]]\n",
            "Layer name: 2, layer type: Activation, input shape: [[100, 16]]\n",
            "Layer name: 3, layer type: Dense, input shape: [[100, 16]]\n",
            "Layer name: 4, layer type: Activation, input shape: [[100, 8]]\n",
            "Layer name: 5, layer type: Dense, input shape: [[100, 8]]\n",
            "Layer name: 6, layer type: Activation, input shape: [[100, 8]]\n",
            "Layer name: 7, layer type: Dense, input shape: [[100, 8]]\n",
            "Creating HLS model\n",
            "Writing HLS project\n",
            "Done\n",
            "config: {'Model': {'Precision': 'ap_fixed<31,11>', 'ReuseFactor': 1, 'Strategy': 'Latency'}}\n",
            "Interpreting Model ...\n",
            "Topology:\n",
            "Input Shape:  [[100, 30]]\n",
            "Layer name: 0, layer type: BatchNormalization, input shape: [[100, 30]]\n",
            "Layer name: 1, layer type: Dense, input shape: [[100, 30]]\n",
            "Layer name: 2, layer type: Activation, input shape: [[100, 16]]\n",
            "Layer name: 3, layer type: Dense, input shape: [[100, 16]]\n",
            "Layer name: 4, layer type: Activation, input shape: [[100, 8]]\n",
            "Layer name: 5, layer type: Dense, input shape: [[100, 8]]\n",
            "Layer name: 6, layer type: Activation, input shape: [[100, 8]]\n",
            "Layer name: 7, layer type: Dense, input shape: [[100, 8]]\n",
            "Creating HLS model\n",
            "Writing HLS project\n",
            "Done\n",
            "config: {'Model': {'Precision': 'ap_fixed<32,12>', 'ReuseFactor': 1, 'Strategy': 'Latency'}}\n",
            "Interpreting Model ...\n",
            "Topology:\n",
            "Input Shape:  [[100, 30]]\n",
            "Layer name: 0, layer type: BatchNormalization, input shape: [[100, 30]]\n",
            "Layer name: 1, layer type: Dense, input shape: [[100, 30]]\n",
            "Layer name: 2, layer type: Activation, input shape: [[100, 16]]\n",
            "Layer name: 3, layer type: Dense, input shape: [[100, 16]]\n",
            "Layer name: 4, layer type: Activation, input shape: [[100, 8]]\n",
            "Layer name: 5, layer type: Dense, input shape: [[100, 8]]\n",
            "Layer name: 6, layer type: Activation, input shape: [[100, 8]]\n",
            "Layer name: 7, layer type: Dense, input shape: [[100, 8]]\n",
            "Creating HLS model\n",
            "Writing HLS project\n",
            "Done\n",
            "config: {'Model': {'Precision': 'ap_fixed<33,13>', 'ReuseFactor': 1, 'Strategy': 'Latency'}}\n",
            "Interpreting Model ...\n",
            "Topology:\n",
            "Input Shape:  [[100, 30]]\n",
            "Layer name: 0, layer type: BatchNormalization, input shape: [[100, 30]]\n",
            "Layer name: 1, layer type: Dense, input shape: [[100, 30]]\n",
            "Layer name: 2, layer type: Activation, input shape: [[100, 16]]\n",
            "Layer name: 3, layer type: Dense, input shape: [[100, 16]]\n",
            "Layer name: 4, layer type: Activation, input shape: [[100, 8]]\n",
            "Layer name: 5, layer type: Dense, input shape: [[100, 8]]\n",
            "Layer name: 6, layer type: Activation, input shape: [[100, 8]]\n",
            "Layer name: 7, layer type: Dense, input shape: [[100, 8]]\n",
            "Creating HLS model\n",
            "Writing HLS project\n",
            "Done\n",
            "config: {'Model': {'Precision': 'ap_fixed<34,14>', 'ReuseFactor': 1, 'Strategy': 'Latency'}}\n",
            "Interpreting Model ...\n",
            "Topology:\n",
            "Input Shape:  [[100, 30]]\n",
            "Layer name: 0, layer type: BatchNormalization, input shape: [[100, 30]]\n",
            "Layer name: 1, layer type: Dense, input shape: [[100, 30]]\n",
            "Layer name: 2, layer type: Activation, input shape: [[100, 16]]\n",
            "Layer name: 3, layer type: Dense, input shape: [[100, 16]]\n",
            "Layer name: 4, layer type: Activation, input shape: [[100, 8]]\n",
            "Layer name: 5, layer type: Dense, input shape: [[100, 8]]\n",
            "Layer name: 6, layer type: Activation, input shape: [[100, 8]]\n",
            "Layer name: 7, layer type: Dense, input shape: [[100, 8]]\n",
            "Creating HLS model\n",
            "Writing HLS project\n",
            "Done\n"
          ]
        }
      ]
    },
    {
      "cell_type": "code",
      "source": [
        "plt.scatter(ap_fixed_configs_int, aurocs_int)"
      ],
      "metadata": {
        "colab": {
          "base_uri": "https://localhost:8080/",
          "height": 282
        },
        "id": "oRMeyLTN6e7U",
        "outputId": "a9a53641-44d8-46ac-d116-851c4bc59bac"
      },
      "execution_count": 57,
      "outputs": [
        {
          "output_type": "execute_result",
          "data": {
            "text/plain": [
              "<matplotlib.collections.PathCollection at 0x7f2b6e6dc590>"
            ]
          },
          "metadata": {},
          "execution_count": 57
        },
        {
          "output_type": "display_data",
          "data": {
            "text/plain": [
              "<Figure size 432x288 with 1 Axes>"
            ],
            "image/png": "[encoded data removed]"
          },
          "metadata": {
            "needs_background": "light"
          }
        }
      ]
    },
    {
      "cell_type": "code",
      "source": [
        "\"\"\"\n",
        "Parameter search over fractional bits. Integer bits frozen at 13    \n",
        "\"\"\"\n",
        "int_bit = 13\n",
        "aurocs_fract = []\n",
        "ap_fixed_configs_fract = []\n",
        "\n",
        "for fract_bit in range(6,13,1):\n",
        "    total_bit = int_bit + fract_bit\n",
        "    ap_fixed_config = f\"ap_fixed<{total_bit},{int_bit}>\"\n",
        "    config = hls4ml.utils.config_from_pytorch_model(normal_model,\n",
        "                                        default_precision=ap_fixed_config,\n",
        "                                        granularity='model'\n",
        "    )\n",
        "    print(f\"config: {config}\")\n",
        "    hls_model = hls4ml.converters.convert_from_pytorch_model(normal_model,\n",
        "                                                        hls_config=config,\n",
        "                                                        output_dir='model_1/hls4ml_prj',\n",
        "                                                        part='xcu250-figd2104-2L-e',\n",
        "                                                        input_shape = (100,30) # 100 here is irrelevant\n",
        "    )\n",
        "    hls_model.compile()\n",
        "    X_hls_test = np.ascontiguousarray(X_test)\n",
        "    auc = metrics.roc_auc_score(Y_test, hls_model.predict(X_hls_test))\n",
        "    aurocs_fract.append(auc)\n",
        "    ap_fixed_configs_fract.append(f\"<{total_bit},{int_bit}>\")\n"
      ],
      "metadata": {
        "colab": {
          "base_uri": "https://localhost:8080/"
        },
        "id": "N4VgsFQj6i4u",
        "outputId": "23fe5864-c366-4d6e-a370-2998d64c488a"
      },
      "execution_count": 58,
      "outputs": [
        {
          "output_type": "stream",
          "name": "stdout",
          "text": [
            "config: {'Model': {'Precision': 'ap_fixed<19,13>', 'ReuseFactor': 1, 'Strategy': 'Latency'}}\n",
            "Interpreting Model ...\n",
            "Topology:\n",
            "Input Shape:  [[100, 30]]\n",
            "Layer name: 0, layer type: BatchNormalization, input shape: [[100, 30]]\n",
            "Layer name: 1, layer type: Dense, input shape: [[100, 30]]\n",
            "Layer name: 2, layer type: Activation, input shape: [[100, 16]]\n",
            "Layer name: 3, layer type: Dense, input shape: [[100, 16]]\n",
            "Layer name: 4, layer type: Activation, input shape: [[100, 8]]\n",
            "Layer name: 5, layer type: Dense, input shape: [[100, 8]]\n",
            "Layer name: 6, layer type: Activation, input shape: [[100, 8]]\n",
            "Layer name: 7, layer type: Dense, input shape: [[100, 8]]\n",
            "Creating HLS model\n",
            "Writing HLS project\n",
            "Done\n",
            "config: {'Model': {'Precision': 'ap_fixed<20,13>', 'ReuseFactor': 1, 'Strategy': 'Latency'}}\n",
            "Interpreting Model ...\n",
            "Topology:\n",
            "Input Shape:  [[100, 30]]\n",
            "Layer name: 0, layer type: BatchNormalization, input shape: [[100, 30]]\n",
            "Layer name: 1, layer type: Dense, input shape: [[100, 30]]\n",
            "Layer name: 2, layer type: Activation, input shape: [[100, 16]]\n",
            "Layer name: 3, layer type: Dense, input shape: [[100, 16]]\n",
            "Layer name: 4, layer type: Activation, input shape: [[100, 8]]\n",
            "Layer name: 5, layer type: Dense, input shape: [[100, 8]]\n",
            "Layer name: 6, layer type: Activation, input shape: [[100, 8]]\n",
            "Layer name: 7, layer type: Dense, input shape: [[100, 8]]\n",
            "Creating HLS model\n",
            "Writing HLS project\n",
            "Done\n",
            "config: {'Model': {'Precision': 'ap_fixed<21,13>', 'ReuseFactor': 1, 'Strategy': 'Latency'}}\n",
            "Interpreting Model ...\n",
            "Topology:\n",
            "Input Shape:  [[100, 30]]\n",
            "Layer name: 0, layer type: BatchNormalization, input shape: [[100, 30]]\n",
            "Layer name: 1, layer type: Dense, input shape: [[100, 30]]\n",
            "Layer name: 2, layer type: Activation, input shape: [[100, 16]]\n",
            "Layer name: 3, layer type: Dense, input shape: [[100, 16]]\n",
            "Layer name: 4, layer type: Activation, input shape: [[100, 8]]\n",
            "Layer name: 5, layer type: Dense, input shape: [[100, 8]]\n",
            "Layer name: 6, layer type: Activation, input shape: [[100, 8]]\n",
            "Layer name: 7, layer type: Dense, input shape: [[100, 8]]\n",
            "Creating HLS model\n",
            "Writing HLS project\n",
            "Done\n",
            "config: {'Model': {'Precision': 'ap_fixed<22,13>', 'ReuseFactor': 1, 'Strategy': 'Latency'}}\n",
            "Interpreting Model ...\n",
            "Topology:\n",
            "Input Shape:  [[100, 30]]\n",
            "Layer name: 0, layer type: BatchNormalization, input shape: [[100, 30]]\n",
            "Layer name: 1, layer type: Dense, input shape: [[100, 30]]\n",
            "Layer name: 2, layer type: Activation, input shape: [[100, 16]]\n",
            "Layer name: 3, layer type: Dense, input shape: [[100, 16]]\n",
            "Layer name: 4, layer type: Activation, input shape: [[100, 8]]\n",
            "Layer name: 5, layer type: Dense, input shape: [[100, 8]]\n",
            "Layer name: 6, layer type: Activation, input shape: [[100, 8]]\n",
            "Layer name: 7, layer type: Dense, input shape: [[100, 8]]\n",
            "Creating HLS model\n",
            "Writing HLS project\n",
            "Done\n",
            "config: {'Model': {'Precision': 'ap_fixed<23,13>', 'ReuseFactor': 1, 'Strategy': 'Latency'}}\n",
            "Interpreting Model ...\n",
            "Topology:\n",
            "Input Shape:  [[100, 30]]\n",
            "Layer name: 0, layer type: BatchNormalization, input shape: [[100, 30]]\n",
            "Layer name: 1, layer type: Dense, input shape: [[100, 30]]\n",
            "Layer name: 2, layer type: Activation, input shape: [[100, 16]]\n",
            "Layer name: 3, layer type: Dense, input shape: [[100, 16]]\n",
            "Layer name: 4, layer type: Activation, input shape: [[100, 8]]\n",
            "Layer name: 5, layer type: Dense, input shape: [[100, 8]]\n",
            "Layer name: 6, layer type: Activation, input shape: [[100, 8]]\n",
            "Layer name: 7, layer type: Dense, input shape: [[100, 8]]\n",
            "Creating HLS model\n",
            "Writing HLS project\n",
            "Done\n",
            "config: {'Model': {'Precision': 'ap_fixed<24,13>', 'ReuseFactor': 1, 'Strategy': 'Latency'}}\n",
            "Interpreting Model ...\n",
            "Topology:\n",
            "Input Shape:  [[100, 30]]\n",
            "Layer name: 0, layer type: BatchNormalization, input shape: [[100, 30]]\n",
            "Layer name: 1, layer type: Dense, input shape: [[100, 30]]\n",
            "Layer name: 2, layer type: Activation, input shape: [[100, 16]]\n",
            "Layer name: 3, layer type: Dense, input shape: [[100, 16]]\n",
            "Layer name: 4, layer type: Activation, input shape: [[100, 8]]\n",
            "Layer name: 5, layer type: Dense, input shape: [[100, 8]]\n",
            "Layer name: 6, layer type: Activation, input shape: [[100, 8]]\n",
            "Layer name: 7, layer type: Dense, input shape: [[100, 8]]\n",
            "Creating HLS model\n",
            "Writing HLS project\n",
            "Done\n",
            "config: {'Model': {'Precision': 'ap_fixed<25,13>', 'ReuseFactor': 1, 'Strategy': 'Latency'}}\n",
            "Interpreting Model ...\n",
            "Topology:\n",
            "Input Shape:  [[100, 30]]\n",
            "Layer name: 0, layer type: BatchNormalization, input shape: [[100, 30]]\n",
            "Layer name: 1, layer type: Dense, input shape: [[100, 30]]\n",
            "Layer name: 2, layer type: Activation, input shape: [[100, 16]]\n",
            "Layer name: 3, layer type: Dense, input shape: [[100, 16]]\n",
            "Layer name: 4, layer type: Activation, input shape: [[100, 8]]\n",
            "Layer name: 5, layer type: Dense, input shape: [[100, 8]]\n",
            "Layer name: 6, layer type: Activation, input shape: [[100, 8]]\n",
            "Layer name: 7, layer type: Dense, input shape: [[100, 8]]\n",
            "Creating HLS model\n",
            "Writing HLS project\n",
            "Done\n"
          ]
        }
      ]
    },
    {
      "cell_type": "code",
      "source": [
        "plt.scatter(ap_fixed_configs_fract, aurocs_fract)"
      ],
      "metadata": {
        "colab": {
          "base_uri": "https://localhost:8080/",
          "height": 282
        },
        "id": "r405JpkN6i7R",
        "outputId": "266060ed-394e-4830-d502-6d20a8942533"
      },
      "execution_count": 59,
      "outputs": [
        {
          "output_type": "execute_result",
          "data": {
            "text/plain": [
              "<matplotlib.collections.PathCollection at 0x7f2b6e6dc4d0>"
            ]
          },
          "metadata": {},
          "execution_count": 59
        },
        {
          "output_type": "display_data",
          "data": {
            "text/plain": [
              "<Figure size 432x288 with 1 Axes>"
            ],
            "image/png": "[encoded data removed]"
          },
          "metadata": {
            "needs_background": "light"
          }
        }
      ]
    },
    {
      "cell_type": "code",
      "source": [
        "plt.scatter(ap_fixed_configs_int, aurocs_int, label=\"model\")\n",
        "plt.scatter(ap_fixed_configs_int, aurocs_int_q, label=\"qmodel\")\n",
        "plt.legend()\n",
        "plt.title(\"Integer Bitwidth Search model vs qmodel\")\n",
        "plt.show()"
      ],
      "metadata": {
        "colab": {
          "base_uri": "https://localhost:8080/",
          "height": 281
        },
        "id": "slV6LLJi6i93",
        "outputId": "a568514e-b0a9-4699-e863-640d25cec7a3"
      },
      "execution_count": 60,
      "outputs": [
        {
          "output_type": "display_data",
          "data": {
            "text/plain": [
              "<Figure size 432x288 with 1 Axes>"
            ],
            "image/png": "[encoded data removed]"
          },
          "metadata": {
            "needs_background": "light"
          }
        }
      ]
    },
    {
      "cell_type": "code",
      "source": [
        "plt.scatter(ap_fixed_configs_fract, aurocs_fract, label=\"model\")\n",
        "plt.scatter(ap_fixed_configs_fract, aurocs_fract_q, label=\"qmodel\")\n",
        "plt.legend()\n",
        "plt.title(\"Fractional Bitwidth Search model vs qmodel\")\n",
        "plt.show()"
      ],
      "metadata": {
        "colab": {
          "base_uri": "https://localhost:8080/",
          "height": 281
        },
        "id": "HgExghV861f3",
        "outputId": "62e61b2f-5475-409e-d71c-857eebd44df7"
      },
      "execution_count": 61,
      "outputs": [
        {
          "output_type": "display_data",
          "data": {
            "text/plain": [
              "<Figure size 432x288 with 1 Axes>"
            ],
            "image/png": "[encoded data removed]"
          },
          "metadata": {
            "needs_background": "light"
          }
        }
      ]
    },
    {
      "cell_type": "code",
      "source": [
        "save_path = \"./test_model.pt\"\n",
        "torch.save(torch_model, save_path)\n",
        "\n",
        "fract_bit = 20\n",
        "aurocs_int_q = []\n",
        "ap_fixed_configs_int = []\n",
        "\n",
        "\n",
        "\n",
        "for int_bit in range(10,15,1): # search from 2 to 32, with with 4 bit intervals\n",
        "    total_bit = int_bit + fract_bit\n",
        "    ap_fixed_config = f\"ap_fixed<{total_bit},{int_bit}>\"\n",
        "    yamlConfig=  {\n",
        "    'PytorchModel': './test_model.pt',\n",
        "    'OutputDir': 'my-torch-test', \n",
        "    'ProjectName': 'mytorchproject', \n",
        "    'XilinxPart': 'xcu250-figd2104-2L-e',\n",
        "      'ClockPeriod': 5, 'IOType': 'io_parallel', \n",
        "      'HLSConfig': {'Model': {'Precision': ap_fixed_config, 'ReuseFactor': 1}},\n",
        "      'InputShape' : f\"(100,{input_dim})\" # 100 here is irrelevant\n",
        "    }\n",
        "\n",
        "\n",
        "\n",
        "    hls_model = hls4ml.converters.pytorch_to_hls(yamlConfig)\n",
        "    hls_model.compile()\n",
        "    X_hls_test = np.ascontiguousarray(X_test)\n",
        "    auc = metrics.roc_auc_score(Y_test, hls_model.predict(X_hls_test))\n",
        "    aurocs_int_q.append(auc)\n",
        "    ap_fixed_configs_int.append(f\"<{total_bit},{int_bit}>\")\n",
        "    "
      ],
      "metadata": {
        "colab": {
          "base_uri": "https://localhost:8080/",
          "height": 399
        },
        "id": "SLCGryaasFr3",
        "outputId": "387db8a2-e61c-45cb-efe9-b3ad52f2f784"
      },
      "execution_count": 163,
      "outputs": [
        {
          "output_type": "stream",
          "name": "stdout",
          "text": [
            "Interpreting Model ...\n"
          ]
        },
        {
          "output_type": "error",
          "ename": "NameError",
          "evalue": "ignored",
          "traceback": [
            "\u001b[0;31m---------------------------------------------------------------------------\u001b[0m",
            "\u001b[0;31mNameError\u001b[0m                                 Traceback (most recent call last)",
            "\u001b[0;32m<ipython-input-163-094a35b6d1d0>\u001b[0m in \u001b[0;36m<module>\u001b[0;34m\u001b[0m\n\u001b[1;32m     23\u001b[0m \u001b[0;34m\u001b[0m\u001b[0m\n\u001b[1;32m     24\u001b[0m \u001b[0;34m\u001b[0m\u001b[0m\n\u001b[0;32m---> 25\u001b[0;31m     \u001b[0mhls_model\u001b[0m \u001b[0;34m=\u001b[0m \u001b[0mhls4ml\u001b[0m\u001b[0;34m.\u001b[0m\u001b[0mconverters\u001b[0m\u001b[0;34m.\u001b[0m\u001b[0mpytorch_to_hls\u001b[0m\u001b[0;34m(\u001b[0m\u001b[0myamlConfig\u001b[0m\u001b[0;34m)\u001b[0m\u001b[0;34m\u001b[0m\u001b[0;34m\u001b[0m\u001b[0m\n\u001b[0m\u001b[1;32m     26\u001b[0m     \u001b[0mhls_model\u001b[0m\u001b[0;34m.\u001b[0m\u001b[0mcompile\u001b[0m\u001b[0;34m(\u001b[0m\u001b[0;34m)\u001b[0m\u001b[0;34m\u001b[0m\u001b[0;34m\u001b[0m\u001b[0m\n\u001b[1;32m     27\u001b[0m     \u001b[0mX_hls_test\u001b[0m \u001b[0;34m=\u001b[0m \u001b[0mnp\u001b[0m\u001b[0;34m.\u001b[0m\u001b[0mascontiguousarray\u001b[0m\u001b[0;34m(\u001b[0m\u001b[0mX_test\u001b[0m\u001b[0;34m)\u001b[0m\u001b[0;34m\u001b[0m\u001b[0;34m\u001b[0m\u001b[0m\n",
            "\u001b[0;32m/usr/local/lib/python3.7/dist-packages/hls4ml/converters/pytorch_to_hls.py\u001b[0m in \u001b[0;36mpytorch_to_hls\u001b[0;34m(config)\u001b[0m\n\u001b[1;32m    126\u001b[0m     \u001b[0mprint\u001b[0m\u001b[0;34m(\u001b[0m\u001b[0;34m'Interpreting Model ...'\u001b[0m\u001b[0;34m)\u001b[0m\u001b[0;34m\u001b[0m\u001b[0;34m\u001b[0m\u001b[0m\n\u001b[1;32m    127\u001b[0m \u001b[0;34m\u001b[0m\u001b[0m\n\u001b[0;32m--> 128\u001b[0;31m     \u001b[0mreader\u001b[0m \u001b[0;34m=\u001b[0m \u001b[0mPyTorchFileReader\u001b[0m\u001b[0;34m(\u001b[0m\u001b[0mconfig\u001b[0m\u001b[0;34m)\u001b[0m \u001b[0;32mif\u001b[0m \u001b[0misinstance\u001b[0m\u001b[0;34m(\u001b[0m\u001b[0mconfig\u001b[0m\u001b[0;34m[\u001b[0m\u001b[0;34m'PytorchModel'\u001b[0m\u001b[0;34m]\u001b[0m\u001b[0;34m,\u001b[0m\u001b[0mstr\u001b[0m\u001b[0;34m)\u001b[0m \u001b[0;32melse\u001b[0m \u001b[0mPyTorchModelReader\u001b[0m\u001b[0;34m(\u001b[0m\u001b[0mconfig\u001b[0m\u001b[0;34m)\u001b[0m\u001b[0;34m\u001b[0m\u001b[0;34m\u001b[0m\u001b[0m\n\u001b[0m\u001b[1;32m    129\u001b[0m     \u001b[0minput_shapes\u001b[0m \u001b[0;34m=\u001b[0m \u001b[0;34m[\u001b[0m\u001b[0mlist\u001b[0m\u001b[0;34m(\u001b[0m\u001b[0mreader\u001b[0m\u001b[0;34m.\u001b[0m\u001b[0minput_shape\u001b[0m\u001b[0;34m)\u001b[0m\u001b[0;34m]\u001b[0m\u001b[0;34m\u001b[0m\u001b[0;34m\u001b[0m\u001b[0m\n\u001b[1;32m    130\u001b[0m \u001b[0;34m\u001b[0m\u001b[0m\n",
            "\u001b[0;32m/usr/local/lib/python3.7/dist-packages/hls4ml/converters/pytorch_to_hls.py\u001b[0m in \u001b[0;36m__init__\u001b[0;34m(self, config)\u001b[0m\n\u001b[1;32m     83\u001b[0m         \u001b[0mself\u001b[0m\u001b[0;34m.\u001b[0m\u001b[0mstate_dict\u001b[0m \u001b[0;34m=\u001b[0m \u001b[0mself\u001b[0m\u001b[0;34m.\u001b[0m\u001b[0mtorch_model\u001b[0m\u001b[0;34m.\u001b[0m\u001b[0mstate_dict\u001b[0m\u001b[0;34m(\u001b[0m\u001b[0;34m)\u001b[0m\u001b[0;34m\u001b[0m\u001b[0;34m\u001b[0m\u001b[0m\n\u001b[1;32m     84\u001b[0m \u001b[0;34m\u001b[0m\u001b[0m\n\u001b[0;32m---> 85\u001b[0;31m         \u001b[0;32mreturn\u001b[0m \u001b[0mdata\u001b[0m\u001b[0;34m\u001b[0m\u001b[0;34m\u001b[0m\u001b[0m\n\u001b[0m\u001b[1;32m     86\u001b[0m \u001b[0;34m\u001b[0m\u001b[0m\n\u001b[1;32m     87\u001b[0m \u001b[0;31m####----------------------Layer handling---------------------######\u001b[0m\u001b[0;34m\u001b[0m\u001b[0;34m\u001b[0m\u001b[0;34m\u001b[0m\u001b[0m\n",
            "\u001b[0;31mNameError\u001b[0m: name 'data' is not defined"
          ]
        }
      ]
    },
    {
      "cell_type": "code",
      "source": [
        "class three_layer_model_seq(nn.Module):\n",
        "  def __init__(self):\n",
        "    # Model with <16,64,32,32,5> Behavior\n",
        "    super(three_layer_model_seq, self).__init__()\n",
        "    input_dim = 30\n",
        "    mlp_dims = [30 , 64, 32, 32]\n",
        "    mlp_blocks = []\n",
        "    for idx in range(len(mlp_dims)-1):\n",
        "      # print(mlp_dims[idx + 1])\n",
        "      mlp_blocks.append(nn.Linear(mlp_dims[idx], mlp_dims[idx + 1]))\n",
        "      mlp_blocks.append(nn.ReLU())\n",
        "    # add last layer\n",
        "    mlp_blocks.append(nn.Linear(mlp_dims[len(mlp_dims)-1], 1))\n",
        "    mlp_blocks.append(nn.Sigmoid())\n",
        "    self.mlp = nn.Sequential(*mlp_blocks)\n",
        "\n",
        "  def forward(self, X: Tensor):\n",
        "      return self.mlp(X)\n",
        "model_seq = three_layer_model_seq()"
      ],
      "metadata": {
        "id": "b0nOUUM8bBk-"
      },
      "execution_count": 49,
      "outputs": []
    },
    {
      "cell_type": "code",
      "source": [
        "\"\"\"\n",
        "Training phase\n",
        "\"\"\"\n",
        "import torch.nn.functional as F\n",
        "\n",
        "model_seq.train() # put model in train mode (for batchnormalization)\n",
        "optimizer = torch.optim.AdamW(model_seq.parameters(), lr=1e-3)\n",
        "i = 0\n",
        "for x, y in train_dataloader:\n",
        "  # print(y.shape)\n",
        "  # print(model_seq(x).shape)\n",
        "  loss = F.binary_cross_entropy(model_seq(x), y)\n",
        "  i +=1\n",
        "  # if i > 100:\n",
        "  #   break\n",
        "\n",
        "  optimizer.zero_grad() # this deletes all previous grad calculations. very important\n",
        "  loss.backward() # calculates the gradients\n",
        "  optimizer.step() # applies backpropagation"
      ],
      "metadata": {
        "id": "2NArJzxWbnL0"
      },
      "execution_count": 50,
      "outputs": []
    },
    {
      "cell_type": "code",
      "source": [
        "print(len(model_seq.mlp))\n",
        "# print((model_seq.mlp))\n"
      ],
      "metadata": {
        "colab": {
          "base_uri": "https://localhost:8080/"
        },
        "id": "GjWslSqlZHZr",
        "outputId": "4cb80f8c-cb1e-4e6e-8bb1-46b622867b5f"
      },
      "execution_count": 51,
      "outputs": [
        {
          "output_type": "stream",
          "name": "stdout",
          "text": [
            "8\n"
          ]
        }
      ]
    },
    {
      "cell_type": "code",
      "source": [
        "\"\"\"\n",
        "Testing phase\n",
        "\"\"\"\n",
        "from sklearn import metrics\n",
        "import matplotlib.pyplot as plt\n",
        "\n",
        "model_seq.eval() # put model in eval mode (for batchnormalization)\n",
        "with torch.no_grad():\n",
        "  # y_hat = model_seq.mlp[0](X_test[sample_idxs])\n",
        "\n",
        "  y_hat = model_bv_seq.mlp[0](X_test)\n",
        "  plt.hist(y_hat[:,0], bins= bins)\n",
        "  plt.show()\n",
        "  for idx in range(1,len(model_seq.mlp)):\n",
        "    y_hat = model_seq.mlp[idx](y_hat)\n",
        "    plt.hist(y_hat[:,0], bins= bins)\n",
        "    plt.show()\n",
        "  \n",
        "\n"
      ],
      "metadata": {
        "colab": {
          "base_uri": "https://localhost:8080/",
          "height": 1000
        },
        "id": "hm1uMjlEZFIH",
        "outputId": "d7d2b44d-749f-4b22-a907-f23e491ab493"
      },
      "execution_count": 73,
      "outputs": [
        {
          "output_type": "display_data",
          "data": {
            "text/plain": [
              "<Figure size 432x288 with 1 Axes>"
            ],
            "image/png": "[encoded data removed]"
          },
          "metadata": {
            "needs_background": "light"
          }
        },
        {
          "output_type": "display_data",
          "data": {
            "text/plain": [
              "<Figure size 432x288 with 1 Axes>"
            ],
            "image/png": "[encoded data removed]"
          },
          "metadata": {
            "needs_background": "light"
          }
        },
        {
          "output_type": "display_data",
          "data": {
            "text/plain": [
              "<Figure size 432x288 with 1 Axes>"
            ],
            "image/png": "[encoded data removed]"
          },
          "metadata": {
            "needs_background": "light"
          }
        },
        {
          "output_type": "display_data",
          "data": {
            "text/plain": [
              "<Figure size 432x288 with 1 Axes>"
            ],
            "image/png": "[encoded data removed]"
          },
          "metadata": {
            "needs_background": "light"
          }
        },
        {
          "output_type": "display_data",
          "data": {
            "text/plain": [
              "<Figure size 432x288 with 1 Axes>"
            ],
            "image/png": "[encoded data removed]"
          },
          "metadata": {
            "needs_background": "light"
          }
        },
        {
          "output_type": "display_data",
          "data": {
            "text/plain": [
              "<Figure size 432x288 with 1 Axes>"
            ],
            "image/png": "[encoded data removed]"
          },
          "metadata": {
            "needs_background": "light"
          }
        },
        {
          "output_type": "display_data",
          "data": {
            "text/plain": [
              "<Figure size 432x288 with 1 Axes>"
            ],
            "image/png": "[encoded data removed]"
          },
          "metadata": {
            "needs_background": "light"
          }
        },
        {
          "output_type": "display_data",
          "data": {
            "text/plain": [
              "<Figure size 432x288 with 1 Axes>"
            ],
            "image/png": "[encoded data removed]"
          },
          "metadata": {
            "needs_background": "light"
          }
        }
      ]
    }
  ]
}