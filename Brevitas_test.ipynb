{
  "cells": [
    {
      "cell_type": "code",
      "execution_count": 1,
      "metadata": {
        "colab": {
          "base_uri": "https://localhost:8080/"
        },
        "id": "s5ComvQHjN50",
        "outputId": "43b2089f-aefe-4d7e-cc59-2401546cf79a"
      },
      "outputs": [
        {
          "data": {
            "text/plain": [
              "'\\nAuthor: Hyeon-Seo Yun \\nDate: somewhere around Oct 25 2022\\nThis notebook is a quick demonstration of training DNNs\\nwith Higgs data from kaggle for Phys 570 AI course\\nin Purdue University for fall 2022 semester\\n'"
            ]
          },
          "execution_count": 1,
          "metadata": {},
          "output_type": "execute_result"
        }
      ],
      "source": [
        "\"\"\"\n",
        "Author: Hyeon-Seo Yun \n",
        "Date: somewhere around Oct 25 2022\n",
        "This notebook is a quick demonstration of training DNNs\n",
        "with Higgs data from kaggle for Phys 570 AI course\n",
        "in Purdue University for fall 2022 semester\n",
        "\"\"\"\n",
        "# ! pip install -q kaggle\n",
        "# ! pip install opendatasets\n",
        "# ! pip install brevitas\n",
        "# ! pip install hls4ml"
      ]
    },
    {
      "cell_type": "code",
      "execution_count": 2,
      "metadata": {
        "colab": {
          "base_uri": "https://localhost:8080/"
        },
        "id": "NGQ4vDDe_AmB",
        "outputId": "66aa3baf-6b0b-40bd-b2ab-aa1884d6dfb2"
      },
      "outputs": [
        {
          "data": {
            "text/plain": [
              "'\\nunzip train datas (test here is not used)\\n'"
            ]
          },
          "execution_count": 2,
          "metadata": {},
          "output_type": "execute_result"
        }
      ],
      "source": [
        "\"\"\"\n",
        "unzip train datas (test here is not used)\n",
        "\"\"\"\n",
        "# ! unzip ./higgs-boson/test.zip -d ./higgs-boson/test/\n",
        "# ! unzip ./test_data/higgs-boson/training.zip -d ./test_data/higgs-boson/training/"
      ]
    },
    {
      "cell_type": "code",
      "execution_count": 3,
      "metadata": {
        "colab": {
          "base_uri": "https://localhost:8080/"
        },
        "id": "g2ebo0gz_0Tl",
        "outputId": "c7c6024b-c5c2-4356-f366-71a05d299de6"
      },
      "outputs": [],
      "source": [
        "\"\"\"\n",
        "Let's read the training csvs\n",
        "\n",
        "\"\"\"\n",
        "import pandas as pd\n",
        "import numpy as np\n",
        "\n",
        "df = pd.read_csv(\"./test_data/higgs-boson/training/training.csv\")\n",
        "# print(df.head()) # just printing what it looks like\n",
        "df = df.drop(columns=['EventId', 'Weight']) # drop columns we don't use"
      ]
    },
    {
      "cell_type": "code",
      "execution_count": 4,
      "metadata": {
        "colab": {
          "base_uri": "https://localhost:8080/"
        },
        "id": "75BSHwKp3qUN",
        "outputId": "eb9ffe23-39c4-40f7-ae65-ab216725d1d3"
      },
      "outputs": [],
      "source": [
        "\"\"\"\n",
        "We filter out bad values\n",
        "\"\"\"\n",
        "df = df.replace(-999.000, np.nan)\n",
        "df = df.dropna()\n",
        "# print(df.head())"
      ]
    },
    {
      "cell_type": "code",
      "execution_count": 5,
      "metadata": {
        "colab": {
          "base_uri": "https://localhost:8080/"
        },
        "id": "RDWbvbC6DgWw",
        "outputId": "65d851f9-4a61-4fc9-ed74-77e3b07aac6c"
      },
      "outputs": [],
      "source": [
        "\"\"\"\n",
        "We get rid of EventId column. Label column is our y (output). Rest is X (input)\n",
        "\"\"\"\n",
        "X = df.iloc[:, :-1].to_numpy()\n",
        "Y = df.iloc[:, -1].to_numpy() # just get Label\n",
        "# print(f\"X shape: {X.shape}\")\n",
        "# print(f\"Y shape: {Y.shape}\")\n",
        "# print(f\"Y values b4: {Y}\")\n",
        "# turn the signal and background to 1 and 0 respectively\n",
        "Y[Y == \"s\"] = 1\n",
        "Y[Y == \"b\"] = 0\n",
        "# print(np.any(Y == \"s\") or np.any(Y == \"b\")) # check if there's any non number left\n",
        "# print(f\"Y values after: {Y}\")\n",
        "Y = Y.astype('int32').reshape((-1,1))"
      ]
    },
    {
      "cell_type": "code",
      "execution_count": 6,
      "metadata": {
        "id": "WVkXH7SlM3Io"
      },
      "outputs": [],
      "source": [
        "# convert them into torch tensors bc we are gonna use pytorch\n",
        "import torch\n",
        "X = torch.Tensor(X)\n",
        "Y = torch.Tensor(Y)"
      ]
    },
    {
      "cell_type": "code",
      "execution_count": 7,
      "metadata": {
        "colab": {
          "base_uri": "https://localhost:8080/"
        },
        "id": "wpCzX1ryA_pR",
        "outputId": "9d78cbf0-0f7f-4447-a476-a02f481d3181"
      },
      "outputs": [],
      "source": [
        "\"\"\"\n",
        "We do the train test split. We don't shuffle the data just yet, we can do that \n",
        "pytorch data loader\n",
        "\"\"\"\n",
        "from sklearn.model_selection import train_test_split\n",
        "\n",
        "X_train, X_test, Y_train, Y_test = train_test_split(X, Y, test_size=0.20)\n",
        "\n",
        "# print(f\"X_train shape: {X_train.shape}\")\n",
        "# print(f\"X_test shape: {X_test.shape}\")\n",
        "# print(f\"Y_train shape: {Y_train.shape}\")\n",
        "# print(f\"Y_test shape: {Y_test.shape}\")"
      ]
    },
    {
      "cell_type": "code",
      "execution_count": 8,
      "metadata": {},
      "outputs": [
        {
          "data": {
            "text/plain": [
              "'1.22.4'"
            ]
          },
          "execution_count": 8,
          "metadata": {},
          "output_type": "execute_result"
        }
      ],
      "source": [
        "np.__version__"
      ]
    },
    {
      "cell_type": "code",
      "execution_count": 9,
      "metadata": {
        "id": "M_yQd0hTFbmB"
      },
      "outputs": [],
      "source": [
        "\"\"\"\n",
        "Now we gotta transfer the numpy data into a \"dataset\" so pytorch can load it as\n",
        "as dataloader. This is not necessary, but a nice practice, since \n",
        "dataloaders shuffles data and you can change batch sizes easily\n",
        "\"\"\"\n",
        "from torch import Tensor\n",
        "from torch.utils.data import Dataset, DataLoader\n",
        "\n",
        "class CustomDataset(Dataset):\n",
        "  def __init__(self, X: Tensor, labels: Tensor):\n",
        "    self.X = X\n",
        "    self.Y = labels\n",
        "  def __len__(self):\n",
        "      return self.X.shape[0]\n",
        "  def __getitem__(self, idx: int):\n",
        "    x = self.X[idx]\n",
        "    label = self.Y[idx]\n",
        "    return x, label\n",
        "\n",
        "dataset_train = CustomDataset(X_train, Y_train)\n",
        "train_dataloader = DataLoader(dataset_train, batch_size=64, shuffle=True)\n",
        "\n",
        "# dataset_test = CustomDataset(X_test, Y_test)\n",
        "# test_dataloader = DataLoader(dataset_test, batch_size=64, shuffle=True)"
      ]
    },
    {
      "cell_type": "code",
      "execution_count": 10,
      "metadata": {
        "id": "PvLqPijPrJ49"
      },
      "outputs": [],
      "source": [
        "# import torch.nn as nn \n",
        "\n",
        "# class three_layer_model(nn.Module):\n",
        "#     def __init__(self):\n",
        "#         # Model with <16,64,32,32,5> Behavior\n",
        "#         super(three_layer_model, self).__init__()\n",
        "#         self.quantized_model = False\n",
        "#         self.input_shape = 30  # (,30)\n",
        "#         self.fc1 = nn.Linear(self.input_shape, 64)\n",
        "#         self.fc2 = nn.Linear(64, 32)\n",
        "#         self.fc3 = nn.Linear(32, 32)\n",
        "#         self.fc4 = nn.Linear(32, 1)\n",
        "#         self.act1 = nn.ReLU()\n",
        "#         self.act2 = nn.ReLU()\n",
        "#         self.act3 = nn.ReLU()\n",
        "#         self.sigmoid = nn.Sigmoid()\n",
        "\n",
        "#     def forward(self, x):\n",
        "#         x = self.act1(self.fc1(x))\n",
        "#         x = self.act2(self.fc2(x))\n",
        "#         x = self.act3(self.fc3(x))\n",
        "#         sigmoid_out = self.sigmoid(self.fc4(x))\n",
        "#         return sigmoid_out\n",
        "# model = three_layer_model()"
      ]
    },
    {
      "cell_type": "code",
      "execution_count": 11,
      "metadata": {
        "id": "Kwj6-bu7rSHi"
      },
      "outputs": [],
      "source": [
        "# \"\"\"\n",
        "# Training phase\n",
        "# \"\"\"\n",
        "# import torch.nn.functional as F\n",
        "\n",
        "# model.train() # put model in train mode (for batchnormalization)\n",
        "# optimizer = torch.optim.AdamW(model.parameters(), lr=1e-3)\n",
        "# i = 0\n",
        "# for x, y in train_dataloader:\n",
        "#   loss = F.binary_cross_entropy(model(x), y)\n",
        "#   i +=1\n",
        "#   # if i > 100:\n",
        "#   #   break\n",
        "\n",
        "#   optimizer.zero_grad() # this deletes all previous grad calculations. very important\n",
        "#   loss.backward() # calculates the gradients\n",
        "#   optimizer.step() # applies backpropagation"
      ]
    },
    {
      "cell_type": "code",
      "execution_count": 12,
      "metadata": {
        "colab": {
          "base_uri": "https://localhost:8080/",
          "height": 279
        },
        "id": "D-gB2eW5Op2Y",
        "outputId": "083abddb-0da6-463b-8f6a-8c5c7e3e82bf"
      },
      "outputs": [],
      "source": [
        "# \"\"\"\n",
        "# Testing phase\n",
        "# \"\"\"\n",
        "# from sklearn import metrics\n",
        "# import matplotlib.pyplot as plt\n",
        "\n",
        "# model.eval() # put model in eval mode (for batchnormalization)\n",
        "# with torch.no_grad():\n",
        "#   fpr, tpr, _ = metrics.roc_curve(Y_test,  model(X_test))\n",
        "#   auc = metrics.roc_auc_score(Y_test, model(X_test))\n",
        "  \n",
        "\n",
        "# #create ROC curve\n",
        "# plt.plot(fpr,tpr,label=\"AUC=\"+str(auc))\n",
        "# plt.ylabel('True Positive Rate')\n",
        "# plt.xlabel('False Positive Rate')\n",
        "# plt.legend(loc=4)\n",
        "# plt.show()"
      ]
    },
    {
      "cell_type": "code",
      "execution_count": 13,
      "metadata": {
        "colab": {
          "base_uri": "https://localhost:8080/"
        },
        "id": "qcZ7BnRDVlXA",
        "outputId": "b4cd92e1-d943-444c-ce82-dc5262ac3333"
      },
      "outputs": [
        {
          "name": "stdout",
          "output_type": "stream",
          "text": [
            "QuantTensor(value=tensor([[-0.5312,  0.0703],\n",
            "        [-0.3203,  0.2266],\n",
            "        [-0.0391, -0.1797],\n",
            "        [-0.5391, -0.3047]], grad_fn=<MulBackward0>), scale=tensor(0.0078, grad_fn=<DivBackward0>), zero_point=tensor(0.), bit_width=tensor(8.), signed_t=tensor(True), training_t=tensor(True))\n",
            "tensor([[-68,   9],\n",
            "        [-41,  29],\n",
            "        [ -5, -23],\n",
            "        [-69, -39]], dtype=torch.int32)\n"
          ]
        }
      ],
      "source": [
        "from brevitas.nn import QuantLinear\n",
        "from brevitas.quant import Int8WeightPerTensorFixedPoint\n",
        "import math\n",
        "\n",
        "# fc = QuantLinear(10, 5, bias=False, weight_quant=Int8WeightPerTensorFixedPoint)\n",
        "\n",
        "quant_linear = QuantLinear(2, 4, weight_quant=Int8WeightPerTensorFixedPoint, bias=False)\n",
        "\n",
        "print(quant_linear.quant_weight())\n",
        "print(quant_linear.quant_weight().int())\n",
        "# print(f\"Weight QuantTensor:\\n {quant_linear.quant_weight()}\")\n",
        "# print(f\"Weight fix point: {- math.log2(quant_linear.quant_weight().scale)}\")"
      ]
    },
    {
      "cell_type": "code",
      "execution_count": 14,
      "metadata": {
        "colab": {
          "base_uri": "https://localhost:8080/",
          "height": 260
        },
        "id": "gKF5ONZBXaNC",
        "outputId": "3bff67d3-fc36-44d9-967f-6017dc1ade2d"
      },
      "outputs": [
        {
          "data": {
            "text/markdown": [
              "```python\n",
              "    def __init__(\n",
              "            self,\n",
              "            act_quant: Optional[ActQuantType] = Uint8ActPerTensorFloat,\n",
              "            input_quant: Optional[ActQuantType] = None,\n",
              "            return_quant_tensor: bool = False,\n",
              "            **kwargs):\n",
              "        QuantNLAL.__init__(\n",
              "            self,\n",
              "            act_impl=nn.ReLU,\n",
              "            passthrough_act=True,\n",
              "            input_quant=input_quant,\n",
              "            act_quant=act_quant,\n",
              "            return_quant_tensor=return_quant_tensor,\n",
              "            **kwargs)\n",
              "\n",
              "```"
            ],
            "text/plain": [
              "<IPython.core.display.Markdown object>"
            ]
          },
          "metadata": {},
          "output_type": "display_data"
        }
      ],
      "source": [
        "import inspect\n",
        "from brevitas.nn import QuantLinear, QuantReLU\n",
        "from IPython.display import Markdown, display\n",
        "\n",
        "def pretty_print_source(source):\n",
        "    display(Markdown('```python\\n' + source + '\\n```'))\n",
        "    \n",
        "# source = inspect.getsource(QuantLinear.__init__)  \n",
        "# pretty_print_source(source)\n",
        "source = inspect.getsource(QuantReLU.__init__)  \n",
        "pretty_print_source(source)"
      ]
    },
    {
      "cell_type": "code",
      "execution_count": null,
      "metadata": {},
      "outputs": [],
      "source": []
    },
    {
      "cell_type": "code",
      "execution_count": 57,
      "metadata": {
        "id": "bloFTK-ybDGI"
      },
      "outputs": [],
      "source": [
        "# \"\"\"\n",
        "# brevitas version\n",
        "# \"\"\"\n",
        "# import torch.nn as nn \n",
        "# import brevitas.nn as qnn\n",
        "# from brevitas.core.quant import QuantType\n",
        "\n",
        "# class three_layer_model_bv(nn.Module):\n",
        "#     def __init__(self):\n",
        "#         # Model with <16,64,32,32,5> Behavior\n",
        "#         super(three_layer_model_bv, self).__init__()\n",
        "#         self.input_shape = int(30)  # (,16)\n",
        "#         self.quantized_model = True #variable to inform some of our plotting functions this is quantized\n",
        "#         self.weight_precision = 8\n",
        "#         self.fc1 = qnn.QuantLinear(self.input_shape, int(64),\n",
        "#                                    bias=True,\n",
        "#                                    weight_quant_type=QuantType.INT,\n",
        "#                                    weight_bit_width=self.weight_precision,\n",
        "#                                    return_quant_tensor=True\n",
        "#                                    )\n",
        "#         self.fc2 = qnn.QuantLinear(64, 32,\n",
        "#                                    bias=True,\n",
        "#                                    weight_quant_type=QuantType.INT,\n",
        "#                                    weight_bit_width=self.weight_precision,\n",
        "#                                    return_quant_tensor=True\n",
        "#                                    )\n",
        "#         self.fc3 = qnn.QuantLinear(32, 32,\n",
        "#                                    bias=True,\n",
        "#                                    weight_quant_type=QuantType.INT,\n",
        "#                                    weight_bit_width=self.weight_precision,\n",
        "#                                    return_quant_tensor=True\n",
        "#                                    )\n",
        "#         self.fc4 = qnn.QuantLinear(32, 1,\n",
        "#                                    bias=True,\n",
        "#                                    weight_quant_type=QuantType.INT,\n",
        "#                                    weight_bit_width=self.weight_precision,\n",
        "#                                    return_quant_tensor=True\n",
        "#                                    )\n",
        "#         self.act1 = qnn.QuantReLU(\n",
        "#             quant_type=QuantType.INT, \n",
        "#             bit_width=self.weight_precision, \n",
        "#             max_val=6,\n",
        "#             return_quant_tensor=True\n",
        "#         ) \n",
        "#         self.act2 = qnn.QuantReLU(\n",
        "#             quant_type=QuantType.INT, \n",
        "#             bit_width=self.weight_precision, \n",
        "#             max_val=6,\n",
        "#             return_quant_tensor=True\n",
        "#         )\n",
        "#         self.act3 = qnn.QuantReLU(\n",
        "#             quant_type=QuantType.INT, \n",
        "#             bit_width=self.weight_precision, \n",
        "#             max_val=6,\n",
        "#             return_quant_tensor=True\n",
        "#         )\n",
        "#         self.sigmoid = nn.Sigmoid()\n",
        "\n",
        "\n",
        "#     def forward(self, x):\n",
        "#         test = self.fc1(x)\n",
        "#         x = self.act1(test)\n",
        "#         x = self.act2(self.fc2(x))\n",
        "#         x = self.act3(self.fc3(x))\n",
        "#         # print(f\"x: {x}\")\n",
        "#         x = self.fc4(x)\n",
        "#         # print(f\"fc output: {x}\")\n",
        "#         sigmoid_out = self.sigmoid(x)\n",
        "\n",
        "#         return sigmoid_out\n",
        "\n",
        "\n",
        "# model_bv = three_layer_model_bv()"
      ]
    },
    {
      "cell_type": "code",
      "execution_count": 58,
      "metadata": {
        "id": "0MPKPmHlgajJ"
      },
      "outputs": [],
      "source": [
        "# \"\"\"\n",
        "# Training phase\n",
        "# \"\"\"\n",
        "# import torch.nn.functional as F\n",
        "\n",
        "# model_bv.train() # put model in train mode (for batchnormalization)\n",
        "# optimizer = torch.optim.AdamW(model_bv.parameters(), lr=1e-3)\n",
        "# i = 0\n",
        "# for x, y in train_dataloader:\n",
        "#   # print(y.shape)\n",
        "#   # print(model_bv(x).shape)\n",
        "#   loss = F.binary_cross_entropy(model_bv(x), y)\n",
        "#   i +=1\n",
        "#   # if i > 100:\n",
        "#   #   break\n",
        "\n",
        "#   optimizer.zero_grad() # this deletes all previous grad calculations. very important\n",
        "#   loss.backward() # calculates the gradients\n",
        "#   optimizer.step() # applies backpropagation"
      ]
    },
    {
      "cell_type": "code",
      "execution_count": 59,
      "metadata": {
        "id": "9mpBdRHGgbE1"
      },
      "outputs": [],
      "source": [
        "# \"\"\"\n",
        "# Testing phase\n",
        "# \"\"\"\n",
        "# from sklearn import metrics\n",
        "# import matplotlib.pyplot as plt\n",
        "\n",
        "# model_bv.eval() # put model in eval mode (for batchnormalization)\n",
        "# with torch.no_grad():\n",
        "#   fpr, tpr, _ = metrics.roc_curve(Y_test,  model_bv(X_test))\n",
        "#   auc = metrics.roc_auc_score(Y_test, model_bv(X_test))\n",
        "  \n",
        "\n",
        "# #create ROC curve\n",
        "# plt.plot(fpr,tpr,label=\"AUC=\"+str(auc))\n",
        "# plt.ylabel('True Positive Rate')\n",
        "# plt.xlabel('False Positive Rate')\n",
        "# plt.legend(loc=4)\n",
        "# plt.show()"
      ]
    },
    {
      "cell_type": "code",
      "execution_count": 60,
      "metadata": {
        "colab": {
          "base_uri": "https://localhost:8080/",
          "height": 104
        },
        "id": "hOLYaw_gRV_Y",
        "outputId": "64f3539e-ca80-4af2-e1d6-c9bc2e175c70"
      },
      "outputs": [
        {
          "data": {
            "application/vnd.google.colaboratory.intrinsic+json": {
              "type": "string"
            },
            "text/plain": [
              "'class three_layer_model_bv_seq(nn.Module):\\n  def __init__(self):\\n      super(three_layer_model_bv_seq, self).__init__()\\n      input_dim = 30\\n      self.quantized_model = True #variable to inform some of our plotting functions this is quantized\\n      self.weight_precision = 8 # 8\\n      mlp_dims = [30 , 64, 32, 32]\\n      mlp_blocks = [nn.BatchNorm1d(input_dim)]\\n      for idx in range(len(mlp_dims)-1):\\n        # print(mlp_dims[idx + 1])\\n        mlp_blocks.append(qnn.QuantLinear(\\n                        int(mlp_dims[idx]), \\n                        int(mlp_dims[idx + 1]),\\n                        bias=True,\\n                        weight_quant_type=QuantType.INT,\\n                        weight_bit_width=self.weight_precision,\\n                        return_quant_tensor=True,\\n                        input_quant=Int8ActPerTensorFloat\\n                        )\\n                        \\n        )\\n        mlp_blocks.append(\\n            qnn.QuantReLU(\\n                quant_type=QuantType.INT, \\n                bit_width=self.weight_precision, \\n                max_val=6, \\n                return_quant_tensor=True\\n            )\\n        )\\n      # add last layer\\n      mlp_blocks.append(qnn.QuantLinear(\\n                        mlp_dims[len(mlp_dims)-1], \\n                        1,\\n                        bias=True,\\n                        weight_quant_type=QuantType.INT,\\n                        weight_bit_width=self.weight_precision,\\n                        return_quant_tensor=True\\n                        )\\n        )\\n      mlp_blocks.append(nn.Sigmoid())\\n      self.mlp = nn.Sequential(*mlp_blocks)\\n\\n  def forward(self, X: Tensor):\\n      return self.mlp(X)\\n\\nmodel_bv_seq = three_layer_model_bv_seq()'"
            ]
          },
          "execution_count": 60,
          "metadata": {},
          "output_type": "execute_result"
        }
      ],
      "source": [
        "from brevitas.quant.scaled_int import Int8ActPerTensorFloat\n",
        "\n",
        "\"\"\"class three_layer_model_bv_seq(nn.Module):\n",
        "  def __init__(self):\n",
        "      super(three_layer_model_bv_seq, self).__init__()\n",
        "      input_dim = 30\n",
        "      self.quantized_model = True #variable to inform some of our plotting functions this is quantized\n",
        "      self.weight_precision = 8 # 8\n",
        "      mlp_dims = [30 , 64, 32, 32]\n",
        "      mlp_blocks = [nn.BatchNorm1d(input_dim)]\n",
        "      for idx in range(len(mlp_dims)-1):\n",
        "        # print(mlp_dims[idx + 1])\n",
        "        mlp_blocks.append(qnn.QuantLinear(\n",
        "                        int(mlp_dims[idx]), \n",
        "                        int(mlp_dims[idx + 1]),\n",
        "                        bias=True,\n",
        "                        weight_quant_type=QuantType.INT,\n",
        "                        weight_bit_width=self.weight_precision,\n",
        "                        return_quant_tensor=True,\n",
        "                        input_quant=Int8ActPerTensorFloat\n",
        "                        )\n",
        "                        \n",
        "        )\n",
        "        mlp_blocks.append(\n",
        "            qnn.QuantReLU(\n",
        "                quant_type=QuantType.INT, \n",
        "                bit_width=self.weight_precision, \n",
        "                max_val=6, \n",
        "                return_quant_tensor=True\n",
        "            )\n",
        "        )\n",
        "      # add last layer\n",
        "      mlp_blocks.append(qnn.QuantLinear(\n",
        "                        mlp_dims[len(mlp_dims)-1], \n",
        "                        1,\n",
        "                        bias=True,\n",
        "                        weight_quant_type=QuantType.INT,\n",
        "                        weight_bit_width=self.weight_precision,\n",
        "                        return_quant_tensor=True\n",
        "                        )\n",
        "        )\n",
        "      mlp_blocks.append(nn.Sigmoid())\n",
        "      self.mlp = nn.Sequential(*mlp_blocks)\n",
        "\n",
        "  def forward(self, X: Tensor):\n",
        "      return self.mlp(X)\n",
        "\n",
        "model_bv_seq = three_layer_model_bv_seq()\"\"\""
      ]
    },
    {
      "cell_type": "code",
      "execution_count": 37,
      "metadata": {
        "id": "A2F-YR_TlvWx"
      },
      "outputs": [],
      "source": [
        "# import brevitas.nn as qnn\n",
        "# from brevitas.core.quant import QuantType\n",
        "# from brevitas.quant.scaled_int import Int8ActPerTensorFloat, Int8WeightPerTensorFloat\n",
        "# from brevitas.quant.shifted_scaled_int import ShiftedUint8ActPerTensorFloat\n",
        "\n",
        "# \"\"\"\n",
        "# NOTE: try quantizing the input data and \n",
        "# see if there's big changes\n",
        "# \"\"\"\n",
        "\n",
        "# input_dim = 30\n",
        "# weight_precision = 8 # 8\n",
        "# # mlp_dims = [30 , 64, 32, 32]\n",
        "# mlp_dims = [30 , 16, 8, 8]\n",
        "# mlp_blocks = [nn.BatchNorm1d(input_dim)]\n",
        "# for idx in range(len(mlp_dims)-1):\n",
        "#   # print(mlp_dims[idx + 1])\n",
        "#   # mlp_blocks.append(qnn.QuantLinear(\n",
        "#   #                 int(mlp_dims[idx]), \n",
        "#   #                 int(mlp_dims[idx + 1]),\n",
        "#   #                 bias=True,\n",
        "#   #                 weight_quant_type=QuantType.INT,\n",
        "#   #                 weight_bit_width=weight_precision,\n",
        "#   #                 return_quant_tensor=True,\n",
        "#   #                 output_quant=Int8ActPerTensorFloat,\n",
        "#   #                 input_quant=Int8ActPerTensorFloat\n",
        "#   #                 )\n",
        "                  \n",
        "#   # )\n",
        "#   mlp_blocks.append(qnn.QuantLinear(\n",
        "#                   int(mlp_dims[idx]), \n",
        "#                   int(mlp_dims[idx + 1]),\n",
        "#                   bias=True,\n",
        "#                   input_bit_width=weight_precision,\n",
        "#                   output_bit_width=weight_precision,\n",
        "#                   weight_quant=Int8WeightPerTensorFloat,\n",
        "#                   input_quant=ShiftedUint8ActPerTensorFloat,\n",
        "#                   output_quant=ShiftedUint8ActPerTensorFloat,\n",
        "#                   return_quant_tensor=True\n",
        "#                   )\n",
        "                  \n",
        "#   )\n",
        "#   mlp_blocks.append(\n",
        "#       qnn.QuantReLU(\n",
        "#           quant_type=QuantType.INT, \n",
        "#           bit_width=weight_precision, \n",
        "#           max_val=6, \n",
        "#           return_quant_tensor=True\n",
        "#       )\n",
        "#   )\n",
        "# # add last layer\n",
        "# mlp_blocks.append(qnn.QuantLinear(\n",
        "#                   mlp_dims[len(mlp_dims)-1], \n",
        "#                   1,\n",
        "#                   bias=True,\n",
        "#                   input_bit_width=weight_precision,\n",
        "#                   output_bit_width=weight_precision,\n",
        "#                   weight_quant=Int8WeightPerTensorFloat,\n",
        "#                   input_quant=ShiftedUint8ActPerTensorFloat,\n",
        "#                   output_quant=ShiftedUint8ActPerTensorFloat,\n",
        "#                   return_quant_tensor=True\n",
        "#                   )\n",
        "#   )\n",
        "# # mlp_blocks.append(nn.Sigmoid())\n",
        "# mlp_blocks.append(\n",
        "#       qnn.QuantSigmoid(\n",
        "#           quant_type=QuantType.INT, \n",
        "#           bit_width=weight_precision, \n",
        "#           max_val=6, \n",
        "#           return_quant_tensor=True\n",
        "#       )\n",
        "#   )\n",
        "# model_bv_seq = nn.Sequential(*mlp_blocks)\n"
      ]
    },
    {
      "cell_type": "code",
      "execution_count": 119,
      "metadata": {
        "colab": {
          "base_uri": "https://localhost:8080/",
          "height": 358
        },
        "id": "W00nE9nOf1uW",
        "outputId": "794cda60-948b-4ff3-e7a3-30738aec2e2d"
      },
      "outputs": [
        {
          "ename": "DependencyError",
          "evalue": "ignored",
          "output_type": "error",
          "traceback": [
            "\u001b[0;31m---------------------------------------------------------------------------\u001b[0m",
            "\u001b[0;31mDependencyError\u001b[0m                           Traceback (most recent call last)",
            "\u001b[0;32m<ipython-input-119-b3340e806df5>\u001b[0m in \u001b[0;36m<module>\u001b[0;34m\u001b[0m\n\u001b[1;32m      1\u001b[0m \u001b[0;32mimport\u001b[0m \u001b[0mbrevitas\u001b[0m\u001b[0;34m.\u001b[0m\u001b[0mquant\u001b[0m\u001b[0;34m.\u001b[0m\u001b[0mfixed_point\u001b[0m \u001b[0;32mas\u001b[0m \u001b[0mfp\u001b[0m\u001b[0;34m\u001b[0m\u001b[0;34m\u001b[0m\u001b[0m\n\u001b[1;32m      2\u001b[0m \u001b[0;34m\u001b[0m\u001b[0m\n\u001b[0;32m----> 3\u001b[0;31m \u001b[0mquant\u001b[0m \u001b[0;34m=\u001b[0m\u001b[0mfp\u001b[0m\u001b[0;34m.\u001b[0m\u001b[0mInt8WeightPerTensorFixedPoint\u001b[0m\u001b[0;34m(\u001b[0m\u001b[0;34m)\u001b[0m\u001b[0;34m\u001b[0m\u001b[0;34m\u001b[0m\u001b[0m\n\u001b[0m\u001b[1;32m      4\u001b[0m \u001b[0mprint\u001b[0m\u001b[0;34m(\u001b[0m\u001b[0mquant\u001b[0m\u001b[0;34m.\u001b[0m\u001b[0mbit_width\u001b[0m\u001b[0;34m)\u001b[0m\u001b[0;34m\u001b[0m\u001b[0;34m\u001b[0m\u001b[0m\n\u001b[1;32m      5\u001b[0m \u001b[0mquant\u001b[0m\u001b[0;34m.\u001b[0m\u001b[0mbit_width\u001b[0m \u001b[0;34m=\u001b[0m \u001b[0;36m16\u001b[0m\u001b[0;34m\u001b[0m\u001b[0;34m\u001b[0m\u001b[0m\n",
            "\u001b[0;32m/usr/local/lib/python3.7/dist-packages/_dependencies/injector.py\u001b[0m in \u001b[0;36m__init__\u001b[0;34m(self, *args, **kwargs)\u001b[0m\n\u001b[1;32m    122\u001b[0m \u001b[0;32mdef\u001b[0m \u001b[0m__init__\u001b[0m\u001b[0;34m(\u001b[0m\u001b[0mself\u001b[0m\u001b[0;34m,\u001b[0m \u001b[0;34m*\u001b[0m\u001b[0margs\u001b[0m\u001b[0;34m,\u001b[0m \u001b[0;34m**\u001b[0m\u001b[0mkwargs\u001b[0m\u001b[0;34m)\u001b[0m\u001b[0;34m:\u001b[0m\u001b[0;34m\u001b[0m\u001b[0;34m\u001b[0m\u001b[0m\n\u001b[1;32m    123\u001b[0m \u001b[0;34m\u001b[0m\u001b[0m\n\u001b[0;32m--> 124\u001b[0;31m     \u001b[0;32mraise\u001b[0m \u001b[0mDependencyError\u001b[0m\u001b[0;34m(\u001b[0m\u001b[0;34m\"Do not instantiate Injector\"\u001b[0m\u001b[0;34m)\u001b[0m\u001b[0;34m\u001b[0m\u001b[0;34m\u001b[0m\u001b[0m\n\u001b[0m\u001b[1;32m    125\u001b[0m \u001b[0;34m\u001b[0m\u001b[0m\n\u001b[1;32m    126\u001b[0m \u001b[0;34m\u001b[0m\u001b[0m\n",
            "\u001b[0;31mDependencyError\u001b[0m: Do not instantiate Injector"
          ]
        }
      ],
      "source": [
        "import brevitas.quant.fixed_point as fp\n",
        "\n",
        "quant =fp.Int8WeightPerTensorFixedPoint\n",
        "print(quant.bit_width)\n",
        "quant.bit_width = 16\n",
        "print(quant.bit_width)\n",
        "print(fp.Int8WeightPerTensorFixedPoint.bit_width)"
      ]
    },
    {
      "cell_type": "code",
      "execution_count": 88,
      "metadata": {
        "id": "JqPmrUyhX9lG"
      },
      "outputs": [],
      "source": [
        "import brevitas.nn as qnn\n",
        "from brevitas.core.quant import QuantType\n",
        "from brevitas.quant.scaled_int import Int8ActPerTensorFloat, Int8WeightPerTensorFloat\n",
        "from brevitas.quant.shifted_scaled_int import ShiftedUint8ActPerTensorFloat\n",
        "import brevitas.quant.fixed_point as fp\n",
        "\"\"\"\n",
        "NOTE: try quantizing the input data and \n",
        "see if there's big changes\n",
        "\"\"\"\n",
        "\n",
        "input_dim = 30\n",
        "weight_precision = 16 # 8\n",
        "# mlp_dims = [30 , 64, 32, 32]\n",
        "mlp_dims = [30 , 16, 8, 8]\n",
        "# mlp_dims = [30 , 128, 64, 64]\n",
        "mlp_blocks = [nn.BatchNorm1d(input_dim)]\n",
        "weight_quant = fp.Int8WeightPerTensorFixedPoint\n",
        "weight_quant.bit_width = weight_precision\n",
        "\n",
        "\n",
        "for idx in range(len(mlp_dims)-1):\n",
        "  # print(mlp_dims[idx + 1])\n",
        "  mlp_blocks.append(qnn.QuantLinear(\n",
        "                  int(mlp_dims[idx]), \n",
        "                  int(mlp_dims[idx + 1]),\n",
        "                  bias=True,\n",
        "                  weight_quant=weight_quant,\n",
        "                  bias_quant=fp.Int8BiasPerTensorFixedPointInternalScaling,\n",
        "                  input_quant=fp.Uint8ActPerTensorFixedPoint,\n",
        "                  return_quant_tensor=True\n",
        "                  )  \n",
        "  )\n",
        "  \n",
        "  mlp_blocks.append(\n",
        "      qnn.QuantReLU(\n",
        "          act_quant=fp.Uint8ActPerTensorFixedPoint,\n",
        "          return_quant_tensor=True\n",
        "      )\n",
        "  )\n",
        "# add last layer\n",
        "mlp_blocks.append(qnn.QuantLinear(\n",
        "                  mlp_dims[len(mlp_dims)-1], \n",
        "                  1,\n",
        "                  bias=True,\n",
        "                  weight_quant=fp.Int8WeightPerTensorFixedPoint,\n",
        "                  bias_quant=fp.Int8BiasPerTensorFixedPointInternalScaling,\n",
        "                  input_quant=fp.Uint8ActPerTensorFixedPoint,\n",
        "                  return_quant_tensor=True\n",
        "                  )\n",
        ")\n",
        "mlp_blocks.append(\n",
        "      qnn.QuantSigmoid(\n",
        "          act_quant=fp.Uint8ActPerTensorFixedPoint,\n",
        "          return_quant_tensor=True\n",
        "      )\n",
        ")\n",
        "model_bv_seq = nn.Sequential(*mlp_blocks)\n"
      ]
    },
    {
      "cell_type": "code",
      "execution_count": 70,
      "metadata": {
        "id": "IiLDe7P2Pwfs"
      },
      "outputs": [],
      "source": [
        "# import brevitas.nn as qnn\n",
        "# from brevitas.core.quant import QuantType\n",
        "# from brevitas.quant.scaled_int import Int8ActPerTensorFloat, Int8WeightPerTensorFloat\n",
        "# from brevitas.quant.shifted_scaled_int import ShiftedUint8ActPerTensorFloat\n",
        "\n",
        "# \"\"\"\n",
        "# NOTE: try quantizing the input data and \n",
        "# see if there's big changes\n",
        "\n",
        "# Ben Hawk's way to writing bv code\n",
        "# \"\"\"\n",
        "\n",
        "# input_dim = 30\n",
        "# weight_precision = 8 # 8\n",
        "# # mlp_dims = [30 , 64, 32, 32]\n",
        "# mlp_dims = [30 , 16, 8, 8]\n",
        "# mlp_blocks = [nn.BatchNorm1d(input_dim)]\n",
        "# for idx in range(len(mlp_dims)-1):\n",
        "#   # print(mlp_dims[idx + 1])\n",
        "#   mlp_blocks.append(qnn.QuantLinear(\n",
        "#                   int(mlp_dims[idx]), \n",
        "#                   int(mlp_dims[idx + 1]),\n",
        "#                   bias=True,\n",
        "#                   weight_quant_type=QuantType.INT,\n",
        "#                   weight_bit_width=weight_precision,\n",
        "#                   return_quant_tensor=True\n",
        "#                   )  \n",
        "#   )\n",
        "  \n",
        "#   mlp_blocks.append(\n",
        "#       qnn.QuantReLU(\n",
        "#           quant_type=QuantType.INT, \n",
        "#           bit_width=weight_precision, \n",
        "#           max_val=6, \n",
        "#           return_quant_tensor=True\n",
        "#       )\n",
        "#   )\n",
        "# # add last layer\n",
        "# mlp_blocks.append(qnn.QuantLinear(\n",
        "#                   mlp_dims[len(mlp_dims)-1], \n",
        "#                   1,\n",
        "#                   bias=True,\n",
        "#                   weight_quant_type=QuantType.INT,\n",
        "#                   weight_bit_width=weight_precision,\n",
        "#                   return_quant_tensor=True\n",
        "#                   )\n",
        "# )\n",
        "# mlp_blocks.append(\n",
        "#       qnn.QuantSigmoid(\n",
        "#           quant_type=QuantType.INT, \n",
        "#           bit_width=weight_precision, \n",
        "#           max_val=6, \n",
        "#           return_quant_tensor=True\n",
        "#       )\n",
        "# )\n",
        "# model_bv_seq = nn.Sequential(*mlp_blocks)\n"
      ]
    },
    {
      "cell_type": "code",
      "execution_count": 89,
      "metadata": {
        "id": "zInhwBDP3mzj"
      },
      "outputs": [],
      "source": [
        "\"\"\"\n",
        "Training phase\n",
        "\"\"\"\n",
        "import torch.nn.functional as F\n",
        "\n",
        "model_bv_seq.train() # put model in train mode (for batchnormalization)\n",
        "optimizer = torch.optim.AdamW(model_bv_seq.parameters(), lr=1e-3)\n",
        "i = 0\n",
        "for x, y in train_dataloader:\n",
        "  # print(y.shape)\n",
        "  # print(model_bv_seq(x).shape)\n",
        "  loss = F.binary_cross_entropy(model_bv_seq(x), y)\n",
        "  i +=1\n",
        "  # if i > 100:\n",
        "  #   break\n",
        "\n",
        "  optimizer.zero_grad() # this deletes all previous grad calculations. very important\n",
        "  loss.backward() # calculates the gradients\n",
        "  optimizer.step() # applies backpropagation"
      ]
    },
    {
      "cell_type": "code",
      "execution_count": 90,
      "metadata": {
        "colab": {
          "base_uri": "https://localhost:8080/",
          "height": 295
        },
        "id": "vhdVZqgqUlIe",
        "outputId": "89cf60e8-d9d3-4ebb-a3f6-2cb3bdd8f5a2"
      },
      "outputs": [
        {
          "data": {
            "image/png": "[encoded data removed]",
            "text/plain": [
              "<Figure size 432x288 with 1 Axes>"
            ]
          },
          "metadata": {
            "needs_background": "light"
          },
          "output_type": "display_data"
        }
      ],
      "source": [
        "\"\"\"\n",
        "Testing phase\n",
        "\"\"\"\n",
        "from sklearn import metrics\n",
        "import matplotlib.pyplot as plt\n",
        "\n",
        "model_bv_seq.eval() # put model in eval mode \n",
        "with torch.no_grad():\n",
        "  Y_hat = model_bv_seq(X_test)[0]\n",
        "  fpr, tpr, _ = metrics.roc_curve(Y_test,  Y_hat)\n",
        "  auc = metrics.roc_auc_score(Y_test, Y_hat)\n",
        "  \n",
        "\n",
        "#create ROC curve\n",
        "plt.plot(fpr,tpr,label=\"AUC=\"+str(auc))\n",
        "plt.ylabel('True Positive Rate')\n",
        "plt.xlabel('False Positive Rate')\n",
        "plt.title(\"bv model after training\")\n",
        "plt.legend(loc=4)\n",
        "plt.show()"
      ]
    },
    {
      "cell_type": "code",
      "execution_count": 91,
      "metadata": {
        "id": "kUDaQ9IvWJh_"
      },
      "outputs": [],
      "source": [
        "# print(len(model_bv_seq.mlp))\n",
        "# print((model_bv_seq.mlp))\n",
        "N_test = X_test.shape[0]\n",
        "sample_size = 10\n",
        "bins = 500\n",
        "sample_idxs = np.random.choice(N_test, sample_size)\n",
        "# print(X_test.shape)"
      ]
    },
    {
      "cell_type": "code",
      "execution_count": 92,
      "metadata": {
        "colab": {
          "base_uri": "https://localhost:8080/",
          "height": 1000
        },
        "id": "CxRL869DV_yL",
        "outputId": "4588cb48-f997-46c4-cb53-bbcbcabd2934"
      },
      "outputs": [
        {
          "name": "stdout",
          "output_type": "stream",
          "text": [
            "quantlinear layer tensor bit_width: 22.0\n"
          ]
        },
        {
          "data": {
            "image/png": "[encoded data removed]",
            "text/plain": [
              "<Figure size 432x288 with 1 Axes>"
            ]
          },
          "metadata": {
            "needs_background": "light"
          },
          "output_type": "display_data"
        },
        {
          "name": "stdout",
          "output_type": "stream",
          "text": [
            "hidden activation layer tensor bit_width: 8.0\n"
          ]
        },
        {
          "data": {
            "image/png": "[encoded data removed]",
            "text/plain": [
              "<Figure size 432x288 with 1 Axes>"
            ]
          },
          "metadata": {
            "needs_background": "light"
          },
          "output_type": "display_data"
        },
        {
          "name": "stdout",
          "output_type": "stream",
          "text": [
            "quantlinear layer tensor bit_width: 21.0\n"
          ]
        },
        {
          "data": {
            "image/png": "[encoded data removed]",
            "text/plain": [
              "<Figure size 432x288 with 1 Axes>"
            ]
          },
          "metadata": {
            "needs_background": "light"
          },
          "output_type": "display_data"
        },
        {
          "name": "stdout",
          "output_type": "stream",
          "text": [
            "hidden activation layer tensor bit_width: 8.0\n"
          ]
        },
        {
          "data": {
            "image/png": "[encoded data removed]",
            "text/plain": [
              "<Figure size 432x288 with 1 Axes>"
            ]
          },
          "metadata": {
            "needs_background": "light"
          },
          "output_type": "display_data"
        },
        {
          "name": "stdout",
          "output_type": "stream",
          "text": [
            "quantlinear layer tensor bit_width: 20.0\n"
          ]
        },
        {
          "data": {
            "image/png": "[encoded data removed]",
            "text/plain": [
              "<Figure size 432x288 with 1 Axes>"
            ]
          },
          "metadata": {
            "needs_background": "light"
          },
          "output_type": "display_data"
        },
        {
          "name": "stdout",
          "output_type": "stream",
          "text": [
            "hidden activation layer tensor bit_width: 8.0\n"
          ]
        },
        {
          "data": {
            "image/png": "[encoded data removed]",
            "text/plain": [
              "<Figure size 432x288 with 1 Axes>"
            ]
          },
          "metadata": {
            "needs_background": "light"
          },
          "output_type": "display_data"
        },
        {
          "name": "stdout",
          "output_type": "stream",
          "text": [
            "output quantlinear layer tensor bit_width: 20.0\n"
          ]
        },
        {
          "data": {
            "image/png": "[encoded data removed]",
            "text/plain": [
              "<Figure size 432x288 with 1 Axes>"
            ]
          },
          "metadata": {
            "needs_background": "light"
          },
          "output_type": "display_data"
        },
        {
          "name": "stdout",
          "output_type": "stream",
          "text": [
            "QuantSigmoid activation\n",
            "QuantSigmoid output: torch.Size([13623, 1])\n"
          ]
        },
        {
          "data": {
            "image/png": "[encoded data removed]",
            "text/plain": [
              "<Figure size 432x288 with 1 Axes>"
            ]
          },
          "metadata": {
            "needs_background": "light"
          },
          "output_type": "display_data"
        }
      ],
      "source": [
        "\"\"\"\n",
        "plot histograms\n",
        "\"\"\"\n",
        "from sklearn import metrics\n",
        "import matplotlib.pyplot as plt\n",
        "\n",
        "\n",
        "model_bv_seq.eval() # put model in eval mode (for batchnormalization)\n",
        "with torch.no_grad():\n",
        "  # y_hat = model_bv_seq[0](X_test[sample_idxs])\n",
        "  y_hat = model_bv_seq[0](X_test) # batchnorm\n",
        "\n",
        "  for idx in range(1,len(model_bv_seq)-2):\n",
        "    # print(f\"idx: {idx}\")\n",
        "    y_hat = model_bv_seq[idx](y_hat)\n",
        "    if idx%2 ==1: # quantlinear\n",
        "      print(f\"quantlinear layer tensor bit_width: {y_hat.bit_width}\")\n",
        "    else:# activation\n",
        "      print(f\"hidden activation layer tensor bit_width: {y_hat.bit_width}\")\n",
        "    \n",
        "    plt.hist(y_hat[0][:,0], bins= bins)\n",
        "    plt.show()\n",
        "\n",
        "  idx = len(model_bv_seq)-2\n",
        "  y_hat = model_bv_seq[idx](y_hat)\n",
        "  print(f\"output quantlinear layer tensor bit_width: {y_hat.bit_width}\")\n",
        "  plt.hist(y_hat[0][:,0], bins= bins)\n",
        "  plt.show()\n",
        "  idx = len(model_bv_seq)-1\n",
        "  y_hat = model_bv_seq[idx](y_hat)\n",
        "  # print(f\"output activation layer tensor : {y_hat}\")\n",
        "  # print(\"Sigmoid activation\")\n",
        "  # plt.hist(y_hat.flatten(), bins= bins)\n",
        "\n",
        "  print(\"QuantSigmoid activation\")\n",
        "  print(f\"QuantSigmoid output: {y_hat[0].shape}\")\n",
        "  plt.hist(y_hat[0].flatten(), bins= bins)\n",
        "\n",
        "  plt.show()\n",
        "\n",
        "    \n",
        "  \n",
        "\n"
      ]
    },
    {
      "cell_type": "code",
      "execution_count": 114,
      "metadata": {
        "colab": {
          "base_uri": "https://localhost:8080/"
        },
        "id": "LvTR2iltng2s",
        "outputId": "9ed006f6-1ed4-4fd7-db7c-8cc77431f19d"
      },
      "outputs": [
        {
          "name": "stdout",
          "output_type": "stream",
          "text": [
            "idx: 1\n",
            "idx: 2\n",
            "idx: 3\n",
            "idx: 4\n",
            "idx: 5\n"
          ]
        }
      ],
      "source": [
        "# print(model_bv_seq.mlp[0])\n",
        "# print(model_bv_seq.mlp[0].__str__)\n",
        "# print(len(model_bv_seq.mlp))\n",
        "# for idx in range(1,len(model_bv_seq.mlp)-2):\n",
        "#     print(f\"idx: {idx}\")"
      ]
    },
    {
      "cell_type": "code",
      "execution_count": 93,
      "metadata": {
        "colab": {
          "base_uri": "https://localhost:8080/"
        },
        "id": "_l3wdYIIlcMs",
        "outputId": "8a4f87ec-1bcf-44dd-f8f6-128a842ca216"
      },
      "outputs": [
        {
          "name": "stderr",
          "output_type": "stream",
          "text": [
            "/usr/local/lib/python3.7/dist-packages/torch/nn/modules/module.py:1366: UserWarning: Positional args are being deprecated, use kwargs instead. Refer to https://pytorch.org/docs/master/generated/torch.nn.Module.html#torch.nn.Module.state_dict for details.\n",
            "  \"Positional args are being deprecated, use kwargs instead. Refer to \"\n"
          ]
        }
      ],
      "source": [
        "\"\"\"\n",
        "IMPORTANT\n",
        "save the model to layer load it in a normal sequential for hls4ml\n",
        "\"\"\"\n",
        "save_path = \"./model.pt\"\n",
        "torch.save(model_bv_seq.state_dict(), save_path)\n"
      ]
    },
    {
      "cell_type": "code",
      "execution_count": 94,
      "metadata": {
        "colab": {
          "base_uri": "https://localhost:8080/"
        },
        "id": "Tf80x0-YplnR",
        "outputId": "e52c8725-3336-49f2-9a94-ca8fda5805ab"
      },
      "outputs": [
        {
          "data": {
            "text/plain": [
              "<All keys matched successfully>"
            ]
          },
          "execution_count": 94,
          "metadata": {},
          "output_type": "execute_result"
        }
      ],
      "source": [
        "\"\"\"\n",
        "define and initialize the torch model for hls4ml conversion.\n",
        "Pls note that nn.Sigmoid() is commented out as that is not supported by hls4ml\n",
        "\"\"\"\n",
        "import copy\n",
        "\n",
        "input_dim = 30\n",
        "weight_precision = 8 # 8\n",
        "# mlp_dims = [30 , 64, 32, 32]\n",
        "mlp_dims = [30 , 16, 8, 8]\n",
        "mlp_blocks = [nn.BatchNorm1d(input_dim)]\n",
        "for idx in range(len(mlp_dims)-1):\n",
        "  # print(mlp_dims[idx + 1])\n",
        "  mlp_blocks.append(nn.Linear(\n",
        "                  int(mlp_dims[idx]), \n",
        "                  int(mlp_dims[idx + 1]),\n",
        "                  bias=True\n",
        "                  )\n",
        "                  \n",
        "  )\n",
        "  mlp_blocks.append(\n",
        "      nn.ReLU()\n",
        "  )\n",
        "# add last layer\n",
        "mlp_blocks.append(nn.Linear(\n",
        "                  mlp_dims[len(mlp_dims)-1], \n",
        "                  1,\n",
        "                  bias=True,\n",
        "                  )\n",
        "  )\n",
        "# mlp_blocks.append(nn.Sigmoid())\n",
        "torch_model = nn.Sequential(*mlp_blocks)\n",
        "state_dict = torch.load(save_path)\n",
        "state_dict_copy = copy.deepcopy(state_dict)\n",
        "for key, value in state_dict.items():\n",
        "  if \"quant\" in key:\n",
        "    del state_dict_copy[key]\n",
        "# print(f\"new state dict without quantization keys: {state_dict_copy}\")\n",
        "torch_model.load_state_dict(state_dict_copy)"
      ]
    },
    {
      "cell_type": "code",
      "execution_count": 95,
      "metadata": {
        "colab": {
          "base_uri": "https://localhost:8080/",
          "height": 573
        },
        "id": "2hqrusGN9hZw",
        "outputId": "18951129-d1a9-449b-d053-7306753f4388"
      },
      "outputs": [
        {
          "name": "stdout",
          "output_type": "stream",
          "text": [
            "config: {'Model': {'Precision': 'ap_fixed<15,9>', 'ReuseFactor': 1, 'Strategy': 'Latency'}}\n",
            "Interpreting Model ...\n",
            "Topology:\n",
            "Input Shape:  [[100, 30]]\n",
            "Layer name: 0, layer type: BatchNormalization, input shape: [[100, 30]]\n",
            "Layer name: 1, layer type: Dense, input shape: [[100, 30]]\n",
            "Layer name: 2, layer type: Activation, input shape: [[100, 16]]\n",
            "Layer name: 3, layer type: Dense, input shape: [[100, 16]]\n",
            "Layer name: 4, layer type: Activation, input shape: [[100, 8]]\n",
            "Layer name: 5, layer type: Dense, input shape: [[100, 8]]\n",
            "Layer name: 6, layer type: Activation, input shape: [[100, 8]]\n",
            "Layer name: 7, layer type: Dense, input shape: [[100, 8]]\n",
            "Creating HLS model\n",
            "Writing HLS project\n",
            "Done\n",
            "MSE torch vs hls test output: 0.03025924414396286\n"
          ]
        },
        {
          "data": {
            "image/png": "[encoded data removed]",
            "text/plain": [
              "<Figure size 432x288 with 1 Axes>"
            ]
          },
          "metadata": {
            "needs_background": "light"
          },
          "output_type": "display_data"
        }
      ],
      "source": [
        "\"\"\"\n",
        "check if torch hls conversion is good\n",
        "\"\"\"\n",
        "import hls4ml \n",
        "from sklearn.metrics import mean_squared_error\n",
        "\n",
        "int_bit = 9 #14\n",
        "fract_bit = 6 #20\n",
        "total_bit = int_bit + fract_bit\n",
        "ap_fixed_config = f\"ap_fixed<{total_bit},{int_bit}>\"\n",
        "config = hls4ml.utils.config_from_pytorch_model(torch_model,\n",
        "                                    default_precision=ap_fixed_config,\n",
        "                                    granularity='model'\n",
        ")\n",
        "print(f\"config: {config}\")\n",
        "hls_model = hls4ml.converters.convert_from_pytorch_model(torch_model,\n",
        "                                                    hls_config=config,\n",
        "                                                    output_dir='model_1/hls4ml_prj',\n",
        "                                                    part='xcu250-figd2104-2L-e',\n",
        "                                                    input_shape = (100,30) # 100 here is irrelevant\n",
        ")\n",
        "hls_model.compile()\n",
        "X_hls_test = np.ascontiguousarray(X_test)\n",
        "Y_hat_hls = torch.sigmoid(torch.from_numpy(hls_model.predict(X_hls_test)))\n",
        "\n",
        "torch_model.eval()\n",
        "with torch.no_grad():\n",
        "  Y_hat_torch = torch.sigmoid(torch_model(X_test))\n",
        "MSE = mean_squared_error(Y_hat_torch.cpu().numpy(), Y_hat_hls.cpu().numpy())\n",
        "print(f\"MSE torch vs hls test output: {MSE}\")\n",
        "\n",
        "fpr, tpr, _ = metrics.roc_curve(Y_test,  Y_hat_hls.cpu().numpy())\n",
        "auc = metrics.roc_auc_score(Y_test, Y_hat_hls.cpu().numpy())\n",
        "  \n",
        "\n",
        "#create ROC curve\n",
        "plt.plot(fpr,tpr,label=\"AUC=\"+str(auc))\n",
        "plt.ylabel('True Positive Rate')\n",
        "plt.xlabel('False Positive Rate')\n",
        "plt.title(\"torch model from trained bv model parameters\")\n",
        "plt.legend(loc=4)\n",
        "plt.show()"
      ]
    },
    {
      "cell_type": "code",
      "execution_count": 110,
      "metadata": {
        "colab": {
          "base_uri": "https://localhost:8080/"
        },
        "id": "-b-_zMKNsUSf",
        "outputId": "18d33de7-3df1-419e-a503-6779478ed385"
      },
      "outputs": [
        {
          "name": "stdout",
          "output_type": "stream",
          "text": [
            "0.6.0\n",
            "config: {'Model': {'Precision': 'ap_fixed<16,2>', 'ReuseFactor': 1, 'Strategy': 'Latency'}}\n",
            "Interpreting Model ...\n",
            "Topology:\n",
            "Input Shape:  [[100, 30]]\n",
            "Layer name: 0, layer type: BatchNormalization, input shape: [[100, 30]]\n",
            "Layer name: 1, layer type: Dense, input shape: [[100, 30]]\n",
            "Layer name: 2, layer type: Activation, input shape: [[100, 16]]\n",
            "Layer name: 3, layer type: Dense, input shape: [[100, 16]]\n",
            "Layer name: 4, layer type: Activation, input shape: [[100, 8]]\n",
            "Layer name: 5, layer type: Dense, input shape: [[100, 8]]\n",
            "Layer name: 6, layer type: Activation, input shape: [[100, 8]]\n",
            "Layer name: 7, layer type: Dense, input shape: [[100, 8]]\n",
            "Creating HLS model\n",
            "Writing HLS project\n",
            "Done\n",
            "config: {'Model': {'Precision': 'ap_fixed<17,3>', 'ReuseFactor': 1, 'Strategy': 'Latency'}}\n",
            "Interpreting Model ...\n",
            "Topology:\n",
            "Input Shape:  [[100, 30]]\n",
            "Layer name: 0, layer type: BatchNormalization, input shape: [[100, 30]]\n",
            "Layer name: 1, layer type: Dense, input shape: [[100, 30]]\n",
            "Layer name: 2, layer type: Activation, input shape: [[100, 16]]\n",
            "Layer name: 3, layer type: Dense, input shape: [[100, 16]]\n",
            "Layer name: 4, layer type: Activation, input shape: [[100, 8]]\n",
            "Layer name: 5, layer type: Dense, input shape: [[100, 8]]\n",
            "Layer name: 6, layer type: Activation, input shape: [[100, 8]]\n",
            "Layer name: 7, layer type: Dense, input shape: [[100, 8]]\n",
            "Creating HLS model\n",
            "Writing HLS project\n",
            "Done\n",
            "config: {'Model': {'Precision': 'ap_fixed<18,4>', 'ReuseFactor': 1, 'Strategy': 'Latency'}}\n",
            "Interpreting Model ...\n",
            "Topology:\n",
            "Input Shape:  [[100, 30]]\n",
            "Layer name: 0, layer type: BatchNormalization, input shape: [[100, 30]]\n",
            "Layer name: 1, layer type: Dense, input shape: [[100, 30]]\n",
            "Layer name: 2, layer type: Activation, input shape: [[100, 16]]\n",
            "Layer name: 3, layer type: Dense, input shape: [[100, 16]]\n",
            "Layer name: 4, layer type: Activation, input shape: [[100, 8]]\n",
            "Layer name: 5, layer type: Dense, input shape: [[100, 8]]\n",
            "Layer name: 6, layer type: Activation, input shape: [[100, 8]]\n",
            "Layer name: 7, layer type: Dense, input shape: [[100, 8]]\n",
            "Creating HLS model\n",
            "Writing HLS project\n",
            "Done\n",
            "config: {'Model': {'Precision': 'ap_fixed<19,5>', 'ReuseFactor': 1, 'Strategy': 'Latency'}}\n",
            "Interpreting Model ...\n",
            "Topology:\n",
            "Input Shape:  [[100, 30]]\n",
            "Layer name: 0, layer type: BatchNormalization, input shape: [[100, 30]]\n",
            "Layer name: 1, layer type: Dense, input shape: [[100, 30]]\n",
            "Layer name: 2, layer type: Activation, input shape: [[100, 16]]\n",
            "Layer name: 3, layer type: Dense, input shape: [[100, 16]]\n",
            "Layer name: 4, layer type: Activation, input shape: [[100, 8]]\n",
            "Layer name: 5, layer type: Dense, input shape: [[100, 8]]\n",
            "Layer name: 6, layer type: Activation, input shape: [[100, 8]]\n",
            "Layer name: 7, layer type: Dense, input shape: [[100, 8]]\n",
            "Creating HLS model\n",
            "Writing HLS project\n",
            "Done\n",
            "config: {'Model': {'Precision': 'ap_fixed<20,6>', 'ReuseFactor': 1, 'Strategy': 'Latency'}}\n",
            "Interpreting Model ...\n",
            "Topology:\n",
            "Input Shape:  [[100, 30]]\n",
            "Layer name: 0, layer type: BatchNormalization, input shape: [[100, 30]]\n",
            "Layer name: 1, layer type: Dense, input shape: [[100, 30]]\n",
            "Layer name: 2, layer type: Activation, input shape: [[100, 16]]\n",
            "Layer name: 3, layer type: Dense, input shape: [[100, 16]]\n",
            "Layer name: 4, layer type: Activation, input shape: [[100, 8]]\n",
            "Layer name: 5, layer type: Dense, input shape: [[100, 8]]\n",
            "Layer name: 6, layer type: Activation, input shape: [[100, 8]]\n",
            "Layer name: 7, layer type: Dense, input shape: [[100, 8]]\n",
            "Creating HLS model\n",
            "Writing HLS project\n",
            "Done\n",
            "config: {'Model': {'Precision': 'ap_fixed<21,7>', 'ReuseFactor': 1, 'Strategy': 'Latency'}}\n",
            "Interpreting Model ...\n",
            "Topology:\n",
            "Input Shape:  [[100, 30]]\n",
            "Layer name: 0, layer type: BatchNormalization, input shape: [[100, 30]]\n",
            "Layer name: 1, layer type: Dense, input shape: [[100, 30]]\n",
            "Layer name: 2, layer type: Activation, input shape: [[100, 16]]\n",
            "Layer name: 3, layer type: Dense, input shape: [[100, 16]]\n",
            "Layer name: 4, layer type: Activation, input shape: [[100, 8]]\n",
            "Layer name: 5, layer type: Dense, input shape: [[100, 8]]\n",
            "Layer name: 6, layer type: Activation, input shape: [[100, 8]]\n",
            "Layer name: 7, layer type: Dense, input shape: [[100, 8]]\n",
            "Creating HLS model\n",
            "Writing HLS project\n",
            "Done\n",
            "config: {'Model': {'Precision': 'ap_fixed<22,8>', 'ReuseFactor': 1, 'Strategy': 'Latency'}}\n",
            "Interpreting Model ...\n",
            "Topology:\n",
            "Input Shape:  [[100, 30]]\n",
            "Layer name: 0, layer type: BatchNormalization, input shape: [[100, 30]]\n",
            "Layer name: 1, layer type: Dense, input shape: [[100, 30]]\n",
            "Layer name: 2, layer type: Activation, input shape: [[100, 16]]\n",
            "Layer name: 3, layer type: Dense, input shape: [[100, 16]]\n",
            "Layer name: 4, layer type: Activation, input shape: [[100, 8]]\n",
            "Layer name: 5, layer type: Dense, input shape: [[100, 8]]\n",
            "Layer name: 6, layer type: Activation, input shape: [[100, 8]]\n",
            "Layer name: 7, layer type: Dense, input shape: [[100, 8]]\n",
            "Creating HLS model\n",
            "Writing HLS project\n",
            "Done\n",
            "config: {'Model': {'Precision': 'ap_fixed<23,9>', 'ReuseFactor': 1, 'Strategy': 'Latency'}}\n",
            "Interpreting Model ...\n",
            "Topology:\n",
            "Input Shape:  [[100, 30]]\n",
            "Layer name: 0, layer type: BatchNormalization, input shape: [[100, 30]]\n",
            "Layer name: 1, layer type: Dense, input shape: [[100, 30]]\n",
            "Layer name: 2, layer type: Activation, input shape: [[100, 16]]\n",
            "Layer name: 3, layer type: Dense, input shape: [[100, 16]]\n",
            "Layer name: 4, layer type: Activation, input shape: [[100, 8]]\n",
            "Layer name: 5, layer type: Dense, input shape: [[100, 8]]\n",
            "Layer name: 6, layer type: Activation, input shape: [[100, 8]]\n",
            "Layer name: 7, layer type: Dense, input shape: [[100, 8]]\n",
            "Creating HLS model\n",
            "Writing HLS project\n",
            "Done\n",
            "config: {'Model': {'Precision': 'ap_fixed<24,10>', 'ReuseFactor': 1, 'Strategy': 'Latency'}}\n",
            "Interpreting Model ...\n",
            "Topology:\n",
            "Input Shape:  [[100, 30]]\n",
            "Layer name: 0, layer type: BatchNormalization, input shape: [[100, 30]]\n",
            "Layer name: 1, layer type: Dense, input shape: [[100, 30]]\n",
            "Layer name: 2, layer type: Activation, input shape: [[100, 16]]\n",
            "Layer name: 3, layer type: Dense, input shape: [[100, 16]]\n",
            "Layer name: 4, layer type: Activation, input shape: [[100, 8]]\n",
            "Layer name: 5, layer type: Dense, input shape: [[100, 8]]\n",
            "Layer name: 6, layer type: Activation, input shape: [[100, 8]]\n",
            "Layer name: 7, layer type: Dense, input shape: [[100, 8]]\n",
            "Creating HLS model\n",
            "Writing HLS project\n",
            "Done\n",
            "config: {'Model': {'Precision': 'ap_fixed<25,11>', 'ReuseFactor': 1, 'Strategy': 'Latency'}}\n",
            "Interpreting Model ...\n",
            "Topology:\n",
            "Input Shape:  [[100, 30]]\n",
            "Layer name: 0, layer type: BatchNormalization, input shape: [[100, 30]]\n",
            "Layer name: 1, layer type: Dense, input shape: [[100, 30]]\n",
            "Layer name: 2, layer type: Activation, input shape: [[100, 16]]\n",
            "Layer name: 3, layer type: Dense, input shape: [[100, 16]]\n",
            "Layer name: 4, layer type: Activation, input shape: [[100, 8]]\n",
            "Layer name: 5, layer type: Dense, input shape: [[100, 8]]\n",
            "Layer name: 6, layer type: Activation, input shape: [[100, 8]]\n",
            "Layer name: 7, layer type: Dense, input shape: [[100, 8]]\n",
            "Creating HLS model\n",
            "Writing HLS project\n",
            "Done\n"
          ]
        }
      ],
      "source": [
        "\"\"\"\n",
        "Now doing Post Training Quantization with hls4ml to compare performance\n",
        "Parameter search over integer bits. Fractional bits frozen at 20    \n",
        "\"\"\"\n",
        "\n",
        "\n",
        "print(hls4ml.__version__)\n",
        "\n",
        "fract_bit = 14\n",
        "aurocs_int_q = []\n",
        "ap_fixed_configs_int = []\n",
        "\n",
        "for int_bit in range(2,13,1): \n",
        "    total_bit = int_bit + fract_bit\n",
        "    ap_fixed_config = f\"ap_fixed<{total_bit},{int_bit}>\"\n",
        "    config = hls4ml.utils.config_from_pytorch_model(torch_model,\n",
        "                                        default_precision=ap_fixed_config,\n",
        "                                        granularity='model'\n",
        "    )\n",
        "    print(f\"config: {config}\")\n",
        "    hls_model = hls4ml.converters.convert_from_pytorch_model(torch_model,\n",
        "                                                        hls_config=config,\n",
        "                                                        output_dir='model_1/hls4ml_prj',\n",
        "                                                        part='xcu250-figd2104-2L-e',\n",
        "                                                        input_shape = (100,30) # 100 here is irrelevant\n",
        "    )\n",
        "    hls_model.compile()\n",
        "    X_hls_test = np.ascontiguousarray(X_test)\n",
        "    Y_hat = torch.sigmoid(torch.from_numpy(hls_model.predict(X_hls_test)))\n",
        "    auc = metrics.roc_auc_score(Y_test, Y_hat.cpu().numpy())\n",
        "    aurocs_int_q.append(auc)\n",
        "    # ap_fixed_configs_int.append(f\"<{total_bit},{int_bit}>\")\n",
        "    ap_fixed_configs_int.append(int_bit)\n",
        "    "
      ]
    },
    {
      "cell_type": "code",
      "execution_count": 111,
      "metadata": {
        "colab": {
          "base_uri": "https://localhost:8080/",
          "height": 281
        },
        "id": "wrtCo93y3J7j",
        "outputId": "3a2eed8d-7050-4c0e-d930-17936ffbb45e"
      },
      "outputs": [
        {
          "data": {
            "image/png": "[encoded data removed]",
            "text/plain": [
              "<Figure size 432x288 with 1 Axes>"
            ]
          },
          "metadata": {
            "needs_background": "light"
          },
          "output_type": "display_data"
        }
      ],
      "source": [
        "plt.scatter(ap_fixed_configs_int, aurocs_int_q)\n",
        "plt.title(f\"int bitwidth search with fract_bit frozen at:{fract_bit}\")\n",
        "plt.show()"
      ]
    },
    {
      "cell_type": "code",
      "execution_count": 113,
      "metadata": {
        "colab": {
          "base_uri": "https://localhost:8080/"
        },
        "id": "JsPiHg7h3wsw",
        "outputId": "4b2900e2-85c2-41b9-9dc4-8286d75028df"
      },
      "outputs": [
        {
          "name": "stdout",
          "output_type": "stream",
          "text": [
            "config: {'Model': {'Precision': 'ap_fixed<13,11>', 'ReuseFactor': 1, 'Strategy': 'Latency'}}\n",
            "Interpreting Model ...\n",
            "Topology:\n",
            "Input Shape:  [[100, 30]]\n",
            "Layer name: 0, layer type: BatchNormalization, input shape: [[100, 30]]\n",
            "Layer name: 1, layer type: Dense, input shape: [[100, 30]]\n",
            "Layer name: 2, layer type: Activation, input shape: [[100, 16]]\n",
            "Layer name: 3, layer type: Dense, input shape: [[100, 16]]\n",
            "Layer name: 4, layer type: Activation, input shape: [[100, 8]]\n",
            "Layer name: 5, layer type: Dense, input shape: [[100, 8]]\n",
            "Layer name: 6, layer type: Activation, input shape: [[100, 8]]\n",
            "Layer name: 7, layer type: Dense, input shape: [[100, 8]]\n",
            "Creating HLS model\n",
            "Writing HLS project\n",
            "Done\n",
            "config: {'Model': {'Precision': 'ap_fixed<15,11>', 'ReuseFactor': 1, 'Strategy': 'Latency'}}\n",
            "Interpreting Model ...\n",
            "Topology:\n",
            "Input Shape:  [[100, 30]]\n",
            "Layer name: 0, layer type: BatchNormalization, input shape: [[100, 30]]\n",
            "Layer name: 1, layer type: Dense, input shape: [[100, 30]]\n",
            "Layer name: 2, layer type: Activation, input shape: [[100, 16]]\n",
            "Layer name: 3, layer type: Dense, input shape: [[100, 16]]\n",
            "Layer name: 4, layer type: Activation, input shape: [[100, 8]]\n",
            "Layer name: 5, layer type: Dense, input shape: [[100, 8]]\n",
            "Layer name: 6, layer type: Activation, input shape: [[100, 8]]\n",
            "Layer name: 7, layer type: Dense, input shape: [[100, 8]]\n",
            "Creating HLS model\n",
            "Writing HLS project\n",
            "Done\n",
            "config: {'Model': {'Precision': 'ap_fixed<17,11>', 'ReuseFactor': 1, 'Strategy': 'Latency'}}\n",
            "Interpreting Model ...\n",
            "Topology:\n",
            "Input Shape:  [[100, 30]]\n",
            "Layer name: 0, layer type: BatchNormalization, input shape: [[100, 30]]\n",
            "Layer name: 1, layer type: Dense, input shape: [[100, 30]]\n",
            "Layer name: 2, layer type: Activation, input shape: [[100, 16]]\n",
            "Layer name: 3, layer type: Dense, input shape: [[100, 16]]\n",
            "Layer name: 4, layer type: Activation, input shape: [[100, 8]]\n",
            "Layer name: 5, layer type: Dense, input shape: [[100, 8]]\n",
            "Layer name: 6, layer type: Activation, input shape: [[100, 8]]\n",
            "Layer name: 7, layer type: Dense, input shape: [[100, 8]]\n",
            "Creating HLS model\n",
            "Writing HLS project\n",
            "Done\n",
            "config: {'Model': {'Precision': 'ap_fixed<19,11>', 'ReuseFactor': 1, 'Strategy': 'Latency'}}\n",
            "Interpreting Model ...\n",
            "Topology:\n",
            "Input Shape:  [[100, 30]]\n",
            "Layer name: 0, layer type: BatchNormalization, input shape: [[100, 30]]\n",
            "Layer name: 1, layer type: Dense, input shape: [[100, 30]]\n",
            "Layer name: 2, layer type: Activation, input shape: [[100, 16]]\n",
            "Layer name: 3, layer type: Dense, input shape: [[100, 16]]\n",
            "Layer name: 4, layer type: Activation, input shape: [[100, 8]]\n",
            "Layer name: 5, layer type: Dense, input shape: [[100, 8]]\n",
            "Layer name: 6, layer type: Activation, input shape: [[100, 8]]\n",
            "Layer name: 7, layer type: Dense, input shape: [[100, 8]]\n",
            "Creating HLS model\n",
            "Writing HLS project\n",
            "Done\n",
            "config: {'Model': {'Precision': 'ap_fixed<21,11>', 'ReuseFactor': 1, 'Strategy': 'Latency'}}\n",
            "Interpreting Model ...\n",
            "Topology:\n",
            "Input Shape:  [[100, 30]]\n",
            "Layer name: 0, layer type: BatchNormalization, input shape: [[100, 30]]\n",
            "Layer name: 1, layer type: Dense, input shape: [[100, 30]]\n",
            "Layer name: 2, layer type: Activation, input shape: [[100, 16]]\n",
            "Layer name: 3, layer type: Dense, input shape: [[100, 16]]\n",
            "Layer name: 4, layer type: Activation, input shape: [[100, 8]]\n",
            "Layer name: 5, layer type: Dense, input shape: [[100, 8]]\n",
            "Layer name: 6, layer type: Activation, input shape: [[100, 8]]\n",
            "Layer name: 7, layer type: Dense, input shape: [[100, 8]]\n",
            "Creating HLS model\n",
            "Writing HLS project\n",
            "Done\n",
            "config: {'Model': {'Precision': 'ap_fixed<23,11>', 'ReuseFactor': 1, 'Strategy': 'Latency'}}\n",
            "Interpreting Model ...\n",
            "Topology:\n",
            "Input Shape:  [[100, 30]]\n",
            "Layer name: 0, layer type: BatchNormalization, input shape: [[100, 30]]\n",
            "Layer name: 1, layer type: Dense, input shape: [[100, 30]]\n",
            "Layer name: 2, layer type: Activation, input shape: [[100, 16]]\n",
            "Layer name: 3, layer type: Dense, input shape: [[100, 16]]\n",
            "Layer name: 4, layer type: Activation, input shape: [[100, 8]]\n",
            "Layer name: 5, layer type: Dense, input shape: [[100, 8]]\n",
            "Layer name: 6, layer type: Activation, input shape: [[100, 8]]\n",
            "Layer name: 7, layer type: Dense, input shape: [[100, 8]]\n",
            "Creating HLS model\n",
            "Writing HLS project\n",
            "Done\n",
            "config: {'Model': {'Precision': 'ap_fixed<25,11>', 'ReuseFactor': 1, 'Strategy': 'Latency'}}\n",
            "Interpreting Model ...\n",
            "Topology:\n",
            "Input Shape:  [[100, 30]]\n",
            "Layer name: 0, layer type: BatchNormalization, input shape: [[100, 30]]\n",
            "Layer name: 1, layer type: Dense, input shape: [[100, 30]]\n",
            "Layer name: 2, layer type: Activation, input shape: [[100, 16]]\n",
            "Layer name: 3, layer type: Dense, input shape: [[100, 16]]\n",
            "Layer name: 4, layer type: Activation, input shape: [[100, 8]]\n",
            "Layer name: 5, layer type: Dense, input shape: [[100, 8]]\n",
            "Layer name: 6, layer type: Activation, input shape: [[100, 8]]\n",
            "Layer name: 7, layer type: Dense, input shape: [[100, 8]]\n",
            "Creating HLS model\n",
            "Writing HLS project\n",
            "Done\n",
            "config: {'Model': {'Precision': 'ap_fixed<27,11>', 'ReuseFactor': 1, 'Strategy': 'Latency'}}\n",
            "Interpreting Model ...\n",
            "Topology:\n",
            "Input Shape:  [[100, 30]]\n",
            "Layer name: 0, layer type: BatchNormalization, input shape: [[100, 30]]\n",
            "Layer name: 1, layer type: Dense, input shape: [[100, 30]]\n",
            "Layer name: 2, layer type: Activation, input shape: [[100, 16]]\n",
            "Layer name: 3, layer type: Dense, input shape: [[100, 16]]\n",
            "Layer name: 4, layer type: Activation, input shape: [[100, 8]]\n",
            "Layer name: 5, layer type: Dense, input shape: [[100, 8]]\n",
            "Layer name: 6, layer type: Activation, input shape: [[100, 8]]\n",
            "Layer name: 7, layer type: Dense, input shape: [[100, 8]]\n",
            "Creating HLS model\n",
            "Writing HLS project\n",
            "Done\n",
            "config: {'Model': {'Precision': 'ap_fixed<29,11>', 'ReuseFactor': 1, 'Strategy': 'Latency'}}\n",
            "Interpreting Model ...\n",
            "Topology:\n",
            "Input Shape:  [[100, 30]]\n",
            "Layer name: 0, layer type: BatchNormalization, input shape: [[100, 30]]\n",
            "Layer name: 1, layer type: Dense, input shape: [[100, 30]]\n",
            "Layer name: 2, layer type: Activation, input shape: [[100, 16]]\n",
            "Layer name: 3, layer type: Dense, input shape: [[100, 16]]\n",
            "Layer name: 4, layer type: Activation, input shape: [[100, 8]]\n",
            "Layer name: 5, layer type: Dense, input shape: [[100, 8]]\n",
            "Layer name: 6, layer type: Activation, input shape: [[100, 8]]\n",
            "Layer name: 7, layer type: Dense, input shape: [[100, 8]]\n",
            "Creating HLS model\n",
            "Writing HLS project\n",
            "Done\n",
            "config: {'Model': {'Precision': 'ap_fixed<31,11>', 'ReuseFactor': 1, 'Strategy': 'Latency'}}\n",
            "Interpreting Model ...\n",
            "Topology:\n",
            "Input Shape:  [[100, 30]]\n",
            "Layer name: 0, layer type: BatchNormalization, input shape: [[100, 30]]\n",
            "Layer name: 1, layer type: Dense, input shape: [[100, 30]]\n",
            "Layer name: 2, layer type: Activation, input shape: [[100, 16]]\n",
            "Layer name: 3, layer type: Dense, input shape: [[100, 16]]\n",
            "Layer name: 4, layer type: Activation, input shape: [[100, 8]]\n",
            "Layer name: 5, layer type: Dense, input shape: [[100, 8]]\n",
            "Layer name: 6, layer type: Activation, input shape: [[100, 8]]\n",
            "Layer name: 7, layer type: Dense, input shape: [[100, 8]]\n",
            "Creating HLS model\n",
            "Writing HLS project\n",
            "Done\n",
            "config: {'Model': {'Precision': 'ap_fixed<33,11>', 'ReuseFactor': 1, 'Strategy': 'Latency'}}\n",
            "Interpreting Model ...\n",
            "Topology:\n",
            "Input Shape:  [[100, 30]]\n",
            "Layer name: 0, layer type: BatchNormalization, input shape: [[100, 30]]\n",
            "Layer name: 1, layer type: Dense, input shape: [[100, 30]]\n",
            "Layer name: 2, layer type: Activation, input shape: [[100, 16]]\n",
            "Layer name: 3, layer type: Dense, input shape: [[100, 16]]\n",
            "Layer name: 4, layer type: Activation, input shape: [[100, 8]]\n",
            "Layer name: 5, layer type: Dense, input shape: [[100, 8]]\n",
            "Layer name: 6, layer type: Activation, input shape: [[100, 8]]\n",
            "Layer name: 7, layer type: Dense, input shape: [[100, 8]]\n",
            "Creating HLS model\n",
            "Writing HLS project\n",
            "Done\n",
            "config: {'Model': {'Precision': 'ap_fixed<35,11>', 'ReuseFactor': 1, 'Strategy': 'Latency'}}\n",
            "Interpreting Model ...\n",
            "Topology:\n",
            "Input Shape:  [[100, 30]]\n",
            "Layer name: 0, layer type: BatchNormalization, input shape: [[100, 30]]\n",
            "Layer name: 1, layer type: Dense, input shape: [[100, 30]]\n",
            "Layer name: 2, layer type: Activation, input shape: [[100, 16]]\n",
            "Layer name: 3, layer type: Dense, input shape: [[100, 16]]\n",
            "Layer name: 4, layer type: Activation, input shape: [[100, 8]]\n",
            "Layer name: 5, layer type: Dense, input shape: [[100, 8]]\n",
            "Layer name: 6, layer type: Activation, input shape: [[100, 8]]\n",
            "Layer name: 7, layer type: Dense, input shape: [[100, 8]]\n",
            "Creating HLS model\n",
            "Writing HLS project\n",
            "Done\n",
            "config: {'Model': {'Precision': 'ap_fixed<37,11>', 'ReuseFactor': 1, 'Strategy': 'Latency'}}\n",
            "Interpreting Model ...\n",
            "Topology:\n",
            "Input Shape:  [[100, 30]]\n",
            "Layer name: 0, layer type: BatchNormalization, input shape: [[100, 30]]\n",
            "Layer name: 1, layer type: Dense, input shape: [[100, 30]]\n",
            "Layer name: 2, layer type: Activation, input shape: [[100, 16]]\n",
            "Layer name: 3, layer type: Dense, input shape: [[100, 16]]\n",
            "Layer name: 4, layer type: Activation, input shape: [[100, 8]]\n",
            "Layer name: 5, layer type: Dense, input shape: [[100, 8]]\n",
            "Layer name: 6, layer type: Activation, input shape: [[100, 8]]\n",
            "Layer name: 7, layer type: Dense, input shape: [[100, 8]]\n",
            "Creating HLS model\n",
            "Writing HLS project\n",
            "Done\n",
            "config: {'Model': {'Precision': 'ap_fixed<39,11>', 'ReuseFactor': 1, 'Strategy': 'Latency'}}\n",
            "Interpreting Model ...\n",
            "Topology:\n",
            "Input Shape:  [[100, 30]]\n",
            "Layer name: 0, layer type: BatchNormalization, input shape: [[100, 30]]\n",
            "Layer name: 1, layer type: Dense, input shape: [[100, 30]]\n",
            "Layer name: 2, layer type: Activation, input shape: [[100, 16]]\n",
            "Layer name: 3, layer type: Dense, input shape: [[100, 16]]\n",
            "Layer name: 4, layer type: Activation, input shape: [[100, 8]]\n",
            "Layer name: 5, layer type: Dense, input shape: [[100, 8]]\n",
            "Layer name: 6, layer type: Activation, input shape: [[100, 8]]\n",
            "Layer name: 7, layer type: Dense, input shape: [[100, 8]]\n",
            "Creating HLS model\n",
            "Writing HLS project\n",
            "Done\n",
            "config: {'Model': {'Precision': 'ap_fixed<41,11>', 'ReuseFactor': 1, 'Strategy': 'Latency'}}\n",
            "Interpreting Model ...\n",
            "Topology:\n",
            "Input Shape:  [[100, 30]]\n",
            "Layer name: 0, layer type: BatchNormalization, input shape: [[100, 30]]\n",
            "Layer name: 1, layer type: Dense, input shape: [[100, 30]]\n",
            "Layer name: 2, layer type: Activation, input shape: [[100, 16]]\n",
            "Layer name: 3, layer type: Dense, input shape: [[100, 16]]\n",
            "Layer name: 4, layer type: Activation, input shape: [[100, 8]]\n",
            "Layer name: 5, layer type: Dense, input shape: [[100, 8]]\n",
            "Layer name: 6, layer type: Activation, input shape: [[100, 8]]\n",
            "Layer name: 7, layer type: Dense, input shape: [[100, 8]]\n",
            "Creating HLS model\n",
            "Writing HLS project\n",
            "Done\n"
          ]
        }
      ],
      "source": [
        "\"\"\"\n",
        "Parameter search over fractional bits. Integer bits frozen at 11   \n",
        "\"\"\"\n",
        "int_bit = 11\n",
        "aurocs_fract_q = []\n",
        "ap_fixed_configs_fract = []\n",
        "\n",
        "for fract_bit in range(2,32,2):\n",
        "    total_bit = int_bit + fract_bit\n",
        "    ap_fixed_config = f\"ap_fixed<{total_bit},{int_bit}>\"\n",
        "    config = hls4ml.utils.config_from_pytorch_model(torch_model,\n",
        "                                        default_precision=ap_fixed_config,\n",
        "                                        granularity='model'\n",
        "    )\n",
        "    print(f\"config: {config}\")\n",
        "    hls_model = hls4ml.converters.convert_from_pytorch_model(torch_model,\n",
        "                                                        hls_config=config,\n",
        "                                                        output_dir='model_1/hls4ml_prj',\n",
        "                                                        part='xcu250-figd2104-2L-e',\n",
        "                                                        input_shape = (100,30) # 100 here is irrelevant\n",
        "    )\n",
        "    hls_model.compile()\n",
        "    X_hls_test = np.ascontiguousarray(X_test)\n",
        "    auc = metrics.roc_auc_score(Y_test, hls_model.predict(X_hls_test))\n",
        "    aurocs_fract_q.append(auc)\n",
        "    # ap_fixed_configs_fract.append(f\"<{total_bit},{int_bit}>\")\n",
        "    ap_fixed_configs_fract.append(fract_bit)\n",
        "    \n"
      ]
    },
    {
      "cell_type": "code",
      "execution_count": 114,
      "metadata": {
        "colab": {
          "base_uri": "https://localhost:8080/",
          "height": 281
        },
        "id": "ENJmcymE4B7k",
        "outputId": "1a4e8f49-f2fe-4bf4-ca7d-0242e2b25852"
      },
      "outputs": [
        {
          "data": {
            "image/png": "[encoded data removed]",
            "text/plain": [
              "<Figure size 432x288 with 1 Axes>"
            ]
          },
          "metadata": {
            "needs_background": "light"
          },
          "output_type": "display_data"
        }
      ],
      "source": [
        "plt.scatter(ap_fixed_configs_fract, aurocs_fract_q)\n",
        "plt.title(f\"fract bitwidth search with int_bit frozen at:{int_bit}\")\n",
        "plt.show()"
      ]
    },
    {
      "cell_type": "code",
      "execution_count": 51,
      "metadata": {
        "id": "vZdbua-64FuT"
      },
      "outputs": [],
      "source": [
        "\"\"\"\n",
        "Start normal model and train it normally for comparison of PTQ\n",
        "\"\"\"\n",
        "input_dim = 30\n",
        "weight_precision = 8 # 8\n",
        "# mlp_dims = [30 , 64, 32, 32]\n",
        "mlp_dims = [30 , 16, 8, 8]\n",
        "mlp_blocks = [nn.BatchNorm1d(input_dim)]\n",
        "for idx in range(len(mlp_dims)-1):\n",
        "  # print(mlp_dims[idx + 1])\n",
        "  mlp_blocks.append(nn.Linear(\n",
        "                  int(mlp_dims[idx]), \n",
        "                  int(mlp_dims[idx + 1]),\n",
        "                  bias=True\n",
        "                  )\n",
        "                  \n",
        "  )\n",
        "  mlp_blocks.append(\n",
        "      nn.ReLU()\n",
        "  )\n",
        "# add last layer\n",
        "mlp_blocks.append(nn.Linear(\n",
        "                  mlp_dims[len(mlp_dims)-1], \n",
        "                  1,\n",
        "                  bias=True,\n",
        "                  )\n",
        "  )\n",
        "\n",
        "normal_model = nn.Sequential(*mlp_blocks)\n"
      ]
    },
    {
      "cell_type": "code",
      "execution_count": 52,
      "metadata": {
        "id": "TVa20esC5EoZ"
      },
      "outputs": [],
      "source": [
        "\"\"\"\n",
        "Training phase\n",
        "NOTE: no sigmoid in the model itself\n",
        "\"\"\"\n",
        "import torch.nn.functional as F\n",
        "\n",
        "normal_model.train() # put model in train mode (for batchnormalization)\n",
        "optimizer = torch.optim.AdamW(normal_model.parameters(), lr=1e-3)\n",
        "i = 0\n",
        "for x, y in train_dataloader:\n",
        "  # print(y.shape)\n",
        "  # print(normal_model(x).shape)\n",
        "  logit = normal_model(x)\n",
        "  loss = F.binary_cross_entropy(torch.sigmoid(logit), y)\n",
        "  i +=1\n",
        "  # if i > 100:\n",
        "  #   break\n",
        "\n",
        "  optimizer.zero_grad() # this deletes all previous grad calculations. very important\n",
        "  loss.backward() # calculates the gradients\n",
        "  optimizer.step() # applies backpropagation\n",
        "  "
      ]
    },
    {
      "cell_type": "code",
      "execution_count": 53,
      "metadata": {
        "colab": {
          "base_uri": "https://localhost:8080/",
          "height": 279
        },
        "id": "qAQnFj2c5YCh",
        "outputId": "7efebeb6-8e97-4439-9491-013a79b58039"
      },
      "outputs": [
        {
          "data": {
            "image/png": "[encoded data removed]",
            "text/plain": [
              "<Figure size 432x288 with 1 Axes>"
            ]
          },
          "metadata": {
            "needs_background": "light"
          },
          "output_type": "display_data"
        }
      ],
      "source": [
        "\"\"\"\n",
        "Testing phase\n",
        "\"\"\"\n",
        "\n",
        "\n",
        "normal_model.eval() # put model in eval mode \n",
        "with torch.no_grad():\n",
        "  logit = normal_model(X_test)\n",
        "  fpr, tpr, _ = metrics.roc_curve(Y_test,  torch.sigmoid(logit))\n",
        "  auc = metrics.roc_auc_score(Y_test, torch.sigmoid(logit))\n",
        "  \n",
        "\n",
        "#create ROC curve\n",
        "plt.plot(fpr,tpr,label=\"AUC=\"+str(auc))\n",
        "plt.ylabel('True Positive Rate')\n",
        "plt.xlabel('False Positive Rate')\n",
        "plt.legend(loc=4)\n",
        "plt.show()"
      ]
    },
    {
      "cell_type": "code",
      "execution_count": 55,
      "metadata": {
        "colab": {
          "base_uri": "https://localhost:8080/",
          "height": 573
        },
        "id": "0KnkG_pS-huO",
        "outputId": "58fc76bc-34d8-4996-9ac7-dae613802cac"
      },
      "outputs": [
        {
          "name": "stdout",
          "output_type": "stream",
          "text": [
            "config: {'Model': {'Precision': 'ap_fixed<34,14>', 'ReuseFactor': 1, 'Strategy': 'Latency'}}\n",
            "Interpreting Model ...\n",
            "Topology:\n",
            "Input Shape:  [[100, 30]]\n",
            "Layer name: 0, layer type: BatchNormalization, input shape: [[100, 30]]\n",
            "Layer name: 1, layer type: Dense, input shape: [[100, 30]]\n",
            "Layer name: 2, layer type: Activation, input shape: [[100, 16]]\n",
            "Layer name: 3, layer type: Dense, input shape: [[100, 16]]\n",
            "Layer name: 4, layer type: Activation, input shape: [[100, 8]]\n",
            "Layer name: 5, layer type: Dense, input shape: [[100, 8]]\n",
            "Layer name: 6, layer type: Activation, input shape: [[100, 8]]\n",
            "Layer name: 7, layer type: Dense, input shape: [[100, 8]]\n",
            "Creating HLS model\n",
            "Writing HLS project\n",
            "Done\n",
            "MSE torch vs hls test output: 1.5880913251109519e-10\n"
          ]
        },
        {
          "data": {
            "image/png": "[encoded data removed]",
            "text/plain": [
              "<Figure size 432x288 with 1 Axes>"
            ]
          },
          "metadata": {
            "needs_background": "light"
          },
          "output_type": "display_data"
        }
      ],
      "source": [
        "\"\"\"\n",
        "check if torch hls conversion is good for normal model\n",
        "\"\"\"\n",
        "import hls4ml \n",
        "from sklearn.metrics import mean_squared_error\n",
        "\n",
        "int_bit = 14 #14\n",
        "fract_bit = 20 #20\n",
        "total_bit = int_bit + fract_bit\n",
        "ap_fixed_config = f\"ap_fixed<{total_bit},{int_bit}>\"\n",
        "config = hls4ml.utils.config_from_pytorch_model(normal_model,\n",
        "                                    default_precision=ap_fixed_config,\n",
        "                                    granularity='model'\n",
        ")\n",
        "print(f\"config: {config}\")\n",
        "hls_model = hls4ml.converters.convert_from_pytorch_model(normal_model,\n",
        "                                                    hls_config=config,\n",
        "                                                    output_dir='model_1/hls4ml_prj',\n",
        "                                                    part='xcu250-figd2104-2L-e',\n",
        "                                                    input_shape = (100,30) # 100 here is irrelevant\n",
        ")\n",
        "hls_model.compile()\n",
        "X_hls_test = np.ascontiguousarray(X_test)\n",
        "Y_hat_hls = torch.sigmoid(torch.from_numpy(hls_model.predict(X_hls_test)))\n",
        "\n",
        "normal_model.eval()\n",
        "with torch.no_grad():\n",
        "  Y_hat_torch = torch.sigmoid(normal_model(X_test))\n",
        "MSE = mean_squared_error(Y_hat_torch.cpu().numpy(), Y_hat_hls.cpu().numpy())\n",
        "print(f\"MSE torch vs hls test output: {MSE}\")\n",
        "\n",
        "\n",
        "fpr, tpr, _ = metrics.roc_curve(Y_test,  Y_hat_hls.cpu().numpy())\n",
        "auc = metrics.roc_auc_score(Y_test, Y_hat_hls.cpu().numpy())\n",
        "  \n",
        "\n",
        "#create ROC curve\n",
        "plt.plot(fpr,tpr,label=\"AUC=\"+str(auc))\n",
        "plt.ylabel('True Positive Rate')\n",
        "plt.xlabel('False Positive Rate')\n",
        "plt.title(\"torch model from normalled trained model parameters\")\n",
        "plt.legend(loc=4)\n",
        "plt.show()"
      ]
    },
    {
      "cell_type": "code",
      "execution_count": 56,
      "metadata": {
        "colab": {
          "base_uri": "https://localhost:8080/"
        },
        "id": "3Trv_Dce6F1U",
        "outputId": "16f8b802-c2c9-4e4d-92c3-16119384091a"
      },
      "outputs": [
        {
          "name": "stdout",
          "output_type": "stream",
          "text": [
            "0.6.0\n",
            "config: {'Model': {'Precision': 'ap_fixed<28,8>', 'ReuseFactor': 1, 'Strategy': 'Latency'}}\n",
            "Interpreting Model ...\n",
            "Topology:\n",
            "Input Shape:  [[100, 30]]\n",
            "Layer name: 0, layer type: BatchNormalization, input shape: [[100, 30]]\n",
            "Layer name: 1, layer type: Dense, input shape: [[100, 30]]\n",
            "Layer name: 2, layer type: Activation, input shape: [[100, 16]]\n",
            "Layer name: 3, layer type: Dense, input shape: [[100, 16]]\n",
            "Layer name: 4, layer type: Activation, input shape: [[100, 8]]\n",
            "Layer name: 5, layer type: Dense, input shape: [[100, 8]]\n",
            "Layer name: 6, layer type: Activation, input shape: [[100, 8]]\n",
            "Layer name: 7, layer type: Dense, input shape: [[100, 8]]\n",
            "Creating HLS model\n",
            "Writing HLS project\n",
            "Done\n",
            "config: {'Model': {'Precision': 'ap_fixed<29,9>', 'ReuseFactor': 1, 'Strategy': 'Latency'}}\n",
            "Interpreting Model ...\n",
            "Topology:\n",
            "Input Shape:  [[100, 30]]\n",
            "Layer name: 0, layer type: BatchNormalization, input shape: [[100, 30]]\n",
            "Layer name: 1, layer type: Dense, input shape: [[100, 30]]\n",
            "Layer name: 2, layer type: Activation, input shape: [[100, 16]]\n",
            "Layer name: 3, layer type: Dense, input shape: [[100, 16]]\n",
            "Layer name: 4, layer type: Activation, input shape: [[100, 8]]\n",
            "Layer name: 5, layer type: Dense, input shape: [[100, 8]]\n",
            "Layer name: 6, layer type: Activation, input shape: [[100, 8]]\n",
            "Layer name: 7, layer type: Dense, input shape: [[100, 8]]\n",
            "Creating HLS model\n",
            "Writing HLS project\n",
            "Done\n",
            "config: {'Model': {'Precision': 'ap_fixed<30,10>', 'ReuseFactor': 1, 'Strategy': 'Latency'}}\n",
            "Interpreting Model ...\n",
            "Topology:\n",
            "Input Shape:  [[100, 30]]\n",
            "Layer name: 0, layer type: BatchNormalization, input shape: [[100, 30]]\n",
            "Layer name: 1, layer type: Dense, input shape: [[100, 30]]\n",
            "Layer name: 2, layer type: Activation, input shape: [[100, 16]]\n",
            "Layer name: 3, layer type: Dense, input shape: [[100, 16]]\n",
            "Layer name: 4, layer type: Activation, input shape: [[100, 8]]\n",
            "Layer name: 5, layer type: Dense, input shape: [[100, 8]]\n",
            "Layer name: 6, layer type: Activation, input shape: [[100, 8]]\n",
            "Layer name: 7, layer type: Dense, input shape: [[100, 8]]\n",
            "Creating HLS model\n",
            "Writing HLS project\n",
            "Done\n",
            "config: {'Model': {'Precision': 'ap_fixed<31,11>', 'ReuseFactor': 1, 'Strategy': 'Latency'}}\n",
            "Interpreting Model ...\n",
            "Topology:\n",
            "Input Shape:  [[100, 30]]\n",
            "Layer name: 0, layer type: BatchNormalization, input shape: [[100, 30]]\n",
            "Layer name: 1, layer type: Dense, input shape: [[100, 30]]\n",
            "Layer name: 2, layer type: Activation, input shape: [[100, 16]]\n",
            "Layer name: 3, layer type: Dense, input shape: [[100, 16]]\n",
            "Layer name: 4, layer type: Activation, input shape: [[100, 8]]\n",
            "Layer name: 5, layer type: Dense, input shape: [[100, 8]]\n",
            "Layer name: 6, layer type: Activation, input shape: [[100, 8]]\n",
            "Layer name: 7, layer type: Dense, input shape: [[100, 8]]\n",
            "Creating HLS model\n",
            "Writing HLS project\n",
            "Done\n",
            "config: {'Model': {'Precision': 'ap_fixed<32,12>', 'ReuseFactor': 1, 'Strategy': 'Latency'}}\n",
            "Interpreting Model ...\n",
            "Topology:\n",
            "Input Shape:  [[100, 30]]\n",
            "Layer name: 0, layer type: BatchNormalization, input shape: [[100, 30]]\n",
            "Layer name: 1, layer type: Dense, input shape: [[100, 30]]\n",
            "Layer name: 2, layer type: Activation, input shape: [[100, 16]]\n",
            "Layer name: 3, layer type: Dense, input shape: [[100, 16]]\n",
            "Layer name: 4, layer type: Activation, input shape: [[100, 8]]\n",
            "Layer name: 5, layer type: Dense, input shape: [[100, 8]]\n",
            "Layer name: 6, layer type: Activation, input shape: [[100, 8]]\n",
            "Layer name: 7, layer type: Dense, input shape: [[100, 8]]\n",
            "Creating HLS model\n",
            "Writing HLS project\n",
            "Done\n",
            "config: {'Model': {'Precision': 'ap_fixed<33,13>', 'ReuseFactor': 1, 'Strategy': 'Latency'}}\n",
            "Interpreting Model ...\n",
            "Topology:\n",
            "Input Shape:  [[100, 30]]\n",
            "Layer name: 0, layer type: BatchNormalization, input shape: [[100, 30]]\n",
            "Layer name: 1, layer type: Dense, input shape: [[100, 30]]\n",
            "Layer name: 2, layer type: Activation, input shape: [[100, 16]]\n",
            "Layer name: 3, layer type: Dense, input shape: [[100, 16]]\n",
            "Layer name: 4, layer type: Activation, input shape: [[100, 8]]\n",
            "Layer name: 5, layer type: Dense, input shape: [[100, 8]]\n",
            "Layer name: 6, layer type: Activation, input shape: [[100, 8]]\n",
            "Layer name: 7, layer type: Dense, input shape: [[100, 8]]\n",
            "Creating HLS model\n",
            "Writing HLS project\n",
            "Done\n",
            "config: {'Model': {'Precision': 'ap_fixed<34,14>', 'ReuseFactor': 1, 'Strategy': 'Latency'}}\n",
            "Interpreting Model ...\n",
            "Topology:\n",
            "Input Shape:  [[100, 30]]\n",
            "Layer name: 0, layer type: BatchNormalization, input shape: [[100, 30]]\n",
            "Layer name: 1, layer type: Dense, input shape: [[100, 30]]\n",
            "Layer name: 2, layer type: Activation, input shape: [[100, 16]]\n",
            "Layer name: 3, layer type: Dense, input shape: [[100, 16]]\n",
            "Layer name: 4, layer type: Activation, input shape: [[100, 8]]\n",
            "Layer name: 5, layer type: Dense, input shape: [[100, 8]]\n",
            "Layer name: 6, layer type: Activation, input shape: [[100, 8]]\n",
            "Layer name: 7, layer type: Dense, input shape: [[100, 8]]\n",
            "Creating HLS model\n",
            "Writing HLS project\n",
            "Done\n"
          ]
        }
      ],
      "source": [
        "\"\"\"\n",
        "PTQ with normal model\n",
        "Parameter search over integer bits. Fractional bits frozen at 20    \n",
        "\"\"\"\n",
        "import hls4ml \n",
        "\n",
        "print(hls4ml.__version__)\n",
        "\n",
        "fract_bit = 20\n",
        "aurocs_int = []\n",
        "ap_fixed_configs_int = []\n",
        "\n",
        "for int_bit in range(8,15,1): # search from 2 to 32, with with 4 bit intervals\n",
        "    total_bit = int_bit + fract_bit\n",
        "    ap_fixed_config = f\"ap_fixed<{total_bit},{int_bit}>\"\n",
        "    config = hls4ml.utils.config_from_pytorch_model(normal_model,\n",
        "                                        default_precision=ap_fixed_config,\n",
        "                                        granularity='model'\n",
        "    )\n",
        "    print(f\"config: {config}\")\n",
        "    hls_model = hls4ml.converters.convert_from_pytorch_model(normal_model,\n",
        "                                                        hls_config=config,\n",
        "                                                        output_dir='model_1/hls4ml_prj',\n",
        "                                                        part='xcu250-figd2104-2L-e',\n",
        "                                                        input_shape = (100,30) # 100 here is irrelevant\n",
        "    )\n",
        "    hls_model.compile()\n",
        "    X_hls_test = np.ascontiguousarray(X_test)\n",
        "    Y_hat = torch.sigmoid(torch.from_numpy(hls_model.predict(X_hls_test)))\n",
        "    auc = metrics.roc_auc_score(Y_test, Y_hat.cpu().numpy())\n",
        "    aurocs_int.append(auc)\n",
        "    ap_fixed_configs_int.append(f\"<{total_bit},{int_bit}>\")\n",
        "    "
      ]
    },
    {
      "cell_type": "code",
      "execution_count": 57,
      "metadata": {
        "colab": {
          "base_uri": "https://localhost:8080/",
          "height": 282
        },
        "id": "oRMeyLTN6e7U",
        "outputId": "a9a53641-44d8-46ac-d116-851c4bc59bac"
      },
      "outputs": [
        {
          "data": {
            "text/plain": [
              "<matplotlib.collections.PathCollection at 0x7f2b6e6dc590>"
            ]
          },
          "execution_count": 57,
          "metadata": {},
          "output_type": "execute_result"
        },
        {
          "data": {
            "image/png": "[encoded data removed]",
            "text/plain": [
              "<Figure size 432x288 with 1 Axes>"
            ]
          },
          "metadata": {
            "needs_background": "light"
          },
          "output_type": "display_data"
        }
      ],
      "source": [
        "plt.scatter(ap_fixed_configs_int, aurocs_int)"
      ]
    },
    {
      "cell_type": "code",
      "execution_count": 58,
      "metadata": {
        "colab": {
          "base_uri": "https://localhost:8080/"
        },
        "id": "N4VgsFQj6i4u",
        "outputId": "23fe5864-c366-4d6e-a370-2998d64c488a"
      },
      "outputs": [
        {
          "name": "stdout",
          "output_type": "stream",
          "text": [
            "config: {'Model': {'Precision': 'ap_fixed<19,13>', 'ReuseFactor': 1, 'Strategy': 'Latency'}}\n",
            "Interpreting Model ...\n",
            "Topology:\n",
            "Input Shape:  [[100, 30]]\n",
            "Layer name: 0, layer type: BatchNormalization, input shape: [[100, 30]]\n",
            "Layer name: 1, layer type: Dense, input shape: [[100, 30]]\n",
            "Layer name: 2, layer type: Activation, input shape: [[100, 16]]\n",
            "Layer name: 3, layer type: Dense, input shape: [[100, 16]]\n",
            "Layer name: 4, layer type: Activation, input shape: [[100, 8]]\n",
            "Layer name: 5, layer type: Dense, input shape: [[100, 8]]\n",
            "Layer name: 6, layer type: Activation, input shape: [[100, 8]]\n",
            "Layer name: 7, layer type: Dense, input shape: [[100, 8]]\n",
            "Creating HLS model\n",
            "Writing HLS project\n",
            "Done\n",
            "config: {'Model': {'Precision': 'ap_fixed<20,13>', 'ReuseFactor': 1, 'Strategy': 'Latency'}}\n",
            "Interpreting Model ...\n",
            "Topology:\n",
            "Input Shape:  [[100, 30]]\n",
            "Layer name: 0, layer type: BatchNormalization, input shape: [[100, 30]]\n",
            "Layer name: 1, layer type: Dense, input shape: [[100, 30]]\n",
            "Layer name: 2, layer type: Activation, input shape: [[100, 16]]\n",
            "Layer name: 3, layer type: Dense, input shape: [[100, 16]]\n",
            "Layer name: 4, layer type: Activation, input shape: [[100, 8]]\n",
            "Layer name: 5, layer type: Dense, input shape: [[100, 8]]\n",
            "Layer name: 6, layer type: Activation, input shape: [[100, 8]]\n",
            "Layer name: 7, layer type: Dense, input shape: [[100, 8]]\n",
            "Creating HLS model\n",
            "Writing HLS project\n",
            "Done\n",
            "config: {'Model': {'Precision': 'ap_fixed<21,13>', 'ReuseFactor': 1, 'Strategy': 'Latency'}}\n",
            "Interpreting Model ...\n",
            "Topology:\n",
            "Input Shape:  [[100, 30]]\n",
            "Layer name: 0, layer type: BatchNormalization, input shape: [[100, 30]]\n",
            "Layer name: 1, layer type: Dense, input shape: [[100, 30]]\n",
            "Layer name: 2, layer type: Activation, input shape: [[100, 16]]\n",
            "Layer name: 3, layer type: Dense, input shape: [[100, 16]]\n",
            "Layer name: 4, layer type: Activation, input shape: [[100, 8]]\n",
            "Layer name: 5, layer type: Dense, input shape: [[100, 8]]\n",
            "Layer name: 6, layer type: Activation, input shape: [[100, 8]]\n",
            "Layer name: 7, layer type: Dense, input shape: [[100, 8]]\n",
            "Creating HLS model\n",
            "Writing HLS project\n",
            "Done\n",
            "config: {'Model': {'Precision': 'ap_fixed<22,13>', 'ReuseFactor': 1, 'Strategy': 'Latency'}}\n",
            "Interpreting Model ...\n",
            "Topology:\n",
            "Input Shape:  [[100, 30]]\n",
            "Layer name: 0, layer type: BatchNormalization, input shape: [[100, 30]]\n",
            "Layer name: 1, layer type: Dense, input shape: [[100, 30]]\n",
            "Layer name: 2, layer type: Activation, input shape: [[100, 16]]\n",
            "Layer name: 3, layer type: Dense, input shape: [[100, 16]]\n",
            "Layer name: 4, layer type: Activation, input shape: [[100, 8]]\n",
            "Layer name: 5, layer type: Dense, input shape: [[100, 8]]\n",
            "Layer name: 6, layer type: Activation, input shape: [[100, 8]]\n",
            "Layer name: 7, layer type: Dense, input shape: [[100, 8]]\n",
            "Creating HLS model\n",
            "Writing HLS project\n",
            "Done\n",
            "config: {'Model': {'Precision': 'ap_fixed<23,13>', 'ReuseFactor': 1, 'Strategy': 'Latency'}}\n",
            "Interpreting Model ...\n",
            "Topology:\n",
            "Input Shape:  [[100, 30]]\n",
            "Layer name: 0, layer type: BatchNormalization, input shape: [[100, 30]]\n",
            "Layer name: 1, layer type: Dense, input shape: [[100, 30]]\n",
            "Layer name: 2, layer type: Activation, input shape: [[100, 16]]\n",
            "Layer name: 3, layer type: Dense, input shape: [[100, 16]]\n",
            "Layer name: 4, layer type: Activation, input shape: [[100, 8]]\n",
            "Layer name: 5, layer type: Dense, input shape: [[100, 8]]\n",
            "Layer name: 6, layer type: Activation, input shape: [[100, 8]]\n",
            "Layer name: 7, layer type: Dense, input shape: [[100, 8]]\n",
            "Creating HLS model\n",
            "Writing HLS project\n",
            "Done\n",
            "config: {'Model': {'Precision': 'ap_fixed<24,13>', 'ReuseFactor': 1, 'Strategy': 'Latency'}}\n",
            "Interpreting Model ...\n",
            "Topology:\n",
            "Input Shape:  [[100, 30]]\n",
            "Layer name: 0, layer type: BatchNormalization, input shape: [[100, 30]]\n",
            "Layer name: 1, layer type: Dense, input shape: [[100, 30]]\n",
            "Layer name: 2, layer type: Activation, input shape: [[100, 16]]\n",
            "Layer name: 3, layer type: Dense, input shape: [[100, 16]]\n",
            "Layer name: 4, layer type: Activation, input shape: [[100, 8]]\n",
            "Layer name: 5, layer type: Dense, input shape: [[100, 8]]\n",
            "Layer name: 6, layer type: Activation, input shape: [[100, 8]]\n",
            "Layer name: 7, layer type: Dense, input shape: [[100, 8]]\n",
            "Creating HLS model\n",
            "Writing HLS project\n",
            "Done\n",
            "config: {'Model': {'Precision': 'ap_fixed<25,13>', 'ReuseFactor': 1, 'Strategy': 'Latency'}}\n",
            "Interpreting Model ...\n",
            "Topology:\n",
            "Input Shape:  [[100, 30]]\n",
            "Layer name: 0, layer type: BatchNormalization, input shape: [[100, 30]]\n",
            "Layer name: 1, layer type: Dense, input shape: [[100, 30]]\n",
            "Layer name: 2, layer type: Activation, input shape: [[100, 16]]\n",
            "Layer name: 3, layer type: Dense, input shape: [[100, 16]]\n",
            "Layer name: 4, layer type: Activation, input shape: [[100, 8]]\n",
            "Layer name: 5, layer type: Dense, input shape: [[100, 8]]\n",
            "Layer name: 6, layer type: Activation, input shape: [[100, 8]]\n",
            "Layer name: 7, layer type: Dense, input shape: [[100, 8]]\n",
            "Creating HLS model\n",
            "Writing HLS project\n",
            "Done\n"
          ]
        }
      ],
      "source": [
        "\"\"\"\n",
        "Parameter search over fractional bits. Integer bits frozen at 13    \n",
        "\"\"\"\n",
        "int_bit = 13\n",
        "aurocs_fract = []\n",
        "ap_fixed_configs_fract = []\n",
        "\n",
        "for fract_bit in range(6,13,1):\n",
        "    total_bit = int_bit + fract_bit\n",
        "    ap_fixed_config = f\"ap_fixed<{total_bit},{int_bit}>\"\n",
        "    config = hls4ml.utils.config_from_pytorch_model(normal_model,\n",
        "                                        default_precision=ap_fixed_config,\n",
        "                                        granularity='model'\n",
        "    )\n",
        "    print(f\"config: {config}\")\n",
        "    hls_model = hls4ml.converters.convert_from_pytorch_model(normal_model,\n",
        "                                                        hls_config=config,\n",
        "                                                        output_dir='model_1/hls4ml_prj',\n",
        "                                                        part='xcu250-figd2104-2L-e',\n",
        "                                                        input_shape = (100,30) # 100 here is irrelevant\n",
        "    )\n",
        "    hls_model.compile()\n",
        "    X_hls_test = np.ascontiguousarray(X_test)\n",
        "    auc = metrics.roc_auc_score(Y_test, hls_model.predict(X_hls_test))\n",
        "    aurocs_fract.append(auc)\n",
        "    ap_fixed_configs_fract.append(f\"<{total_bit},{int_bit}>\")\n"
      ]
    },
    {
      "cell_type": "code",
      "execution_count": 59,
      "metadata": {
        "colab": {
          "base_uri": "https://localhost:8080/",
          "height": 282
        },
        "id": "r405JpkN6i7R",
        "outputId": "266060ed-394e-4830-d502-6d20a8942533"
      },
      "outputs": [
        {
          "data": {
            "text/plain": [
              "<matplotlib.collections.PathCollection at 0x7f2b6e6dc4d0>"
            ]
          },
          "execution_count": 59,
          "metadata": {},
          "output_type": "execute_result"
        },
        {
          "data": {
            "image/png": "[encoded data removed]",
            "text/plain": [
              "<Figure size 432x288 with 1 Axes>"
            ]
          },
          "metadata": {
            "needs_background": "light"
          },
          "output_type": "display_data"
        }
      ],
      "source": [
        "plt.scatter(ap_fixed_configs_fract, aurocs_fract)"
      ]
    },
    {
      "cell_type": "code",
      "execution_count": 60,
      "metadata": {
        "colab": {
          "base_uri": "https://localhost:8080/",
          "height": 281
        },
        "id": "slV6LLJi6i93",
        "outputId": "a568514e-b0a9-4699-e863-640d25cec7a3"
      },
      "outputs": [
        {
          "data": {
            "image/png": "[encoded data removed]",
            "text/plain": [
              "<Figure size 432x288 with 1 Axes>"
            ]
          },
          "metadata": {
            "needs_background": "light"
          },
          "output_type": "display_data"
        }
      ],
      "source": [
        "plt.scatter(ap_fixed_configs_int, aurocs_int, label=\"model\")\n",
        "plt.scatter(ap_fixed_configs_int, aurocs_int_q, label=\"qmodel\")\n",
        "plt.legend()\n",
        "plt.title(\"Integer Bitwidth Search model vs qmodel\")\n",
        "plt.show()"
      ]
    },
    {
      "cell_type": "code",
      "execution_count": 61,
      "metadata": {
        "colab": {
          "base_uri": "https://localhost:8080/",
          "height": 281
        },
        "id": "HgExghV861f3",
        "outputId": "62e61b2f-5475-409e-d71c-857eebd44df7"
      },
      "outputs": [
        {
          "data": {
            "image/png": "[encoded data removed]",
            "text/plain": [
              "<Figure size 432x288 with 1 Axes>"
            ]
          },
          "metadata": {
            "needs_background": "light"
          },
          "output_type": "display_data"
        }
      ],
      "source": [
        "plt.scatter(ap_fixed_configs_fract, aurocs_fract, label=\"model\")\n",
        "plt.scatter(ap_fixed_configs_fract, aurocs_fract_q, label=\"qmodel\")\n",
        "plt.legend()\n",
        "plt.title(\"Fractional Bitwidth Search model vs qmodel\")\n",
        "plt.show()"
      ]
    },
    {
      "cell_type": "code",
      "execution_count": 163,
      "metadata": {
        "colab": {
          "base_uri": "https://localhost:8080/",
          "height": 399
        },
        "id": "SLCGryaasFr3",
        "outputId": "387db8a2-e61c-45cb-efe9-b3ad52f2f784"
      },
      "outputs": [
        {
          "name": "stdout",
          "output_type": "stream",
          "text": [
            "Interpreting Model ...\n"
          ]
        },
        {
          "ename": "NameError",
          "evalue": "ignored",
          "output_type": "error",
          "traceback": [
            "\u001b[0;31m---------------------------------------------------------------------------\u001b[0m",
            "\u001b[0;31mNameError\u001b[0m                                 Traceback (most recent call last)",
            "\u001b[0;32m<ipython-input-163-094a35b6d1d0>\u001b[0m in \u001b[0;36m<module>\u001b[0;34m\u001b[0m\n\u001b[1;32m     23\u001b[0m \u001b[0;34m\u001b[0m\u001b[0m\n\u001b[1;32m     24\u001b[0m \u001b[0;34m\u001b[0m\u001b[0m\n\u001b[0;32m---> 25\u001b[0;31m     \u001b[0mhls_model\u001b[0m \u001b[0;34m=\u001b[0m \u001b[0mhls4ml\u001b[0m\u001b[0;34m.\u001b[0m\u001b[0mconverters\u001b[0m\u001b[0;34m.\u001b[0m\u001b[0mpytorch_to_hls\u001b[0m\u001b[0;34m(\u001b[0m\u001b[0myamlConfig\u001b[0m\u001b[0;34m)\u001b[0m\u001b[0;34m\u001b[0m\u001b[0;34m\u001b[0m\u001b[0m\n\u001b[0m\u001b[1;32m     26\u001b[0m     \u001b[0mhls_model\u001b[0m\u001b[0;34m.\u001b[0m\u001b[0mcompile\u001b[0m\u001b[0;34m(\u001b[0m\u001b[0;34m)\u001b[0m\u001b[0;34m\u001b[0m\u001b[0;34m\u001b[0m\u001b[0m\n\u001b[1;32m     27\u001b[0m     \u001b[0mX_hls_test\u001b[0m \u001b[0;34m=\u001b[0m \u001b[0mnp\u001b[0m\u001b[0;34m.\u001b[0m\u001b[0mascontiguousarray\u001b[0m\u001b[0;34m(\u001b[0m\u001b[0mX_test\u001b[0m\u001b[0;34m)\u001b[0m\u001b[0;34m\u001b[0m\u001b[0;34m\u001b[0m\u001b[0m\n",
            "\u001b[0;32m/usr/local/lib/python3.7/dist-packages/hls4ml/converters/pytorch_to_hls.py\u001b[0m in \u001b[0;36mpytorch_to_hls\u001b[0;34m(config)\u001b[0m\n\u001b[1;32m    126\u001b[0m     \u001b[0mprint\u001b[0m\u001b[0;34m(\u001b[0m\u001b[0;34m'Interpreting Model ...'\u001b[0m\u001b[0;34m)\u001b[0m\u001b[0;34m\u001b[0m\u001b[0;34m\u001b[0m\u001b[0m\n\u001b[1;32m    127\u001b[0m \u001b[0;34m\u001b[0m\u001b[0m\n\u001b[0;32m--> 128\u001b[0;31m     \u001b[0mreader\u001b[0m \u001b[0;34m=\u001b[0m \u001b[0mPyTorchFileReader\u001b[0m\u001b[0;34m(\u001b[0m\u001b[0mconfig\u001b[0m\u001b[0;34m)\u001b[0m \u001b[0;32mif\u001b[0m \u001b[0misinstance\u001b[0m\u001b[0;34m(\u001b[0m\u001b[0mconfig\u001b[0m\u001b[0;34m[\u001b[0m\u001b[0;34m'PytorchModel'\u001b[0m\u001b[0;34m]\u001b[0m\u001b[0;34m,\u001b[0m\u001b[0mstr\u001b[0m\u001b[0;34m)\u001b[0m \u001b[0;32melse\u001b[0m \u001b[0mPyTorchModelReader\u001b[0m\u001b[0;34m(\u001b[0m\u001b[0mconfig\u001b[0m\u001b[0;34m)\u001b[0m\u001b[0;34m\u001b[0m\u001b[0;34m\u001b[0m\u001b[0m\n\u001b[0m\u001b[1;32m    129\u001b[0m     \u001b[0minput_shapes\u001b[0m \u001b[0;34m=\u001b[0m \u001b[0;34m[\u001b[0m\u001b[0mlist\u001b[0m\u001b[0;34m(\u001b[0m\u001b[0mreader\u001b[0m\u001b[0;34m.\u001b[0m\u001b[0minput_shape\u001b[0m\u001b[0;34m)\u001b[0m\u001b[0;34m]\u001b[0m\u001b[0;34m\u001b[0m\u001b[0;34m\u001b[0m\u001b[0m\n\u001b[1;32m    130\u001b[0m \u001b[0;34m\u001b[0m\u001b[0m\n",
            "\u001b[0;32m/usr/local/lib/python3.7/dist-packages/hls4ml/converters/pytorch_to_hls.py\u001b[0m in \u001b[0;36m__init__\u001b[0;34m(self, config)\u001b[0m\n\u001b[1;32m     83\u001b[0m         \u001b[0mself\u001b[0m\u001b[0;34m.\u001b[0m\u001b[0mstate_dict\u001b[0m \u001b[0;34m=\u001b[0m \u001b[0mself\u001b[0m\u001b[0;34m.\u001b[0m\u001b[0mtorch_model\u001b[0m\u001b[0;34m.\u001b[0m\u001b[0mstate_dict\u001b[0m\u001b[0;34m(\u001b[0m\u001b[0;34m)\u001b[0m\u001b[0;34m\u001b[0m\u001b[0;34m\u001b[0m\u001b[0m\n\u001b[1;32m     84\u001b[0m \u001b[0;34m\u001b[0m\u001b[0m\n\u001b[0;32m---> 85\u001b[0;31m         \u001b[0;32mreturn\u001b[0m \u001b[0mdata\u001b[0m\u001b[0;34m\u001b[0m\u001b[0;34m\u001b[0m\u001b[0m\n\u001b[0m\u001b[1;32m     86\u001b[0m \u001b[0;34m\u001b[0m\u001b[0m\n\u001b[1;32m     87\u001b[0m \u001b[0;31m####----------------------Layer handling---------------------######\u001b[0m\u001b[0;34m\u001b[0m\u001b[0;34m\u001b[0m\u001b[0;34m\u001b[0m\u001b[0m\n",
            "\u001b[0;31mNameError\u001b[0m: name 'data' is not defined"
          ]
        }
      ],
      "source": [
        "save_path = \"./test_model.pt\"\n",
        "torch.save(torch_model, save_path)\n",
        "\n",
        "fract_bit = 20\n",
        "aurocs_int_q = []\n",
        "ap_fixed_configs_int = []\n",
        "\n",
        "\n",
        "\n",
        "for int_bit in range(10,15,1): # search from 2 to 32, with with 4 bit intervals\n",
        "    total_bit = int_bit + fract_bit\n",
        "    ap_fixed_config = f\"ap_fixed<{total_bit},{int_bit}>\"\n",
        "    yamlConfig=  {\n",
        "    'PytorchModel': './test_model.pt',\n",
        "    'OutputDir': 'my-torch-test', \n",
        "    'ProjectName': 'mytorchproject', \n",
        "    'XilinxPart': 'xcu250-figd2104-2L-e',\n",
        "      'ClockPeriod': 5, 'IOType': 'io_parallel', \n",
        "      'HLSConfig': {'Model': {'Precision': ap_fixed_config, 'ReuseFactor': 1}},\n",
        "      'InputShape' : f\"(100,{input_dim})\" # 100 here is irrelevant\n",
        "    }\n",
        "\n",
        "\n",
        "\n",
        "    hls_model = hls4ml.converters.pytorch_to_hls(yamlConfig)\n",
        "    hls_model.compile()\n",
        "    X_hls_test = np.ascontiguousarray(X_test)\n",
        "    auc = metrics.roc_auc_score(Y_test, hls_model.predict(X_hls_test))\n",
        "    aurocs_int_q.append(auc)\n",
        "    ap_fixed_configs_int.append(f\"<{total_bit},{int_bit}>\")\n",
        "    "
      ]
    },
    {
      "cell_type": "code",
      "execution_count": 49,
      "metadata": {
        "id": "b0nOUUM8bBk-"
      },
      "outputs": [],
      "source": [
        "class three_layer_model_seq(nn.Module):\n",
        "  def __init__(self):\n",
        "    # Model with <16,64,32,32,5> Behavior\n",
        "    super(three_layer_model_seq, self).__init__()\n",
        "    input_dim = 30\n",
        "    mlp_dims = [30 , 64, 32, 32]\n",
        "    mlp_blocks = []\n",
        "    for idx in range(len(mlp_dims)-1):\n",
        "      # print(mlp_dims[idx + 1])\n",
        "      mlp_blocks.append(nn.Linear(mlp_dims[idx], mlp_dims[idx + 1]))\n",
        "      mlp_blocks.append(nn.ReLU())\n",
        "    # add last layer\n",
        "    mlp_blocks.append(nn.Linear(mlp_dims[len(mlp_dims)-1], 1))\n",
        "    mlp_blocks.append(nn.Sigmoid())\n",
        "    self.mlp = nn.Sequential(*mlp_blocks)\n",
        "\n",
        "  def forward(self, X: Tensor):\n",
        "      return self.mlp(X)\n",
        "model_seq = three_layer_model_seq()"
      ]
    },
    {
      "cell_type": "code",
      "execution_count": 50,
      "metadata": {
        "id": "2NArJzxWbnL0"
      },
      "outputs": [],
      "source": [
        "\"\"\"\n",
        "Training phase\n",
        "\"\"\"\n",
        "import torch.nn.functional as F\n",
        "\n",
        "model_seq.train() # put model in train mode (for batchnormalization)\n",
        "optimizer = torch.optim.AdamW(model_seq.parameters(), lr=1e-3)\n",
        "i = 0\n",
        "for x, y in train_dataloader:\n",
        "  # print(y.shape)\n",
        "  # print(model_seq(x).shape)\n",
        "  loss = F.binary_cross_entropy(model_seq(x), y)\n",
        "  i +=1\n",
        "  # if i > 100:\n",
        "  #   break\n",
        "\n",
        "  optimizer.zero_grad() # this deletes all previous grad calculations. very important\n",
        "  loss.backward() # calculates the gradients\n",
        "  optimizer.step() # applies backpropagation"
      ]
    },
    {
      "cell_type": "code",
      "execution_count": 51,
      "metadata": {
        "colab": {
          "base_uri": "https://localhost:8080/"
        },
        "id": "GjWslSqlZHZr",
        "outputId": "4cb80f8c-cb1e-4e6e-8bb1-46b622867b5f"
      },
      "outputs": [
        {
          "name": "stdout",
          "output_type": "stream",
          "text": [
            "8\n"
          ]
        }
      ],
      "source": [
        "print(len(model_seq.mlp))\n",
        "# print((model_seq.mlp))\n"
      ]
    },
    {
      "cell_type": "code",
      "execution_count": 73,
      "metadata": {
        "colab": {
          "base_uri": "https://localhost:8080/",
          "height": 1000
        },
        "id": "hm1uMjlEZFIH",
        "outputId": "d7d2b44d-749f-4b22-a907-f23e491ab493"
      },
      "outputs": [
        {
          "data": {
            "image/png": "[encoded data removed]",
            "text/plain": [
              "<Figure size 432x288 with 1 Axes>"
            ]
          },
          "metadata": {
            "needs_background": "light"
          },
          "output_type": "display_data"
        },
        {
          "data": {
            "image/png": "[encoded data removed]",
            "text/plain": [
              "<Figure size 432x288 with 1 Axes>"
            ]
          },
          "metadata": {
            "needs_background": "light"
          },
          "output_type": "display_data"
        },
        {
          "data": {
            "image/png": "[encoded data removed]",
            "text/plain": [
              "<Figure size 432x288 with 1 Axes>"
            ]
          },
          "metadata": {
            "needs_background": "light"
          },
          "output_type": "display_data"
        },
        {
          "data": {
            "image/png": "[encoded data removed]",
            "text/plain": [
              "<Figure size 432x288 with 1 Axes>"
            ]
          },
          "metadata": {
            "needs_background": "light"
          },
          "output_type": "display_data"
        },
        {
          "data": {
            "image/png": "[encoded data removed]",
            "text/plain": [
              "<Figure size 432x288 with 1 Axes>"
            ]
          },
          "metadata": {
            "needs_background": "light"
          },
          "output_type": "display_data"
        },
        {
          "data": {
            "image/png": "[encoded data removed]",
            "text/plain": [
              "<Figure size 432x288 with 1 Axes>"
            ]
          },
          "metadata": {
            "needs_background": "light"
          },
          "output_type": "display_data"
        },
        {
          "data": {
            "image/png": "[encoded data removed]",
            "text/plain": [
              "<Figure size 432x288 with 1 Axes>"
            ]
          },
          "metadata": {
            "needs_background": "light"
          },
          "output_type": "display_data"
        },
        {
          "data": {
            "image/png": "[encoded data removed]",
            "text/plain": [
              "<Figure size 432x288 with 1 Axes>"
            ]
          },
          "metadata": {
            "needs_background": "light"
          },
          "output_type": "display_data"
        }
      ],
      "source": [
        "\"\"\"\n",
        "Testing phase\n",
        "\"\"\"\n",
        "from sklearn import metrics\n",
        "import matplotlib.pyplot as plt\n",
        "\n",
        "model_seq.eval() # put model in eval mode (for batchnormalization)\n",
        "with torch.no_grad():\n",
        "  # y_hat = model_seq.mlp[0](X_test[sample_idxs])\n",
        "\n",
        "  y_hat = model_bv_seq.mlp[0](X_test)\n",
        "  plt.hist(y_hat[:,0], bins= bins)\n",
        "  plt.show()\n",
        "  for idx in range(1,len(model_seq.mlp)):\n",
        "    y_hat = model_seq.mlp[idx](y_hat)\n",
        "    plt.hist(y_hat[:,0], bins= bins)\n",
        "    plt.show()\n",
        "  \n",
        "\n"
      ]
    }
  ],
  "metadata": {
    "colab": {
      "collapsed_sections": [],
      "provenance": []
    },
    "kernelspec": {
      "display_name": "brevitas",
      "language": "python",
      "name": "python3"
    },
    "language_info": {
      "codemirror_mode": {
        "name": "ipython",
        "version": 3
      },
      "file_extension": ".py",
      "mimetype": "text/x-python",
      "name": "python",
      "nbconvert_exporter": "python",
      "pygments_lexer": "ipython3",
      "version": "3.8.13"
    },
    "vscode": {
      "interpreter": {
        "hash": "33310ddf112418f1223964fafa9c48841791999008194f86a97dc08e8716a344"
      }
    }
  },
  "nbformat": 4,
  "nbformat_minor": 0
}
